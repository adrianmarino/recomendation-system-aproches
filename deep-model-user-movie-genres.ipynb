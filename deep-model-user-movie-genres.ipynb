{
 "cells": [
  {
   "cell_type": "code",
   "execution_count": 1,
   "metadata": {},
   "outputs": [],
   "source": [
    "%matplotlib inline\n",
    "%load_ext autoreload\n",
    "%autoreload 2"
   ]
  },
  {
   "cell_type": "markdown",
   "metadata": {},
   "source": [
    "# Recommendation systems: Deep Model"
   ]
  },
  {
   "cell_type": "markdown",
   "metadata": {},
   "source": [
    "This model is made up of feature layers that have users, movies and movie genres embedings followed by a neural network with dense layers and finally one output that is the rating prediction that input user(id) could assign to input movie(id)."
   ]
  },
  {
   "cell_type": "markdown",
   "metadata": {},
   "source": [
    "**Inputs**\n",
    "* **User id**: Really this is traducet as a sequence because embedding layers only can manage sequenced identifiers.\n",
    "* **Movie id**: Idem to User id.\n",
    "* **Movie genres**: One column by genre.\n",
    "\n",
    "**Output**\n",
    "*  **Rating prediction** that user could assign to movie."
   ]
  },
  {
   "cell_type": "markdown",
   "metadata": {},
   "source": [
    "**Links**\n",
    "* [Deep Learning With Keras: Recommender Systems](https://www.johnwittenauer.net/deep-learning-with-keras-recommender-systems/)\n",
    "* [Collaborative Filtering for Movie Recommendations](https://keras.io/examples/structured_data/collaborative_filtering_movielens/)\n",
    "* [Movie lens datasets](https://grouplens.org/datasets/movielens/)\n",
    "* [Recommendation Systems Benchmarks](https://paperswithcode.com/task/recommendation-systems)"
   ]
  },
  {
   "cell_type": "markdown",
   "metadata": {},
   "source": [
    "## Required libraries"
   ]
  },
  {
   "cell_type": "code",
   "execution_count": 1,
   "metadata": {},
   "outputs": [],
   "source": [
    "import sys\n",
    "sys.path.append('./src')\n",
    "\n",
    "import numpy as np\n",
    "import pandas as pd\n",
    "import tensorflow as tf\n",
    "\n",
    "from util import tf_detected_devices, tf_version, plot_model, Config, LoggerFactory\n",
    "from callback import MetricsPlotter\n",
    "from data import DataFrameDataGenerator\n",
    "from recommendation import UserMovieGenderEmbeddingDenseModelFactory\n",
    "from spark import SparkSessionFactory, read_csv, column_values, train_test_split, PageSet, get_columns, get_rows\n",
    "\n",
    "import pyspark.sql.types as t\n",
    "import pyspark.sql as s\n",
    "import pyspark.sql.functions as f"
   ]
  },
  {
   "cell_type": "markdown",
   "metadata": {},
   "source": [
    "## Logger config"
   ]
  },
  {
   "cell_type": "code",
   "execution_count": 3,
   "metadata": {},
   "outputs": [
    {
     "data": {
      "text/plain": [
       "<RootLogger root (INFO)>"
      ]
     },
     "execution_count": 3,
     "metadata": {},
     "output_type": "execute_result"
    }
   ],
   "source": [
    "config = Config(path='./config/config.yaml')\n",
    "LoggerFactory(config['logger']).create()"
   ]
  },
  {
   "cell_type": "markdown",
   "metadata": {},
   "source": [
    "## Config parameters"
   ]
  },
  {
   "cell_type": "markdown",
   "metadata": {},
   "source": [
    "**Step 1**: Setup test_mode variable to enable or disable model train before check their prediction precision:"
   ]
  },
  {
   "cell_type": "code",
   "execution_count": 14,
   "metadata": {},
   "outputs": [],
   "source": [
    "train_model = True"
   ]
  },
  {
   "cell_type": "markdown",
   "metadata": {},
   "source": [
    "**Step 2**: Select a data set with a given size:"
   ]
  },
  {
   "cell_type": "code",
   "execution_count": 15,
   "metadata": {},
   "outputs": [],
   "source": [
    "dataset_size = 'ml-latest' # 250MB\n",
    "# dataset_size = 'ml-25m' # 25MB\n",
    "# dataset_size = 'ml-latest-small' # 1MB"
   ]
  },
  {
   "cell_type": "markdown",
   "metadata": {},
   "source": [
    "## Check environment"
   ]
  },
  {
   "cell_type": "markdown",
   "metadata": {},
   "source": [
    "**Step 1**: Make sure that nvidia driver is installed runing next command:"
   ]
  },
  {
   "cell_type": "code",
   "execution_count": 5,
   "metadata": {},
   "outputs": [
    {
     "name": "stdout",
     "output_type": "stream",
     "text": [
      "GeForce GTX 1060, 6078 MiB\n"
     ]
    }
   ],
   "source": [
    "!nvidia-smi --query-gpu=gpu_name,memory.total --format=csv | sed -n 2p"
   ]
  },
  {
   "cell_type": "markdown",
   "metadata": {},
   "source": [
    "**Note:** If this shows a GPU model and memory size, that's all right, otherwise make suze that has the nvidia driver installed."
   ]
  },
  {
   "cell_type": "markdown",
   "metadata": {},
   "source": [
    "**Step 2**: Let's check tensorflow version:"
   ]
  },
  {
   "cell_type": "code",
   "execution_count": 6,
   "metadata": {},
   "outputs": [
    {
     "data": {
      "text/plain": [
       "'Tensorflow version: 2.5.0-dev20201029'"
      ]
     },
     "execution_count": 6,
     "metadata": {},
     "output_type": "execute_result"
    }
   ],
   "source": [
    "tf_version()"
   ]
  },
  {
   "cell_type": "markdown",
   "metadata": {},
   "source": [
    "**Step 3**: Let's check devices that tensorflow detect:"
   ]
  },
  {
   "cell_type": "code",
   "execution_count": 3,
   "metadata": {},
   "outputs": [
    {
     "data": {
      "text/html": [
       "<div>\n",
       "<style scoped>\n",
       "    .dataframe tbody tr th:only-of-type {\n",
       "        vertical-align: middle;\n",
       "    }\n",
       "\n",
       "    .dataframe tbody tr th {\n",
       "        vertical-align: top;\n",
       "    }\n",
       "\n",
       "    .dataframe thead th {\n",
       "        text-align: right;\n",
       "    }\n",
       "</style>\n",
       "<table border=\"1\" class=\"dataframe\">\n",
       "  <thead>\n",
       "    <tr style=\"text-align: right;\">\n",
       "      <th></th>\n",
       "      <th>Name</th>\n",
       "      <th>Device Type</th>\n",
       "      <th>Memory</th>\n",
       "      <th>Description</th>\n",
       "    </tr>\n",
       "  </thead>\n",
       "  <tbody>\n",
       "    <tr>\n",
       "      <th>0</th>\n",
       "      <td>/device:CPU:0</td>\n",
       "      <td>CPU</td>\n",
       "      <td>256M</td>\n",
       "      <td></td>\n",
       "    </tr>\n",
       "    <tr>\n",
       "      <th>1</th>\n",
       "      <td>/device:GPU:0</td>\n",
       "      <td>GPU</td>\n",
       "      <td>5G</td>\n",
       "      <td>device: 0, name: GeForce GTX 1060, pci bus id:...</td>\n",
       "    </tr>\n",
       "  </tbody>\n",
       "</table>\n",
       "</div>"
      ],
      "text/plain": [
       "            Name Device Type Memory  \\\n",
       "0  /device:CPU:0         CPU   256M   \n",
       "1  /device:GPU:0         GPU     5G   \n",
       "\n",
       "                                         Description  \n",
       "0                                                     \n",
       "1  device: 0, name: GeForce GTX 1060, pci bus id:...  "
      ]
     },
     "execution_count": 3,
     "metadata": {},
     "output_type": "execute_result"
    }
   ],
   "source": [
    "tf_detected_devices()"
   ]
  },
  {
   "cell_type": "code",
   "execution_count": 4,
   "metadata": {},
   "outputs": [],
   "source": [
    "tf.debugging.set_log_device_placement(False)"
   ]
  },
  {
   "cell_type": "markdown",
   "metadata": {},
   "source": [
    "**Step 4**: Make sure that tensorflow detect cuda libs and GPU devices."
   ]
  },
  {
   "cell_type": "code",
   "execution_count": 5,
   "metadata": {},
   "outputs": [
    {
     "data": {
      "text/plain": [
       "True"
      ]
     },
     "execution_count": 5,
     "metadata": {},
     "output_type": "execute_result"
    }
   ],
   "source": [
    "tf.test.is_built_with_cuda()"
   ]
  },
  {
   "cell_type": "code",
   "execution_count": 6,
   "metadata": {},
   "outputs": [
    {
     "data": {
      "text/plain": [
       "[PhysicalDevice(name='/physical_device:GPU:0', device_type='GPU')]"
      ]
     },
     "execution_count": 6,
     "metadata": {},
     "output_type": "execute_result"
    }
   ],
   "source": [
    "tf.config.list_physical_devices('GPU')"
   ]
  },
  {
   "cell_type": "markdown",
   "metadata": {},
   "source": [
    "# Prepare model input data"
   ]
  },
  {
   "cell_type": "markdown",
   "metadata": {},
   "source": [
    "**Step 1**: Create a predefined spack session. this is used to create a pipeline that build the model input features. "
   ]
  },
  {
   "cell_type": "code",
   "execution_count": 7,
   "metadata": {},
   "outputs": [
    {
     "data": {
      "text/html": [
       "\n",
       "            <div>\n",
       "                <p><b>SparkSession - in-memory</b></p>\n",
       "                \n",
       "        <div>\n",
       "            <p><b>SparkContext</b></p>\n",
       "\n",
       "            <p><a href=\"http://localhost:4040\">Spark UI</a></p>\n",
       "\n",
       "            <dl>\n",
       "              <dt>Version</dt>\n",
       "                <dd><code>v3.0.0</code></dd>\n",
       "              <dt>Master</dt>\n",
       "                <dd><code>local[*]</code></dd>\n",
       "              <dt>AppName</dt>\n",
       "                <dd><code>pyspark-shell</code></dd>\n",
       "            </dl>\n",
       "        </div>\n",
       "        \n",
       "            </div>\n",
       "        "
      ],
      "text/plain": [
       "<pyspark.sql.session.SparkSession at 0x7f9cc03c19d0>"
      ]
     },
     "execution_count": 7,
     "metadata": {},
     "output_type": "execute_result"
    }
   ],
   "source": [
    "session = SparkSessionFactory.create()\n",
    "session"
   ]
  },
  {
   "cell_type": "markdown",
   "metadata": {},
   "source": [
    "**Note**: When create a spark session this run a new spark cluster with one instance in localhost. You can monitor instance jobs clicking the **Spark UI** link. "
   ]
  },
  {
   "cell_type": "markdown",
   "metadata": {},
   "source": [
    "**Step 2**: Load raw dataset to a spark dataset. "
   ]
  },
  {
   "cell_type": "code",
   "execution_count": 26,
   "metadata": {},
   "outputs": [],
   "source": [
    "dataset = read_csv(session, './dataset/*.csv')"
   ]
  },
  {
   "cell_type": "markdown",
   "metadata": {},
   "source": [
    "**Step 2**: Get all users and movies ids and let's see how many elements has each."
   ]
  },
  {
   "cell_type": "code",
   "execution_count": 27,
   "metadata": {},
   "outputs": [],
   "source": [
    "n_users, n_movies = dataset.select('user_id').distinct().count(), dataset.select('movie_id').distinct().count()"
   ]
  },
  {
   "cell_type": "code",
   "execution_count": 28,
   "metadata": {},
   "outputs": [
    {
     "name": "stdout",
     "output_type": "stream",
     "text": [
      "Users count: 610 \n",
      "Movies count:  9724\n"
     ]
    }
   ],
   "source": [
    "print('Users count:', n_users, '\\nMovies count: ', n_movies)"
   ]
  },
  {
   "cell_type": "markdown",
   "metadata": {},
   "source": [
    "**Step 3:** Let's see min and max value of rating column."
   ]
  },
  {
   "cell_type": "code",
   "execution_count": 31,
   "metadata": {},
   "outputs": [],
   "source": [
    "min_max = dataset.agg(f.min('rating'), f.max('rating')).collect()[0]\n",
    "min_rating, max_rating = min_max[0], min_max[1]"
   ]
  },
  {
   "cell_type": "code",
   "execution_count": 32,
   "metadata": {},
   "outputs": [
    {
     "name": "stdout",
     "output_type": "stream",
     "text": [
      "Ratting - min:  0.5 max: 5.0\n"
     ]
    }
   ],
   "source": [
    "print('Ratting - min: ', min_rating, 'max:', max_rating)"
   ]
  },
  {
   "cell_type": "markdown",
   "metadata": {},
   "source": [
    "**Step 3:** Let's see all dataset columns."
   ]
  },
  {
   "cell_type": "code",
   "execution_count": 30,
   "metadata": {},
   "outputs": [
    {
     "data": {
      "text/plain": [
       "['rating',\n",
       " 'user_id',\n",
       " 'movie_id',\n",
       " 'gen_fantasy',\n",
       " 'gen_adventure',\n",
       " 'gen_none',\n",
       " 'gen_comedy',\n",
       " 'gen_film_noir',\n",
       " 'gen_musical',\n",
       " 'gen_thriller',\n",
       " 'gen_romance',\n",
       " 'gen_western',\n",
       " 'gen_mystery',\n",
       " 'gen_sci_fi',\n",
       " 'gen_action',\n",
       " 'gen_documentary',\n",
       " 'gen_imax',\n",
       " 'gen_drama',\n",
       " 'gen_animation',\n",
       " 'gen_horror',\n",
       " 'gen_crime',\n",
       " 'gen_war',\n",
       " 'gen_children',\n",
       " 'user_seq',\n",
       " 'movie_seq']"
      ]
     },
     "execution_count": 30,
     "metadata": {},
     "output_type": "execute_result"
    }
   ],
   "source": [
    "dataset.columns"
   ]
  },
  {
   "cell_type": "code",
   "execution_count": 12,
   "metadata": {},
   "outputs": [],
   "source": [
    "class ColumnService:\n",
    "    def __init__(self, columns):\n",
    "        excluded_columns = ['user_id', 'movie_id']\n",
    "        self.labels = ['rating']\n",
    "\n",
    "        self.features = list(set(columns) - set(self.labels) - set(excluded_columns))\n",
    "        self.features = sorted(self.features, key=lambda x: 'gen_' in x)\n",
    "\n",
    "        self.gender_features = [c for c in self.features if 'gen_' in c]\n",
    "        self.emb_features = [c for c in self.features if '_seq' in c]\n",
    "        self.emb_features = sorted(self.emb_features, key=lambda x: 'user' in x, reverse=True)\n",
    "\n",
    "column_manager = ColumnService(ratings.columns)"
   ]
  },
  {
   "cell_type": "code",
   "execution_count": 13,
   "metadata": {},
   "outputs": [
    {
     "data": {
      "text/plain": [
       "['gen_film_noir',\n",
       " 'gen_animation',\n",
       " 'gen_war',\n",
       " 'gen_drama',\n",
       " 'gen_none',\n",
       " 'gen_horror',\n",
       " 'gen_action',\n",
       " 'gen_children',\n",
       " 'gen_musical',\n",
       " 'gen_fantasy',\n",
       " 'gen_comedy',\n",
       " 'gen_adventure',\n",
       " 'gen_romance',\n",
       " 'gen_documentary',\n",
       " 'gen_sci_fi',\n",
       " 'gen_imax',\n",
       " 'gen_western',\n",
       " 'gen_mystery',\n",
       " 'gen_thriller',\n",
       " 'gen_crime']"
      ]
     },
     "execution_count": 13,
     "metadata": {},
     "output_type": "execute_result"
    }
   ],
   "source": [
    "column_manager.gender_features"
   ]
  },
  {
   "cell_type": "code",
   "execution_count": 18,
   "metadata": {},
   "outputs": [
    {
     "data": {
      "text/plain": [
       "['user_seq', 'movie_seq']"
      ]
     },
     "execution_count": 18,
     "metadata": {},
     "output_type": "execute_result"
    }
   ],
   "source": [
    "column_manager.emb_features"
   ]
  },
  {
   "cell_type": "code",
   "execution_count": 19,
   "metadata": {},
   "outputs": [
    {
     "data": {
      "text/plain": [
       "([Row(rating=0.5, user_id=3, movie_id=31, gen_fantasy=0, gen_adventure=0, gen_none=0, gen_comedy=0, gen_film_noir=0, gen_musical=0, gen_thriller=0, gen_romance=0, gen_western=0, gen_mystery=0, gen_sci_fi=0, gen_action=0, gen_documentary=0, gen_imax=0, gen_drama=1, gen_animation=0, gen_horror=0, gen_crime=0, gen_war=0, gen_children=0, user_seq=2, movie_seq=259)],\n",
       " [Row(rating=0.5, user_id=3, movie_id=527, gen_fantasy=0, gen_adventure=0, gen_none=0, gen_comedy=0, gen_film_noir=0, gen_musical=0, gen_thriller=0, gen_romance=0, gen_western=0, gen_mystery=0, gen_sci_fi=0, gen_action=0, gen_documentary=0, gen_imax=0, gen_drama=1, gen_animation=0, gen_horror=0, gen_crime=0, gen_war=1, gen_children=0, user_seq=2, movie_seq=28)])"
      ]
     },
     "execution_count": 19,
     "metadata": {},
     "output_type": "execute_result"
    }
   ],
   "source": [
    "train, val = train_test_split(ratings, test_size=0.3)\n",
    "train.take(1), val.take(1)"
   ]
  },
  {
   "cell_type": "code",
   "execution_count": 20,
   "metadata": {},
   "outputs": [],
   "source": [
    "train_size, val_size = train.count(), val.count()"
   ]
  },
  {
   "cell_type": "code",
   "execution_count": 21,
   "metadata": {},
   "outputs": [
    {
     "name": "stdout",
     "output_type": "stream",
     "text": [
      "Train Batch Size     : 23551\n",
      "Validation Batch Size: 10060\n",
      "Plot Interval        : 1\n",
      "Evaluate Interval    : 2\n"
     ]
    }
   ],
   "source": [
    "import math\n",
    "\n",
    "if dataset_size == 'ml-latest':\n",
    "    steps  = 3\n",
    "    epochs = 70\n",
    "    plot_interval = math.floor(steps / 3)\n",
    "elif dataset_size == 'ml-25m':\n",
    "    steps  = 20\n",
    "    epochs = 20\n",
    "    plot_interval = math.floor(steps / 5)\n",
    "else:\n",
    "    steps  = 200\n",
    "    epochs = 20\n",
    "    plot_interval = math.floor(steps / 5)\n",
    "\n",
    "batch_size        = math.floor(train_size / steps)\n",
    "val_batch_size    = math.floor(val_size / steps)\n",
    "evaluate_interval = plot_interval + 1\n",
    "\n",
    "print('Train Batch Size     :', batch_size)\n",
    "print('Validation Batch Size:', val_batch_size)\n",
    "print('Plot Interval        :', plot_interval)\n",
    "print('Evaluate Interval    :', evaluate_interval)"
   ]
  },
  {
   "cell_type": "code",
   "execution_count": 22,
   "metadata": {},
   "outputs": [],
   "source": [
    "train_page_set = PageSet(train, page_size=5)"
   ]
  },
  {
   "cell_type": "code",
   "execution_count": 23,
   "metadata": {},
   "outputs": [
    {
     "name": "stdout",
     "output_type": "stream",
     "text": [
      "+-------+--------+---------+\n",
      "|row_seq|user_seq|movie_seq|\n",
      "+-------+--------+---------+\n",
      "|      5|       2|      267|\n",
      "|      6|       2|      120|\n",
      "|      7|       2|      271|\n",
      "|      8|       2|      128|\n",
      "|      9|       2|      273|\n",
      "+-------+--------+---------+\n",
      "\n"
     ]
    }
   ],
   "source": [
    "train_page_set.get(1, True).select('row_seq', 'user_seq', 'movie_seq').show()"
   ]
  },
  {
   "cell_type": "code",
   "execution_count": 24,
   "metadata": {},
   "outputs": [],
   "source": [
    "train_page_set = train_page_set.shuffled()"
   ]
  },
  {
   "cell_type": "code",
   "execution_count": 25,
   "metadata": {},
   "outputs": [
    {
     "name": "stdout",
     "output_type": "stream",
     "text": [
      "+--------+---------+\n",
      "|user_seq|movie_seq|\n",
      "+--------+---------+\n",
      "|      67|     3297|\n",
      "|     407|      198|\n",
      "|     166|      865|\n",
      "|     527|     3094|\n",
      "|     159|      753|\n",
      "+--------+---------+\n",
      "\n"
     ]
    }
   ],
   "source": [
    "train_page_set[0].select('user_seq', 'movie_seq').show()"
   ]
  },
  {
   "cell_type": "code",
   "execution_count": 26,
   "metadata": {},
   "outputs": [],
   "source": [
    "class RecommendationsDataGenerator(DataFrameDataGenerator):    \n",
    "    def _features(self, page, columns):\n",
    "        emb1 = get_rows(page, column_manager.emb_features[0])\n",
    "        emb2 = get_rows(page, column_manager.emb_features[1])\n",
    "        genders = get_rows(page, column_manager.gender_features)\n",
    "        return [emb1, emb2, genders]"
   ]
  },
  {
   "cell_type": "code",
   "execution_count": 27,
   "metadata": {},
   "outputs": [],
   "source": [
    "generator = RecommendationsDataGenerator(\n",
    "    train,\n",
    "    column_manager.features,\n",
    "    column_manager.labels,\n",
    "    batch_size=5,\n",
    "    shuffle=True\n",
    ")\n",
    "\n",
    "X, y = generator[0]"
   ]
  },
  {
   "cell_type": "code",
   "execution_count": 28,
   "metadata": {},
   "outputs": [
    {
     "data": {
      "text/plain": [
       "(array([[3.],\n",
       "        [4.],\n",
       "        [2.],\n",
       "        [3.],\n",
       "        [5.]]),\n",
       " (5, 1))"
      ]
     },
     "execution_count": 28,
     "metadata": {},
     "output_type": "execute_result"
    }
   ],
   "source": [
    "y, y.shape"
   ]
  },
  {
   "cell_type": "code",
   "execution_count": 29,
   "metadata": {},
   "outputs": [
    {
     "data": {
      "text/plain": [
       "(array([[394],\n",
       "        [576],\n",
       "        [197],\n",
       "        [604],\n",
       "        [  7]]),\n",
       " (5, 1))"
      ]
     },
     "execution_count": 29,
     "metadata": {},
     "output_type": "execute_result"
    }
   ],
   "source": [
    "X[0], X[0].shape"
   ]
  },
  {
   "cell_type": "code",
   "execution_count": 30,
   "metadata": {},
   "outputs": [
    {
     "data": {
      "text/plain": [
       "(array([[ 531],\n",
       "        [ 191],\n",
       "        [1171],\n",
       "        [5213],\n",
       "        [ 460]]),\n",
       " (5, 1))"
      ]
     },
     "execution_count": 30,
     "metadata": {},
     "output_type": "execute_result"
    }
   ],
   "source": [
    "X[1], X[1].shape"
   ]
  },
  {
   "cell_type": "code",
   "execution_count": 31,
   "metadata": {},
   "outputs": [
    {
     "data": {
      "text/plain": [
       "(array([[0, 0, 0, 0, 0, 0, 0, 0, 0, 0, 0, 1, 1, 0, 1, 0, 0, 0, 0, 0],\n",
       "        [0, 0, 0, 0, 0, 0, 0, 0, 0, 0, 1, 0, 1, 0, 1, 0, 0, 0, 0, 0],\n",
       "        [0, 0, 0, 0, 0, 0, 1, 0, 0, 0, 0, 0, 0, 1, 0, 0, 0, 0, 0, 0],\n",
       "        [0, 1, 0, 0, 0, 0, 0, 0, 0, 0, 1, 0, 1, 0, 0, 0, 0, 0, 1, 0],\n",
       "        [0, 0, 0, 0, 0, 1, 0, 0, 0, 0, 0, 0, 0, 0, 0, 0, 0, 0, 1, 0]]),\n",
       " (5, 20))"
      ]
     },
     "execution_count": 31,
     "metadata": {},
     "output_type": "execute_result"
    }
   ],
   "source": [
    "X[2], X[2].shape"
   ]
  },
  {
   "cell_type": "code",
   "execution_count": 32,
   "metadata": {},
   "outputs": [],
   "source": [
    "train_generator = RecommendationsDataGenerator(\n",
    "    train, \n",
    "    column_manager.features,\n",
    "    column_manager.labels,\n",
    "    batch_size, \n",
    "    shuffle=True,\n",
    "    name='train'\n",
    ")"
   ]
  },
  {
   "cell_type": "code",
   "execution_count": 33,
   "metadata": {},
   "outputs": [],
   "source": [
    "val_generator = RecommendationsDataGenerator(\n",
    "    val,\n",
    "    column_manager.features,\n",
    "    column_manager.labels,\n",
    "    val_batch_size,\n",
    "    shuffle=False,\n",
    "    name='val'\n",
    ")"
   ]
  },
  {
   "cell_type": "code",
   "execution_count": 34,
   "metadata": {},
   "outputs": [],
   "source": [
    "model = UserMovieGenderEmbeddingDenseModelFactory.create(\n",
    "    n_users, \n",
    "    n_movies,\n",
    "    n_genders=len(column_manager.gender_features),\n",
    "    min_rating=min_rating, \n",
    "    max_rating=max_rating,\n",
    "    units=[2048, 1024],\n",
    "    dropout=[0.1, 0.1]\n",
    ")"
   ]
  },
  {
   "cell_type": "code",
   "execution_count": 35,
   "metadata": {},
   "outputs": [
    {
     "data": {
      "image/png": "[encoded data removed]",
      "text/plain": [
       "<IPython.core.display.Image object>"
      ]
     },
     "execution_count": 35,
     "metadata": {},
     "output_type": "execute_result"
    }
   ],
   "source": [
    "plot_model(model)"
   ]
  },
  {
   "cell_type": "code",
   "execution_count": 36,
   "metadata": {},
   "outputs": [
    {
     "name": "stdout",
     "output_type": "stream",
     "text": [
      "Model: \"Embedding_Feature_Layers_Plus_Dense_Layer_Model\"\n",
      "__________________________________________________________________________________________________\n",
      "Layer (type)                    Output Shape         Param #     Connected to                     \n",
      "==================================================================================================\n",
      "users_idx (InputLayer)          [(None, 1)]          0                                            \n",
      "__________________________________________________________________________________________________\n",
      "movies_idx (InputLayer)         [(None, 1)]          0                                            \n",
      "__________________________________________________________________________________________________\n",
      "users_embedding (Embedding)     (None, 1, 50)        30500       users_idx[0][0]                  \n",
      "__________________________________________________________________________________________________\n",
      "movies_embedding (Embedding)    (None, 1, 50)        486200      movies_idx[0][0]                 \n",
      "__________________________________________________________________________________________________\n",
      "users_embedding_3_to_2_dim (Res (None, 50)           0           users_embedding[0][0]            \n",
      "__________________________________________________________________________________________________\n",
      "movies_embedding_3_to_2_dim (Re (None, 50)           0           movies_embedding[0][0]           \n",
      "__________________________________________________________________________________________________\n",
      "genders (InputLayer)            [(None, 20)]         0                                            \n",
      "__________________________________________________________________________________________________\n",
      "concatenate (Concatenate)       (None, 120)          0           users_embedding_3_to_2_dim[0][0] \n",
      "                                                                 movies_embedding_3_to_2_dim[0][0]\n",
      "                                                                 genders[0][0]                    \n",
      "__________________________________________________________________________________________________\n",
      "dropout (Dropout)               (None, 120)          0           concatenate[0][0]                \n",
      "__________________________________________________________________________________________________\n",
      "dense (Dense)                   (None, 2048)         247808      dropout[0][0]                    \n",
      "__________________________________________________________________________________________________\n",
      "activation (Activation)         (None, 2048)         0           dense[0][0]                      \n",
      "__________________________________________________________________________________________________\n",
      "dropout_1 (Dropout)             (None, 2048)         0           activation[0][0]                 \n",
      "__________________________________________________________________________________________________\n",
      "dense_1 (Dense)                 (None, 1024)         2098176     dropout_1[0][0]                  \n",
      "__________________________________________________________________________________________________\n",
      "activation_1 (Activation)       (None, 1024)         0           dense_1[0][0]                    \n",
      "__________________________________________________________________________________________________\n",
      "dropout_2 (Dropout)             (None, 1024)         0           activation_1[0][0]               \n",
      "__________________________________________________________________________________________________\n",
      "dense_2 (Dense)                 (None, 1)            1025        dropout_2[0][0]                  \n",
      "__________________________________________________________________________________________________\n",
      "sigmoid_activation (Activation) (None, 1)            0           dense_2[0][0]                    \n",
      "__________________________________________________________________________________________________\n",
      "user_rating_prediction (Lambda) (None, 1)            0           sigmoid_activation[0][0]         \n",
      "==================================================================================================\n",
      "Total params: 2,863,709\n",
      "Trainable params: 2,863,709\n",
      "Non-trainable params: 0\n",
      "__________________________________________________________________________________________________\n"
     ]
    }
   ],
   "source": [
    "model.summary()"
   ]
  },
  {
   "cell_type": "code",
   "execution_count": 37,
   "metadata": {},
   "outputs": [
    {
     "data": {
      "image/png": "[encoded data removed]",
      "text/plain": [
       "<Figure size 2160x576 with 1 Axes>"
      ]
     },
     "metadata": {
      "needs_background": "light"
     },
     "output_type": "display_data"
    },
    {
     "name": "stdout",
     "output_type": "stream",
     "text": [
      "\n",
      "\n",
      "Evaluate model each 2 steps(Batch-size: 10060):\n",
      "1/1 [==============================] - 0s 37ms/step - loss: 0.7661\n",
      "\n",
      "Val metrics:\n",
      "  - Loss (140): 0.766145 (⟱ 0.13005191)\n",
      "\n",
      "Continue model train:\n",
      "3/3 [==============================] - 63s 28s/step - loss: 0.5760 - val_loss: 0.7616\n"
     ]
    }
   ],
   "source": [
    "if train_model:\n",
    "    history = model.fit_generator(\n",
    "        generator=train_generator,\n",
    "        validation_data=val_generator,\n",
    "        epochs=epochs,\n",
    "        verbose=1, \n",
    "        callbacks=[\n",
    "            MetricsPlotter(\n",
    "                validation_generator=val_generator, \n",
    "                metrics_names=['loss'],\n",
    "                plot_interval=plot_interval,\n",
    "                evaluate_interval=evaluate_interval,\n",
    "                batch_size=batch_size,\n",
    "                val_batch_size=val_batch_size\n",
    "            )\n",
    "        ]\n",
    "    )"
   ]
  },
  {
   "cell_type": "markdown",
   "metadata": {},
   "source": [
    "Check model loss after training process:"
   ]
  },
  {
   "cell_type": "code",
   "execution_count": 38,
   "metadata": {},
   "outputs": [],
   "source": [
    "def evaluate_xy_model(model, column_manager, data_frame, batch_size):\n",
    "    data_generator = RecommendationsDataGenerator(\n",
    "        data_frame,\n",
    "        column_manager.features,\n",
    "        column_manager.labels,\n",
    "        data_frame.count(),\n",
    "        shuffle=False\n",
    "    )\n",
    "    X, y = data_generator[0]\n",
    "    return model.evaluate(X, y, batch_size=batch_size, verbose=0)"
   ]
  },
  {
   "cell_type": "code",
   "execution_count": 41,
   "metadata": {},
   "outputs": [
    {
     "data": {
      "text/plain": [
       "0.7616989612579346"
      ]
     },
     "execution_count": 41,
     "metadata": {},
     "output_type": "execute_result"
    }
   ],
   "source": [
    "val_loss = evaluate_xy_model(model, column_manager, val, batch_size)\n",
    "val_loss"
   ]
  },
  {
   "cell_type": "markdown",
   "metadata": {},
   "source": [
    "Save the weights tthat model has learned:"
   ]
  },
  {
   "cell_type": "code",
   "execution_count": 42,
   "metadata": {},
   "outputs": [],
   "source": [
    "WEIGHTS_PATH = f'./weights/user_movie_genders_deep_model_weights_{dataset_size}_val_loss_{val_loss}.h5'\n",
    "\n",
    "model.save_weights(WEIGHTS_PATH) if train_model else model.load_weights(WEIGHTS_PATH)"
   ]
  },
  {
   "cell_type": "markdown",
   "metadata": {},
   "source": [
    "### Check rating prediction"
   ]
  },
  {
   "cell_type": "code",
   "execution_count": null,
   "metadata": {},
   "outputs": [],
   "source": [
    "import random\n",
    "\n",
    "class UserMovieIdxPairGenerator:\n",
    "    def __init__(self, train_set, dataset):\n",
    "        self.__train_input = pd.DataFrame(train_input, columns=['user', 'movie'])\n",
    "        self.__dataset = dataset\n",
    "\n",
    "    def rand_user_idx(self): return random.choice(self.__train_input['user'])\n",
    " \n",
    "    def rand_movie_idx(self): return random.choice(self.__train_input['movie'])\n",
    " \n",
    "    def generate(self, has_rating=True):\n",
    "        finish = True\n",
    "        user_idx, movie_idx = None, None\n",
    "        while finish:\n",
    "            user_idx, movie_idx = self.rand_user_idx(), self.rand_movie_idx()\n",
    "            pair = self.__dataset.rating_of(user_idx, movie_idx)\n",
    "            finish = pair.empty if has_rating else not pair.empty\n",
    "        return user_idx, movie_idx"
   ]
  }
 ],
 "metadata": {
  "kernelspec": {
   "display_name": "Python 3",
   "language": "python",
   "name": "python3"
  },
  "language_info": {
   "codemirror_mode": {
    "name": "ipython",
    "version": 3
   },
   "file_extension": ".py",
   "mimetype": "text/x-python",
   "name": "python",
   "nbconvert_exporter": "python",
   "pygments_lexer": "ipython3",
   "version": "3.8.5"
  },
  "widgets": {
   "application/vnd.jupyter.widget-state+json": {
    "state": {},
    "version_major": 2,
    "version_minor": 0
   }
  }
 },
 "nbformat": 4,
 "nbformat_minor": 4
}
