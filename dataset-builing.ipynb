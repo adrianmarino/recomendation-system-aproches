{
 "cells": [
  {
   "cell_type": "code",
   "execution_count": 1,
   "metadata": {},
   "outputs": [],
   "source": [
    "%matplotlib inline\n",
    "%load_ext autoreload\n",
    "%autoreload 2"
   ]
  },
  {
   "cell_type": "code",
   "execution_count": 2,
   "metadata": {},
   "outputs": [],
   "source": [
    "import sys\n",
    "sys.path.append('./src')\n",
    "\n",
    "from util import PCAPlotter, SparkSessionFactory, read_csv, write_csv\n",
    "from data import MovieLensDataSource\n",
    "\n",
    "import pyspark.sql.types as t\n",
    "import pyspark.sql as s\n",
    "import pyspark.sql.functions as f"
   ]
  },
  {
   "cell_type": "code",
   "execution_count": 21,
   "metadata": {},
   "outputs": [
    {
     "data": {
      "text/html": [
       "\n",
       "            <div>\n",
       "                <p><b>SparkSession - in-memory</b></p>\n",
       "                \n",
       "        <div>\n",
       "            <p><b>SparkContext</b></p>\n",
       "\n",
       "            <p><a href=\"http://localhost:4040\">Spark UI</a></p>\n",
       "\n",
       "            <dl>\n",
       "              <dt>Version</dt>\n",
       "                <dd><code>v3.0.0</code></dd>\n",
       "              <dt>Master</dt>\n",
       "                <dd><code>local</code></dd>\n",
       "              <dt>AppName</dt>\n",
       "                <dd><code>pyspark-shell</code></dd>\n",
       "            </dl>\n",
       "        </div>\n",
       "        \n",
       "            </div>\n",
       "        "
      ],
      "text/plain": [
       "<pyspark.sql.session.SparkSession at 0x7f332cbe82d0>"
      ]
     },
     "execution_count": 21,
     "metadata": {},
     "output_type": "execute_result"
    }
   ],
   "source": [
    "session = SparkSessionFactory.create()\n",
    "session"
   ]
  },
  {
   "cell_type": "code",
   "execution_count": 22,
   "metadata": {},
   "outputs": [],
   "source": [
    "dataset_size = 'ml-latest' # 250MB\n",
    "# dataset_size = 'ml-25m' # 25MB\n",
    "# dataset_size = 'ml-latest-small' # 1MB"
   ]
  },
  {
   "cell_type": "markdown",
   "metadata": {},
   "source": [
    "### Download dataset"
   ]
  },
  {
   "cell_type": "markdown",
   "metadata": {},
   "source": [
    "Create a data source to download and read dataset files:"
   ]
  },
  {
   "cell_type": "code",
   "execution_count": 23,
   "metadata": {},
   "outputs": [
    {
     "name": "stdout",
     "output_type": "stream",
     "text": [
      "Dataset sizes: ['ml-latest-small', 'ml-25m', 'ml-latest']\n"
     ]
    }
   ],
   "source": [
    "print('Dataset sizes:', MovieLensDataSource.sizes())"
   ]
  },
  {
   "cell_type": "markdown",
   "metadata": {},
   "source": [
    "Check: [Movie lens datasets](https://grouplens.org/datasets/movielens/)"
   ]
  },
  {
   "cell_type": "code",
   "execution_count": 24,
   "metadata": {},
   "outputs": [],
   "source": [
    "ds = MovieLensDataSource(size = dataset_size)"
   ]
  },
  {
   "cell_type": "code",
   "execution_count": 25,
   "metadata": {},
   "outputs": [
    {
     "data": {
      "text/plain": [
       "['/home/adrian/.keras/datasets/ml-latest/ratings.csv',\n",
       " '/home/adrian/.keras/datasets/ml-latest/genome-scores.csv',\n",
       " '/home/adrian/.keras/datasets/ml-latest/links.csv',\n",
       " '/home/adrian/.keras/datasets/ml-latest/movies.csv',\n",
       " '/home/adrian/.keras/datasets/ml-latest/genome-tags.csv',\n",
       " '/home/adrian/.keras/datasets/ml-latest/tags.csv']"
      ]
     },
     "execution_count": 25,
     "metadata": {},
     "output_type": "execute_result"
    }
   ],
   "source": [
    "ds.file_paths()"
   ]
  },
  {
   "cell_type": "code",
   "execution_count": null,
   "metadata": {},
   "outputs": [],
   "source": [
    "ratings = read_csv(session, ds.file_paths()[0])\n",
    "movies = read_csv(session, ds.file_paths()[3])"
   ]
  },
  {
   "cell_type": "code",
   "execution_count": null,
   "metadata": {},
   "outputs": [],
   "source": [
    "ratings.show(5, truncate=False)\n",
    "ratings.printSchema()\n",
    "movies.show(5, truncate=False)\n",
    "movies.printSchema()"
   ]
  },
  {
   "cell_type": "code",
   "execution_count": 9,
   "metadata": {},
   "outputs": [
    {
     "name": "stdout",
     "output_type": "stream",
     "text": [
      "+------+-------+--------+--------------+\n",
      "|rating|user_id|movie_id|genres        |\n",
      "+------+-------+--------+--------------+\n",
      "|3.5   |1      |307     |Drama         |\n",
      "|3.5   |1      |481     |Drama|Thriller|\n",
      "|1.5   |1      |1091    |Comedy        |\n",
      "|4.5   |1      |1257    |Comedy|Romance|\n",
      "|4.5   |1      |1449    |Comedy        |\n",
      "+------+-------+--------+--------------+\n",
      "only showing top 5 rows\n",
      "\n"
     ]
    }
   ],
   "source": [
    "ratings = ratings \\\n",
    "    .join(movies, on='movieId', how=\"left\") \\\n",
    "    .select(\n",
    "        f.col('rating'),    \n",
    "        f.col('userId').alias('user_id'), \n",
    "        f.col('movieId').alias('movie_id'), \n",
    "        f.col('genres')\n",
    "    )\n",
    "\n",
    "ratings.show(5, truncate=False)"
   ]
  },
  {
   "cell_type": "code",
   "execution_count": 10,
   "metadata": {},
   "outputs": [
    {
     "name": "stdout",
     "output_type": "stream",
     "text": [
      "+------------------------------+-----+\n",
      "|genres                        |count|\n",
      "+------------------------------+-----+\n",
      "|Comedy|Horror|Thriller        |33187|\n",
      "|Adventure|Sci-Fi|Thriller     |8778 |\n",
      "|Action|Adventure|Drama|Fantasy|61724|\n",
      "|Action|Drama|Horror           |4022 |\n",
      "|Action|Animation|Comedy|Sci-Fi|1133 |\n",
      "+------------------------------+-----+\n",
      "only showing top 5 rows\n",
      "\n"
     ]
    }
   ],
   "source": [
    "genres_count = ratings \\\n",
    "    .groupBy(\"genres\") \\\n",
    "    .count()\n",
    "\n",
    "genres_count.show(5, truncate=False)"
   ]
  },
  {
   "cell_type": "code",
   "execution_count": 11,
   "metadata": {},
   "outputs": [],
   "source": [
    "def normalize(value): return value.lower().replace('-','_')"
   ]
  },
  {
   "cell_type": "code",
   "execution_count": 12,
   "metadata": {},
   "outputs": [
    {
     "data": {
      "text/plain": [
       "[('Fantasy', 'gen_fantasy'),\n",
       " ('Adventure', 'gen_adventure'),\n",
       " ('(no genres listed)', 'gen_none'),\n",
       " ('Comedy', 'gen_comedy'),\n",
       " ('Film-Noir', 'gen_film_noir'),\n",
       " ('Musical', 'gen_musical'),\n",
       " ('Thriller', 'gen_thriller'),\n",
       " ('Romance', 'gen_romance'),\n",
       " ('Western', 'gen_western'),\n",
       " ('Mystery', 'gen_mystery'),\n",
       " ('Sci-Fi', 'gen_sci_fi'),\n",
       " ('Action', 'gen_action'),\n",
       " ('Documentary', 'gen_documentary'),\n",
       " ('IMAX', 'gen_imax'),\n",
       " ('Drama', 'gen_drama'),\n",
       " ('Animation', 'gen_animation'),\n",
       " ('Horror', 'gen_horror'),\n",
       " ('Crime', 'gen_crime'),\n",
       " ('War', 'gen_war'),\n",
       " ('Children', 'gen_children')]"
      ]
     },
     "execution_count": 12,
     "metadata": {},
     "output_type": "execute_result"
    }
   ],
   "source": [
    "genres_columns = genres_count \\\n",
    "        .select('genres') \\\n",
    "        .rdd \\\n",
    "        .flatMap(lambda it: it[0].split('|')) \\\n",
    "        .distinct() \\\n",
    "        .map(lambda it: (it, 'gen_none' if '(' in it else f'gen_{normalize(it)}')) \\\n",
    "        .collect()\n",
    "\n",
    "genres_columns"
   ]
  },
  {
   "cell_type": "code",
   "execution_count": 13,
   "metadata": {},
   "outputs": [
    {
     "name": "stdout",
     "output_type": "stream",
     "text": [
      "+------+-------+--------+-----------+-------------+--------+----------+-------------+-----------+------------+-----------+-----------+-----------+----------+----------+---------------+--------+---------+-------------+----------+---------+-------+------------+\n",
      "|rating|user_id|movie_id|gen_fantasy|gen_adventure|gen_none|gen_comedy|gen_film_noir|gen_musical|gen_thriller|gen_romance|gen_western|gen_mystery|gen_sci_fi|gen_action|gen_documentary|gen_imax|gen_drama|gen_animation|gen_horror|gen_crime|gen_war|gen_children|\n",
      "+------+-------+--------+-----------+-------------+--------+----------+-------------+-----------+------------+-----------+-----------+-----------+----------+----------+---------------+--------+---------+-------------+----------+---------+-------+------------+\n",
      "|3.5   |1      |307     |0          |0            |0       |0         |0            |0          |0           |0          |0          |0          |0         |0         |0              |0       |1        |0            |0         |0        |0      |0           |\n",
      "|3.5   |1      |481     |0          |0            |0       |0         |0            |0          |1           |0          |0          |0          |0         |0         |0              |0       |1        |0            |0         |0        |0      |0           |\n",
      "|1.5   |1      |1091    |0          |0            |0       |1         |0            |0          |0           |0          |0          |0          |0         |0         |0              |0       |0        |0            |0         |0        |0      |0           |\n",
      "|4.5   |1      |1257    |0          |0            |0       |1         |0            |0          |0           |1          |0          |0          |0         |0         |0              |0       |0        |0            |0         |0        |0      |0           |\n",
      "|4.5   |1      |1449    |0          |0            |0       |1         |0            |0          |0           |0          |0          |0          |0         |0         |0              |0       |0        |0            |0         |0        |0      |0           |\n",
      "+------+-------+--------+-----------+-------------+--------+----------+-------------+-----------+------------+-----------+-----------+-----------+----------+----------+---------------+--------+---------+-------------+----------+---------+-------+------------+\n",
      "only showing top 5 rows\n",
      "\n"
     ]
    }
   ],
   "source": [
    "for (genre, col_name) in genres_columns:\n",
    "    ratings = ratings.withColumn(col_name, ratings.genres.contains(genre).cast('integer'))\n",
    "\n",
    "ratings = ratings.drop('genres')\n",
    "    \n",
    "ratings.show(5, truncate=False)"
   ]
  },
  {
   "cell_type": "code",
   "execution_count": 15,
   "metadata": {},
   "outputs": [],
   "source": [
    "from sklearn.preprocessing import LabelEncoder\n",
    "\n",
    "class Sequencer:\n",
    "    def __init__(self):\n",
    "        self.sequence = -1\n",
    "        self.mapping = {}\n",
    "\n",
    "    def __call__(self, value):\n",
    "        if value in self.mapping:\n",
    "            return self.mapping[value]\n",
    "\n",
    "        self.sequence += 1\n",
    "        self.mapping[value] = self.sequence\n",
    "        return self.sequence\n",
    "\n",
    "seq = f.udf(Sequencer(), t.IntegerType())"
   ]
  },
  {
   "cell_type": "code",
   "execution_count": 16,
   "metadata": {},
   "outputs": [
    {
     "name": "stdout",
     "output_type": "stream",
     "text": [
      "+------+-------+--------+-----------+-------------+--------+----------+-------------+-----------+------------+-----------+-----------+-----------+----------+----------+---------------+--------+---------+-------------+----------+---------+-------+------------+--------+---------+\n",
      "|rating|user_id|movie_id|gen_fantasy|gen_adventure|gen_none|gen_comedy|gen_film_noir|gen_musical|gen_thriller|gen_romance|gen_western|gen_mystery|gen_sci_fi|gen_action|gen_documentary|gen_imax|gen_drama|gen_animation|gen_horror|gen_crime|gen_war|gen_children|user_seq|movie_seq|\n",
      "+------+-------+--------+-----------+-------------+--------+----------+-------------+-----------+------------+-----------+-----------+-----------+----------+----------+---------------+--------+---------+-------------+----------+---------+-------+------------+--------+---------+\n",
      "|3.5   |1      |307     |0          |0            |0       |0         |0            |0          |0           |0          |0          |0          |0         |0         |0              |0       |1        |0            |0         |0        |0      |0           |0       |0        |\n",
      "|3.5   |1      |481     |0          |0            |0       |0         |0            |0          |1           |0          |0          |0          |0         |0         |0              |0       |1        |0            |0         |0        |0      |0           |0       |1        |\n",
      "|1.5   |1      |1091    |0          |0            |0       |1         |0            |0          |0           |0          |0          |0          |0         |0         |0              |0       |0        |0            |0         |0        |0      |0           |0       |2        |\n",
      "|4.5   |1      |1257    |0          |0            |0       |1         |0            |0          |0           |1          |0          |0          |0         |0         |0              |0       |0        |0            |0         |0        |0      |0           |0       |3        |\n",
      "|4.5   |1      |1449    |0          |0            |0       |1         |0            |0          |0           |0          |0          |0          |0         |0         |0              |0       |0        |0            |0         |0        |0      |0           |0       |4        |\n",
      "+------+-------+--------+-----------+-------------+--------+----------+-------------+-----------+------------+-----------+-----------+-----------+----------+----------+---------------+--------+---------+-------------+----------+---------+-------+------------+--------+---------+\n",
      "only showing top 5 rows\n",
      "\n"
     ]
    }
   ],
   "source": [
    "ratings = ratings \\\n",
    "    .withColumn('user_seq', seq(f.col('user_id'))) \\\n",
    "    .withColumn('movie_seq', seq(f.col('movie_id')))\n",
    "\n",
    "ratings.show(5, truncate=False)"
   ]
  },
  {
   "cell_type": "code",
   "execution_count": 17,
   "metadata": {},
   "outputs": [],
   "source": [
    "write_csv(ratings, './dataset')"
   ]
  },
  {
   "cell_type": "code",
   "execution_count": 18,
   "metadata": {},
   "outputs": [],
   "source": [
    "session.stop()"
   ]
  },
  {
   "cell_type": "code",
   "execution_count": null,
   "metadata": {},
   "outputs": [],
   "source": []
  }
 ],
 "metadata": {
  "kernelspec": {
   "display_name": "Python 3",
   "language": "python",
   "name": "python3"
  },
  "language_info": {
   "codemirror_mode": {
    "name": "ipython",
    "version": 3
   },
   "file_extension": ".py",
   "mimetype": "text/x-python",
   "name": "python",
   "nbconvert_exporter": "python",
   "pygments_lexer": "ipython3",
   "version": "3.7.9"
  },
  "widgets": {
   "application/vnd.jupyter.widget-state+json": {
    "state": {},
    "version_major": 2,
    "version_minor": 0
   }
  }
 },
 "nbformat": 4,
 "nbformat_minor": 4
}
