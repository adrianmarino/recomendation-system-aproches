{
 "cells": [
  {
   "cell_type": "code",
   "execution_count": 1,
   "metadata": {},
   "outputs": [],
   "source": [
    "%matplotlib inline\n",
    "%load_ext autoreload\n",
    "%autoreload 2"
   ]
  },
  {
   "cell_type": "code",
   "execution_count": 12,
   "metadata": {},
   "outputs": [],
   "source": [
    "import sys\n",
    "sys.path.append('./src')\n",
    "\n",
    "from spark import SparkSessionFactory, read_csv, column_values, train_test_split, PageSet, get_columns, get_rows\n",
    "\n",
    "from data import MovieLensDataSource\n",
    "\n",
    "import pyspark.sql.types as t\n",
    "import pyspark.sql as s\n",
    "import pyspark.sql.functions as f"
   ]
  },
  {
   "cell_type": "markdown",
   "metadata": {},
   "source": [
    "# Recommedations dataset building"
   ]
  },
  {
   "cell_type": "markdown",
   "metadata": {},
   "source": [
    "This is the fisrt step of the process to train a model that predict an user rating to a given movie. Before all, we needs to build a table of features from a raw dataset. This table must be contain next columns:\n",
    "\n",
    "**feature table columns**:\n",
    "* **user_id**: This is a categorical column because this has discrete values one of for each user in raw dataset.\n",
    "* **movie_id**: Like user_id column, this has discrete values one for each movie in raw dataset. \n",
    "* **one column for each movie genre**\n",
    "  For example: accion_genre, drama_gender, etc... are possible columns. Each one takes a discrete value 1 or 0.\n",
    "* **rating**: Score that a user(user_id) gives to a movie(movie_id).\n",
    "\n",
    "Finally, we have a table with discreate value columns, they are also called categorical columns, because this columns only take one value from a finite list of possible values. An example of this table must be:\n",
    "\n",
    "| user_id | movie_id | accion_gender | drama_gender | rating |\n",
    "| --- | --- | --- | --- | --- |\n",
    "| 1 |  1 | 1 | 0 | 5 |\n",
    "| 1 |  2 | 0 | 1 | 1 |\n",
    "| 1 |  3 | 1 | 1 | 3 |\n",
    "\n",
    "* User 1 rated the movie 1 with a score of 5 points, because he loves accion movies.\n",
    "* User 1 rated the movie 2 with a score of 1 points, because he is not interested to drama movies.\n",
    "* User 1 rated the movie 3 with a score of 2 points, given that he loves accion but is not interested to drama."
   ]
  },
  {
   "cell_type": "markdown",
   "metadata": {},
   "source": [
    "## Building out features table"
   ]
  },
  {
   "cell_type": "markdown",
   "metadata": {},
   "source": [
    "**Step 1**: Let's start create a new spark session."
   ]
  },
  {
   "cell_type": "code",
   "execution_count": 19,
   "metadata": {},
   "outputs": [
    {
     "data": {
      "text/html": [
       "\n",
       "            <div>\n",
       "                <p><b>SparkSession - in-memory</b></p>\n",
       "                \n",
       "        <div>\n",
       "            <p><b>SparkContext</b></p>\n",
       "\n",
       "            <p><a href=\"http://localhost:4040\">Spark UI</a></p>\n",
       "\n",
       "            <dl>\n",
       "              <dt>Version</dt>\n",
       "                <dd><code>v3.0.0</code></dd>\n",
       "              <dt>Master</dt>\n",
       "                <dd><code>local[*]</code></dd>\n",
       "              <dt>AppName</dt>\n",
       "                <dd><code>pyspark-shell</code></dd>\n",
       "            </dl>\n",
       "        </div>\n",
       "        \n",
       "            </div>\n",
       "        "
      ],
      "text/plain": [
       "<pyspark.sql.session.SparkSession at 0x7f1a54e61b20>"
      ]
     },
     "execution_count": 19,
     "metadata": {},
     "output_type": "execute_result"
    }
   ],
   "source": [
    "session = SparkSessionFactory.create()\n",
    "session"
   ]
  },
  {
   "cell_type": "markdown",
   "metadata": {},
   "source": [
    "**Step 2**: Select a raw dataset size. For this recommendation examples we have 3 raw datasets each with distinct number of examples. Sometimes we need to begins with a tiny dataset to try to create a model that overfit to these data. This tell us that the model understand input patterns although this does not generalize yet but the model understand input patterns. The next step is maybe use more data and try to find the best hiperparameters so that the model generalize as well as possible."
   ]
  },
  {
   "cell_type": "code",
   "execution_count": 22,
   "metadata": {},
   "outputs": [
    {
     "name": "stdout",
     "output_type": "stream",
     "text": [
      "Dataset sizes: ['ml-latest-small', 'ml-25m', 'ml-latest']\n"
     ]
    }
   ],
   "source": [
    "print('Dataset sizes:', MovieLensDataSource.sizes())"
   ]
  },
  {
   "cell_type": "code",
   "execution_count": 23,
   "metadata": {},
   "outputs": [],
   "source": [
    "# dataset_size = 'ml-latest' # 250MB\n",
    "# dataset_size = 'ml-25m' # 25MB\n",
    "dataset_size = 'ml-latest-small' # 1MB"
   ]
  },
  {
   "cell_type": "markdown",
   "metadata": {},
   "source": [
    "### Download dataset"
   ]
  },
  {
   "cell_type": "markdown",
   "metadata": {},
   "source": [
    "**Step 3**: Fisrt let's check dataset files."
   ]
  },
  {
   "cell_type": "markdown",
   "metadata": {},
   "source": [
    "Check: [Movie lens datasets](https://grouplens.org/datasets/movielens/)"
   ]
  },
  {
   "cell_type": "code",
   "execution_count": 24,
   "metadata": {},
   "outputs": [],
   "source": [
    "ds = MovieLensDataSource(size = dataset_size)"
   ]
  },
  {
   "cell_type": "code",
   "execution_count": 25,
   "metadata": {},
   "outputs": [
    {
     "data": {
      "text/plain": [
       "['/home/adrian/.keras/datasets/ml-latest-small/ratings.csv',\n",
       " '/home/adrian/.keras/datasets/ml-latest-small/links.csv',\n",
       " '/home/adrian/.keras/datasets/ml-latest-small/movies.csv',\n",
       " '/home/adrian/.keras/datasets/ml-latest-small/tags.csv']"
      ]
     },
     "execution_count": 25,
     "metadata": {},
     "output_type": "execute_result"
    }
   ],
   "source": [
    "ds.file_paths()"
   ]
  },
  {
   "cell_type": "markdown",
   "metadata": {},
   "source": [
    "**Step 4**: Load ratings and movies files to a dataset for each one. "
   ]
  },
  {
   "cell_type": "code",
   "execution_count": 28,
   "metadata": {},
   "outputs": [],
   "source": [
    "ratings = read_csv(session, ds.file_paths()[0])\n",
    "movies = read_csv(session, ds.file_paths()[3])"
   ]
  },
  {
   "cell_type": "markdown",
   "metadata": {},
   "source": [
    "**Step 5**: Let's see ratins and movies schemas."
   ]
  },
  {
   "cell_type": "code",
   "execution_count": 30,
   "metadata": {},
   "outputs": [
    {
     "name": "stdout",
     "output_type": "stream",
     "text": [
      "+------+-------+------+---------+\n",
      "|userId|movieId|rating|timestamp|\n",
      "+------+-------+------+---------+\n",
      "|1     |1      |4.0   |964982703|\n",
      "|1     |3      |4.0   |964981247|\n",
      "|1     |6      |4.0   |964982224|\n",
      "|1     |47     |5.0   |964983815|\n",
      "|1     |50     |5.0   |964982931|\n",
      "+------+-------+------+---------+\n",
      "only showing top 5 rows\n",
      "\n",
      "root\n",
      " |-- userId: integer (nullable = true)\n",
      " |-- movieId: integer (nullable = true)\n",
      " |-- rating: double (nullable = true)\n",
      " |-- timestamp: integer (nullable = true)\n",
      "\n"
     ]
    }
   ],
   "source": [
    "ratings.show(5, truncate=False)\n",
    "ratings.printSchema()"
   ]
  },
  {
   "cell_type": "code",
   "execution_count": 31,
   "metadata": {},
   "outputs": [
    {
     "name": "stdout",
     "output_type": "stream",
     "text": [
      "+------+-------+---------------+----------+\n",
      "|userId|movieId|tag            |timestamp |\n",
      "+------+-------+---------------+----------+\n",
      "|2     |60756  |funny          |1445714994|\n",
      "|2     |60756  |Highly quotable|1445714996|\n",
      "|2     |60756  |will ferrell   |1445714992|\n",
      "|2     |89774  |Boxing story   |1445715207|\n",
      "|2     |89774  |MMA            |1445715200|\n",
      "+------+-------+---------------+----------+\n",
      "only showing top 5 rows\n",
      "\n",
      "root\n",
      " |-- userId: integer (nullable = true)\n",
      " |-- movieId: integer (nullable = true)\n",
      " |-- tag: string (nullable = true)\n",
      " |-- timestamp: integer (nullable = true)\n",
      "\n"
     ]
    }
   ],
   "source": [
    "movies.show(5, truncate=False)\n",
    "movies.printSchema()"
   ]
  },
  {
   "cell_type": "markdown",
   "metadata": {},
   "source": [
    "**Step 6**: Left join bothn tables by movieId  adn select rating score, userId, movieId and genres columns."
   ]
  },
  {
   "cell_type": "code",
   "execution_count": 12,
   "metadata": {},
   "outputs": [
    {
     "name": "stdout",
     "output_type": "stream",
     "text": [
      "+------+-------+--------+---------------------------+\n",
      "|rating|user_id|movie_id|genres                     |\n",
      "+------+-------+--------+---------------------------+\n",
      "|5.0   |1      |296     |Comedy|Crime|Drama|Thriller|\n",
      "|3.5   |1      |306     |Drama                      |\n",
      "|5.0   |1      |307     |Drama                      |\n",
      "|5.0   |1      |665     |Comedy|Drama|War           |\n",
      "|3.5   |1      |899     |Comedy|Musical|Romance     |\n",
      "+------+-------+--------+---------------------------+\n",
      "only showing top 5 rows\n",
      "\n"
     ]
    }
   ],
   "source": [
    "ratings = ratings \\\n",
    "    .join(movies, on='movieId', how=\"left\") \\\n",
    "    .select(\n",
    "        f.col('rating'),    \n",
    "        f.col('userId').alias('user_id'), \n",
    "        f.col('movieId').alias('movie_id'), \n",
    "        f.col('genres')\n",
    "    )\n",
    "\n",
    "ratings.show(5, truncate=False)"
   ]
  },
  {
   "cell_type": "code",
   "execution_count": 13,
   "metadata": {},
   "outputs": [
    {
     "name": "stdout",
     "output_type": "stream",
     "text": [
      "+------------------------------+-----+\n",
      "|genres                        |count|\n",
      "+------------------------------+-----+\n",
      "|Action|Adventure|Drama|Fantasy|55169|\n",
      "|Adventure|Sci-Fi|Thriller     |8817 |\n",
      "|Comedy|Horror|Thriller        |28816|\n",
      "|Action|Drama|Horror           |3746 |\n",
      "|Comedy|Drama|Horror|Thriller  |85   |\n",
      "+------------------------------+-----+\n",
      "only showing top 5 rows\n",
      "\n"
     ]
    }
   ],
   "source": [
    "genres_count = ratings \\\n",
    "    .groupBy(\"genres\") \\\n",
    "    .count()\n",
    "\n",
    "genres_count.show(5, truncate=False)"
   ]
  },
  {
   "cell_type": "code",
   "execution_count": 14,
   "metadata": {},
   "outputs": [],
   "source": [
    "def normalize(value): return value.lower().replace('-','_')"
   ]
  },
  {
   "cell_type": "code",
   "execution_count": 15,
   "metadata": {},
   "outputs": [
    {
     "data": {
      "text/plain": [
       "[('Fantasy', 'gen_fantasy'),\n",
       " ('Adventure', 'gen_adventure'),\n",
       " ('(no genres listed)', 'gen_none'),\n",
       " ('Comedy', 'gen_comedy'),\n",
       " ('Film-Noir', 'gen_film_noir'),\n",
       " ('Musical', 'gen_musical'),\n",
       " ('Thriller', 'gen_thriller'),\n",
       " ('Romance', 'gen_romance'),\n",
       " ('Western', 'gen_western'),\n",
       " ('Mystery', 'gen_mystery'),\n",
       " ('Sci-Fi', 'gen_sci_fi'),\n",
       " ('Action', 'gen_action'),\n",
       " ('Documentary', 'gen_documentary'),\n",
       " ('IMAX', 'gen_imax'),\n",
       " ('Drama', 'gen_drama'),\n",
       " ('Animation', 'gen_animation'),\n",
       " ('Horror', 'gen_horror'),\n",
       " ('Crime', 'gen_crime'),\n",
       " ('War', 'gen_war'),\n",
       " ('Children', 'gen_children')]"
      ]
     },
     "execution_count": 15,
     "metadata": {},
     "output_type": "execute_result"
    }
   ],
   "source": [
    "genres_columns = genres_count \\\n",
    "        .select('genres') \\\n",
    "        .rdd \\\n",
    "        .flatMap(lambda it: it[0].split('|')) \\\n",
    "        .distinct() \\\n",
    "        .map(lambda it: (it, 'gen_none' if '(' in it else f'gen_{normalize(it)}')) \\\n",
    "        .collect()\n",
    "\n",
    "genres_columns"
   ]
  },
  {
   "cell_type": "code",
   "execution_count": 16,
   "metadata": {},
   "outputs": [
    {
     "name": "stdout",
     "output_type": "stream",
     "text": [
      "+------+-------+--------+-----------+-------------+--------+----------+-------------+-----------+------------+-----------+-----------+-----------+----------+----------+---------------+--------+---------+-------------+----------+---------+-------+------------+\n",
      "|rating|user_id|movie_id|gen_fantasy|gen_adventure|gen_none|gen_comedy|gen_film_noir|gen_musical|gen_thriller|gen_romance|gen_western|gen_mystery|gen_sci_fi|gen_action|gen_documentary|gen_imax|gen_drama|gen_animation|gen_horror|gen_crime|gen_war|gen_children|\n",
      "+------+-------+--------+-----------+-------------+--------+----------+-------------+-----------+------------+-----------+-----------+-----------+----------+----------+---------------+--------+---------+-------------+----------+---------+-------+------------+\n",
      "|5.0   |1      |296     |0          |0            |0       |1         |0            |0          |1           |0          |0          |0          |0         |0         |0              |0       |1        |0            |0         |1        |0      |0           |\n",
      "|3.5   |1      |306     |0          |0            |0       |0         |0            |0          |0           |0          |0          |0          |0         |0         |0              |0       |1        |0            |0         |0        |0      |0           |\n",
      "|5.0   |1      |307     |0          |0            |0       |0         |0            |0          |0           |0          |0          |0          |0         |0         |0              |0       |1        |0            |0         |0        |0      |0           |\n",
      "|5.0   |1      |665     |0          |0            |0       |1         |0            |0          |0           |0          |0          |0          |0         |0         |0              |0       |1        |0            |0         |0        |1      |0           |\n",
      "|3.5   |1      |899     |0          |0            |0       |1         |0            |1          |0           |1          |0          |0          |0         |0         |0              |0       |0        |0            |0         |0        |0      |0           |\n",
      "+------+-------+--------+-----------+-------------+--------+----------+-------------+-----------+------------+-----------+-----------+-----------+----------+----------+---------------+--------+---------+-------------+----------+---------+-------+------------+\n",
      "only showing top 5 rows\n",
      "\n"
     ]
    }
   ],
   "source": [
    "for (genre, col_name) in genres_columns:\n",
    "    ratings = ratings.withColumn(col_name, ratings.genres.contains(genre).cast('integer'))\n",
    "\n",
    "ratings = ratings.drop('genres')\n",
    "    \n",
    "ratings.show(5, truncate=False)"
   ]
  },
  {
   "cell_type": "code",
   "execution_count": 17,
   "metadata": {},
   "outputs": [],
   "source": [
    "from sklearn.preprocessing import LabelEncoder\n",
    "\n",
    "class Sequencer:\n",
    "    def __init__(self):\n",
    "        self.sequence = -1\n",
    "        self.mapping = {}\n",
    "\n",
    "    def __call__(self, value):\n",
    "        if value in self.mapping:\n",
    "            return self.mapping[value]\n",
    "\n",
    "        self.sequence += 1\n",
    "        self.mapping[value] = self.sequence\n",
    "        return self.sequence\n",
    "\n",
    "seq = f.udf(Sequencer(), t.IntegerType())"
   ]
  },
  {
   "cell_type": "code",
   "execution_count": 18,
   "metadata": {},
   "outputs": [
    {
     "name": "stdout",
     "output_type": "stream",
     "text": [
      "+------+-------+--------+-----------+-------------+--------+----------+-------------+-----------+------------+-----------+-----------+-----------+----------+----------+---------------+--------+---------+-------------+----------+---------+-------+------------+--------+---------+\n",
      "|rating|user_id|movie_id|gen_fantasy|gen_adventure|gen_none|gen_comedy|gen_film_noir|gen_musical|gen_thriller|gen_romance|gen_western|gen_mystery|gen_sci_fi|gen_action|gen_documentary|gen_imax|gen_drama|gen_animation|gen_horror|gen_crime|gen_war|gen_children|user_seq|movie_seq|\n",
      "+------+-------+--------+-----------+-------------+--------+----------+-------------+-----------+------------+-----------+-----------+-----------+----------+----------+---------------+--------+---------+-------------+----------+---------+-------+------------+--------+---------+\n",
      "|5.0   |1      |296     |0          |0            |0       |1         |0            |0          |1           |0          |0          |0          |0         |0         |0              |0       |1        |0            |0         |1        |0      |0           |0       |0        |\n",
      "|3.5   |1      |306     |0          |0            |0       |0         |0            |0          |0           |0          |0          |0          |0         |0         |0              |0       |1        |0            |0         |0        |0      |0           |0       |1        |\n",
      "|5.0   |1      |307     |0          |0            |0       |0         |0            |0          |0           |0          |0          |0          |0         |0         |0              |0       |1        |0            |0         |0        |0      |0           |0       |2        |\n",
      "|5.0   |1      |665     |0          |0            |0       |1         |0            |0          |0           |0          |0          |0          |0         |0         |0              |0       |1        |0            |0         |0        |1      |0           |0       |3        |\n",
      "|3.5   |1      |899     |0          |0            |0       |1         |0            |1          |0           |1          |0          |0          |0         |0         |0              |0       |0        |0            |0         |0        |0      |0           |0       |4        |\n",
      "+------+-------+--------+-----------+-------------+--------+----------+-------------+-----------+------------+-----------+-----------+-----------+----------+----------+---------------+--------+---------+-------------+----------+---------+-------+------------+--------+---------+\n",
      "only showing top 5 rows\n",
      "\n"
     ]
    }
   ],
   "source": [
    "ratings = ratings \\\n",
    "    .withColumn('user_seq', seq(f.col('user_id'))) \\\n",
    "    .withColumn('movie_seq', seq(f.col('movie_id')))\n",
    "\n",
    "ratings.show(5, truncate=False)"
   ]
  },
  {
   "cell_type": "code",
   "execution_count": 19,
   "metadata": {},
   "outputs": [],
   "source": [
    "write_csv(ratings, './dataset')"
   ]
  },
  {
   "cell_type": "code",
   "execution_count": 21,
   "metadata": {},
   "outputs": [],
   "source": [
    "session.stop()"
   ]
  },
  {
   "cell_type": "code",
   "execution_count": null,
   "metadata": {},
   "outputs": [],
   "source": []
  }
 ],
 "metadata": {
  "kernelspec": {
   "display_name": "Python 3",
   "language": "python",
   "name": "python3"
  },
  "language_info": {
   "codemirror_mode": {
    "name": "ipython",
    "version": 3
   },
   "file_extension": ".py",
   "mimetype": "text/x-python",
   "name": "python",
   "nbconvert_exporter": "python",
   "pygments_lexer": "ipython3",
   "version": "3.8.5"
  },
  "widgets": {
   "application/vnd.jupyter.widget-state+json": {
    "state": {},
    "version_major": 2,
    "version_minor": 0
   }
  }
 },
 "nbformat": 4,
 "nbformat_minor": 4
}
