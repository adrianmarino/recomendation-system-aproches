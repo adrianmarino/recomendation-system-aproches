{
 "cells": [
  {
   "cell_type": "code",
   "execution_count": 29,
   "metadata": {},
   "outputs": [
    {
     "name": "stdout",
     "output_type": "stream",
     "text": [
      "The autoreload extension is already loaded. To reload it, use:\n",
      "  %reload_ext autoreload\n"
     ]
    }
   ],
   "source": [
    "%matplotlib inline\n",
    "%load_ext autoreload\n",
    "%autoreload 2"
   ]
  },
  {
   "cell_type": "code",
   "execution_count": 30,
   "metadata": {},
   "outputs": [],
   "source": [
    "import sys\n",
    "sys.path.append('./src')\n",
    "\n",
    "import numpy as np\n",
    "import pandas as pd\n",
    "\n",
    "from sklearn.decomposition import PCA\n",
    "from util import PCAPlotter \n",
    "from data import Dataset, MovieLensDataSource\n",
    "\n",
    "import findspark\n",
    "import pyspark\n",
    "import random\n",
    "\n",
    "import pyspark.sql.types as t\n",
    "import pyspark.sql as s\n",
    "import pyspark.sql.functions as f\n",
    "from pyspark.sql import SparkSession\n",
    "\n",
    "from datetime import date, timedelta, datetime\n",
    "import time"
   ]
  },
  {
   "cell_type": "code",
   "execution_count": 31,
   "metadata": {},
   "outputs": [],
   "source": [
    "findspark.init()"
   ]
  },
  {
   "cell_type": "code",
   "execution_count": 32,
   "metadata": {},
   "outputs": [
    {
     "data": {
      "text/html": [
       "\n",
       "            <div>\n",
       "                <p><b>SparkSession - in-memory</b></p>\n",
       "                \n",
       "        <div>\n",
       "            <p><b>SparkContext</b></p>\n",
       "\n",
       "            <p><a href=\"http://localhost:4040\">Spark UI</a></p>\n",
       "\n",
       "            <dl>\n",
       "              <dt>Version</dt>\n",
       "                <dd><code>v3.0.0</code></dd>\n",
       "              <dt>Master</dt>\n",
       "                <dd><code>local</code></dd>\n",
       "              <dt>AppName</dt>\n",
       "                <dd><code>pyspark-shell</code></dd>\n",
       "            </dl>\n",
       "        </div>\n",
       "        \n",
       "            </div>\n",
       "        "
      ],
      "text/plain": [
       "<pyspark.sql.session.SparkSession at 0x7fe083a6c850>"
      ]
     },
     "execution_count": 32,
     "metadata": {},
     "output_type": "execute_result"
    }
   ],
   "source": [
    "session = SparkSession.builder \\\n",
    "    .master(\"local\") \\\n",
    "    .config(\"spark.driver.extraClassPath\", '/opt/apache-spark/jars/rapids-4-spark_2.12-0.2.0.jar;/opt/apache-spark/jars/cudf-0.15-cuda11.jar') \\\n",
    "    .config('spark.rapids.sql.incompatibleOps.enabled', 'true') \\\n",
    "    .config('spark.rapids.sql.enabled','true') \\\n",
    "    .config('spark.rapids.sql.explain', 'ALL') \\\n",
    "    .config('spark.executor.resource.gpu.amount', '1') \\\n",
    "    .config('spark.rapids.sql.batchSizeBytes', '4G') \\\n",
    "    .config('spark.rapids.sql.reader.batchSizeBytes', '4G') \\\n",
    "    .config(\"spark.driver.maxResultSize\", \"16G\") \\\n",
    "    .config(\"spark.executor.memory\", \"16G\") \\\n",
    "    .config('spark.driver.memory', '16G') \\\n",
    "    .getOrCreate()\n",
    "\n",
    "session"
   ]
  },
  {
   "cell_type": "markdown",
   "metadata": {},
   "source": [
    "http://localhost:4040"
   ]
  },
  {
   "cell_type": "code",
   "execution_count": 33,
   "metadata": {},
   "outputs": [],
   "source": [
    "dataset_size = 'ml-latest' # 250MB\n",
    "# dataset_size = 'ml-25m' # 25MB\n",
    "# dataset_size = 'ml-latest-small' # 1MB"
   ]
  },
  {
   "cell_type": "markdown",
   "metadata": {},
   "source": [
    "### Download dataset"
   ]
  },
  {
   "cell_type": "markdown",
   "metadata": {},
   "source": [
    "Create a data source to download and read dataset files:"
   ]
  },
  {
   "cell_type": "code",
   "execution_count": 34,
   "metadata": {},
   "outputs": [
    {
     "name": "stdout",
     "output_type": "stream",
     "text": [
      "Dataset sizes: ['ml-latest-small', 'ml-25m', 'ml-latest']\n"
     ]
    }
   ],
   "source": [
    "print('Dataset sizes:', MovieLensDataSource.sizes())"
   ]
  },
  {
   "cell_type": "markdown",
   "metadata": {},
   "source": [
    "Check: [Movie lens datasets](https://grouplens.org/datasets/movielens/)"
   ]
  },
  {
   "cell_type": "code",
   "execution_count": 35,
   "metadata": {},
   "outputs": [],
   "source": [
    "ds = MovieLensDataSource(size = dataset_size)"
   ]
  },
  {
   "cell_type": "code",
   "execution_count": 36,
   "metadata": {},
   "outputs": [
    {
     "data": {
      "text/plain": [
       "['/home/adrian/.keras/datasets/ml-latest/ratings.csv',\n",
       " '/home/adrian/.keras/datasets/ml-latest/genome-scores.csv',\n",
       " '/home/adrian/.keras/datasets/ml-latest/links.csv',\n",
       " '/home/adrian/.keras/datasets/ml-latest/movies.csv',\n",
       " '/home/adrian/.keras/datasets/ml-latest/genome-tags.csv',\n",
       " '/home/adrian/.keras/datasets/ml-latest/tags.csv']"
      ]
     },
     "execution_count": 36,
     "metadata": {},
     "output_type": "execute_result"
    }
   ],
   "source": [
    "ds.file_paths()"
   ]
  },
  {
   "cell_type": "code",
   "execution_count": 37,
   "metadata": {},
   "outputs": [
    {
     "name": "stdout",
     "output_type": "stream",
     "text": [
      "+------+-------+------+----------+\n",
      "|userId|movieId|rating|timestamp |\n",
      "+------+-------+------+----------+\n",
      "|1     |307    |3.5   |1256677221|\n",
      "|1     |481    |3.5   |1256677456|\n",
      "|1     |1091   |1.5   |1256677471|\n",
      "|1     |1257   |4.5   |1256677460|\n",
      "|1     |1449   |4.5   |1256677264|\n",
      "+------+-------+------+----------+\n",
      "only showing top 5 rows\n",
      "\n",
      "+-------+----------------------------------+-------------------------------------------+\n",
      "|movieId|title                             |genres                                     |\n",
      "+-------+----------------------------------+-------------------------------------------+\n",
      "|1      |Toy Story (1995)                  |Adventure|Animation|Children|Comedy|Fantasy|\n",
      "|2      |Jumanji (1995)                    |Adventure|Children|Fantasy                 |\n",
      "|3      |Grumpier Old Men (1995)           |Comedy|Romance                             |\n",
      "|4      |Waiting to Exhale (1995)          |Comedy|Drama|Romance                       |\n",
      "|5      |Father of the Bride Part II (1995)|Comedy                                     |\n",
      "+-------+----------------------------------+-------------------------------------------+\n",
      "only showing top 5 rows\n",
      "\n"
     ]
    }
   ],
   "source": [
    "ratings = session.read.csv(ds.file_paths()[0], inferSchema=True, header=True, mode=\"DROPMALFORMED\").cache()\n",
    "movies = session.read.csv(ds.file_paths()[3], inferSchema=True, header=True, mode=\"DROPMALFORMED\").cache()\n",
    "\n",
    "ratings.show(5, False)\n",
    "movies.show(5, False)"
   ]
  },
  {
   "cell_type": "code",
   "execution_count": 38,
   "metadata": {},
   "outputs": [
    {
     "name": "stdout",
     "output_type": "stream",
     "text": [
      "+------+-------+--------+--------------+\n",
      "|rating|user_id|movie_id|genres        |\n",
      "+------+-------+--------+--------------+\n",
      "|3.5   |1      |307     |Drama         |\n",
      "|3.5   |1      |481     |Drama|Thriller|\n",
      "|1.5   |1      |1091    |Comedy        |\n",
      "|4.5   |1      |1257    |Comedy|Romance|\n",
      "|4.5   |1      |1449    |Comedy        |\n",
      "+------+-------+--------+--------------+\n",
      "only showing top 5 rows\n",
      "\n"
     ]
    }
   ],
   "source": [
    "ratings = ratings \\\n",
    "    .join(movies, on='movieId', how=\"left\") \\\n",
    "    .select(\n",
    "        f.col('rating'),    \n",
    "        f.col('userId').alias('user_id'), \n",
    "        f.col('movieId').alias('movie_id'), \n",
    "        f.col('genres')\n",
    "    )\n",
    "\n",
    "ratings.show(5, False)"
   ]
  },
  {
   "cell_type": "code",
   "execution_count": 39,
   "metadata": {},
   "outputs": [
    {
     "name": "stdout",
     "output_type": "stream",
     "text": [
      "+------------------------------+-----+\n",
      "|genres                        |count|\n",
      "+------------------------------+-----+\n",
      "|Comedy|Horror|Thriller        |33187|\n",
      "|Adventure|Sci-Fi|Thriller     |8778 |\n",
      "|Action|Adventure|Drama|Fantasy|61724|\n",
      "|Action|Drama|Horror           |4022 |\n",
      "|Action|Animation|Comedy|Sci-Fi|1133 |\n",
      "+------------------------------+-----+\n",
      "only showing top 5 rows\n",
      "\n"
     ]
    }
   ],
   "source": [
    "genres_count = ratings.groupBy(\"genres\").count()\n",
    "genres_count.show(5, truncate=False)"
   ]
  },
  {
   "cell_type": "code",
   "execution_count": 40,
   "metadata": {},
   "outputs": [],
   "source": [
    "def normalize(value): return value.lower().replace('-','_')"
   ]
  },
  {
   "cell_type": "code",
   "execution_count": 41,
   "metadata": {},
   "outputs": [
    {
     "data": {
      "text/plain": [
       "['gen_fantasy',\n",
       " 'gen_adventure',\n",
       " 'gen_none',\n",
       " 'gen_comedy',\n",
       " 'gen_film_noir',\n",
       " 'gen_musical',\n",
       " 'gen_thriller',\n",
       " 'gen_romance',\n",
       " 'gen_western',\n",
       " 'gen_mystery',\n",
       " 'gen_sci_fi',\n",
       " 'gen_action',\n",
       " 'gen_documentary',\n",
       " 'gen_imax',\n",
       " 'gen_drama',\n",
       " 'gen_animation',\n",
       " 'gen_horror',\n",
       " 'gen_crime',\n",
       " 'gen_war',\n",
       " 'gen_children']"
      ]
     },
     "execution_count": 41,
     "metadata": {},
     "output_type": "execute_result"
    }
   ],
   "source": [
    "genres = genres_count \\\n",
    "        .select('genres') \\\n",
    "        .rdd \\\n",
    "        .flatMap(lambda x: x[0].split('|')) \\\n",
    "        .distinct() \\\n",
    "        .collect()\n",
    "\n",
    "genres_columns = ['gen_none' if '(' in genre else f'gen_{normalize(genre)}' for genre in genres ]\n",
    "genres_columns"
   ]
  },
  {
   "cell_type": "code",
   "execution_count": 42,
   "metadata": {},
   "outputs": [
    {
     "name": "stdout",
     "output_type": "stream",
     "text": [
      "+------+-------+--------+-----------+-------------+--------+----------+-------------+-----------+------------+-----------+-----------+-----------+----------+----------+---------------+--------+---------+-------------+----------+---------+-------+------------+\n",
      "|rating|user_id|movie_id|gen_fantasy|gen_adventure|gen_none|gen_comedy|gen_film_noir|gen_musical|gen_thriller|gen_romance|gen_western|gen_mystery|gen_sci_fi|gen_action|gen_documentary|gen_imax|gen_drama|gen_animation|gen_horror|gen_crime|gen_war|gen_children|\n",
      "+------+-------+--------+-----------+-------------+--------+----------+-------------+-----------+------------+-----------+-----------+-----------+----------+----------+---------------+--------+---------+-------------+----------+---------+-------+------------+\n",
      "|3.5   |1      |307     |0          |0            |0       |0         |0            |0          |0           |0          |0          |0          |0         |0         |0              |0       |1        |0            |0         |0        |0      |0           |\n",
      "|3.5   |1      |481     |0          |0            |0       |0         |0            |0          |1           |0          |0          |0          |0         |0         |0              |0       |1        |0            |0         |0        |0      |0           |\n",
      "|1.5   |1      |1091    |0          |0            |0       |1         |0            |0          |0           |0          |0          |0          |0         |0         |0              |0       |0        |0            |0         |0        |0      |0           |\n",
      "|4.5   |1      |1257    |0          |0            |0       |1         |0            |0          |0           |1          |0          |0          |0         |0         |0              |0       |0        |0            |0         |0        |0      |0           |\n",
      "|4.5   |1      |1449    |0          |0            |0       |1         |0            |0          |0           |0          |0          |0          |0         |0         |0              |0       |0        |0            |0         |0        |0      |0           |\n",
      "+------+-------+--------+-----------+-------------+--------+----------+-------------+-----------+------------+-----------+-----------+-----------+----------+----------+---------------+--------+---------+-------------+----------+---------+-------+------------+\n",
      "only showing top 5 rows\n",
      "\n"
     ]
    }
   ],
   "source": [
    "for col_name, genre in zip(genres_columns, genres):\n",
    "    ratings = ratings.withColumn(col_name, ratings.genres.contains(genre).cast('integer'))\n",
    "\n",
    "ratings = ratings.drop('genres')\n",
    "    \n",
    "ratings.show(5, truncate=False)"
   ]
  },
  {
   "cell_type": "code",
   "execution_count": 43,
   "metadata": {},
   "outputs": [],
   "source": [
    "from sklearn.preprocessing import LabelEncoder\n",
    "\n",
    "class Sequencer:\n",
    "    def __init__(self):\n",
    "        self.sequence = -1\n",
    "        self.mapping = {}\n",
    "\n",
    "    def __call__(self, value):\n",
    "        if value in self.mapping:\n",
    "            return self.mapping[value]\n",
    "\n",
    "        self.sequence += 1\n",
    "        self.mapping[value] = self.sequence\n",
    "        return self.sequence\n",
    "\n",
    "def seq(): return f.udf(Sequencer(), t.IntegerType())"
   ]
  },
  {
   "cell_type": "code",
   "execution_count": 44,
   "metadata": {},
   "outputs": [
    {
     "name": "stdout",
     "output_type": "stream",
     "text": [
      "+------+-------+--------+-----------+-------------+--------+----------+-------------+-----------+------------+-----------+-----------+-----------+----------+----------+---------------+--------+---------+-------------+----------+---------+-------+------------+--------+---------+\n",
      "|rating|user_id|movie_id|gen_fantasy|gen_adventure|gen_none|gen_comedy|gen_film_noir|gen_musical|gen_thriller|gen_romance|gen_western|gen_mystery|gen_sci_fi|gen_action|gen_documentary|gen_imax|gen_drama|gen_animation|gen_horror|gen_crime|gen_war|gen_children|user_seq|movie_seq|\n",
      "+------+-------+--------+-----------+-------------+--------+----------+-------------+-----------+------------+-----------+-----------+-----------+----------+----------+---------------+--------+---------+-------------+----------+---------+-------+------------+--------+---------+\n",
      "|   3.5|      1|     307|          0|            0|       0|         0|            0|          0|           0|          0|          0|          0|         0|         0|              0|       0|        1|            0|         0|        0|      0|           0|       0|        0|\n",
      "|   3.5|      1|     481|          0|            0|       0|         0|            0|          0|           1|          0|          0|          0|         0|         0|              0|       0|        1|            0|         0|        0|      0|           0|       0|        1|\n",
      "|   1.5|      1|    1091|          0|            0|       0|         1|            0|          0|           0|          0|          0|          0|         0|         0|              0|       0|        0|            0|         0|        0|      0|           0|       0|        2|\n",
      "|   4.5|      1|    1257|          0|            0|       0|         1|            0|          0|           0|          1|          0|          0|         0|         0|              0|       0|        0|            0|         0|        0|      0|           0|       0|        3|\n",
      "|   4.5|      1|    1449|          0|            0|       0|         1|            0|          0|           0|          0|          0|          0|         0|         0|              0|       0|        0|            0|         0|        0|      0|           0|       0|        4|\n",
      "+------+-------+--------+-----------+-------------+--------+----------+-------------+-----------+------------+-----------+-----------+-----------+----------+----------+---------------+--------+---------+-------------+----------+---------+-------+------------+--------+---------+\n",
      "only showing top 5 rows\n",
      "\n"
     ]
    }
   ],
   "source": [
    "ratings = ratings \\\n",
    "    .withColumn('user_seq', seq()(f.col('user_id'))) \\\n",
    "    .withColumn('movie_seq', seq()(f.col('movie_id')))\n",
    "\n",
    "ratings.show(5)"
   ]
  },
  {
   "cell_type": "code",
   "execution_count": 45,
   "metadata": {},
   "outputs": [],
   "source": [
    "ratings.write.format('csv').option('header',True).mode('overwrite').option('sep',',').save('dataset')"
   ]
  },
  {
   "cell_type": "code",
   "execution_count": 46,
   "metadata": {},
   "outputs": [],
   "source": [
    "session.stop()"
   ]
  }
 ],
 "metadata": {
  "kernelspec": {
   "display_name": "Python 3",
   "language": "python",
   "name": "python3"
  },
  "language_info": {
   "codemirror_mode": {
    "name": "ipython",
    "version": 3
   },
   "file_extension": ".py",
   "mimetype": "text/x-python",
   "name": "python",
   "nbconvert_exporter": "python",
   "pygments_lexer": "ipython3",
   "version": "3.7.9"
  },
  "widgets": {
   "application/vnd.jupyter.widget-state+json": {
    "state": {},
    "version_major": 2,
    "version_minor": 0
   }
  }
 },
 "nbformat": 4,
 "nbformat_minor": 4
}
