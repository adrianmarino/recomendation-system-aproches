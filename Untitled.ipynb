{
 "cells": [
  {
   "cell_type": "code",
   "execution_count": 1,
   "metadata": {},
   "outputs": [
    {
     "name": "stdout",
     "output_type": "stream",
     "text": [
      "INFO:tensorflow:Using local port 15417\n",
      "INFO:tensorflow:Using local port 23807\n",
      "INFO:tensorflow:Using local port 15927\n",
      "INFO:tensorflow:Using local port 23426\n",
      "INFO:tensorflow:Using local port 23078\n",
      "INFO:tensorflow:Using local port 15416\n",
      "INFO:tensorflow:Using local port 16066\n",
      "INFO:tensorflow:Using local port 24918\n",
      "INFO:tensorflow:Using local port 24970\n",
      "INFO:tensorflow:Using local port 22648\n"
     ]
    }
   ],
   "source": [
    "import tensorflow as tf\n",
    "from tensorflow import keras\n",
    "import numpy as np\n",
    "\n",
    "from tensorflow.keras.optimizers import Adam\n",
    "from tensorflow.keras.losses import mean_squared_error\n",
    "from tensorflow.keras.metrics import mean_squared_error\n",
    "\n",
    "from tensorflow.keras import Model\n",
    "from tensorflow.keras.layers import Input, Embedding, Flatten, Concatenate, Dense"
   ]
  },
  {
   "cell_type": "code",
   "execution_count": 2,
   "metadata": {},
   "outputs": [
    {
     "data": {
      "text/plain": [
       "(array([[0.60977679, 0.46153405, 0.6111912 ],\n",
       "        [0.26225771, 0.19027586, 0.56642207],\n",
       "        [0.40100549, 0.94406014, 0.08538182],\n",
       "        [0.77850856, 0.19484705, 0.1521638 ],\n",
       "        [0.03250177, 0.63510972, 0.51668978],\n",
       "        [0.08863519, 0.91919203, 0.89790798],\n",
       "        [0.43654382, 0.70970286, 0.47848129],\n",
       "        [0.15322609, 0.42370461, 0.85406744],\n",
       "        [0.69370234, 0.01061888, 0.8474613 ],\n",
       "        [0.56710616, 0.31247569, 0.91227645]]),\n",
       " (10, 3))"
      ]
     },
     "execution_count": 2,
     "metadata": {},
     "output_type": "execute_result"
    }
   ],
   "source": [
    "#Three numerical variables\n",
    "num_data = np.random.random(size=(10,3))\n",
    "\n",
    "num_data, num_data.shape"
   ]
  },
  {
   "cell_type": "code",
   "execution_count": 3,
   "metadata": {},
   "outputs": [
    {
     "data": {
      "text/plain": [
       "(array([1, 2, 3, 1, 2, 1, 0, 3, 1, 0]), (10,))"
      ]
     },
     "execution_count": 3,
     "metadata": {},
     "output_type": "execute_result"
    }
   ],
   "source": [
    "# One categorical variables with 4 levels\n",
    "cat_data = np.random.randint(0, 4, 10)\n",
    "# cat_input_data = cat_data[None, :]\n",
    "cat_input_data = cat_data\n",
    "cat_input_data, cat_input_data.shape"
   ]
  },
  {
   "cell_type": "code",
   "execution_count": 4,
   "metadata": {},
   "outputs": [
    {
     "data": {
      "text/plain": [
       "(array([[0., 1., 0., 0.],\n",
       "        [0., 0., 1., 0.],\n",
       "        [0., 0., 0., 1.],\n",
       "        [0., 1., 0., 0.],\n",
       "        [0., 0., 1., 0.],\n",
       "        [0., 1., 0., 0.],\n",
       "        [1., 0., 0., 0.],\n",
       "        [0., 0., 0., 1.],\n",
       "        [0., 1., 0., 0.],\n",
       "        [1., 0., 0., 0.]]),\n",
       " (10, 4),\n",
       " 4)"
      ]
     },
     "execution_count": 4,
     "metadata": {},
     "output_type": "execute_result"
    }
   ],
   "source": [
    "# Let's create one-hot encoded matrix since expected input_1 to have shape (4,)\n",
    "one_hot_encoded_cat_data = np.eye(cat_data.max()+1)[cat_data]\n",
    "\n",
    "no_of_unique_cat  = len(np.unique(cat_data))\n",
    "\n",
    "one_hot_encoded_cat_data, one_hot_encoded_cat_data.shape, no_of_unique_cat"
   ]
  },
  {
   "cell_type": "code",
   "execution_count": 5,
   "metadata": {},
   "outputs": [],
   "source": [
    "#cat_input_data = one_hot_encoded_cat_data"
   ]
  },
  {
   "cell_type": "code",
   "execution_count": 6,
   "metadata": {},
   "outputs": [
    {
     "data": {
      "text/plain": [
       "(array([[0.72924107],\n",
       "        [0.24683843],\n",
       "        [0.72411629],\n",
       "        [0.81037478],\n",
       "        [0.46556329],\n",
       "        [0.46581736],\n",
       "        [0.86808195],\n",
       "        [0.42854147],\n",
       "        [0.24057322],\n",
       "        [0.19624745]]),\n",
       " (10, 1))"
      ]
     },
     "execution_count": 6,
     "metadata": {},
     "output_type": "execute_result"
    }
   ],
   "source": [
    "target =  np.random.random(size=(10,1))\n",
    "target, target.shape"
   ]
  },
  {
   "cell_type": "code",
   "execution_count": 7,
   "metadata": {},
   "outputs": [],
   "source": [
    "#Jeremy Howard provides the following rule of thumb; embedding size = min(50, number of categories/2).\n",
    "embedding_size = min(np.ceil((no_of_unique_cat)/2), 50 )\n",
    "embedding_size = int(embedding_size)\n",
    "\n",
    "# Use Input layers, specify input shape (dimensions except first)\n",
    "inp_cat_data = Input(shape=(1,))\n",
    "inp_num_data = Input(shape=(num_data.shape[1],))\n",
    "\n",
    "# Bind nulti_hot to embedding layer\n",
    "emb = Embedding(input_dim=no_of_unique_cat, output_dim=embedding_size)(inp_cat_data)  \n",
    "\n",
    "# Also you need flatten embedded output of shape (?,3,2) to (?, 6) -\n",
    "# otherwise it's not possible to concatenate it with inp_num_data\n",
    "flatten = Flatten()(emb)\n",
    "\n",
    "# Concatenate two layers\n",
    "conc = Concatenate()([flatten, inp_num_data])\n",
    "dense1 = Dense(3, activation=tf.nn.relu, )(conc)\n",
    "\n",
    "# Creating output layer\n",
    "out = Dense(1, activation=None)(dense1)\n",
    "\n",
    "model = Model(inputs=[inp_cat_data, inp_num_data], outputs=out)\n",
    "\n",
    "model.compile(optimizer=Adam(0.01), loss=mean_squared_error, metrics=[mean_squared_error])"
   ]
  },
  {
   "cell_type": "code",
   "execution_count": 8,
   "metadata": {},
   "outputs": [
    {
     "name": "stdout",
     "output_type": "stream",
     "text": [
      "Model: \"model\"\n",
      "__________________________________________________________________________________________________\n",
      "Layer (type)                    Output Shape         Param #     Connected to                     \n",
      "==================================================================================================\n",
      "input_1 (InputLayer)            [(None, 1)]          0                                            \n",
      "__________________________________________________________________________________________________\n",
      "embedding (Embedding)           (None, 1, 2)         8           input_1[0][0]                    \n",
      "__________________________________________________________________________________________________\n",
      "flatten (Flatten)               (None, 2)            0           embedding[0][0]                  \n",
      "__________________________________________________________________________________________________\n",
      "input_2 (InputLayer)            [(None, 3)]          0                                            \n",
      "__________________________________________________________________________________________________\n",
      "concatenate (Concatenate)       (None, 5)            0           flatten[0][0]                    \n",
      "                                                                 input_2[0][0]                    \n",
      "__________________________________________________________________________________________________\n",
      "dense (Dense)                   (None, 3)            18          concatenate[0][0]                \n",
      "__________________________________________________________________________________________________\n",
      "dense_1 (Dense)                 (None, 1)            4           dense[0][0]                      \n",
      "==================================================================================================\n",
      "Total params: 30\n",
      "Trainable params: 30\n",
      "Non-trainable params: 0\n",
      "__________________________________________________________________________________________________\n"
     ]
    }
   ],
   "source": [
    "model.summary()"
   ]
  },
  {
   "cell_type": "code",
   "execution_count": 9,
   "metadata": {},
   "outputs": [
    {
     "name": "stdout",
     "output_type": "stream",
     "text": [
      "Epoch 1/100\n",
      "1/1 [==============================] - 1s 540ms/step - loss: 0.1908 - mean_squared_error: 0.1908\n",
      "Epoch 2/100\n",
      "1/1 [==============================] - 0s 3ms/step - loss: 0.1646 - mean_squared_error: 0.1646\n",
      "Epoch 3/100\n",
      "1/1 [==============================] - 0s 3ms/step - loss: 0.1444 - mean_squared_error: 0.1444\n",
      "Epoch 4/100\n",
      "1/1 [==============================] - 0s 4ms/step - loss: 0.1278 - mean_squared_error: 0.1278\n",
      "Epoch 5/100\n",
      "1/1 [==============================] - 0s 2ms/step - loss: 0.1137 - mean_squared_error: 0.1137\n",
      "Epoch 6/100\n",
      "1/1 [==============================] - 0s 3ms/step - loss: 0.1021 - mean_squared_error: 0.1021\n",
      "Epoch 7/100\n",
      "1/1 [==============================] - 0s 3ms/step - loss: 0.0921 - mean_squared_error: 0.0921\n",
      "Epoch 8/100\n",
      "1/1 [==============================] - 0s 2ms/step - loss: 0.0825 - mean_squared_error: 0.0825\n",
      "Epoch 9/100\n",
      "1/1 [==============================] - 0s 3ms/step - loss: 0.0748 - mean_squared_error: 0.0748\n",
      "Epoch 10/100\n",
      "1/1 [==============================] - 0s 3ms/step - loss: 0.0686 - mean_squared_error: 0.0686\n",
      "Epoch 11/100\n",
      "1/1 [==============================] - 0s 3ms/step - loss: 0.0643 - mean_squared_error: 0.0643\n",
      "Epoch 12/100\n",
      "1/1 [==============================] - 0s 3ms/step - loss: 0.0615 - mean_squared_error: 0.0615\n",
      "Epoch 13/100\n",
      "1/1 [==============================] - 0s 4ms/step - loss: 0.0597 - mean_squared_error: 0.0597\n",
      "Epoch 14/100\n",
      "1/1 [==============================] - 0s 3ms/step - loss: 0.0578 - mean_squared_error: 0.0578\n",
      "Epoch 15/100\n",
      "1/1 [==============================] - 0s 4ms/step - loss: 0.0556 - mean_squared_error: 0.0556\n",
      "Epoch 16/100\n",
      "1/1 [==============================] - 0s 3ms/step - loss: 0.0528 - mean_squared_error: 0.0528\n",
      "Epoch 17/100\n",
      "1/1 [==============================] - 0s 2ms/step - loss: 0.0497 - mean_squared_error: 0.0497\n",
      "Epoch 18/100\n",
      "1/1 [==============================] - 0s 3ms/step - loss: 0.0466 - mean_squared_error: 0.0466\n",
      "Epoch 19/100\n",
      "1/1 [==============================] - 0s 3ms/step - loss: 0.0436 - mean_squared_error: 0.0436\n",
      "Epoch 20/100\n",
      "1/1 [==============================] - 0s 2ms/step - loss: 0.0403 - mean_squared_error: 0.0403\n",
      "Epoch 21/100\n",
      "1/1 [==============================] - 0s 4ms/step - loss: 0.0373 - mean_squared_error: 0.0373\n",
      "Epoch 22/100\n",
      "1/1 [==============================] - 0s 4ms/step - loss: 0.0334 - mean_squared_error: 0.0334\n",
      "Epoch 23/100\n",
      "1/1 [==============================] - 0s 2ms/step - loss: 0.0303 - mean_squared_error: 0.0303\n",
      "Epoch 24/100\n",
      "1/1 [==============================] - 0s 2ms/step - loss: 0.0281 - mean_squared_error: 0.0281\n",
      "Epoch 25/100\n",
      "1/1 [==============================] - 0s 3ms/step - loss: 0.0264 - mean_squared_error: 0.0264\n",
      "Epoch 26/100\n",
      "1/1 [==============================] - 0s 3ms/step - loss: 0.0250 - mean_squared_error: 0.0250\n",
      "Epoch 27/100\n",
      "1/1 [==============================] - 0s 3ms/step - loss: 0.0232 - mean_squared_error: 0.0232\n",
      "Epoch 28/100\n",
      "1/1 [==============================] - 0s 3ms/step - loss: 0.0209 - mean_squared_error: 0.0209\n",
      "Epoch 29/100\n",
      "1/1 [==============================] - 0s 3ms/step - loss: 0.0181 - mean_squared_error: 0.0181\n",
      "Epoch 30/100\n",
      "1/1 [==============================] - 0s 3ms/step - loss: 0.0153 - mean_squared_error: 0.0153\n",
      "Epoch 31/100\n",
      "1/1 [==============================] - 0s 3ms/step - loss: 0.0127 - mean_squared_error: 0.0127\n",
      "Epoch 32/100\n",
      "1/1 [==============================] - 0s 3ms/step - loss: 0.0108 - mean_squared_error: 0.0108\n",
      "Epoch 33/100\n",
      "1/1 [==============================] - 0s 2ms/step - loss: 0.0096 - mean_squared_error: 0.0096\n",
      "Epoch 34/100\n",
      "1/1 [==============================] - 0s 4ms/step - loss: 0.0090 - mean_squared_error: 0.0090\n",
      "Epoch 35/100\n",
      "1/1 [==============================] - 0s 4ms/step - loss: 0.0086 - mean_squared_error: 0.0086\n",
      "Epoch 36/100\n",
      "1/1 [==============================] - 0s 3ms/step - loss: 0.0082 - mean_squared_error: 0.0082\n",
      "Epoch 37/100\n",
      "1/1 [==============================] - 0s 3ms/step - loss: 0.0078 - mean_squared_error: 0.0078\n",
      "Epoch 38/100\n",
      "1/1 [==============================] - 0s 3ms/step - loss: 0.0074 - mean_squared_error: 0.0074\n",
      "Epoch 39/100\n",
      "1/1 [==============================] - 0s 3ms/step - loss: 0.0068 - mean_squared_error: 0.0068\n",
      "Epoch 40/100\n",
      "1/1 [==============================] - 0s 3ms/step - loss: 0.0064 - mean_squared_error: 0.0064\n",
      "Epoch 41/100\n",
      "1/1 [==============================] - 0s 4ms/step - loss: 0.0060 - mean_squared_error: 0.0060\n",
      "Epoch 42/100\n",
      "1/1 [==============================] - 0s 2ms/step - loss: 0.0058 - mean_squared_error: 0.0058\n",
      "Epoch 43/100\n",
      "1/1 [==============================] - 0s 3ms/step - loss: 0.0057 - mean_squared_error: 0.0057\n",
      "Epoch 44/100\n",
      "1/1 [==============================] - 0s 4ms/step - loss: 0.0056 - mean_squared_error: 0.0056\n",
      "Epoch 45/100\n",
      "1/1 [==============================] - 0s 4ms/step - loss: 0.0056 - mean_squared_error: 0.0056\n",
      "Epoch 46/100\n",
      "1/1 [==============================] - 0s 3ms/step - loss: 0.0054 - mean_squared_error: 0.0054\n",
      "Epoch 47/100\n",
      "1/1 [==============================] - 0s 4ms/step - loss: 0.0049 - mean_squared_error: 0.0049\n",
      "Epoch 48/100\n",
      "1/1 [==============================] - 0s 3ms/step - loss: 0.0042 - mean_squared_error: 0.0042\n",
      "Epoch 49/100\n",
      "1/1 [==============================] - 0s 3ms/step - loss: 0.0037 - mean_squared_error: 0.0037\n",
      "Epoch 50/100\n",
      "1/1 [==============================] - 0s 4ms/step - loss: 0.0034 - mean_squared_error: 0.0034\n",
      "Epoch 51/100\n",
      "1/1 [==============================] - 0s 3ms/step - loss: 0.0032 - mean_squared_error: 0.0032\n",
      "Epoch 52/100\n",
      "1/1 [==============================] - 0s 3ms/step - loss: 0.0031 - mean_squared_error: 0.0031\n",
      "Epoch 53/100\n",
      "1/1 [==============================] - 0s 4ms/step - loss: 0.0029 - mean_squared_error: 0.0029\n",
      "Epoch 54/100\n",
      "1/1 [==============================] - 0s 3ms/step - loss: 0.0028 - mean_squared_error: 0.0028\n",
      "Epoch 55/100\n",
      "1/1 [==============================] - 0s 3ms/step - loss: 0.0026 - mean_squared_error: 0.0026\n",
      "Epoch 56/100\n",
      "1/1 [==============================] - 0s 3ms/step - loss: 0.0024 - mean_squared_error: 0.0024\n",
      "Epoch 57/100\n",
      "1/1 [==============================] - 0s 3ms/step - loss: 0.0023 - mean_squared_error: 0.0023\n",
      "Epoch 58/100\n",
      "1/1 [==============================] - 0s 3ms/step - loss: 0.0021 - mean_squared_error: 0.0021\n",
      "Epoch 59/100\n",
      "1/1 [==============================] - 0s 4ms/step - loss: 0.0020 - mean_squared_error: 0.0020\n",
      "Epoch 60/100\n",
      "1/1 [==============================] - 0s 3ms/step - loss: 0.0019 - mean_squared_error: 0.0019\n",
      "Epoch 61/100\n",
      "1/1 [==============================] - 0s 5ms/step - loss: 0.0017 - mean_squared_error: 0.0017\n",
      "Epoch 62/100\n",
      "1/1 [==============================] - 0s 3ms/step - loss: 0.0016 - mean_squared_error: 0.0016\n",
      "Epoch 63/100\n",
      "1/1 [==============================] - 0s 3ms/step - loss: 0.0015 - mean_squared_error: 0.0015\n",
      "Epoch 64/100\n",
      "1/1 [==============================] - 0s 5ms/step - loss: 0.0013 - mean_squared_error: 0.0013\n",
      "Epoch 65/100\n",
      "1/1 [==============================] - 0s 4ms/step - loss: 0.0013 - mean_squared_error: 0.0013\n",
      "Epoch 66/100\n",
      "1/1 [==============================] - 0s 5ms/step - loss: 0.0011 - mean_squared_error: 0.0011\n",
      "Epoch 67/100\n",
      "1/1 [==============================] - 0s 3ms/step - loss: 0.0010 - mean_squared_error: 0.0010\n",
      "Epoch 68/100\n",
      "1/1 [==============================] - 0s 3ms/step - loss: 9.6564e-04 - mean_squared_error: 9.6564e-04\n",
      "Epoch 69/100\n",
      "1/1 [==============================] - 0s 4ms/step - loss: 9.1415e-04 - mean_squared_error: 9.1415e-04\n",
      "Epoch 70/100\n",
      "1/1 [==============================] - 0s 3ms/step - loss: 8.7846e-04 - mean_squared_error: 8.7846e-04\n",
      "Epoch 71/100\n",
      "1/1 [==============================] - 0s 3ms/step - loss: 8.3082e-04 - mean_squared_error: 8.3082e-04\n",
      "Epoch 72/100\n",
      "1/1 [==============================] - 0s 3ms/step - loss: 7.8115e-04 - mean_squared_error: 7.8115e-04\n",
      "Epoch 73/100\n",
      "1/1 [==============================] - 0s 4ms/step - loss: 7.2511e-04 - mean_squared_error: 7.2511e-04\n",
      "Epoch 74/100\n",
      "1/1 [==============================] - 0s 3ms/step - loss: 6.6815e-04 - mean_squared_error: 6.6815e-04\n",
      "Epoch 75/100\n",
      "1/1 [==============================] - 0s 7ms/step - loss: 6.1618e-04 - mean_squared_error: 6.1618e-04\n",
      "Epoch 76/100\n",
      "1/1 [==============================] - 0s 3ms/step - loss: 5.7228e-04 - mean_squared_error: 5.7228e-04\n",
      "Epoch 77/100\n",
      "1/1 [==============================] - 0s 3ms/step - loss: 5.3537e-04 - mean_squared_error: 5.3537e-04\n",
      "Epoch 78/100\n",
      "1/1 [==============================] - 0s 8ms/step - loss: 5.0165e-04 - mean_squared_error: 5.0165e-04\n",
      "Epoch 79/100\n",
      "1/1 [==============================] - 0s 3ms/step - loss: 4.6724e-04 - mean_squared_error: 4.6724e-04\n",
      "Epoch 80/100\n",
      "1/1 [==============================] - 0s 3ms/step - loss: 4.3064e-04 - mean_squared_error: 4.3064e-04\n",
      "Epoch 81/100\n",
      "1/1 [==============================] - 0s 3ms/step - loss: 3.9327e-04 - mean_squared_error: 3.9327e-04\n",
      "Epoch 82/100\n",
      "1/1 [==============================] - 0s 5ms/step - loss: 3.5822e-04 - mean_squared_error: 3.5822e-04\n",
      "Epoch 83/100\n",
      "1/1 [==============================] - 0s 3ms/step - loss: 3.3190e-04 - mean_squared_error: 3.3190e-04\n",
      "Epoch 84/100\n",
      "1/1 [==============================] - 0s 3ms/step - loss: 3.1513e-04 - mean_squared_error: 3.1513e-04\n",
      "Epoch 85/100\n",
      "1/1 [==============================] - 0s 3ms/step - loss: 2.9652e-04 - mean_squared_error: 2.9652e-04\n",
      "Epoch 86/100\n",
      "1/1 [==============================] - 0s 3ms/step - loss: 2.7643e-04 - mean_squared_error: 2.7643e-04\n",
      "Epoch 87/100\n",
      "1/1 [==============================] - 0s 4ms/step - loss: 2.5623e-04 - mean_squared_error: 2.5623e-04\n",
      "Epoch 88/100\n",
      "1/1 [==============================] - 0s 4ms/step - loss: 2.3777e-04 - mean_squared_error: 2.3777e-04\n",
      "Epoch 89/100\n",
      "1/1 [==============================] - 0s 3ms/step - loss: 2.3039e-04 - mean_squared_error: 2.3039e-04\n",
      "Epoch 90/100\n",
      "1/1 [==============================] - 0s 4ms/step - loss: 2.2579e-04 - mean_squared_error: 2.2579e-04\n",
      "Epoch 91/100\n",
      "1/1 [==============================] - 0s 4ms/step - loss: 2.1940e-04 - mean_squared_error: 2.1940e-04\n",
      "Epoch 92/100\n",
      "1/1 [==============================] - 0s 3ms/step - loss: 2.1035e-04 - mean_squared_error: 2.1035e-04\n",
      "Epoch 93/100\n",
      "1/1 [==============================] - 0s 5ms/step - loss: 1.9987e-04 - mean_squared_error: 1.9987e-04\n",
      "Epoch 94/100\n",
      "1/1 [==============================] - 0s 5ms/step - loss: 1.9573e-04 - mean_squared_error: 1.9573e-04\n",
      "Epoch 95/100\n",
      "1/1 [==============================] - 0s 4ms/step - loss: 1.9425e-04 - mean_squared_error: 1.9425e-04\n",
      "Epoch 96/100\n",
      "1/1 [==============================] - 0s 3ms/step - loss: 1.9166e-04 - mean_squared_error: 1.9166e-04\n",
      "Epoch 97/100\n",
      "1/1 [==============================] - 0s 3ms/step - loss: 1.8777e-04 - mean_squared_error: 1.8777e-04\n",
      "Epoch 98/100\n",
      "1/1 [==============================] - 0s 4ms/step - loss: 1.8305e-04 - mean_squared_error: 1.8305e-04\n",
      "Epoch 99/100\n",
      "1/1 [==============================] - 0s 2ms/step - loss: 1.7828e-04 - mean_squared_error: 1.7828e-04\n",
      "Epoch 100/100\n",
      "1/1 [==============================] - 0s 3ms/step - loss: 1.7409e-04 - mean_squared_error: 1.7409e-04\n"
     ]
    },
    {
     "data": {
      "text/plain": [
       "<tensorflow.python.keras.callbacks.History at 0x7fce443a0950>"
      ]
     },
     "execution_count": 9,
     "metadata": {},
     "output_type": "execute_result"
    }
   ],
   "source": [
    "model.fit([cat_input_data, num_data], target, epochs=100, verbose=1)"
   ]
  },
  {
   "cell_type": "code",
   "execution_count": 10,
   "metadata": {},
   "outputs": [
    {
     "data": {
      "text/plain": [
       "array([[-0.3252572 , -0.15947352],\n",
       "       [ 0.01103626,  0.16734494],\n",
       "       [-0.17589794,  0.03435175],\n",
       "       [ 0.10076599,  0.2777476 ]], dtype=float32)"
      ]
     },
     "execution_count": 10,
     "metadata": {},
     "output_type": "execute_result"
    }
   ],
   "source": [
    "model.layers[1].get_weights()[0]"
   ]
  },
  {
   "cell_type": "code",
   "execution_count": null,
   "metadata": {},
   "outputs": [],
   "source": []
  }
 ],
 "metadata": {
  "kernelspec": {
   "display_name": "Python 3",
   "language": "python",
   "name": "python3"
  },
  "language_info": {
   "codemirror_mode": {
    "name": "ipython",
    "version": 3
   },
   "file_extension": ".py",
   "mimetype": "text/x-python",
   "name": "python",
   "nbconvert_exporter": "python",
   "pygments_lexer": "ipython3",
   "version": "3.8.5"
  }
 },
 "nbformat": 4,
 "nbformat_minor": 4
}
