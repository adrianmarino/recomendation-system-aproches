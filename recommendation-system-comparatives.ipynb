{
 "cells": [
  {
   "cell_type": "markdown",
   "metadata": {},
   "source": [
    "# Recommendation system aproches"
   ]
  },
  {
   "cell_type": "markdown",
   "metadata": {},
   "source": [
    "**Links**\n",
    "* [Deep Learning With Keras: Recommender Systems](https://www.johnwittenauer.net/deep-learning-with-keras-recommender-systems/)\n",
    "* [Collaborative Filtering for Movie Recommendations](https://keras.io/examples/structured_data/collaborative_filtering_movielens/)\n",
    "* [Wide and Deep learning With TensorFlow in 10 Min](https://medium.com/@rinu.gour123/wide-and-deep-learning-with-tensorflow-in-10-min-4eb897dbcaf6)\n",
    "* [wide_and_deep_keras](https://github.com/jrzaurin/Wide-and-Deep-Keras/blob/master/wide_and_deep_keras.py)\n",
    "* [Wide_&_Deep_Features_Columns+Auto_ML](https://github.com/adrianmarino/wide-and-deep-example/blob/master/Wide_%26_Deep_Features_Columns%2BAuto_ML.ipynb)"
   ]
  },
  {
   "cell_type": "code",
   "execution_count": 1,
   "metadata": {},
   "outputs": [],
   "source": [
    "%matplotlib inline\n",
    "%load_ext autoreload\n",
    "%autoreload 2"
   ]
  },
  {
   "cell_type": "code",
   "execution_count": 2,
   "metadata": {},
   "outputs": [],
   "source": [
    "import sys\n",
    "sys.path.append('./src')\n",
    "\n",
    "import numpy as np\n",
    "import pandas as pd\n",
    "import tensorflow as tf\n",
    "\n",
    "from sklearn.model_selection import train_test_split\n",
    "from sklearn.preprocessing import LabelEncoder\n",
    "\n",
    "from callback import MetricsPlotter\n",
    "from util import tf_detected_devices, tf_version, plot_model, dataframe_to_dataset\n",
    "\n",
    "from model import   EmbeddingDenseModelFactory, \\\n",
    "                    EmbeddingBiasesDotModelFactory, \\\n",
    "                    EmbeddingDotModelFactory, \\\n",
    "                    ModelInputBuilder, Layer, \\\n",
    "                    WideAndDeepModelFactory\n",
    "\n",
    "from data import    InMemoryXyDataGenerator, \\\n",
    "                    DataSetDataGenerator, \\\n",
    "                    MovieLensDataSource\n",
    "\n",
    "# from kerastuner import HyperModel\n",
    "# from kerastuner.tuners import RandomSearch, Hyperband\n",
    "# from kerastuner.engine.hyperparameters import HyperParameters"
   ]
  },
  {
   "cell_type": "markdown",
   "metadata": {},
   "source": [
    "### Check environment"
   ]
  },
  {
   "cell_type": "markdown",
   "metadata": {},
   "source": [
    "Show GPU model:"
   ]
  },
  {
   "cell_type": "code",
   "execution_count": 3,
   "metadata": {},
   "outputs": [
    {
     "name": "stdout",
     "output_type": "stream",
     "text": [
      "GeForce GTX 1060, 6078 MiB\n"
     ]
    }
   ],
   "source": [
    "!nvidia-smi --query-gpu=gpu_name,memory.total --format=csv | sed -n 2p"
   ]
  },
  {
   "cell_type": "markdown",
   "metadata": {},
   "source": [
    "Let's check tensorflow version:"
   ]
  },
  {
   "cell_type": "code",
   "execution_count": 4,
   "metadata": {},
   "outputs": [
    {
     "data": {
      "text/plain": [
       "'Tensorflow version: 2.3.0'"
      ]
     },
     "execution_count": 4,
     "metadata": {},
     "output_type": "execute_result"
    }
   ],
   "source": [
    "tf_version()"
   ]
  },
  {
   "cell_type": "markdown",
   "metadata": {},
   "source": [
    "Let's check devices that tensorflow detect:"
   ]
  },
  {
   "cell_type": "code",
   "execution_count": 5,
   "metadata": {},
   "outputs": [
    {
     "data": {
      "text/html": [
       "<div>\n",
       "<style scoped>\n",
       "    .dataframe tbody tr th:only-of-type {\n",
       "        vertical-align: middle;\n",
       "    }\n",
       "\n",
       "    .dataframe tbody tr th {\n",
       "        vertical-align: top;\n",
       "    }\n",
       "\n",
       "    .dataframe thead th {\n",
       "        text-align: right;\n",
       "    }\n",
       "</style>\n",
       "<table border=\"1\" class=\"dataframe\">\n",
       "  <thead>\n",
       "    <tr style=\"text-align: right;\">\n",
       "      <th></th>\n",
       "      <th>Name</th>\n",
       "      <th>Device Type</th>\n",
       "      <th>Memory</th>\n",
       "      <th>Description</th>\n",
       "    </tr>\n",
       "  </thead>\n",
       "  <tbody>\n",
       "    <tr>\n",
       "      <th>0</th>\n",
       "      <td>/device:CPU:0</td>\n",
       "      <td>CPU</td>\n",
       "      <td>256M</td>\n",
       "      <td></td>\n",
       "    </tr>\n",
       "    <tr>\n",
       "      <th>1</th>\n",
       "      <td>/device:XLA_CPU:0</td>\n",
       "      <td>XLA_CPU</td>\n",
       "      <td>16G</td>\n",
       "      <td>device: XLA_CPU device</td>\n",
       "    </tr>\n",
       "    <tr>\n",
       "      <th>2</th>\n",
       "      <td>/device:XLA_GPU:0</td>\n",
       "      <td>XLA_GPU</td>\n",
       "      <td>16G</td>\n",
       "      <td>device: XLA_GPU device</td>\n",
       "    </tr>\n",
       "  </tbody>\n",
       "</table>\n",
       "</div>"
      ],
      "text/plain": [
       "                Name Device Type Memory             Description\n",
       "0      /device:CPU:0         CPU   256M                        \n",
       "1  /device:XLA_CPU:0     XLA_CPU    16G  device: XLA_CPU device\n",
       "2  /device:XLA_GPU:0     XLA_GPU    16G  device: XLA_GPU device"
      ]
     },
     "execution_count": 5,
     "metadata": {},
     "output_type": "execute_result"
    }
   ],
   "source": [
    "tf_detected_devices()"
   ]
  },
  {
   "cell_type": "markdown",
   "metadata": {},
   "source": [
    "[What is XLA?](https://medium.com/@xianbao.qian/use-xla-with-keras-3ca5d0309c26)"
   ]
  },
  {
   "cell_type": "markdown",
   "metadata": {},
   "source": [
    "### Download dataset"
   ]
  },
  {
   "cell_type": "markdown",
   "metadata": {},
   "source": [
    "Create a data source to download and read dataset files:"
   ]
  },
  {
   "cell_type": "code",
   "execution_count": 6,
   "metadata": {},
   "outputs": [],
   "source": [
    "ds = MovieLensDataSource()"
   ]
  },
  {
   "cell_type": "markdown",
   "metadata": {},
   "source": [
    "Available files:"
   ]
  },
  {
   "cell_type": "code",
   "execution_count": 7,
   "metadata": {},
   "outputs": [
    {
     "name": "stdout",
     "output_type": "stream",
     "text": [
      "['ratings.csv', 'links.csv', 'movies.csv', 'tags.csv']\n"
     ]
    }
   ],
   "source": [
    "print(ds.files())"
   ]
  },
  {
   "cell_type": "markdown",
   "metadata": {},
   "source": [
    "Rating that users give to each movie:"
   ]
  },
  {
   "cell_type": "code",
   "execution_count": 8,
   "metadata": {},
   "outputs": [
    {
     "data": {
      "text/html": [
       "<div>\n",
       "<style scoped>\n",
       "    .dataframe tbody tr th:only-of-type {\n",
       "        vertical-align: middle;\n",
       "    }\n",
       "\n",
       "    .dataframe tbody tr th {\n",
       "        vertical-align: top;\n",
       "    }\n",
       "\n",
       "    .dataframe thead th {\n",
       "        text-align: right;\n",
       "    }\n",
       "</style>\n",
       "<table border=\"1\" class=\"dataframe\">\n",
       "  <thead>\n",
       "    <tr style=\"text-align: right;\">\n",
       "      <th></th>\n",
       "      <th>userId</th>\n",
       "      <th>movieId</th>\n",
       "      <th>rating</th>\n",
       "      <th>timestamp</th>\n",
       "    </tr>\n",
       "  </thead>\n",
       "  <tbody>\n",
       "    <tr>\n",
       "      <th>0</th>\n",
       "      <td>1</td>\n",
       "      <td>1</td>\n",
       "      <td>4.0</td>\n",
       "      <td>964982703</td>\n",
       "    </tr>\n",
       "    <tr>\n",
       "      <th>1</th>\n",
       "      <td>1</td>\n",
       "      <td>3</td>\n",
       "      <td>4.0</td>\n",
       "      <td>964981247</td>\n",
       "    </tr>\n",
       "    <tr>\n",
       "      <th>2</th>\n",
       "      <td>1</td>\n",
       "      <td>6</td>\n",
       "      <td>4.0</td>\n",
       "      <td>964982224</td>\n",
       "    </tr>\n",
       "    <tr>\n",
       "      <th>3</th>\n",
       "      <td>1</td>\n",
       "      <td>47</td>\n",
       "      <td>5.0</td>\n",
       "      <td>964983815</td>\n",
       "    </tr>\n",
       "    <tr>\n",
       "      <th>4</th>\n",
       "      <td>1</td>\n",
       "      <td>50</td>\n",
       "      <td>5.0</td>\n",
       "      <td>964982931</td>\n",
       "    </tr>\n",
       "  </tbody>\n",
       "</table>\n",
       "</div>"
      ],
      "text/plain": [
       "   userId  movieId  rating  timestamp\n",
       "0       1        1     4.0  964982703\n",
       "1       1        3     4.0  964981247\n",
       "2       1        6     4.0  964982224\n",
       "3       1       47     5.0  964983815\n",
       "4       1       50     5.0  964982931"
      ]
     },
     "execution_count": 8,
     "metadata": {},
     "output_type": "execute_result"
    }
   ],
   "source": [
    "ratings = ds.get_df('ratings.csv')\n",
    "ratings.head()"
   ]
  },
  {
   "cell_type": "markdown",
   "metadata": {},
   "source": [
    "Movie catalog: Each movie has a tittle and a list of genres."
   ]
  },
  {
   "cell_type": "code",
   "execution_count": 9,
   "metadata": {},
   "outputs": [
    {
     "data": {
      "text/html": [
       "<div>\n",
       "<style scoped>\n",
       "    .dataframe tbody tr th:only-of-type {\n",
       "        vertical-align: middle;\n",
       "    }\n",
       "\n",
       "    .dataframe tbody tr th {\n",
       "        vertical-align: top;\n",
       "    }\n",
       "\n",
       "    .dataframe thead th {\n",
       "        text-align: right;\n",
       "    }\n",
       "</style>\n",
       "<table border=\"1\" class=\"dataframe\">\n",
       "  <thead>\n",
       "    <tr style=\"text-align: right;\">\n",
       "      <th></th>\n",
       "      <th>movieId</th>\n",
       "      <th>title</th>\n",
       "      <th>genres</th>\n",
       "    </tr>\n",
       "  </thead>\n",
       "  <tbody>\n",
       "    <tr>\n",
       "      <th>0</th>\n",
       "      <td>1</td>\n",
       "      <td>Toy Story (1995)</td>\n",
       "      <td>Adventure|Animation|Children|Comedy|Fantasy</td>\n",
       "    </tr>\n",
       "    <tr>\n",
       "      <th>1</th>\n",
       "      <td>2</td>\n",
       "      <td>Jumanji (1995)</td>\n",
       "      <td>Adventure|Children|Fantasy</td>\n",
       "    </tr>\n",
       "    <tr>\n",
       "      <th>2</th>\n",
       "      <td>3</td>\n",
       "      <td>Grumpier Old Men (1995)</td>\n",
       "      <td>Comedy|Romance</td>\n",
       "    </tr>\n",
       "    <tr>\n",
       "      <th>3</th>\n",
       "      <td>4</td>\n",
       "      <td>Waiting to Exhale (1995)</td>\n",
       "      <td>Comedy|Drama|Romance</td>\n",
       "    </tr>\n",
       "    <tr>\n",
       "      <th>4</th>\n",
       "      <td>5</td>\n",
       "      <td>Father of the Bride Part II (1995)</td>\n",
       "      <td>Comedy</td>\n",
       "    </tr>\n",
       "  </tbody>\n",
       "</table>\n",
       "</div>"
      ],
      "text/plain": [
       "   movieId                               title  \\\n",
       "0        1                    Toy Story (1995)   \n",
       "1        2                      Jumanji (1995)   \n",
       "2        3             Grumpier Old Men (1995)   \n",
       "3        4            Waiting to Exhale (1995)   \n",
       "4        5  Father of the Bride Part II (1995)   \n",
       "\n",
       "                                        genres  \n",
       "0  Adventure|Animation|Children|Comedy|Fantasy  \n",
       "1                   Adventure|Children|Fantasy  \n",
       "2                               Comedy|Romance  \n",
       "3                         Comedy|Drama|Romance  \n",
       "4                                       Comedy  "
      ]
     },
     "execution_count": 9,
     "metadata": {},
     "output_type": "execute_result"
    }
   ],
   "source": [
    "movies = ds.get_df('movies.csv')\n",
    "movies.head()"
   ]
  },
  {
   "cell_type": "markdown",
   "metadata": {},
   "source": [
    "Tags that users put to movies: Each line of this file after the header row represents one tag applied to one movie by one user."
   ]
  },
  {
   "cell_type": "code",
   "execution_count": 10,
   "metadata": {},
   "outputs": [
    {
     "data": {
      "text/html": [
       "<div>\n",
       "<style scoped>\n",
       "    .dataframe tbody tr th:only-of-type {\n",
       "        vertical-align: middle;\n",
       "    }\n",
       "\n",
       "    .dataframe tbody tr th {\n",
       "        vertical-align: top;\n",
       "    }\n",
       "\n",
       "    .dataframe thead th {\n",
       "        text-align: right;\n",
       "    }\n",
       "</style>\n",
       "<table border=\"1\" class=\"dataframe\">\n",
       "  <thead>\n",
       "    <tr style=\"text-align: right;\">\n",
       "      <th></th>\n",
       "      <th>userId</th>\n",
       "      <th>movieId</th>\n",
       "      <th>tag</th>\n",
       "      <th>timestamp</th>\n",
       "    </tr>\n",
       "  </thead>\n",
       "  <tbody>\n",
       "    <tr>\n",
       "      <th>0</th>\n",
       "      <td>2</td>\n",
       "      <td>60756</td>\n",
       "      <td>funny</td>\n",
       "      <td>1445714994</td>\n",
       "    </tr>\n",
       "    <tr>\n",
       "      <th>1</th>\n",
       "      <td>2</td>\n",
       "      <td>60756</td>\n",
       "      <td>Highly quotable</td>\n",
       "      <td>1445714996</td>\n",
       "    </tr>\n",
       "    <tr>\n",
       "      <th>2</th>\n",
       "      <td>2</td>\n",
       "      <td>60756</td>\n",
       "      <td>will ferrell</td>\n",
       "      <td>1445714992</td>\n",
       "    </tr>\n",
       "    <tr>\n",
       "      <th>3</th>\n",
       "      <td>2</td>\n",
       "      <td>89774</td>\n",
       "      <td>Boxing story</td>\n",
       "      <td>1445715207</td>\n",
       "    </tr>\n",
       "    <tr>\n",
       "      <th>4</th>\n",
       "      <td>2</td>\n",
       "      <td>89774</td>\n",
       "      <td>MMA</td>\n",
       "      <td>1445715200</td>\n",
       "    </tr>\n",
       "  </tbody>\n",
       "</table>\n",
       "</div>"
      ],
      "text/plain": [
       "   userId  movieId              tag   timestamp\n",
       "0       2    60756            funny  1445714994\n",
       "1       2    60756  Highly quotable  1445714996\n",
       "2       2    60756     will ferrell  1445714992\n",
       "3       2    89774     Boxing story  1445715207\n",
       "4       2    89774              MMA  1445715200"
      ]
     },
     "execution_count": 10,
     "metadata": {},
     "output_type": "execute_result"
    }
   ],
   "source": [
    "tags = ds.get_df('tags.csv')\n",
    "tags.head()"
   ]
  },
  {
   "cell_type": "markdown",
   "metadata": {},
   "source": [
    "**Links** file contains one row by movie and eack column represent the movie id for each movie site:\n",
    "\n",
    "* **movieId**: is an identifier for movies used by <https://movielens.org>. E.g., the movie Toy Story has the link <https://movielens.org/movies/1>.\n",
    "\n",
    "* **imdbId**: is an identifier for movies used by <http://www.imdb.com>. E.g., the movie Toy Story has the link <http://www.imdb.com/title/tt0114709/>.\n",
    "\n",
    "* **tmdbId**: is an identifier for movies used by <https://www.themoviedb.org>. E.g., the movie Toy Story has the link <https://www.themoviedb.org/movie/862>\n",
    "\n",
    "**Note**: It will we usefull when we test each model."
   ]
  },
  {
   "cell_type": "code",
   "execution_count": 11,
   "metadata": {},
   "outputs": [
    {
     "data": {
      "text/html": [
       "<div>\n",
       "<style scoped>\n",
       "    .dataframe tbody tr th:only-of-type {\n",
       "        vertical-align: middle;\n",
       "    }\n",
       "\n",
       "    .dataframe tbody tr th {\n",
       "        vertical-align: top;\n",
       "    }\n",
       "\n",
       "    .dataframe thead th {\n",
       "        text-align: right;\n",
       "    }\n",
       "</style>\n",
       "<table border=\"1\" class=\"dataframe\">\n",
       "  <thead>\n",
       "    <tr style=\"text-align: right;\">\n",
       "      <th></th>\n",
       "      <th>movieId</th>\n",
       "      <th>imdbId</th>\n",
       "      <th>tmdbId</th>\n",
       "    </tr>\n",
       "  </thead>\n",
       "  <tbody>\n",
       "    <tr>\n",
       "      <th>0</th>\n",
       "      <td>1</td>\n",
       "      <td>114709</td>\n",
       "      <td>862.0</td>\n",
       "    </tr>\n",
       "    <tr>\n",
       "      <th>1</th>\n",
       "      <td>2</td>\n",
       "      <td>113497</td>\n",
       "      <td>8844.0</td>\n",
       "    </tr>\n",
       "    <tr>\n",
       "      <th>2</th>\n",
       "      <td>3</td>\n",
       "      <td>113228</td>\n",
       "      <td>15602.0</td>\n",
       "    </tr>\n",
       "    <tr>\n",
       "      <th>3</th>\n",
       "      <td>4</td>\n",
       "      <td>114885</td>\n",
       "      <td>31357.0</td>\n",
       "    </tr>\n",
       "    <tr>\n",
       "      <th>4</th>\n",
       "      <td>5</td>\n",
       "      <td>113041</td>\n",
       "      <td>11862.0</td>\n",
       "    </tr>\n",
       "  </tbody>\n",
       "</table>\n",
       "</div>"
      ],
      "text/plain": [
       "   movieId  imdbId   tmdbId\n",
       "0        1  114709    862.0\n",
       "1        2  113497   8844.0\n",
       "2        3  113228  15602.0\n",
       "3        4  114885  31357.0\n",
       "4        5  113041  11862.0"
      ]
     },
     "execution_count": 11,
     "metadata": {},
     "output_type": "execute_result"
    }
   ],
   "source": [
    "links = ds.get_df('links.csv')\n",
    "links.head()"
   ]
  },
  {
   "cell_type": "markdown",
   "metadata": {},
   "source": [
    "## Analize and prepare the required data"
   ]
  },
  {
   "cell_type": "markdown",
   "metadata": {},
   "source": [
    "First, get 15 users with highest total ratings sum: "
   ]
  },
  {
   "cell_type": "code",
   "execution_count": 12,
   "metadata": {},
   "outputs": [
    {
     "data": {
      "text/html": [
       "<div>\n",
       "<style scoped>\n",
       "    .dataframe tbody tr th:only-of-type {\n",
       "        vertical-align: middle;\n",
       "    }\n",
       "\n",
       "    .dataframe tbody tr th {\n",
       "        vertical-align: top;\n",
       "    }\n",
       "\n",
       "    .dataframe thead th {\n",
       "        text-align: right;\n",
       "    }\n",
       "</style>\n",
       "<table border=\"1\" class=\"dataframe\">\n",
       "  <thead>\n",
       "    <tr style=\"text-align: right;\">\n",
       "      <th></th>\n",
       "      <th>rating</th>\n",
       "    </tr>\n",
       "    <tr>\n",
       "      <th>userId</th>\n",
       "      <th></th>\n",
       "    </tr>\n",
       "  </thead>\n",
       "  <tbody>\n",
       "    <tr>\n",
       "      <th>414</th>\n",
       "      <td>2698</td>\n",
       "    </tr>\n",
       "    <tr>\n",
       "      <th>599</th>\n",
       "      <td>2478</td>\n",
       "    </tr>\n",
       "    <tr>\n",
       "      <th>474</th>\n",
       "      <td>2108</td>\n",
       "    </tr>\n",
       "    <tr>\n",
       "      <th>448</th>\n",
       "      <td>1864</td>\n",
       "    </tr>\n",
       "    <tr>\n",
       "      <th>274</th>\n",
       "      <td>1346</td>\n",
       "    </tr>\n",
       "  </tbody>\n",
       "</table>\n",
       "</div>"
      ],
      "text/plain": [
       "        rating\n",
       "userId        \n",
       "414       2698\n",
       "599       2478\n",
       "474       2108\n",
       "448       1864\n",
       "274       1346"
      ]
     },
     "execution_count": 12,
     "metadata": {},
     "output_type": "execute_result"
    }
   ],
   "source": [
    "g = ratings.groupby('userId')['rating'].count()\n",
    "top_users = g.sort_values(ascending=False)[:15]\n",
    "\n",
    "top_users.to_frame().head()"
   ]
  },
  {
   "cell_type": "markdown",
   "metadata": {},
   "source": [
    "Get 15 moviles with highest total ratings sum:"
   ]
  },
  {
   "cell_type": "code",
   "execution_count": 13,
   "metadata": {},
   "outputs": [
    {
     "data": {
      "text/html": [
       "<div>\n",
       "<style scoped>\n",
       "    .dataframe tbody tr th:only-of-type {\n",
       "        vertical-align: middle;\n",
       "    }\n",
       "\n",
       "    .dataframe tbody tr th {\n",
       "        vertical-align: top;\n",
       "    }\n",
       "\n",
       "    .dataframe thead th {\n",
       "        text-align: right;\n",
       "    }\n",
       "</style>\n",
       "<table border=\"1\" class=\"dataframe\">\n",
       "  <thead>\n",
       "    <tr style=\"text-align: right;\">\n",
       "      <th></th>\n",
       "      <th>rating</th>\n",
       "    </tr>\n",
       "    <tr>\n",
       "      <th>movieId</th>\n",
       "      <th></th>\n",
       "    </tr>\n",
       "  </thead>\n",
       "  <tbody>\n",
       "    <tr>\n",
       "      <th>356</th>\n",
       "      <td>329</td>\n",
       "    </tr>\n",
       "    <tr>\n",
       "      <th>318</th>\n",
       "      <td>317</td>\n",
       "    </tr>\n",
       "    <tr>\n",
       "      <th>296</th>\n",
       "      <td>307</td>\n",
       "    </tr>\n",
       "    <tr>\n",
       "      <th>593</th>\n",
       "      <td>279</td>\n",
       "    </tr>\n",
       "    <tr>\n",
       "      <th>2571</th>\n",
       "      <td>278</td>\n",
       "    </tr>\n",
       "  </tbody>\n",
       "</table>\n",
       "</div>"
      ],
      "text/plain": [
       "         rating\n",
       "movieId        \n",
       "356         329\n",
       "318         317\n",
       "296         307\n",
       "593         279\n",
       "2571        278"
      ]
     },
     "execution_count": 13,
     "metadata": {},
     "output_type": "execute_result"
    }
   ],
   "source": [
    "g = ratings.groupby('movieId')['rating'].count()\n",
    "top_movies = g.sort_values(ascending=False)[:15]\n",
    "\n",
    "top_movies.to_frame().head()"
   ]
  },
  {
   "cell_type": "markdown",
   "metadata": {},
   "source": [
    "Build next table only with top users and movies ([Because use inner join](https://www.datacamp.com/community/tutorials/joining-dataframes-pandas?utm_source=adwords_ppc&utm_campaignid=1455363063&utm_adgroupid=65083631748&utm_device=c&utm_keyword=&utm_matchtype=b&utm_network=g&utm_adpostion=&utm_creative=332602034364&utm_targetid=aud-438999696719:dsa-429603003980&utm_loc_interest_ms=&utm_loc_physical_ms=9041032&gclid=Cj0KCQjwhIP6BRCMARIsALu9LfkDhKFrq-wuEKjjsNxhSBa-315ZxQKIfKV633ynuWrZnqX-jCh7ZMcaArPmEALw_wcB)):"
   ]
  },
  {
   "cell_type": "code",
   "execution_count": 14,
   "metadata": {},
   "outputs": [
    {
     "data": {
      "text/html": [
       "<div>\n",
       "<style scoped>\n",
       "    .dataframe tbody tr th:only-of-type {\n",
       "        vertical-align: middle;\n",
       "    }\n",
       "\n",
       "    .dataframe tbody tr th {\n",
       "        vertical-align: top;\n",
       "    }\n",
       "\n",
       "    .dataframe thead th {\n",
       "        text-align: right;\n",
       "    }\n",
       "</style>\n",
       "<table border=\"1\" class=\"dataframe\">\n",
       "  <thead>\n",
       "    <tr style=\"text-align: right;\">\n",
       "      <th></th>\n",
       "      <th>userId</th>\n",
       "      <th>movieId</th>\n",
       "      <th>rating</th>\n",
       "    </tr>\n",
       "  </thead>\n",
       "  <tbody>\n",
       "    <tr>\n",
       "      <th>10360</th>\n",
       "      <td>68</td>\n",
       "      <td>1</td>\n",
       "      <td>2.5</td>\n",
       "    </tr>\n",
       "    <tr>\n",
       "      <th>26092</th>\n",
       "      <td>182</td>\n",
       "      <td>1</td>\n",
       "      <td>4.0</td>\n",
       "    </tr>\n",
       "    <tr>\n",
       "      <th>36374</th>\n",
       "      <td>249</td>\n",
       "      <td>1</td>\n",
       "      <td>4.0</td>\n",
       "    </tr>\n",
       "    <tr>\n",
       "      <th>39229</th>\n",
       "      <td>274</td>\n",
       "      <td>1</td>\n",
       "      <td>4.0</td>\n",
       "    </tr>\n",
       "    <tr>\n",
       "      <th>42114</th>\n",
       "      <td>288</td>\n",
       "      <td>1</td>\n",
       "      <td>4.5</td>\n",
       "    </tr>\n",
       "  </tbody>\n",
       "</table>\n",
       "</div>"
      ],
      "text/plain": [
       "       userId  movieId  rating\n",
       "10360      68        1     2.5\n",
       "26092     182        1     4.0\n",
       "36374     249        1     4.0\n",
       "39229     274        1     4.0\n",
       "42114     288        1     4.5"
      ]
     },
     "execution_count": 14,
     "metadata": {},
     "output_type": "execute_result"
    }
   ],
   "source": [
    "top_r = ratings.join(top_users, rsuffix='_top_user', how='inner', on='userId')\n",
    "top_r = top_r.join(top_movies, rsuffix='_top_movie', how='inner', on='movieId')\n",
    "top_r = top_r[['userId','movieId', 'rating']]\n",
    "top_r.head()"
   ]
  },
  {
   "cell_type": "markdown",
   "metadata": {},
   "source": [
    "Show users vs. movies ratings: It can appresciated that some user did not give a rating to some movies (NaN)."
   ]
  },
  {
   "cell_type": "code",
   "execution_count": 15,
   "metadata": {},
   "outputs": [
    {
     "data": {
      "text/html": [
       "<div>\n",
       "<style scoped>\n",
       "    .dataframe tbody tr th:only-of-type {\n",
       "        vertical-align: middle;\n",
       "    }\n",
       "\n",
       "    .dataframe tbody tr th {\n",
       "        vertical-align: top;\n",
       "    }\n",
       "\n",
       "    .dataframe thead th {\n",
       "        text-align: right;\n",
       "    }\n",
       "</style>\n",
       "<table border=\"1\" class=\"dataframe\">\n",
       "  <thead>\n",
       "    <tr style=\"text-align: right;\">\n",
       "      <th>movieId</th>\n",
       "      <th>1</th>\n",
       "      <th>50</th>\n",
       "      <th>110</th>\n",
       "      <th>260</th>\n",
       "      <th>296</th>\n",
       "      <th>318</th>\n",
       "      <th>356</th>\n",
       "      <th>480</th>\n",
       "      <th>527</th>\n",
       "      <th>589</th>\n",
       "      <th>593</th>\n",
       "      <th>1196</th>\n",
       "      <th>2571</th>\n",
       "      <th>2858</th>\n",
       "      <th>2959</th>\n",
       "    </tr>\n",
       "    <tr>\n",
       "      <th>userId</th>\n",
       "      <th></th>\n",
       "      <th></th>\n",
       "      <th></th>\n",
       "      <th></th>\n",
       "      <th></th>\n",
       "      <th></th>\n",
       "      <th></th>\n",
       "      <th></th>\n",
       "      <th></th>\n",
       "      <th></th>\n",
       "      <th></th>\n",
       "      <th></th>\n",
       "      <th></th>\n",
       "      <th></th>\n",
       "      <th></th>\n",
       "    </tr>\n",
       "  </thead>\n",
       "  <tbody>\n",
       "    <tr>\n",
       "      <th>68</th>\n",
       "      <td>2.5</td>\n",
       "      <td>3.0</td>\n",
       "      <td>2.5</td>\n",
       "      <td>5.0</td>\n",
       "      <td>2.0</td>\n",
       "      <td>3.0</td>\n",
       "      <td>3.5</td>\n",
       "      <td>3.5</td>\n",
       "      <td>4.0</td>\n",
       "      <td>3.5</td>\n",
       "      <td>3.5</td>\n",
       "      <td>5.0</td>\n",
       "      <td>4.5</td>\n",
       "      <td>5.0</td>\n",
       "      <td>2.5</td>\n",
       "    </tr>\n",
       "    <tr>\n",
       "      <th>182</th>\n",
       "      <td>4.0</td>\n",
       "      <td>4.5</td>\n",
       "      <td>3.5</td>\n",
       "      <td>3.5</td>\n",
       "      <td>5.0</td>\n",
       "      <td>4.5</td>\n",
       "      <td>5.0</td>\n",
       "      <td>3.5</td>\n",
       "      <td>4.0</td>\n",
       "      <td>2.0</td>\n",
       "      <td>4.5</td>\n",
       "      <td>3.0</td>\n",
       "      <td>5.0</td>\n",
       "      <td>5.0</td>\n",
       "      <td>5.0</td>\n",
       "    </tr>\n",
       "    <tr>\n",
       "      <th>249</th>\n",
       "      <td>4.0</td>\n",
       "      <td>4.0</td>\n",
       "      <td>5.0</td>\n",
       "      <td>5.0</td>\n",
       "      <td>4.0</td>\n",
       "      <td>4.5</td>\n",
       "      <td>4.5</td>\n",
       "      <td>4.0</td>\n",
       "      <td>4.5</td>\n",
       "      <td>4.0</td>\n",
       "      <td>4.0</td>\n",
       "      <td>5.0</td>\n",
       "      <td>5.0</td>\n",
       "      <td>4.5</td>\n",
       "      <td>5.0</td>\n",
       "    </tr>\n",
       "    <tr>\n",
       "      <th>274</th>\n",
       "      <td>4.0</td>\n",
       "      <td>4.0</td>\n",
       "      <td>4.5</td>\n",
       "      <td>3.0</td>\n",
       "      <td>5.0</td>\n",
       "      <td>4.5</td>\n",
       "      <td>4.5</td>\n",
       "      <td>3.5</td>\n",
       "      <td>4.0</td>\n",
       "      <td>4.5</td>\n",
       "      <td>4.0</td>\n",
       "      <td>4.5</td>\n",
       "      <td>4.0</td>\n",
       "      <td>5.0</td>\n",
       "      <td>5.0</td>\n",
       "    </tr>\n",
       "    <tr>\n",
       "      <th>288</th>\n",
       "      <td>4.5</td>\n",
       "      <td>NaN</td>\n",
       "      <td>5.0</td>\n",
       "      <td>5.0</td>\n",
       "      <td>5.0</td>\n",
       "      <td>5.0</td>\n",
       "      <td>5.0</td>\n",
       "      <td>2.0</td>\n",
       "      <td>5.0</td>\n",
       "      <td>4.0</td>\n",
       "      <td>5.0</td>\n",
       "      <td>4.5</td>\n",
       "      <td>3.0</td>\n",
       "      <td>NaN</td>\n",
       "      <td>3.5</td>\n",
       "    </tr>\n",
       "    <tr>\n",
       "      <th>307</th>\n",
       "      <td>4.0</td>\n",
       "      <td>4.5</td>\n",
       "      <td>3.5</td>\n",
       "      <td>3.5</td>\n",
       "      <td>4.5</td>\n",
       "      <td>4.5</td>\n",
       "      <td>4.0</td>\n",
       "      <td>3.5</td>\n",
       "      <td>4.5</td>\n",
       "      <td>2.5</td>\n",
       "      <td>4.5</td>\n",
       "      <td>3.0</td>\n",
       "      <td>3.5</td>\n",
       "      <td>4.0</td>\n",
       "      <td>4.0</td>\n",
       "    </tr>\n",
       "    <tr>\n",
       "      <th>380</th>\n",
       "      <td>5.0</td>\n",
       "      <td>4.0</td>\n",
       "      <td>4.0</td>\n",
       "      <td>5.0</td>\n",
       "      <td>5.0</td>\n",
       "      <td>3.0</td>\n",
       "      <td>5.0</td>\n",
       "      <td>5.0</td>\n",
       "      <td>NaN</td>\n",
       "      <td>5.0</td>\n",
       "      <td>5.0</td>\n",
       "      <td>5.0</td>\n",
       "      <td>4.5</td>\n",
       "      <td>NaN</td>\n",
       "      <td>4.0</td>\n",
       "    </tr>\n",
       "    <tr>\n",
       "      <th>387</th>\n",
       "      <td>NaN</td>\n",
       "      <td>4.5</td>\n",
       "      <td>3.5</td>\n",
       "      <td>4.5</td>\n",
       "      <td>5.0</td>\n",
       "      <td>3.5</td>\n",
       "      <td>4.0</td>\n",
       "      <td>3.0</td>\n",
       "      <td>NaN</td>\n",
       "      <td>3.5</td>\n",
       "      <td>4.0</td>\n",
       "      <td>4.5</td>\n",
       "      <td>4.0</td>\n",
       "      <td>4.5</td>\n",
       "      <td>4.5</td>\n",
       "    </tr>\n",
       "    <tr>\n",
       "      <th>414</th>\n",
       "      <td>4.0</td>\n",
       "      <td>5.0</td>\n",
       "      <td>5.0</td>\n",
       "      <td>5.0</td>\n",
       "      <td>5.0</td>\n",
       "      <td>5.0</td>\n",
       "      <td>5.0</td>\n",
       "      <td>4.0</td>\n",
       "      <td>4.0</td>\n",
       "      <td>5.0</td>\n",
       "      <td>4.0</td>\n",
       "      <td>5.0</td>\n",
       "      <td>5.0</td>\n",
       "      <td>5.0</td>\n",
       "      <td>5.0</td>\n",
       "    </tr>\n",
       "    <tr>\n",
       "      <th>448</th>\n",
       "      <td>5.0</td>\n",
       "      <td>4.0</td>\n",
       "      <td>NaN</td>\n",
       "      <td>5.0</td>\n",
       "      <td>5.0</td>\n",
       "      <td>NaN</td>\n",
       "      <td>3.0</td>\n",
       "      <td>3.0</td>\n",
       "      <td>NaN</td>\n",
       "      <td>3.0</td>\n",
       "      <td>5.0</td>\n",
       "      <td>5.0</td>\n",
       "      <td>2.0</td>\n",
       "      <td>4.0</td>\n",
       "      <td>4.0</td>\n",
       "    </tr>\n",
       "    <tr>\n",
       "      <th>474</th>\n",
       "      <td>4.0</td>\n",
       "      <td>4.0</td>\n",
       "      <td>3.0</td>\n",
       "      <td>4.0</td>\n",
       "      <td>4.0</td>\n",
       "      <td>5.0</td>\n",
       "      <td>3.0</td>\n",
       "      <td>4.5</td>\n",
       "      <td>5.0</td>\n",
       "      <td>4.0</td>\n",
       "      <td>4.5</td>\n",
       "      <td>5.0</td>\n",
       "      <td>4.5</td>\n",
       "      <td>3.5</td>\n",
       "      <td>4.0</td>\n",
       "    </tr>\n",
       "    <tr>\n",
       "      <th>599</th>\n",
       "      <td>3.0</td>\n",
       "      <td>3.5</td>\n",
       "      <td>3.5</td>\n",
       "      <td>5.0</td>\n",
       "      <td>5.0</td>\n",
       "      <td>4.0</td>\n",
       "      <td>3.5</td>\n",
       "      <td>4.0</td>\n",
       "      <td>NaN</td>\n",
       "      <td>4.5</td>\n",
       "      <td>3.0</td>\n",
       "      <td>5.0</td>\n",
       "      <td>5.0</td>\n",
       "      <td>5.0</td>\n",
       "      <td>5.0</td>\n",
       "    </tr>\n",
       "    <tr>\n",
       "      <th>603</th>\n",
       "      <td>4.0</td>\n",
       "      <td>NaN</td>\n",
       "      <td>1.0</td>\n",
       "      <td>4.0</td>\n",
       "      <td>5.0</td>\n",
       "      <td>NaN</td>\n",
       "      <td>3.0</td>\n",
       "      <td>NaN</td>\n",
       "      <td>3.0</td>\n",
       "      <td>NaN</td>\n",
       "      <td>5.0</td>\n",
       "      <td>3.0</td>\n",
       "      <td>5.0</td>\n",
       "      <td>5.0</td>\n",
       "      <td>4.0</td>\n",
       "    </tr>\n",
       "    <tr>\n",
       "      <th>606</th>\n",
       "      <td>2.5</td>\n",
       "      <td>4.5</td>\n",
       "      <td>3.5</td>\n",
       "      <td>4.5</td>\n",
       "      <td>5.0</td>\n",
       "      <td>3.5</td>\n",
       "      <td>4.0</td>\n",
       "      <td>2.5</td>\n",
       "      <td>5.0</td>\n",
       "      <td>3.5</td>\n",
       "      <td>4.5</td>\n",
       "      <td>4.5</td>\n",
       "      <td>5.0</td>\n",
       "      <td>4.5</td>\n",
       "      <td>5.0</td>\n",
       "    </tr>\n",
       "    <tr>\n",
       "      <th>610</th>\n",
       "      <td>5.0</td>\n",
       "      <td>4.0</td>\n",
       "      <td>4.5</td>\n",
       "      <td>5.0</td>\n",
       "      <td>5.0</td>\n",
       "      <td>3.0</td>\n",
       "      <td>3.0</td>\n",
       "      <td>5.0</td>\n",
       "      <td>3.5</td>\n",
       "      <td>5.0</td>\n",
       "      <td>4.5</td>\n",
       "      <td>5.0</td>\n",
       "      <td>5.0</td>\n",
       "      <td>3.5</td>\n",
       "      <td>5.0</td>\n",
       "    </tr>\n",
       "  </tbody>\n",
       "</table>\n",
       "</div>"
      ],
      "text/plain": [
       "movieId  1     50    110   260   296   318   356   480   527   589   593   \\\n",
       "userId                                                                      \n",
       "68        2.5   3.0   2.5   5.0   2.0   3.0   3.5   3.5   4.0   3.5   3.5   \n",
       "182       4.0   4.5   3.5   3.5   5.0   4.5   5.0   3.5   4.0   2.0   4.5   \n",
       "249       4.0   4.0   5.0   5.0   4.0   4.5   4.5   4.0   4.5   4.0   4.0   \n",
       "274       4.0   4.0   4.5   3.0   5.0   4.5   4.5   3.5   4.0   4.5   4.0   \n",
       "288       4.5   NaN   5.0   5.0   5.0   5.0   5.0   2.0   5.0   4.0   5.0   \n",
       "307       4.0   4.5   3.5   3.5   4.5   4.5   4.0   3.5   4.5   2.5   4.5   \n",
       "380       5.0   4.0   4.0   5.0   5.0   3.0   5.0   5.0   NaN   5.0   5.0   \n",
       "387       NaN   4.5   3.5   4.5   5.0   3.5   4.0   3.0   NaN   3.5   4.0   \n",
       "414       4.0   5.0   5.0   5.0   5.0   5.0   5.0   4.0   4.0   5.0   4.0   \n",
       "448       5.0   4.0   NaN   5.0   5.0   NaN   3.0   3.0   NaN   3.0   5.0   \n",
       "474       4.0   4.0   3.0   4.0   4.0   5.0   3.0   4.5   5.0   4.0   4.5   \n",
       "599       3.0   3.5   3.5   5.0   5.0   4.0   3.5   4.0   NaN   4.5   3.0   \n",
       "603       4.0   NaN   1.0   4.0   5.0   NaN   3.0   NaN   3.0   NaN   5.0   \n",
       "606       2.5   4.5   3.5   4.5   5.0   3.5   4.0   2.5   5.0   3.5   4.5   \n",
       "610       5.0   4.0   4.5   5.0   5.0   3.0   3.0   5.0   3.5   5.0   4.5   \n",
       "\n",
       "movieId  1196  2571  2858  2959  \n",
       "userId                           \n",
       "68        5.0   4.5   5.0   2.5  \n",
       "182       3.0   5.0   5.0   5.0  \n",
       "249       5.0   5.0   4.5   5.0  \n",
       "274       4.5   4.0   5.0   5.0  \n",
       "288       4.5   3.0   NaN   3.5  \n",
       "307       3.0   3.5   4.0   4.0  \n",
       "380       5.0   4.5   NaN   4.0  \n",
       "387       4.5   4.0   4.5   4.5  \n",
       "414       5.0   5.0   5.0   5.0  \n",
       "448       5.0   2.0   4.0   4.0  \n",
       "474       5.0   4.5   3.5   4.0  \n",
       "599       5.0   5.0   5.0   5.0  \n",
       "603       3.0   5.0   5.0   4.0  \n",
       "606       4.5   5.0   4.5   5.0  \n",
       "610       5.0   5.0   3.5   5.0  "
      ]
     },
     "execution_count": 15,
     "metadata": {},
     "output_type": "execute_result"
    }
   ],
   "source": [
    "pd.crosstab(top_r.userId, top_r.movieId, top_r.rating, aggfunc=np.sum)"
   ]
  },
  {
   "cell_type": "markdown",
   "metadata": {},
   "source": [
    "Transform categorical columns values to values from 0 to N-1:"
   ]
  },
  {
   "cell_type": "code",
   "execution_count": 16,
   "metadata": {},
   "outputs": [],
   "source": [
    "user_enc = LabelEncoder()\n",
    "ratings['user'] = user_enc.fit_transform(ratings['userId'].values)\n",
    "n_users = ratings['user'].nunique()\n",
    "\n",
    "item_enc = LabelEncoder()\n",
    "ratings['movie'] = item_enc.fit_transform(ratings['movieId'].values)\n",
    "n_movies = ratings['movie'].nunique()\n",
    "\n",
    "ratings['rating'] = ratings['rating'].values.astype(np.float32)\n",
    "min_rating = min(ratings['rating'])\n",
    "max_rating = max(ratings['rating'])"
   ]
  },
  {
   "cell_type": "code",
   "execution_count": 17,
   "metadata": {},
   "outputs": [
    {
     "data": {
      "text/html": [
       "<div>\n",
       "<style scoped>\n",
       "    .dataframe tbody tr th:only-of-type {\n",
       "        vertical-align: middle;\n",
       "    }\n",
       "\n",
       "    .dataframe tbody tr th {\n",
       "        vertical-align: top;\n",
       "    }\n",
       "\n",
       "    .dataframe thead th {\n",
       "        text-align: right;\n",
       "    }\n",
       "</style>\n",
       "<table border=\"1\" class=\"dataframe\">\n",
       "  <thead>\n",
       "    <tr style=\"text-align: right;\">\n",
       "      <th></th>\n",
       "      <th>userId</th>\n",
       "      <th>movieId</th>\n",
       "      <th>rating</th>\n",
       "      <th>timestamp</th>\n",
       "      <th>user</th>\n",
       "      <th>movie</th>\n",
       "    </tr>\n",
       "  </thead>\n",
       "  <tbody>\n",
       "    <tr>\n",
       "      <th>0</th>\n",
       "      <td>1</td>\n",
       "      <td>1</td>\n",
       "      <td>4.0</td>\n",
       "      <td>964982703</td>\n",
       "      <td>0</td>\n",
       "      <td>0</td>\n",
       "    </tr>\n",
       "    <tr>\n",
       "      <th>1</th>\n",
       "      <td>1</td>\n",
       "      <td>3</td>\n",
       "      <td>4.0</td>\n",
       "      <td>964981247</td>\n",
       "      <td>0</td>\n",
       "      <td>2</td>\n",
       "    </tr>\n",
       "    <tr>\n",
       "      <th>2</th>\n",
       "      <td>1</td>\n",
       "      <td>6</td>\n",
       "      <td>4.0</td>\n",
       "      <td>964982224</td>\n",
       "      <td>0</td>\n",
       "      <td>5</td>\n",
       "    </tr>\n",
       "    <tr>\n",
       "      <th>3</th>\n",
       "      <td>1</td>\n",
       "      <td>47</td>\n",
       "      <td>5.0</td>\n",
       "      <td>964983815</td>\n",
       "      <td>0</td>\n",
       "      <td>43</td>\n",
       "    </tr>\n",
       "    <tr>\n",
       "      <th>4</th>\n",
       "      <td>1</td>\n",
       "      <td>50</td>\n",
       "      <td>5.0</td>\n",
       "      <td>964982931</td>\n",
       "      <td>0</td>\n",
       "      <td>46</td>\n",
       "    </tr>\n",
       "  </tbody>\n",
       "</table>\n",
       "</div>"
      ],
      "text/plain": [
       "   userId  movieId  rating  timestamp  user  movie\n",
       "0       1        1     4.0  964982703     0      0\n",
       "1       1        3     4.0  964981247     0      2\n",
       "2       1        6     4.0  964982224     0      5\n",
       "3       1       47     5.0  964983815     0     43\n",
       "4       1       50     5.0  964982931     0     46"
      ]
     },
     "execution_count": 17,
     "metadata": {},
     "output_type": "execute_result"
    }
   ],
   "source": [
    "ratings.head()"
   ]
  },
  {
   "cell_type": "markdown",
   "metadata": {},
   "source": [
    "Users and movies count:"
   ]
  },
  {
   "cell_type": "code",
   "execution_count": 18,
   "metadata": {},
   "outputs": [
    {
     "data": {
      "text/plain": [
       "(610, 9724)"
      ]
     },
     "execution_count": 18,
     "metadata": {},
     "output_type": "execute_result"
    }
   ],
   "source": [
    "n_users, n_movies"
   ]
  },
  {
   "cell_type": "markdown",
   "metadata": {},
   "source": [
    "Min and max rating:"
   ]
  },
  {
   "cell_type": "code",
   "execution_count": 19,
   "metadata": {},
   "outputs": [
    {
     "data": {
      "text/plain": [
       "(0.5, 5.0)"
      ]
     },
     "execution_count": 19,
     "metadata": {},
     "output_type": "execute_result"
    }
   ],
   "source": [
    "min_rating, max_rating"
   ]
  },
  {
   "cell_type": "markdown",
   "metadata": {},
   "source": [
    "Build X and y sets (Equivalent to features and label for ech training test)."
   ]
  },
  {
   "cell_type": "code",
   "execution_count": 20,
   "metadata": {},
   "outputs": [],
   "source": [
    "X = ratings[['user', 'movie']].values\n",
    "y = ratings['rating'].values"
   ]
  },
  {
   "cell_type": "markdown",
   "metadata": {},
   "source": [
    "Show features an label for first sample:"
   ]
  },
  {
   "cell_type": "code",
   "execution_count": 21,
   "metadata": {},
   "outputs": [
    {
     "data": {
      "text/plain": [
       "(array([0, 0]), 4.0)"
      ]
     },
     "execution_count": 21,
     "metadata": {},
     "output_type": "execute_result"
    }
   ],
   "source": [
    "X[0], y[0]"
   ]
  },
  {
   "cell_type": "markdown",
   "metadata": {},
   "source": [
    "Split data to train, validation and test sets:"
   ]
  },
  {
   "cell_type": "code",
   "execution_count": 22,
   "metadata": {},
   "outputs": [
    {
     "data": {
      "text/plain": [
       "((90752, 2), (10084, 2), (90752,), (10084,))"
      ]
     },
     "execution_count": 22,
     "metadata": {},
     "output_type": "execute_result"
    }
   ],
   "source": [
    "X_train, X_val, y_train, y_val = train_test_split(X, y, test_size=0.1) # , random_state=42)\n",
    "\n",
    "X_train.shape, X_val.shape, y_train.shape, y_val.shape"
   ]
  },
  {
   "cell_type": "markdown",
   "metadata": {},
   "source": [
    "## Model bases colaborative filtering"
   ]
  },
  {
   "cell_type": "markdown",
   "metadata": {},
   "source": [
    "### Dot product of user and movies embeddings"
   ]
  },
  {
   "cell_type": "code",
   "execution_count": 23,
   "metadata": {},
   "outputs": [],
   "source": [
    "model1 = EmbeddingDotModelFactory.create(\n",
    "    n_users, \n",
    "    n_movies, \n",
    "    n_factors=50,\n",
    "    lr=0.001,\n",
    "    l2_delta=1e-6,\n",
    "    loss='mean_squared_error'\n",
    ")"
   ]
  },
  {
   "cell_type": "code",
   "execution_count": 24,
   "metadata": {},
   "outputs": [
    {
     "data": {
      "image/png": "[encoded data removed]",
      "text/plain": [
       "<IPython.core.display.Image object>"
      ]
     },
     "execution_count": 24,
     "metadata": {},
     "output_type": "execute_result"
    }
   ],
   "source": [
    "plot_model(model1)"
   ]
  },
  {
   "cell_type": "markdown",
   "metadata": {},
   "source": [
    "**Note**: Dot product layer perform an element-wise operation. i.e.: [[1..50]. [1..50]] (2,50) x [[50], [50]] (2,50) => [1..50]x[1..50] = [a], [1..50]x[1..50]= [b] => Result: [[a],[b]] (2,1)."
   ]
  },
  {
   "cell_type": "code",
   "execution_count": 25,
   "metadata": {},
   "outputs": [
    {
     "name": "stdout",
     "output_type": "stream",
     "text": [
      "Model: \"Embedding_Dot_Product_Model\"\n",
      "__________________________________________________________________________________________________\n",
      "Layer (type)                    Output Shape         Param #     Connected to                     \n",
      "==================================================================================================\n",
      "users_idx (InputLayer)          [(None, 1)]          0                                            \n",
      "__________________________________________________________________________________________________\n",
      "movies_idx (InputLayer)         [(None, 1)]          0                                            \n",
      "__________________________________________________________________________________________________\n",
      "users_embedding (Embedding)     (None, 1, 50)        30500       users_idx[0][0]                  \n",
      "__________________________________________________________________________________________________\n",
      "movies_embedding (Embedding)    (None, 1, 50)        486200      movies_idx[0][0]                 \n",
      "__________________________________________________________________________________________________\n",
      "users_embedding_3_to_2_dim (Res (None, 50)           0           users_embedding[0][0]            \n",
      "__________________________________________________________________________________________________\n",
      "movies_embedding_3_to_2_dim (Re (None, 50)           0           movies_embedding[0][0]           \n",
      "__________________________________________________________________________________________________\n",
      "user_rating_prediction (Dot)    (None, 1)            0           users_embedding_3_to_2_dim[0][0] \n",
      "                                                                 movies_embedding_3_to_2_dim[0][0]\n",
      "==================================================================================================\n",
      "Total params: 516,700\n",
      "Trainable params: 516,700\n",
      "Non-trainable params: 0\n",
      "__________________________________________________________________________________________________\n"
     ]
    }
   ],
   "source": [
    " model1.summary()"
   ]
  },
  {
   "cell_type": "code",
   "execution_count": 26,
   "metadata": {},
   "outputs": [],
   "source": [
    "batch_size=64\n",
    "\n",
    "def to_input(X, y): return [X[:, 0], X[:, 1]], y\n",
    "\n",
    "training_generator = InMemoryXyDataGenerator(\n",
    "    X_train, \n",
    "    y_train, \n",
    "    batch_size, \n",
    "    shuffle=True, \n",
    "    to_input=to_input\n",
    ")\n",
    "\n",
    "validation_generator = InMemoryXyDataGenerator(\n",
    "    X_val, \n",
    "    y_val, \n",
    "    batch_size, \n",
    "    to_input=to_input\n",
    ")"
   ]
  },
  {
   "cell_type": "code",
   "execution_count": 27,
   "metadata": {},
   "outputs": [
    {
     "data": {
      "image/png": "[encoded data removed]",
      "text/plain": [
       "<Figure size 2160x576 with 1 Axes>"
      ]
     },
     "metadata": {
      "needs_background": "light"
     },
     "output_type": "display_data"
    },
    {
     "name": "stdout",
     "output_type": "stream",
     "text": [
      "1196/1418 [========================>.....] - ETA: 1s - loss: 0.7871\n",
      "\n",
      "Evaluate model (Each 600 steps):\n",
      "157/157 [==============================] - 0s 2ms/step - loss: 1.3415\n",
      "\n",
      "Validation:\n",
      "  - Loss (15): 1.341508 (⟱ 0.01637256)\n",
      "\n",
      "Continue model train:\n",
      "1418/1418 [==============================] - 8s 5ms/step - loss: 0.9199 - val_loss: 1.3391\n"
     ]
    }
   ],
   "source": [
    "history = model1.fit_generator(\n",
    "    generator=training_generator,\n",
    "    validation_data=validation_generator,\n",
    "    epochs=5,\n",
    "    verbose=1, \n",
    "    callbacks=[\n",
    "        MetricsPlotter(\n",
    "            validation_generator=validation_generator, \n",
    "            metrics_names=['loss'],\n",
    "            plot_interval=500,\n",
    "            evaluate_interval=600,\n",
    "            batch_size=batch_size\n",
    "        )\n",
    "    ]\n",
    ")"
   ]
  },
  {
   "cell_type": "code",
   "execution_count": 28,
   "metadata": {},
   "outputs": [],
   "source": [
    "def evaluate_xy_model(model, X, y, batch_size):\n",
    "    data_generator = InMemoryXyDataGenerator(X, y, len(X_val), to_input=to_input)\n",
    "    X_t, y_t = data_generator[0]\n",
    "    print(X_t[0].shape)\n",
    "    return model.evaluate(X_t, y_t, batch_size=batch_size, verbose=0)"
   ]
  },
  {
   "cell_type": "markdown",
   "metadata": {},
   "source": [
    "### Dot product of users and movies embedding + Biases"
   ]
  },
  {
   "cell_type": "code",
   "execution_count": 29,
   "metadata": {},
   "outputs": [],
   "source": [
    "model2 = EmbeddingBiasesDotModelFactory.create(\n",
    "    n_users, \n",
    "    n_movies, \n",
    "    n_factors=50,\n",
    "    min_rating=min_rating, \n",
    "    max_rating=max_rating,\n",
    "    lr=0.001,\n",
    "    loss='mean_squared_error'\n",
    ")"
   ]
  },
  {
   "cell_type": "code",
   "execution_count": 30,
   "metadata": {},
   "outputs": [
    {
     "data": {
      "image/png": "[encoded data removed]",
      "text/plain": [
       "<IPython.core.display.Image object>"
      ]
     },
     "execution_count": 30,
     "metadata": {},
     "output_type": "execute_result"
    }
   ],
   "source": [
    "plot_model(model2)"
   ]
  },
  {
   "cell_type": "code",
   "execution_count": 31,
   "metadata": {},
   "outputs": [
    {
     "name": "stdout",
     "output_type": "stream",
     "text": [
      "Model: \"Embedding_Dot_Product_Plus_Biases_Model\"\n",
      "__________________________________________________________________________________________________\n",
      "Layer (type)                    Output Shape         Param #     Connected to                     \n",
      "==================================================================================================\n",
      "users_idx (InputLayer)          [(None, 1)]          0                                            \n",
      "__________________________________________________________________________________________________\n",
      "movies_idx (InputLayer)         [(None, 1)]          0                                            \n",
      "__________________________________________________________________________________________________\n",
      "users_embedding (Embedding)     (None, 1, 50)        30500       users_idx[0][0]                  \n",
      "__________________________________________________________________________________________________\n",
      "movies_embedding (Embedding)    (None, 1, 50)        486200      movies_idx[0][0]                 \n",
      "__________________________________________________________________________________________________\n",
      "users_embedding_3_to_2_dim (Res (None, 50)           0           users_embedding[0][0]            \n",
      "__________________________________________________________________________________________________\n",
      "movies_embedding_3_to_2_dim (Re (None, 50)           0           movies_embedding[0][0]           \n",
      "__________________________________________________________________________________________________\n",
      "users_biases (Embedding)        (None, 1, 1)         610         users_idx[0][0]                  \n",
      "__________________________________________________________________________________________________\n",
      "movie_biases (Embedding)        (None, 1, 1)         9724        movies_idx[0][0]                 \n",
      "__________________________________________________________________________________________________\n",
      "dot_product (Dot)               (None, 1)            0           users_embedding_3_to_2_dim[0][0] \n",
      "                                                                 movies_embedding_3_to_2_dim[0][0]\n",
      "__________________________________________________________________________________________________\n",
      "users_biases_3_to_2_dim (Reshap (None, 1)            0           users_biases[0][0]               \n",
      "__________________________________________________________________________________________________\n",
      "movie_biases_3_to_2_dim (Reshap (None, 1)            0           movie_biases[0][0]               \n",
      "__________________________________________________________________________________________________\n",
      "Add (Add)                       (None, 1)            0           dot_product[0][0]                \n",
      "                                                                 users_biases_3_to_2_dim[0][0]    \n",
      "                                                                 movie_biases_3_to_2_dim[0][0]    \n",
      "__________________________________________________________________________________________________\n",
      "sigmoid_activation (Activation) (None, 1)            0           Add[0][0]                        \n",
      "__________________________________________________________________________________________________\n",
      "user_rating_prediction (Lambda) (None, 1)            0           sigmoid_activation[0][0]         \n",
      "==================================================================================================\n",
      "Total params: 527,034\n",
      "Trainable params: 527,034\n",
      "Non-trainable params: 0\n",
      "__________________________________________________________________________________________________\n"
     ]
    }
   ],
   "source": [
    "model2.summary()"
   ]
  },
  {
   "cell_type": "code",
   "execution_count": 32,
   "metadata": {},
   "outputs": [
    {
     "data": {
      "image/png": "[encoded data removed]",
      "text/plain": [
       "<Figure size 2160x576 with 1 Axes>"
      ]
     },
     "metadata": {
      "needs_background": "light"
     },
     "output_type": "display_data"
    },
    {
     "name": "stdout",
     "output_type": "stream",
     "text": [
      "1198/1418 [========================>.....] - ETA: 1s - loss: 0.3677\n",
      "\n",
      "Evaluate model (Each 600 steps):\n",
      "157/157 [==============================] - 0s 2ms/step - loss: 0.7661\n",
      "\n",
      "Validation:\n",
      "  - Loss (15): 0.766087 (⟰ 0.00676978)\n",
      "\n",
      "Continue model train:\n",
      "1418/1418 [==============================] - 8s 6ms/step - loss: 0.4640 - val_loss: 0.7692\n"
     ]
    }
   ],
   "source": [
    "history = model2.fit_generator(\n",
    "    generator=training_generator,\n",
    "    validation_data=validation_generator,\n",
    "    epochs=5,\n",
    "    verbose=1, \n",
    "    callbacks=[\n",
    "        MetricsPlotter(\n",
    "            validation_generator=validation_generator, \n",
    "            metrics_names=['loss'],\n",
    "            plot_interval=500,\n",
    "            evaluate_interval=600,\n",
    "            batch_size=batch_size\n",
    "        )\n",
    "    ]\n",
    ")"
   ]
  },
  {
   "cell_type": "code",
   "execution_count": 33,
   "metadata": {},
   "outputs": [
    {
     "data": {
      "text/plain": [
       "64"
      ]
     },
     "execution_count": 33,
     "metadata": {},
     "output_type": "execute_result"
    }
   ],
   "source": [
    "batch_size"
   ]
  },
  {
   "cell_type": "code",
   "execution_count": 34,
   "metadata": {},
   "outputs": [
    {
     "data": {
      "text/plain": [
       "(10084, 2)"
      ]
     },
     "execution_count": 34,
     "metadata": {},
     "output_type": "execute_result"
    }
   ],
   "source": [
    "X_val.shape"
   ]
  },
  {
   "cell_type": "code",
   "execution_count": 35,
   "metadata": {},
   "outputs": [
    {
     "name": "stdout",
     "output_type": "stream",
     "text": [
      "(10084,)\n"
     ]
    },
    {
     "data": {
      "text/plain": [
       "0.7687765955924988"
      ]
     },
     "execution_count": 35,
     "metadata": {},
     "output_type": "execute_result"
    }
   ],
   "source": [
    "evaluate_xy_model(model2, X_val, y_val, batch_size)"
   ]
  },
  {
   "cell_type": "markdown",
   "metadata": {},
   "source": [
    "### Deep Model: User and Movie embeddings + Dense layers "
   ]
  },
  {
   "cell_type": "code",
   "execution_count": 36,
   "metadata": {},
   "outputs": [],
   "source": [
    "model3 = EmbeddingDenseModelFactory.create(\n",
    "    n_users, \n",
    "    n_movies, \n",
    "    n_factors=100,\n",
    "    min_rating=min_rating, \n",
    "    max_rating=max_rating\n",
    ")"
   ]
  },
  {
   "cell_type": "code",
   "execution_count": 37,
   "metadata": {},
   "outputs": [
    {
     "data": {
      "image/png": "[encoded data removed]",
      "text/plain": [
       "<IPython.core.display.Image object>"
      ]
     },
     "execution_count": 37,
     "metadata": {},
     "output_type": "execute_result"
    }
   ],
   "source": [
    "plot_model(model3)"
   ]
  },
  {
   "cell_type": "code",
   "execution_count": 38,
   "metadata": {},
   "outputs": [
    {
     "name": "stdout",
     "output_type": "stream",
     "text": [
      "Model: \"Embedding_Feature_Layers_Plus_Dense_Layer_Model\"\n",
      "__________________________________________________________________________________________________\n",
      "Layer (type)                    Output Shape         Param #     Connected to                     \n",
      "==================================================================================================\n",
      "users_idx (InputLayer)          [(None, 1)]          0                                            \n",
      "__________________________________________________________________________________________________\n",
      "movies_idx (InputLayer)         [(None, 1)]          0                                            \n",
      "__________________________________________________________________________________________________\n",
      "users_embedding (Embedding)     (None, 1, 100)       61000       users_idx[0][0]                  \n",
      "__________________________________________________________________________________________________\n",
      "movies_embedding (Embedding)    (None, 1, 100)       972400      movies_idx[0][0]                 \n",
      "__________________________________________________________________________________________________\n",
      "users_embedding_3_to_2_dim (Res (None, 100)          0           users_embedding[0][0]            \n",
      "__________________________________________________________________________________________________\n",
      "movies_embedding_3_to_2_dim (Re (None, 100)          0           movies_embedding[0][0]           \n",
      "__________________________________________________________________________________________________\n",
      "concatenate (Concatenate)       (None, 200)          0           users_embedding_3_to_2_dim[0][0] \n",
      "                                                                 movies_embedding_3_to_2_dim[0][0]\n",
      "__________________________________________________________________________________________________\n",
      "dropout (Dropout)               (None, 200)          0           concatenate[0][0]                \n",
      "__________________________________________________________________________________________________\n",
      "dense (Dense)                   (None, 10)           2010        dropout[0][0]                    \n",
      "__________________________________________________________________________________________________\n",
      "relu_activiation (Activation)   (None, 10)           0           dense[0][0]                      \n",
      "__________________________________________________________________________________________________\n",
      "dropout_1 (Dropout)             (None, 10)           0           relu_activiation[0][0]           \n",
      "__________________________________________________________________________________________________\n",
      "dense_1 (Dense)                 (None, 1)            11          dropout_1[0][0]                  \n",
      "__________________________________________________________________________________________________\n",
      "sigmoid_activiation (Activation (None, 1)            0           dense_1[0][0]                    \n",
      "__________________________________________________________________________________________________\n",
      "user_rating_prediction (Lambda) (None, 1)            0           sigmoid_activiation[0][0]        \n",
      "==================================================================================================\n",
      "Total params: 1,035,421\n",
      "Trainable params: 1,035,421\n",
      "Non-trainable params: 0\n",
      "__________________________________________________________________________________________________\n"
     ]
    }
   ],
   "source": [
    "model3.summary()"
   ]
  },
  {
   "cell_type": "code",
   "execution_count": 39,
   "metadata": {},
   "outputs": [
    {
     "data": {
      "image/png": "[encoded data removed]",
      "text/plain": [
       "<Figure size 2160x576 with 1 Axes>"
      ]
     },
     "metadata": {
      "needs_background": "light"
     },
     "output_type": "display_data"
    },
    {
     "name": "stdout",
     "output_type": "stream",
     "text": [
      "1197/1418 [========================>.....] - ETA: 1s - loss: 0.6487\n",
      "\n",
      "Evaluate model (Each 600 steps):\n",
      "157/157 [==============================] - 0s 2ms/step - loss: 0.7740\n",
      "\n",
      "Validation:\n",
      "  - Loss (15): 0.773975 (⟰ 0.00687087)\n",
      "\n",
      "Continue model train:\n",
      "1418/1418 [==============================] - 11s 8ms/step - loss: 0.6897 - val_loss: 0.7776\n"
     ]
    }
   ],
   "source": [
    "history = model3.fit_generator(\n",
    "    generator=training_generator,\n",
    "    validation_data=validation_generator,\n",
    "    epochs=5,\n",
    "    verbose=1, \n",
    "    callbacks=[\n",
    "        MetricsPlotter(\n",
    "            validation_generator=validation_generator, \n",
    "            metrics_names=['loss'],\n",
    "            plot_interval=500,\n",
    "            evaluate_interval=600,\n",
    "            batch_size=batch_size\n",
    "        )\n",
    "    ]\n",
    ")"
   ]
  },
  {
   "cell_type": "code",
   "execution_count": 40,
   "metadata": {},
   "outputs": [
    {
     "data": {
      "text/plain": [
       "0.7775930166244507"
      ]
     },
     "execution_count": 40,
     "metadata": {},
     "output_type": "execute_result"
    }
   ],
   "source": [
    "history.history['val_loss'][-1]"
   ]
  },
  {
   "cell_type": "code",
   "execution_count": 41,
   "metadata": {},
   "outputs": [
    {
     "name": "stdout",
     "output_type": "stream",
     "text": [
      "(10084,)\n"
     ]
    },
    {
     "data": {
      "text/plain": [
       "0.7769647836685181"
      ]
     },
     "execution_count": 41,
     "metadata": {},
     "output_type": "execute_result"
    }
   ],
   "source": [
    "evaluate_xy_model(model3, X_val, y_val, batch_size)"
   ]
  },
  {
   "cell_type": "code",
   "execution_count": 42,
   "metadata": {},
   "outputs": [],
   "source": [
    "model3.save_weights('./embedding_feature_layers_plus_dense_layer_model_weights.h5')"
   ]
  },
  {
   "cell_type": "markdown",
   "metadata": {},
   "source": [
    "### Wide & Deep Model"
   ]
  },
  {
   "cell_type": "code",
   "execution_count": 43,
   "metadata": {},
   "outputs": [
    {
     "data": {
      "text/html": [
       "<div>\n",
       "<style scoped>\n",
       "    .dataframe tbody tr th:only-of-type {\n",
       "        vertical-align: middle;\n",
       "    }\n",
       "\n",
       "    .dataframe tbody tr th {\n",
       "        vertical-align: top;\n",
       "    }\n",
       "\n",
       "    .dataframe thead th {\n",
       "        text-align: right;\n",
       "    }\n",
       "</style>\n",
       "<table border=\"1\" class=\"dataframe\">\n",
       "  <thead>\n",
       "    <tr style=\"text-align: right;\">\n",
       "      <th></th>\n",
       "      <th>user</th>\n",
       "      <th>movie</th>\n",
       "      <th>user1</th>\n",
       "      <th>movie1</th>\n",
       "      <th>user2</th>\n",
       "      <th>movie2</th>\n",
       "      <th>rating</th>\n",
       "    </tr>\n",
       "  </thead>\n",
       "  <tbody>\n",
       "    <tr>\n",
       "      <th>0</th>\n",
       "      <td>0</td>\n",
       "      <td>0</td>\n",
       "      <td>0</td>\n",
       "      <td>0</td>\n",
       "      <td>0</td>\n",
       "      <td>0</td>\n",
       "      <td>4.0</td>\n",
       "    </tr>\n",
       "    <tr>\n",
       "      <th>1</th>\n",
       "      <td>0</td>\n",
       "      <td>2</td>\n",
       "      <td>0</td>\n",
       "      <td>2</td>\n",
       "      <td>0</td>\n",
       "      <td>2</td>\n",
       "      <td>4.0</td>\n",
       "    </tr>\n",
       "    <tr>\n",
       "      <th>2</th>\n",
       "      <td>0</td>\n",
       "      <td>5</td>\n",
       "      <td>0</td>\n",
       "      <td>5</td>\n",
       "      <td>0</td>\n",
       "      <td>5</td>\n",
       "      <td>4.0</td>\n",
       "    </tr>\n",
       "    <tr>\n",
       "      <th>3</th>\n",
       "      <td>0</td>\n",
       "      <td>43</td>\n",
       "      <td>0</td>\n",
       "      <td>43</td>\n",
       "      <td>0</td>\n",
       "      <td>43</td>\n",
       "      <td>5.0</td>\n",
       "    </tr>\n",
       "    <tr>\n",
       "      <th>4</th>\n",
       "      <td>0</td>\n",
       "      <td>46</td>\n",
       "      <td>0</td>\n",
       "      <td>46</td>\n",
       "      <td>0</td>\n",
       "      <td>46</td>\n",
       "      <td>5.0</td>\n",
       "    </tr>\n",
       "  </tbody>\n",
       "</table>\n",
       "</div>"
      ],
      "text/plain": [
       "   user  movie user1 movie1 user2 movie2  rating\n",
       "0     0      0     0      0     0      0     4.0\n",
       "1     0      2     0      2     0      2     4.0\n",
       "2     0      5     0      5     0      5     4.0\n",
       "3     0     43     0     43     0     43     5.0\n",
       "4     0     46     0     46     0     46     5.0"
      ]
     },
     "execution_count": 43,
     "metadata": {},
     "output_type": "execute_result"
    }
   ],
   "source": [
    "dataset = pd.DataFrame()\n",
    "dataset['user'] = ratings['user']\n",
    "dataset['movie'] = ratings['movie']\n",
    "\n",
    "dataset['user1'] = ratings['user'].astype('string')\n",
    "dataset['movie1'] = ratings['movie'].astype('string')\n",
    "\n",
    "dataset['user2'] = dataset['user'].astype('string')\n",
    "dataset['movie2'] = dataset['movie'].astype('string')\n",
    "dataset['rating'] = ratings['rating']\n",
    "\n",
    "dataset.head()"
   ]
  },
  {
   "cell_type": "code",
   "execution_count": 44,
   "metadata": {},
   "outputs": [
    {
     "data": {
      "text/plain": [
       "user        int64\n",
       "movie       int64\n",
       "user1      string\n",
       "movie1     string\n",
       "user2      string\n",
       "movie2     string\n",
       "rating    float32\n",
       "dtype: object"
      ]
     },
     "execution_count": 44,
     "metadata": {},
     "output_type": "execute_result"
    }
   ],
   "source": [
    "dataset.dtypes"
   ]
  },
  {
   "cell_type": "code",
   "execution_count": 45,
   "metadata": {},
   "outputs": [],
   "source": [
    "users_num  = dataset['user'].unique()\n",
    "movies_num = dataset['movie'].unique()\n",
    "\n",
    "users_str  = dataset['user2'].unique()\n",
    "movies_str = dataset['movie2'].unique()"
   ]
  },
  {
   "cell_type": "code",
   "execution_count": 46,
   "metadata": {},
   "outputs": [
    {
     "data": {
      "text/plain": [
       "(610, 9724)"
      ]
     },
     "execution_count": 46,
     "metadata": {},
     "output_type": "execute_result"
    }
   ],
   "source": [
    "len(users_num), len(movies_num)"
   ]
  },
  {
   "cell_type": "code",
   "execution_count": 47,
   "metadata": {},
   "outputs": [],
   "source": [
    "last_user_id = int(users_num[-1])+1\n",
    "last_movie_id = int(movies_num[-1])+1"
   ]
  },
  {
   "cell_type": "code",
   "execution_count": 48,
   "metadata": {},
   "outputs": [
    {
     "name": "stdout",
     "output_type": "stream",
     "text": [
      "User ids: from 0 to 610 - Movie ids: from 0 to 9373.\n"
     ]
    }
   ],
   "source": [
    "print(f'User ids: from 0 to {last_user_id} - Movie ids: from 0 to {last_movie_id}.')"
   ]
  },
  {
   "cell_type": "code",
   "execution_count": 49,
   "metadata": {},
   "outputs": [],
   "source": [
    "wide_inputs = ModelInputBuilder()\n",
    "user_id_cat = wide_inputs.cat_id(\"user\", ids_count=len(users_num)+1, unknown_value=last_user_id)\n",
    "movie_id_cat = wide_inputs.cat_id(\"movie\", ids_count=len(movies_num)+1, unknown_value=last_movie_id)\n",
    "\n",
    "user1_cat  = wide_inputs.cat_one_hot(\"user1\", users_str)\n",
    "movie1_cat = wide_inputs.cat_one_hot(\"movie1\", movies_str)\n",
    "wide_inputs.cat_one_hot_crossed(columns=[user1_cat,  movie1_cat], hash_bucket_size=int(1000))\n",
    "\n",
    "deep_inputs = ModelInputBuilder()\n",
    "deep_inputs.cat_embedding(\"user2\", users_str, dimension=50)\n",
    "deep_inputs.cat_embedding(\"movie2\", movies_str, dimension=50)\n",
    "\n",
    "None"
   ]
  },
  {
   "cell_type": "code",
   "execution_count": 50,
   "metadata": {},
   "outputs": [],
   "source": [
    "model4 = WideAndDeepModelFactory.create(\n",
    "    wide_inputs, \n",
    "    deep_inputs,\n",
    "    deep_hidden_layers=[\n",
    "        Layer(units=800, act='relu', dropout=0.2)\n",
    "    ],\n",
    "    max_rating=max_rating, \n",
    "    min_rating=min_rating,\n",
    "    lr=0.001\n",
    ")"
   ]
  },
  {
   "cell_type": "code",
   "execution_count": 51,
   "metadata": {},
   "outputs": [
    {
     "data": {
      "image/png": "[encoded data removed]",
      "text/plain": [
       "<IPython.core.display.Image object>"
      ]
     },
     "execution_count": 51,
     "metadata": {},
     "output_type": "execute_result"
    }
   ],
   "source": [
    "plot_model(model4)"
   ]
  },
  {
   "cell_type": "code",
   "execution_count": 52,
   "metadata": {},
   "outputs": [
    {
     "name": "stdout",
     "output_type": "stream",
     "text": [
      "90752 train examples\n",
      "10084 validation examples\n"
     ]
    }
   ],
   "source": [
    "df_train, df_val = train_test_split(dataset, test_size=0.1)\n",
    "\n",
    "print(len(df_train), 'train examples')\n",
    "print(len(df_val), 'validation examples')"
   ]
  },
  {
   "cell_type": "code",
   "execution_count": 53,
   "metadata": {},
   "outputs": [],
   "source": [
    "train_ds = dataframe_to_dataset(df_train,  label='rating',  shuffle=True, batch_size=batch_size)\n",
    "val_ds = dataframe_to_dataset(df_val, label='rating', batch_size=batch_size)"
   ]
  },
  {
   "cell_type": "code",
   "execution_count": 54,
   "metadata": {},
   "outputs": [],
   "source": [
    "def show_data(label, dataset, batch_size, dataframe):\n",
    "    batches = dataset.cardinality().numpy()\n",
    "    print(f'{label} - Batches(size: {batch_size}): {batches}, Samples: {len(dataframe)}')"
   ]
  },
  {
   "cell_type": "code",
   "execution_count": 55,
   "metadata": {},
   "outputs": [
    {
     "name": "stdout",
     "output_type": "stream",
     "text": [
      "Train - Batches(size: 64): 1418, Samples: 90752\n",
      "Validation - Batches(size: 64): 158, Samples: 10084\n"
     ]
    }
   ],
   "source": [
    "show_data('Train', train_ds, batch_size, df_train)\n",
    "show_data('Validation', val_ds, batch_size, df_val)"
   ]
  },
  {
   "cell_type": "code",
   "execution_count": 56,
   "metadata": {},
   "outputs": [
    {
     "data": {
      "image/png": "[encoded data removed]",
      "text/plain": [
       "<Figure size 2160x576 with 1 Axes>"
      ]
     },
     "metadata": {
      "needs_background": "light"
     },
     "output_type": "display_data"
    },
    {
     "name": "stdout",
     "output_type": "stream",
     "text": [
      "1418/1418 [==============================] - 12s 9ms/step - loss: 0.6066\n"
     ]
    },
    {
     "data": {
      "text/plain": [
       "<tensorflow.python.keras.callbacks.History at 0x7fe41031e090>"
      ]
     },
     "execution_count": 56,
     "metadata": {},
     "output_type": "execute_result"
    }
   ],
   "source": [
    "model4.fit(\n",
    "    train_ds, \n",
    "    batch_size=batch_size,\n",
    "    epochs=4,\n",
    "    verbose=1,\n",
    "    callbacks=[\n",
    "         MetricsPlotter(\n",
    "             validation_generator=DataSetDataGenerator(val_ds), \n",
    "             metrics_names=['loss'],\n",
    "             plot_interval=400,\n",
    "             evaluate_interval=500,\n",
    "             batch_size=batch_size\n",
    "         )\n",
    "    ]\n",
    ")"
   ]
  },
  {
   "cell_type": "code",
   "execution_count": 57,
   "metadata": {},
   "outputs": [
    {
     "name": "stdout",
     "output_type": "stream",
     "text": [
      "158/158 [==============================] - 1s 5ms/step - loss: 0.7595\n"
     ]
    },
    {
     "data": {
      "text/plain": [
       "0.7595293521881104"
      ]
     },
     "execution_count": 57,
     "metadata": {},
     "output_type": "execute_result"
    }
   ],
   "source": [
    "model4.evaluate(val_ds, batch_size=val_ds.cardinality().numpy())"
   ]
  },
  {
   "cell_type": "markdown",
   "metadata": {},
   "source": [
    "### Wide and Deep with DNNLinearCombinedRegressor"
   ]
  },
  {
   "cell_type": "code",
   "execution_count": 58,
   "metadata": {},
   "outputs": [],
   "source": [
    "wide_inputs = ModelInputBuilder()\n",
    "user_id_cat = wide_inputs.cat_id(\"user\", ids_count=len(users_num)+1, unknown_value=last_user_id)\n",
    "movie_id_cat = wide_inputs.cat_id(\"movie\", ids_count=len(movies_num)+1, unknown_value=last_movie_id)\n",
    "\n",
    "user1_cat  = wide_inputs.cat_one_hot(\"user1\", users_str)\n",
    "movie1_cat = wide_inputs.cat_one_hot(\"movie1\", movies_str)\n",
    "wide_inputs.cat_one_hot_crossed(columns=[user1_cat,  movie1_cat], hash_bucket_size=int(1000))\n",
    "\n",
    "deep_inputs = ModelInputBuilder()\n",
    "deep_inputs.cat_embedding(\"user2\", users_str, dimension=50)\n",
    "deep_inputs.cat_embedding(\"movie2\", movies_str, dimension=50)\n",
    "\n",
    "None"
   ]
  },
  {
   "cell_type": "code",
   "execution_count": 59,
   "metadata": {},
   "outputs": [],
   "source": [
    "from tensorflow.estimator import DNNLinearCombinedRegressor\n",
    "from tensorflow.compat.v1.train import ProximalAdagradOptimizer, exponential_decay, get_global_step\n",
    "from tensorflow.keras.optimizers import Adam\n",
    "import tempfile"
   ]
  },
  {
   "cell_type": "code",
   "execution_count": 60,
   "metadata": {},
   "outputs": [
    {
     "name": "stdout",
     "output_type": "stream",
     "text": [
      "INFO:tensorflow:Using default config.\n",
      "INFO:tensorflow:Using config: {'_model_dir': 'model', '_tf_random_seed': None, '_save_summary_steps': 100, '_save_checkpoints_steps': None, '_save_checkpoints_secs': 600, '_session_config': allow_soft_placement: true\n",
      "graph_options {\n",
      "  rewrite_options {\n",
      "    meta_optimizer_iterations: ONE\n",
      "  }\n",
      "}\n",
      ", '_keep_checkpoint_max': 5, '_keep_checkpoint_every_n_hours': 10000, '_log_step_count_steps': 100, '_train_distribute': None, '_device_fn': None, '_protocol': None, '_eval_distribute': None, '_experimental_distribute': None, '_experimental_max_worker_delay_secs': None, '_session_creation_timeout_secs': 7200, '_service': None, '_cluster_spec': ClusterSpec({}), '_task_type': 'worker', '_task_id': 0, '_global_id_in_cluster': 0, '_master': '', '_evaluation_master': '', '_is_chief': True, '_num_ps_replicas': 0, '_num_worker_replicas': 1}\n"
     ]
    }
   ],
   "source": [
    "# To apply learning rate decay, you can set dnn_optimizer to a callable:\n",
    "optimizer = lambda: Adam(\n",
    "        learning_rate=exponential_decay(\n",
    "        learning_rate=0.001,\n",
    "        global_step=get_global_step(),\n",
    "        decay_steps=1000,\n",
    "        decay_rate=0.96\n",
    "    )\n",
    ")\n",
    "\n",
    "model5 = DNNLinearCombinedRegressor(\n",
    "    model_dir=\"model\",\n",
    "    linear_feature_columns=wide_inputs.feature_columns(),\n",
    "    dnn_feature_columns=deep_inputs.feature_columns(),\n",
    "    dnn_hidden_units=[1500],\n",
    "    dnn_optimizer=optimizer\n",
    ")"
   ]
  },
  {
   "cell_type": "code",
   "execution_count": 61,
   "metadata": {},
   "outputs": [],
   "source": [
    "# Input builders\n",
    "def input_fn_train():\n",
    "    # Returns tf.data.Dataset of (x, y) tuple where y represents label's class\n",
    "    # index.\n",
    "    return dataframe_to_dataset(df_train,  label='rating',  shuffle=True, batch_size=1)\n",
    "\n",
    "def input_fn_eval():\n",
    "    # Returns tf.data.Dataset of (x, y) tuple where y represents label's class\n",
    "    # index.\n",
    "    return dataframe_to_dataset(df_val, label='rating', batch_size=1)"
   ]
  },
  {
   "cell_type": "code",
   "execution_count": 62,
   "metadata": {},
   "outputs": [],
   "source": [
    "epochs = 100_000"
   ]
  },
  {
   "cell_type": "code",
   "execution_count": null,
   "metadata": {},
   "outputs": [
    {
     "name": "stdout",
     "output_type": "stream",
     "text": [
      "WARNING:tensorflow:From /home/adrian/anaconda3/envs/recommendations/lib/python3.7/site-packages/tensorflow/python/training/training_util.py:236: Variable.initialized_value (from tensorflow.python.ops.variables) is deprecated and will be removed in a future version.\n",
      "Instructions for updating:\n",
      "Use Variable.read_value. Variables in 2.X are initialized automatically both in eager and graph (inside tf.defun) contexts.\n",
      "INFO:tensorflow:Calling model_fn.\n",
      "WARNING:tensorflow:From /home/adrian/anaconda3/envs/recommendations/lib/python3.7/site-packages/tensorflow_estimator/python/estimator/canned/linear.py:1481: Layer.add_variable (from tensorflow.python.keras.engine.base_layer_v1) is deprecated and will be removed in a future version.\n",
      "Instructions for updating:\n",
      "Please use `layer.add_weight` method instead.\n",
      "WARNING:tensorflow:From /home/adrian/anaconda3/envs/recommendations/lib/python3.7/site-packages/tensorflow/python/keras/optimizer_v2/ftrl.py:112: calling Constant.__init__ (from tensorflow.python.ops.init_ops) with dtype is deprecated and will be removed in a future version.\n",
      "Instructions for updating:\n",
      "Call initializer instance with the dtype argument instead of passing it to the constructor\n",
      "INFO:tensorflow:Done calling model_fn.\n",
      "INFO:tensorflow:Create CheckpointSaverHook.\n",
      "INFO:tensorflow:Graph was finalized.\n",
      "INFO:tensorflow:Restoring parameters from model/model.ckpt-90752\n",
      "WARNING:tensorflow:From /home/adrian/anaconda3/envs/recommendations/lib/python3.7/site-packages/tensorflow/python/training/saver.py:1077: get_checkpoint_mtimes (from tensorflow.python.training.checkpoint_management) is deprecated and will be removed in a future version.\n",
      "Instructions for updating:\n",
      "Use standard file utilities to get mtimes.\n",
      "INFO:tensorflow:Running local_init_op.\n",
      "INFO:tensorflow:Done running local_init_op.\n",
      "INFO:tensorflow:Calling checkpoint listeners before saving checkpoint 90752...\n",
      "INFO:tensorflow:Saving checkpoints for 90752 into model/model.ckpt.\n",
      "INFO:tensorflow:Calling checkpoint listeners after saving checkpoint 90752...\n",
      "INFO:tensorflow:loss = 0.1199431, step = 90752\n",
      "INFO:tensorflow:global_step/sec: 192.381\n",
      "INFO:tensorflow:loss = 0.020625887, step = 90852 (0.521 sec)\n",
      "INFO:tensorflow:global_step/sec: 298.934\n",
      "INFO:tensorflow:loss = 1.7255383, step = 90952 (0.334 sec)\n",
      "INFO:tensorflow:global_step/sec: 307.424\n",
      "INFO:tensorflow:loss = 0.00041631758, step = 91052 (0.325 sec)\n",
      "INFO:tensorflow:global_step/sec: 314.4\n",
      "INFO:tensorflow:loss = 0.09119366, step = 91152 (0.318 sec)\n",
      "INFO:tensorflow:global_step/sec: 306.799\n",
      "INFO:tensorflow:loss = 0.02871566, step = 91252 (0.326 sec)\n",
      "INFO:tensorflow:global_step/sec: 311.156\n",
      "INFO:tensorflow:loss = 0.14848414, step = 91352 (0.322 sec)\n",
      "INFO:tensorflow:global_step/sec: 267.985\n",
      "INFO:tensorflow:loss = 0.038132444, step = 91452 (0.373 sec)\n",
      "INFO:tensorflow:global_step/sec: 254.343\n",
      "INFO:tensorflow:loss = 0.21875133, step = 91552 (0.393 sec)\n",
      "INFO:tensorflow:global_step/sec: 238.959\n",
      "INFO:tensorflow:loss = 1.4908339, step = 91652 (0.418 sec)\n",
      "INFO:tensorflow:global_step/sec: 308.624\n",
      "INFO:tensorflow:loss = 5.3759556, step = 91752 (0.324 sec)\n",
      "INFO:tensorflow:global_step/sec: 296.748\n",
      "INFO:tensorflow:loss = 0.0021708363, step = 91852 (0.337 sec)\n",
      "INFO:tensorflow:global_step/sec: 276.115\n",
      "INFO:tensorflow:loss = 0.13501441, step = 91952 (0.362 sec)\n",
      "INFO:tensorflow:global_step/sec: 309.042\n",
      "INFO:tensorflow:loss = 0.026694553, step = 92052 (0.324 sec)\n",
      "INFO:tensorflow:global_step/sec: 305.513\n",
      "INFO:tensorflow:loss = 0.0075647505, step = 92152 (0.327 sec)\n",
      "INFO:tensorflow:global_step/sec: 267.327\n",
      "INFO:tensorflow:loss = 0.03883964, step = 92252 (0.374 sec)\n",
      "INFO:tensorflow:global_step/sec: 260.509\n",
      "INFO:tensorflow:loss = 0.73545134, step = 92352 (0.385 sec)\n",
      "INFO:tensorflow:global_step/sec: 223.566\n",
      "INFO:tensorflow:loss = 0.3233387, step = 92452 (0.446 sec)\n",
      "INFO:tensorflow:global_step/sec: 305.735\n",
      "INFO:tensorflow:loss = 0.016191095, step = 92552 (0.328 sec)\n",
      "INFO:tensorflow:global_step/sec: 284.723\n",
      "INFO:tensorflow:loss = 1.8153883, step = 92652 (0.351 sec)\n",
      "INFO:tensorflow:global_step/sec: 293.397\n",
      "INFO:tensorflow:loss = 0.21723074, step = 92752 (0.341 sec)\n",
      "INFO:tensorflow:global_step/sec: 295.559\n",
      "INFO:tensorflow:loss = 1.3779211, step = 92852 (0.338 sec)\n",
      "INFO:tensorflow:global_step/sec: 297.58\n",
      "INFO:tensorflow:loss = 0.008342615, step = 92952 (0.336 sec)\n",
      "INFO:tensorflow:global_step/sec: 287.254\n",
      "INFO:tensorflow:loss = 0.040773723, step = 93052 (0.348 sec)\n",
      "INFO:tensorflow:global_step/sec: 278.764\n",
      "INFO:tensorflow:loss = 0.0055576186, step = 93152 (0.359 sec)\n",
      "INFO:tensorflow:global_step/sec: 219.464\n",
      "INFO:tensorflow:loss = 0.012470299, step = 93252 (0.456 sec)\n",
      "INFO:tensorflow:global_step/sec: 269.759\n",
      "INFO:tensorflow:loss = 0.75726867, step = 93352 (0.370 sec)\n",
      "INFO:tensorflow:global_step/sec: 293.045\n",
      "INFO:tensorflow:loss = 0.66762716, step = 93452 (0.342 sec)\n",
      "INFO:tensorflow:global_step/sec: 297.797\n",
      "INFO:tensorflow:loss = 0.00013630284, step = 93552 (0.335 sec)\n",
      "INFO:tensorflow:global_step/sec: 302.782\n",
      "INFO:tensorflow:loss = 2.1984768, step = 93652 (0.330 sec)\n",
      "INFO:tensorflow:global_step/sec: 305.333\n",
      "INFO:tensorflow:loss = 0.009868238, step = 93752 (0.328 sec)\n",
      "INFO:tensorflow:global_step/sec: 285.768\n",
      "INFO:tensorflow:loss = 0.27231434, step = 93852 (0.350 sec)\n",
      "INFO:tensorflow:global_step/sec: 268.988\n",
      "INFO:tensorflow:loss = 0.15103543, step = 93952 (0.372 sec)\n",
      "INFO:tensorflow:global_step/sec: 219.22\n",
      "INFO:tensorflow:loss = 5.249607, step = 94052 (0.457 sec)\n",
      "INFO:tensorflow:global_step/sec: 255.029\n",
      "INFO:tensorflow:loss = 0.38144857, step = 94152 (0.391 sec)\n",
      "INFO:tensorflow:global_step/sec: 277.906\n",
      "INFO:tensorflow:loss = 0.24350294, step = 94252 (0.360 sec)\n",
      "INFO:tensorflow:global_step/sec: 295.94\n",
      "INFO:tensorflow:loss = 0.13310024, step = 94352 (0.338 sec)\n",
      "INFO:tensorflow:global_step/sec: 302.526\n",
      "INFO:tensorflow:loss = 0.3639992, step = 94452 (0.331 sec)\n",
      "INFO:tensorflow:global_step/sec: 273.447\n",
      "INFO:tensorflow:loss = 0.08330508, step = 94552 (0.366 sec)\n",
      "INFO:tensorflow:global_step/sec: 281.96\n",
      "INFO:tensorflow:loss = 0.32376996, step = 94652 (0.355 sec)\n",
      "INFO:tensorflow:global_step/sec: 267.145\n",
      "INFO:tensorflow:loss = 0.0008211667, step = 94752 (0.374 sec)\n",
      "INFO:tensorflow:global_step/sec: 273.068\n",
      "INFO:tensorflow:loss = 0.00986014, step = 94852 (0.366 sec)\n",
      "INFO:tensorflow:global_step/sec: 210.371\n",
      "INFO:tensorflow:loss = 0.56207234, step = 94952 (0.475 sec)\n",
      "INFO:tensorflow:global_step/sec: 302.037\n",
      "INFO:tensorflow:loss = 0.43260136, step = 95052 (0.331 sec)\n",
      "INFO:tensorflow:global_step/sec: 298.394\n",
      "INFO:tensorflow:loss = 0.18567283, step = 95152 (0.335 sec)\n",
      "INFO:tensorflow:global_step/sec: 295.997\n",
      "INFO:tensorflow:loss = 0.12580335, step = 95252 (0.338 sec)\n",
      "INFO:tensorflow:global_step/sec: 303.391\n",
      "INFO:tensorflow:loss = 0.00013304909, step = 95352 (0.330 sec)\n",
      "INFO:tensorflow:global_step/sec: 306.15\n",
      "INFO:tensorflow:loss = 0.75935435, step = 95452 (0.327 sec)\n",
      "INFO:tensorflow:global_step/sec: 286.831\n",
      "INFO:tensorflow:loss = 0.30604845, step = 95552 (0.349 sec)\n",
      "INFO:tensorflow:global_step/sec: 299.652\n",
      "INFO:tensorflow:loss = 1.1052108, step = 95652 (0.333 sec)\n",
      "INFO:tensorflow:global_step/sec: 243.138\n",
      "INFO:tensorflow:loss = 0.3221381, step = 95752 (0.411 sec)\n",
      "INFO:tensorflow:global_step/sec: 227.383\n",
      "INFO:tensorflow:loss = 1.1707834, step = 95852 (0.441 sec)\n",
      "INFO:tensorflow:global_step/sec: 278.04\n",
      "INFO:tensorflow:loss = 0.008223447, step = 95952 (0.358 sec)\n",
      "INFO:tensorflow:global_step/sec: 309.705\n",
      "INFO:tensorflow:loss = 1.7037601, step = 96052 (0.323 sec)\n",
      "INFO:tensorflow:global_step/sec: 292.719\n",
      "INFO:tensorflow:loss = 0.65813947, step = 96152 (0.341 sec)\n",
      "INFO:tensorflow:global_step/sec: 285.678\n",
      "INFO:tensorflow:loss = 0.055580743, step = 96252 (0.350 sec)\n",
      "INFO:tensorflow:global_step/sec: 290.107\n",
      "INFO:tensorflow:loss = 0.29179904, step = 96352 (0.345 sec)\n",
      "INFO:tensorflow:global_step/sec: 272.645\n",
      "INFO:tensorflow:loss = 0.0017264554, step = 96452 (0.367 sec)\n",
      "INFO:tensorflow:global_step/sec: 280.612\n",
      "INFO:tensorflow:loss = 0.12293959, step = 96552 (0.356 sec)\n",
      "INFO:tensorflow:global_step/sec: 254.222\n",
      "INFO:tensorflow:loss = 0.9867154, step = 96652 (0.394 sec)\n",
      "INFO:tensorflow:global_step/sec: 253.944\n",
      "INFO:tensorflow:loss = 0.39995965, step = 96752 (0.394 sec)\n",
      "INFO:tensorflow:global_step/sec: 302.192\n",
      "INFO:tensorflow:loss = 0.8153123, step = 96852 (0.331 sec)\n",
      "INFO:tensorflow:global_step/sec: 301.395\n",
      "INFO:tensorflow:loss = 0.06365771, step = 96952 (0.332 sec)\n",
      "INFO:tensorflow:global_step/sec: 308.12\n",
      "INFO:tensorflow:loss = 0.02619387, step = 97052 (0.325 sec)\n",
      "INFO:tensorflow:global_step/sec: 304.133\n",
      "INFO:tensorflow:loss = 0.02522687, step = 97152 (0.329 sec)\n",
      "INFO:tensorflow:global_step/sec: 256.541\n",
      "INFO:tensorflow:loss = 0.77076805, step = 97252 (0.390 sec)\n",
      "INFO:tensorflow:global_step/sec: 270.848\n",
      "INFO:tensorflow:loss = 0.23641302, step = 97352 (0.369 sec)\n",
      "INFO:tensorflow:global_step/sec: 222.632\n",
      "INFO:tensorflow:loss = 1.764479, step = 97452 (0.449 sec)\n",
      "INFO:tensorflow:global_step/sec: 298.218\n",
      "INFO:tensorflow:loss = 0.08755151, step = 97552 (0.335 sec)\n",
      "INFO:tensorflow:global_step/sec: 299.775\n",
      "INFO:tensorflow:loss = 0.0896397, step = 97652 (0.333 sec)\n",
      "INFO:tensorflow:global_step/sec: 309.26\n",
      "INFO:tensorflow:loss = 9.488491, step = 97752 (0.323 sec)\n",
      "INFO:tensorflow:global_step/sec: 279.614\n",
      "INFO:tensorflow:loss = 0.35090283, step = 97852 (0.358 sec)\n",
      "INFO:tensorflow:global_step/sec: 293.448\n",
      "INFO:tensorflow:loss = 2.316289, step = 97952 (0.341 sec)\n",
      "INFO:tensorflow:global_step/sec: 270.706\n",
      "INFO:tensorflow:loss = 0.09003631, step = 98052 (0.370 sec)\n",
      "INFO:tensorflow:global_step/sec: 293.338\n",
      "INFO:tensorflow:loss = 0.5723301, step = 98152 (0.341 sec)\n",
      "INFO:tensorflow:global_step/sec: 228.218\n",
      "INFO:tensorflow:loss = 0.36230066, step = 98252 (0.438 sec)\n",
      "INFO:tensorflow:global_step/sec: 280.342\n",
      "INFO:tensorflow:loss = 1.0837924, step = 98352 (0.356 sec)\n",
      "INFO:tensorflow:global_step/sec: 286.104\n",
      "INFO:tensorflow:loss = 0.17780897, step = 98452 (0.350 sec)\n",
      "INFO:tensorflow:global_step/sec: 298.641\n",
      "INFO:tensorflow:loss = 1.4446708, step = 98552 (0.334 sec)\n",
      "INFO:tensorflow:global_step/sec: 301.824\n",
      "INFO:tensorflow:loss = 1.389717, step = 98652 (0.332 sec)\n",
      "INFO:tensorflow:global_step/sec: 295.183\n",
      "INFO:tensorflow:loss = 0.108700514, step = 98752 (0.339 sec)\n",
      "INFO:tensorflow:global_step/sec: 303.792\n",
      "INFO:tensorflow:loss = 0.22477861, step = 98852 (0.329 sec)\n",
      "INFO:tensorflow:global_step/sec: 272.352\n",
      "INFO:tensorflow:loss = 0.06551246, step = 98952 (0.367 sec)\n",
      "INFO:tensorflow:global_step/sec: 278.909\n",
      "INFO:tensorflow:loss = 1.108079, step = 99052 (0.358 sec)\n",
      "INFO:tensorflow:global_step/sec: 230.692\n",
      "INFO:tensorflow:loss = 0.005333659, step = 99152 (0.433 sec)\n",
      "INFO:tensorflow:global_step/sec: 245.239\n",
      "INFO:tensorflow:loss = 0.038736243, step = 99252 (0.407 sec)\n",
      "INFO:tensorflow:global_step/sec: 298.261\n",
      "INFO:tensorflow:loss = 1.6257749, step = 99352 (0.335 sec)\n",
      "INFO:tensorflow:global_step/sec: 306.415\n",
      "INFO:tensorflow:loss = 0.0002174501, step = 99452 (0.327 sec)\n",
      "INFO:tensorflow:global_step/sec: 299.861\n",
      "INFO:tensorflow:loss = 0.13742211, step = 99552 (0.334 sec)\n",
      "INFO:tensorflow:global_step/sec: 297.437\n",
      "INFO:tensorflow:loss = 0.0711214, step = 99652 (0.336 sec)\n",
      "INFO:tensorflow:global_step/sec: 280.144\n",
      "INFO:tensorflow:loss = 0.8569994, step = 99752 (0.357 sec)\n",
      "INFO:tensorflow:global_step/sec: 280.323\n",
      "INFO:tensorflow:loss = 0.066234894, step = 99852 (0.357 sec)\n",
      "INFO:tensorflow:global_step/sec: 217.1\n",
      "INFO:tensorflow:loss = 0.021077713, step = 99952 (0.460 sec)\n",
      "INFO:tensorflow:global_step/sec: 302.258\n",
      "INFO:tensorflow:loss = 0.023637578, step = 100052 (0.331 sec)\n",
      "INFO:tensorflow:global_step/sec: 295.417\n",
      "INFO:tensorflow:loss = 0.8207213, step = 100152 (0.338 sec)\n",
      "INFO:tensorflow:global_step/sec: 300.625\n",
      "INFO:tensorflow:loss = 3.3179822e-05, step = 100252 (0.333 sec)\n",
      "INFO:tensorflow:global_step/sec: 292.456\n",
      "INFO:tensorflow:loss = 0.07891593, step = 100352 (0.342 sec)\n",
      "INFO:tensorflow:global_step/sec: 301.485\n",
      "INFO:tensorflow:loss = 0.67496693, step = 100452 (0.333 sec)\n",
      "INFO:tensorflow:global_step/sec: 304.327\n",
      "INFO:tensorflow:loss = 0.3624284, step = 100552 (0.327 sec)\n",
      "INFO:tensorflow:global_step/sec: 264.098\n",
      "INFO:tensorflow:loss = 0.11581518, step = 100652 (0.378 sec)\n",
      "INFO:tensorflow:global_step/sec: 265.118\n",
      "INFO:tensorflow:loss = 0.089063436, step = 100752 (0.377 sec)\n",
      "INFO:tensorflow:global_step/sec: 257.367\n",
      "INFO:tensorflow:loss = 0.11347543, step = 100852 (0.389 sec)\n",
      "INFO:tensorflow:global_step/sec: 266.916\n",
      "INFO:tensorflow:loss = 0.07461924, step = 100952 (0.375 sec)\n",
      "INFO:tensorflow:global_step/sec: 296.308\n",
      "INFO:tensorflow:loss = 0.0012447954, step = 101052 (0.338 sec)\n",
      "INFO:tensorflow:global_step/sec: 304.482\n",
      "INFO:tensorflow:loss = 1.5278953, step = 101152 (0.328 sec)\n",
      "INFO:tensorflow:global_step/sec: 299.747\n",
      "INFO:tensorflow:loss = 1.3198814, step = 101252 (0.334 sec)\n",
      "INFO:tensorflow:global_step/sec: 305.142\n",
      "INFO:tensorflow:loss = 0.24691656, step = 101352 (0.328 sec)\n",
      "INFO:tensorflow:global_step/sec: 285.513\n",
      "INFO:tensorflow:loss = 1.3518828, step = 101452 (0.350 sec)\n",
      "INFO:tensorflow:global_step/sec: 279.749\n",
      "INFO:tensorflow:loss = 1.1793555, step = 101552 (0.358 sec)\n",
      "INFO:tensorflow:global_step/sec: 223.469\n",
      "INFO:tensorflow:loss = 0.016573269, step = 101652 (0.448 sec)\n",
      "INFO:tensorflow:global_step/sec: 299.589\n",
      "INFO:tensorflow:loss = 0.031829976, step = 101752 (0.333 sec)\n",
      "INFO:tensorflow:global_step/sec: 290.888\n",
      "INFO:tensorflow:loss = 1.2465427, step = 101852 (0.344 sec)\n",
      "INFO:tensorflow:global_step/sec: 300.195\n",
      "INFO:tensorflow:loss = 0.029919548, step = 101952 (0.333 sec)\n",
      "INFO:tensorflow:global_step/sec: 306.233\n",
      "INFO:tensorflow:loss = 0.013900948, step = 102052 (0.327 sec)\n",
      "INFO:tensorflow:global_step/sec: 292.638\n",
      "INFO:tensorflow:loss = 0.07148671, step = 102152 (0.342 sec)\n",
      "INFO:tensorflow:global_step/sec: 292.808\n",
      "INFO:tensorflow:loss = 3.8924036, step = 102252 (0.342 sec)\n",
      "INFO:tensorflow:global_step/sec: 242.842\n",
      "INFO:tensorflow:loss = 0.15926316, step = 102352 (0.412 sec)\n",
      "INFO:tensorflow:global_step/sec: 217.476\n",
      "INFO:tensorflow:loss = 0.72454244, step = 102452 (0.461 sec)\n",
      "INFO:tensorflow:global_step/sec: 227.354\n",
      "INFO:tensorflow:loss = 0.117413715, step = 102552 (0.441 sec)\n",
      "INFO:tensorflow:global_step/sec: 255.775\n",
      "INFO:tensorflow:loss = 0.90862906, step = 102652 (0.389 sec)\n",
      "INFO:tensorflow:global_step/sec: 266.034\n",
      "INFO:tensorflow:loss = 1.9231158, step = 102752 (0.376 sec)\n",
      "INFO:tensorflow:global_step/sec: 281.723\n",
      "INFO:tensorflow:loss = 2.6275654, step = 102852 (0.355 sec)\n",
      "INFO:tensorflow:global_step/sec: 292.216\n",
      "INFO:tensorflow:loss = 0.43157265, step = 102952 (0.342 sec)\n",
      "INFO:tensorflow:global_step/sec: 252.531\n",
      "INFO:tensorflow:loss = 0.38159996, step = 103052 (0.396 sec)\n",
      "INFO:tensorflow:global_step/sec: 230.49\n",
      "INFO:tensorflow:loss = 0.39186576, step = 103152 (0.434 sec)\n",
      "INFO:tensorflow:global_step/sec: 211.549\n",
      "INFO:tensorflow:loss = 0.9148472, step = 103252 (0.472 sec)\n",
      "INFO:tensorflow:global_step/sec: 262.342\n",
      "INFO:tensorflow:loss = 0.51714045, step = 103352 (0.381 sec)\n",
      "INFO:tensorflow:global_step/sec: 267.829\n",
      "INFO:tensorflow:loss = 0.8849372, step = 103452 (0.373 sec)\n",
      "INFO:tensorflow:global_step/sec: 258.356\n",
      "INFO:tensorflow:loss = 0.088847116, step = 103552 (0.387 sec)\n",
      "INFO:tensorflow:global_step/sec: 275.978\n",
      "INFO:tensorflow:loss = 0.10296164, step = 103652 (0.362 sec)\n",
      "INFO:tensorflow:global_step/sec: 299.055\n",
      "INFO:tensorflow:loss = 0.14936797, step = 103752 (0.334 sec)\n",
      "INFO:tensorflow:global_step/sec: 248.323\n",
      "INFO:tensorflow:loss = 0.008043949, step = 103852 (0.407 sec)\n",
      "INFO:tensorflow:global_step/sec: 262.507\n",
      "INFO:tensorflow:loss = 0.70965797, step = 103952 (0.377 sec)\n",
      "INFO:tensorflow:global_step/sec: 250.663\n",
      "INFO:tensorflow:loss = 3.2295334, step = 104052 (0.399 sec)\n",
      "INFO:tensorflow:global_step/sec: 303.26\n",
      "INFO:tensorflow:loss = 0.7906965, step = 104152 (0.329 sec)\n",
      "INFO:tensorflow:global_step/sec: 273.729\n",
      "INFO:tensorflow:loss = 1.7819985, step = 104252 (0.365 sec)\n",
      "INFO:tensorflow:global_step/sec: 305.777\n",
      "INFO:tensorflow:loss = 0.095333725, step = 104352 (0.327 sec)\n",
      "INFO:tensorflow:global_step/sec: 282.75\n",
      "INFO:tensorflow:loss = 0.2862881, step = 104452 (0.354 sec)\n",
      "INFO:tensorflow:global_step/sec: 303.999\n",
      "INFO:tensorflow:loss = 3.1747663, step = 104552 (0.329 sec)\n",
      "INFO:tensorflow:global_step/sec: 259.652\n",
      "INFO:tensorflow:loss = 0.6493781, step = 104652 (0.385 sec)\n",
      "INFO:tensorflow:global_step/sec: 280.902\n",
      "INFO:tensorflow:loss = 0.85243845, step = 104752 (0.356 sec)\n",
      "INFO:tensorflow:global_step/sec: 210.305\n",
      "INFO:tensorflow:loss = 0.06476511, step = 104852 (0.475 sec)\n",
      "INFO:tensorflow:global_step/sec: 307.877\n",
      "INFO:tensorflow:loss = 0.4619226, step = 104952 (0.325 sec)\n",
      "INFO:tensorflow:global_step/sec: 284.224\n",
      "INFO:tensorflow:loss = 0.17331506, step = 105052 (0.352 sec)\n",
      "INFO:tensorflow:global_step/sec: 309.504\n",
      "INFO:tensorflow:loss = 0.42929736, step = 105152 (0.323 sec)\n",
      "INFO:tensorflow:global_step/sec: 280.645\n",
      "INFO:tensorflow:loss = 0.0005119648, step = 105252 (0.357 sec)\n",
      "INFO:tensorflow:global_step/sec: 307.754\n",
      "INFO:tensorflow:loss = 0.473675, step = 105352 (0.325 sec)\n",
      "INFO:tensorflow:global_step/sec: 309.731\n",
      "INFO:tensorflow:loss = 1.3527057, step = 105452 (0.323 sec)\n",
      "INFO:tensorflow:global_step/sec: 283.881\n",
      "INFO:tensorflow:loss = 0.025543373, step = 105552 (0.352 sec)\n",
      "INFO:tensorflow:global_step/sec: 273.243\n",
      "INFO:tensorflow:loss = 0.18440092, step = 105652 (0.369 sec)\n",
      "INFO:tensorflow:global_step/sec: 243.838\n",
      "INFO:tensorflow:loss = 0.0073404103, step = 105752 (0.407 sec)\n",
      "INFO:tensorflow:global_step/sec: 263.197\n",
      "INFO:tensorflow:loss = 1.5297844, step = 105852 (0.380 sec)\n",
      "INFO:tensorflow:global_step/sec: 293.663\n",
      "INFO:tensorflow:loss = 1.5553575, step = 105952 (0.341 sec)\n",
      "INFO:tensorflow:global_step/sec: 293.323\n",
      "INFO:tensorflow:loss = 0.5766773, step = 106052 (0.341 sec)\n",
      "INFO:tensorflow:global_step/sec: 298.743\n",
      "INFO:tensorflow:loss = 0.0013238204, step = 106152 (0.335 sec)\n",
      "INFO:tensorflow:global_step/sec: 304.2\n",
      "INFO:tensorflow:loss = 0.023610389, step = 106252 (0.329 sec)\n",
      "INFO:tensorflow:global_step/sec: 287.149\n",
      "INFO:tensorflow:loss = 0.9706161, step = 106352 (0.348 sec)\n",
      "INFO:tensorflow:global_step/sec: 287.681\n",
      "INFO:tensorflow:loss = 0.6227348, step = 106452 (0.348 sec)\n",
      "INFO:tensorflow:global_step/sec: 232.235\n",
      "INFO:tensorflow:loss = 0.37943184, step = 106552 (0.430 sec)\n",
      "INFO:tensorflow:global_step/sec: 267.246\n",
      "INFO:tensorflow:loss = 0.32529116, step = 106652 (0.374 sec)\n",
      "INFO:tensorflow:global_step/sec: 294.829\n",
      "INFO:tensorflow:loss = 1.2507111, step = 106752 (0.339 sec)\n",
      "INFO:tensorflow:global_step/sec: 297.121\n",
      "INFO:tensorflow:loss = 0.1679224, step = 106852 (0.336 sec)\n",
      "INFO:tensorflow:global_step/sec: 290.821\n",
      "INFO:tensorflow:loss = 0.007962515, step = 106952 (0.344 sec)\n",
      "INFO:tensorflow:global_step/sec: 283.61\n",
      "INFO:tensorflow:loss = 2.5854602, step = 107052 (0.353 sec)\n",
      "INFO:tensorflow:global_step/sec: 278.474\n",
      "INFO:tensorflow:loss = 1.6114463, step = 107152 (0.359 sec)\n",
      "INFO:tensorflow:global_step/sec: 239.224\n",
      "INFO:tensorflow:loss = 0.4329414, step = 107252 (0.418 sec)\n",
      "INFO:tensorflow:global_step/sec: 255.063\n",
      "INFO:tensorflow:loss = 0.033484668, step = 107352 (0.394 sec)\n",
      "INFO:tensorflow:global_step/sec: 296.411\n",
      "INFO:tensorflow:loss = 0.78606296, step = 107452 (0.336 sec)\n",
      "INFO:tensorflow:global_step/sec: 304.059\n",
      "INFO:tensorflow:loss = 5.101145, step = 107552 (0.329 sec)\n",
      "INFO:tensorflow:global_step/sec: 303.237\n",
      "INFO:tensorflow:loss = 0.00092446676, step = 107652 (0.330 sec)\n",
      "INFO:tensorflow:global_step/sec: 280.839\n",
      "INFO:tensorflow:loss = 0.084551245, step = 107752 (0.356 sec)\n",
      "INFO:tensorflow:global_step/sec: 314.043\n",
      "INFO:tensorflow:loss = 0.71233696, step = 107852 (0.318 sec)\n",
      "INFO:tensorflow:global_step/sec: 308.069\n",
      "INFO:tensorflow:loss = 0.47623992, step = 107952 (0.325 sec)\n",
      "INFO:tensorflow:global_step/sec: 268.792\n",
      "INFO:tensorflow:loss = 0.3523842, step = 108052 (0.372 sec)\n",
      "INFO:tensorflow:global_step/sec: 279.687\n",
      "INFO:tensorflow:loss = 0.037153658, step = 108152 (0.358 sec)\n",
      "INFO:tensorflow:global_step/sec: 215.499\n",
      "INFO:tensorflow:loss = 0.0881485, step = 108252 (0.465 sec)\n",
      "INFO:tensorflow:global_step/sec: 307.598\n",
      "INFO:tensorflow:loss = 0.46247825, step = 108352 (0.325 sec)\n",
      "INFO:tensorflow:global_step/sec: 278.545\n",
      "INFO:tensorflow:loss = 1.8239162, step = 108452 (0.359 sec)\n",
      "INFO:tensorflow:global_step/sec: 292.683\n",
      "INFO:tensorflow:loss = 4.138146, step = 108552 (0.342 sec)\n",
      "INFO:tensorflow:global_step/sec: 296.694\n",
      "INFO:tensorflow:loss = 0.66099375, step = 108652 (0.337 sec)\n",
      "INFO:tensorflow:global_step/sec: 293.977\n",
      "INFO:tensorflow:loss = 0.054982614, step = 108752 (0.340 sec)\n",
      "INFO:tensorflow:global_step/sec: 261.296\n",
      "INFO:tensorflow:loss = 1.7043353, step = 108852 (0.383 sec)\n",
      "INFO:tensorflow:global_step/sec: 234.132\n",
      "INFO:tensorflow:loss = 0.7065735, step = 108952 (0.427 sec)\n",
      "INFO:tensorflow:global_step/sec: 285.381\n",
      "INFO:tensorflow:loss = 1.2578179, step = 109052 (0.350 sec)\n",
      "INFO:tensorflow:global_step/sec: 280.366\n",
      "INFO:tensorflow:loss = 0.068810426, step = 109152 (0.357 sec)\n",
      "INFO:tensorflow:global_step/sec: 305.648\n",
      "INFO:tensorflow:loss = 0.41277918, step = 109252 (0.328 sec)\n",
      "INFO:tensorflow:global_step/sec: 276.167\n",
      "INFO:tensorflow:loss = 0.03439845, step = 109352 (0.363 sec)\n",
      "INFO:tensorflow:global_step/sec: 291.001\n",
      "INFO:tensorflow:loss = 0.30003163, step = 109452 (0.342 sec)\n",
      "INFO:tensorflow:global_step/sec: 308.273\n",
      "INFO:tensorflow:loss = 1.8344114, step = 109552 (0.325 sec)\n",
      "INFO:tensorflow:global_step/sec: 299.89\n",
      "INFO:tensorflow:loss = 0.3494829, step = 109652 (0.333 sec)\n",
      "INFO:tensorflow:global_step/sec: 288.284\n",
      "INFO:tensorflow:loss = 0.54801893, step = 109752 (0.347 sec)\n",
      "INFO:tensorflow:global_step/sec: 192.957\n",
      "INFO:tensorflow:loss = 1.1597619, step = 109852 (0.519 sec)\n",
      "INFO:tensorflow:global_step/sec: 309.721\n",
      "INFO:tensorflow:loss = 0.024113098, step = 109952 (0.323 sec)\n",
      "INFO:tensorflow:global_step/sec: 299.482\n",
      "INFO:tensorflow:loss = 0.20579831, step = 110052 (0.334 sec)\n",
      "INFO:tensorflow:global_step/sec: 291.874\n",
      "INFO:tensorflow:loss = 0.6272796, step = 110152 (0.343 sec)\n",
      "INFO:tensorflow:global_step/sec: 292.267\n",
      "INFO:tensorflow:loss = 0.044485576, step = 110252 (0.342 sec)\n",
      "INFO:tensorflow:global_step/sec: 275.596\n",
      "INFO:tensorflow:loss = 0.06515097, step = 110352 (0.363 sec)\n",
      "INFO:tensorflow:global_step/sec: 312.688\n",
      "INFO:tensorflow:loss = 0.48344588, step = 110452 (0.320 sec)\n",
      "INFO:tensorflow:global_step/sec: 258.493\n",
      "INFO:tensorflow:loss = 0.013182921, step = 110552 (0.387 sec)\n",
      "INFO:tensorflow:global_step/sec: 249.963\n",
      "INFO:tensorflow:loss = 1.3461938, step = 110652 (0.400 sec)\n",
      "INFO:tensorflow:global_step/sec: 278.621\n",
      "INFO:tensorflow:loss = 0.658349, step = 110752 (0.359 sec)\n",
      "INFO:tensorflow:global_step/sec: 270.279\n",
      "INFO:tensorflow:loss = 0.020784384, step = 110852 (0.370 sec)\n",
      "INFO:tensorflow:global_step/sec: 280.081\n",
      "INFO:tensorflow:loss = 1.1958698, step = 110952 (0.357 sec)\n",
      "INFO:tensorflow:global_step/sec: 256.745\n",
      "INFO:tensorflow:loss = 0.33155134, step = 111052 (0.390 sec)\n",
      "INFO:tensorflow:global_step/sec: 308.437\n",
      "INFO:tensorflow:loss = 0.70151824, step = 111152 (0.324 sec)\n",
      "INFO:tensorflow:global_step/sec: 307.244\n",
      "INFO:tensorflow:loss = 0.34820372, step = 111252 (0.325 sec)\n",
      "INFO:tensorflow:global_step/sec: 241.353\n",
      "INFO:tensorflow:loss = 0.59786487, step = 111352 (0.415 sec)\n",
      "INFO:tensorflow:global_step/sec: 256.023\n",
      "INFO:tensorflow:loss = 0.8273106, step = 111452 (0.390 sec)\n",
      "INFO:tensorflow:global_step/sec: 236.69\n",
      "INFO:tensorflow:loss = 0.37746382, step = 111552 (0.422 sec)\n",
      "INFO:tensorflow:global_step/sec: 294.471\n",
      "INFO:tensorflow:loss = 0.08002923, step = 111652 (0.340 sec)\n",
      "INFO:tensorflow:global_step/sec: 303.807\n",
      "INFO:tensorflow:loss = 1.285748, step = 111752 (0.329 sec)\n",
      "INFO:tensorflow:global_step/sec: 296.059\n",
      "INFO:tensorflow:loss = 0.25482047, step = 111852 (0.338 sec)\n",
      "INFO:tensorflow:global_step/sec: 299.665\n",
      "INFO:tensorflow:loss = 0.8530765, step = 111952 (0.334 sec)\n",
      "INFO:tensorflow:global_step/sec: 302.594\n",
      "INFO:tensorflow:loss = 0.025130475, step = 112052 (0.331 sec)\n",
      "INFO:tensorflow:global_step/sec: 306.051\n",
      "INFO:tensorflow:loss = 0.3037204, step = 112152 (0.327 sec)\n",
      "INFO:tensorflow:global_step/sec: 276.073\n",
      "INFO:tensorflow:loss = 0.6715134, step = 112252 (0.361 sec)\n",
      "INFO:tensorflow:global_step/sec: 213.503\n",
      "INFO:tensorflow:loss = 0.22915499, step = 112352 (0.483 sec)\n",
      "INFO:tensorflow:global_step/sec: 282.146\n",
      "INFO:tensorflow:loss = 1.0119296, step = 112452 (0.340 sec)\n",
      "INFO:tensorflow:global_step/sec: 295.228\n",
      "INFO:tensorflow:loss = 0.0010933153, step = 112552 (0.339 sec)\n",
      "INFO:tensorflow:global_step/sec: 253.123\n",
      "INFO:tensorflow:loss = 0.19984461, step = 112652 (0.395 sec)\n",
      "INFO:tensorflow:global_step/sec: 292.549\n",
      "INFO:tensorflow:loss = 0.8888872, step = 112752 (0.341 sec)\n",
      "INFO:tensorflow:global_step/sec: 282.586\n",
      "INFO:tensorflow:loss = 0.1664745, step = 112852 (0.354 sec)\n",
      "INFO:tensorflow:global_step/sec: 269.478\n",
      "INFO:tensorflow:loss = 0.5518815, step = 112952 (0.371 sec)\n",
      "INFO:tensorflow:global_step/sec: 270.233\n",
      "INFO:tensorflow:loss = 0.011998277, step = 113052 (0.370 sec)\n",
      "INFO:tensorflow:global_step/sec: 191.013\n",
      "INFO:tensorflow:loss = 0.01657419, step = 113152 (0.524 sec)\n",
      "INFO:tensorflow:global_step/sec: 308.778\n",
      "INFO:tensorflow:loss = 0.07940145, step = 113252 (0.324 sec)\n",
      "INFO:tensorflow:global_step/sec: 289.724\n",
      "INFO:tensorflow:loss = 0.012089751, step = 113352 (0.345 sec)\n",
      "INFO:tensorflow:global_step/sec: 272.958\n",
      "INFO:tensorflow:loss = 0.1681687, step = 113452 (0.367 sec)\n",
      "INFO:tensorflow:global_step/sec: 262.095\n",
      "INFO:tensorflow:loss = 0.69346756, step = 113552 (0.381 sec)\n",
      "INFO:tensorflow:global_step/sec: 296.47\n",
      "INFO:tensorflow:loss = 1.0298454, step = 113652 (0.338 sec)\n",
      "INFO:tensorflow:global_step/sec: 222.955\n",
      "INFO:tensorflow:loss = 0.3564954, step = 113752 (0.448 sec)\n",
      "INFO:tensorflow:global_step/sec: 287.183\n",
      "INFO:tensorflow:loss = 0.107229464, step = 113852 (0.348 sec)\n",
      "INFO:tensorflow:global_step/sec: 218.503\n",
      "INFO:tensorflow:loss = 1.2638285, step = 113952 (0.458 sec)\n",
      "INFO:tensorflow:global_step/sec: 236.891\n",
      "INFO:tensorflow:loss = 0.020290332, step = 114052 (0.422 sec)\n",
      "INFO:tensorflow:global_step/sec: 232.185\n",
      "INFO:tensorflow:loss = 0.13102432, step = 114152 (0.431 sec)\n",
      "INFO:tensorflow:global_step/sec: 257.013\n",
      "INFO:tensorflow:loss = 1.1577148, step = 114252 (0.390 sec)\n",
      "INFO:tensorflow:global_step/sec: 258.429\n",
      "INFO:tensorflow:loss = 0.06900883, step = 114352 (0.387 sec)\n",
      "INFO:tensorflow:global_step/sec: 261.345\n",
      "INFO:tensorflow:loss = 0.007172331, step = 114452 (0.383 sec)\n",
      "INFO:tensorflow:global_step/sec: 247.772\n",
      "INFO:tensorflow:loss = 2.8229282, step = 114552 (0.403 sec)\n",
      "INFO:tensorflow:global_step/sec: 257.575\n",
      "INFO:tensorflow:loss = 0.23534471, step = 114652 (0.388 sec)\n",
      "INFO:tensorflow:global_step/sec: 258.637\n",
      "INFO:tensorflow:loss = 0.31837106, step = 114752 (0.387 sec)\n",
      "INFO:tensorflow:global_step/sec: 257.987\n",
      "INFO:tensorflow:loss = 0.0021572388, step = 114852 (0.388 sec)\n",
      "INFO:tensorflow:global_step/sec: 300.669\n",
      "INFO:tensorflow:loss = 1.2618636, step = 114952 (0.333 sec)\n",
      "INFO:tensorflow:global_step/sec: 292.833\n",
      "INFO:tensorflow:loss = 7.4430046, step = 115052 (0.342 sec)\n",
      "INFO:tensorflow:global_step/sec: 261.851\n",
      "INFO:tensorflow:loss = 0.013037474, step = 115152 (0.382 sec)\n",
      "INFO:tensorflow:global_step/sec: 305.823\n",
      "INFO:tensorflow:loss = 0.026725492, step = 115252 (0.327 sec)\n",
      "INFO:tensorflow:global_step/sec: 276.633\n",
      "INFO:tensorflow:loss = 4.4365516, step = 115352 (0.362 sec)\n",
      "INFO:tensorflow:global_step/sec: 252.761\n",
      "INFO:tensorflow:loss = 0.46972448, step = 115452 (0.396 sec)\n",
      "INFO:tensorflow:global_step/sec: 245.843\n",
      "INFO:tensorflow:loss = 0.034776676, step = 115552 (0.407 sec)\n",
      "INFO:tensorflow:global_step/sec: 307.786\n",
      "INFO:tensorflow:loss = 0.6408757, step = 115652 (0.325 sec)\n",
      "INFO:tensorflow:global_step/sec: 267.737\n",
      "INFO:tensorflow:loss = 1.8535259, step = 115752 (0.374 sec)\n",
      "INFO:tensorflow:global_step/sec: 250.093\n",
      "INFO:tensorflow:loss = 0.17709349, step = 115852 (0.400 sec)\n",
      "INFO:tensorflow:global_step/sec: 279.43\n",
      "INFO:tensorflow:loss = 0.012465401, step = 115952 (0.358 sec)\n",
      "INFO:tensorflow:global_step/sec: 281.606\n",
      "INFO:tensorflow:loss = 0.1884063, step = 116052 (0.355 sec)\n",
      "INFO:tensorflow:global_step/sec: 262.487\n",
      "INFO:tensorflow:loss = 0.6761521, step = 116152 (0.381 sec)\n",
      "INFO:tensorflow:global_step/sec: 245.51\n",
      "INFO:tensorflow:loss = 0.35984713, step = 116252 (0.407 sec)\n",
      "INFO:tensorflow:global_step/sec: 205.401\n",
      "INFO:tensorflow:loss = 0.20212513, step = 116352 (0.487 sec)\n",
      "INFO:tensorflow:global_step/sec: 286.244\n",
      "INFO:tensorflow:loss = 0.045551114, step = 116452 (0.349 sec)\n",
      "INFO:tensorflow:global_step/sec: 304.425\n",
      "INFO:tensorflow:loss = 0.8247117, step = 116552 (0.329 sec)\n",
      "INFO:tensorflow:global_step/sec: 265.49\n",
      "INFO:tensorflow:loss = 0.742527, step = 116652 (0.376 sec)\n",
      "INFO:tensorflow:global_step/sec: 276.807\n",
      "INFO:tensorflow:loss = 0.14176959, step = 116752 (0.361 sec)\n",
      "INFO:tensorflow:global_step/sec: 285.174\n",
      "INFO:tensorflow:loss = 0.021200355, step = 116852 (0.351 sec)\n",
      "INFO:tensorflow:global_step/sec: 256.981\n",
      "INFO:tensorflow:loss = 0.5638458, step = 116952 (0.389 sec)\n",
      "INFO:tensorflow:global_step/sec: 222.94\n",
      "INFO:tensorflow:loss = 0.07436728, step = 117052 (0.449 sec)\n",
      "INFO:tensorflow:global_step/sec: 243.601\n",
      "INFO:tensorflow:loss = 0.009041774, step = 117152 (0.411 sec)\n",
      "INFO:tensorflow:global_step/sec: 285.18\n",
      "INFO:tensorflow:loss = 0.86711705, step = 117252 (0.351 sec)\n",
      "INFO:tensorflow:global_step/sec: 286.005\n",
      "INFO:tensorflow:loss = 0.42901933, step = 117352 (0.350 sec)\n",
      "INFO:tensorflow:global_step/sec: 292.239\n",
      "INFO:tensorflow:loss = 6.698334, step = 117452 (0.342 sec)\n",
      "INFO:tensorflow:global_step/sec: 290.072\n",
      "INFO:tensorflow:loss = 3.1088417, step = 117552 (0.345 sec)\n",
      "INFO:tensorflow:global_step/sec: 300.92\n",
      "INFO:tensorflow:loss = 0.7592854, step = 117652 (0.332 sec)\n",
      "INFO:tensorflow:global_step/sec: 281.277\n",
      "INFO:tensorflow:loss = 0.42678133, step = 117752 (0.356 sec)\n",
      "INFO:tensorflow:global_step/sec: 272.664\n",
      "INFO:tensorflow:loss = 0.23583815, step = 117852 (0.367 sec)\n",
      "INFO:tensorflow:global_step/sec: 254.745\n",
      "INFO:tensorflow:loss = 0.0045118923, step = 117952 (0.393 sec)\n",
      "INFO:tensorflow:global_step/sec: 263.345\n",
      "INFO:tensorflow:loss = 0.10739769, step = 118052 (0.380 sec)\n",
      "INFO:tensorflow:global_step/sec: 278.761\n",
      "INFO:tensorflow:loss = 0.31462777, step = 118152 (0.360 sec)\n",
      "INFO:tensorflow:global_step/sec: 308.085\n",
      "INFO:tensorflow:loss = 0.55129254, step = 118252 (0.323 sec)\n",
      "INFO:tensorflow:global_step/sec: 300.37\n",
      "INFO:tensorflow:loss = 0.07747162, step = 118352 (0.333 sec)\n",
      "INFO:tensorflow:global_step/sec: 306.087\n",
      "INFO:tensorflow:loss = 0.5228811, step = 118452 (0.327 sec)\n",
      "INFO:tensorflow:global_step/sec: 287.706\n",
      "INFO:tensorflow:loss = 1.2050257, step = 118552 (0.348 sec)\n",
      "INFO:tensorflow:global_step/sec: 265.552\n",
      "INFO:tensorflow:loss = 7.12983e-05, step = 118652 (0.376 sec)\n",
      "INFO:tensorflow:global_step/sec: 227.092\n",
      "INFO:tensorflow:loss = 0.13291034, step = 118752 (0.445 sec)\n",
      "INFO:tensorflow:global_step/sec: 240.1\n",
      "INFO:tensorflow:loss = 0.063587345, step = 118852 (0.412 sec)\n",
      "INFO:tensorflow:global_step/sec: 310.212\n",
      "INFO:tensorflow:loss = 0.031173155, step = 118952 (0.322 sec)\n",
      "INFO:tensorflow:global_step/sec: 298.819\n",
      "INFO:tensorflow:loss = 0.116658434, step = 119052 (0.334 sec)\n",
      "INFO:tensorflow:global_step/sec: 278.737\n",
      "INFO:tensorflow:loss = 1.5093371, step = 119152 (0.359 sec)\n",
      "INFO:tensorflow:global_step/sec: 253.237\n",
      "INFO:tensorflow:loss = 0.10289892, step = 119252 (0.395 sec)\n",
      "INFO:tensorflow:global_step/sec: 260.969\n",
      "INFO:tensorflow:loss = 0.15045632, step = 119352 (0.384 sec)\n",
      "INFO:tensorflow:global_step/sec: 208.173\n",
      "INFO:tensorflow:loss = 1.8319303, step = 119452 (0.479 sec)\n",
      "INFO:tensorflow:global_step/sec: 234.756\n",
      "INFO:tensorflow:loss = 0.27448273, step = 119552 (0.426 sec)\n",
      "INFO:tensorflow:global_step/sec: 213.593\n",
      "INFO:tensorflow:loss = 0.21598397, step = 119652 (0.469 sec)\n",
      "INFO:tensorflow:global_step/sec: 273.532\n",
      "INFO:tensorflow:loss = 5.6288238, step = 119752 (0.365 sec)\n",
      "INFO:tensorflow:global_step/sec: 253.417\n",
      "INFO:tensorflow:loss = 0.6119194, step = 119852 (0.395 sec)\n",
      "INFO:tensorflow:global_step/sec: 265.831\n",
      "INFO:tensorflow:loss = 0.007248696, step = 119952 (0.377 sec)\n",
      "INFO:tensorflow:global_step/sec: 250.321\n",
      "INFO:tensorflow:loss = 1.198121, step = 120052 (0.399 sec)\n",
      "INFO:tensorflow:global_step/sec: 246.899\n",
      "INFO:tensorflow:loss = 0.06648892, step = 120152 (0.405 sec)\n",
      "INFO:tensorflow:global_step/sec: 213.234\n",
      "INFO:tensorflow:loss = 0.048121057, step = 120252 (0.477 sec)\n",
      "INFO:tensorflow:global_step/sec: 270.629\n",
      "INFO:tensorflow:loss = 0.059361354, step = 120352 (0.361 sec)\n",
      "INFO:tensorflow:global_step/sec: 294.865\n",
      "INFO:tensorflow:loss = 0.000407203, step = 120452 (0.339 sec)\n",
      "INFO:tensorflow:global_step/sec: 251.432\n",
      "INFO:tensorflow:loss = 0.19940127, step = 120552 (0.399 sec)\n",
      "INFO:tensorflow:global_step/sec: 245.205\n",
      "INFO:tensorflow:loss = 0.40693602, step = 120652 (0.407 sec)\n",
      "INFO:tensorflow:global_step/sec: 259.914\n",
      "INFO:tensorflow:loss = 0.80615693, step = 120752 (0.386 sec)\n",
      "INFO:tensorflow:global_step/sec: 210.097\n",
      "INFO:tensorflow:loss = 2.8295536, step = 120852 (0.475 sec)\n",
      "INFO:tensorflow:global_step/sec: 197.326\n",
      "INFO:tensorflow:loss = 0.0289697, step = 120952 (0.507 sec)\n",
      "INFO:tensorflow:global_step/sec: 228.414\n",
      "INFO:tensorflow:loss = 0.107763045, step = 121052 (0.437 sec)\n",
      "INFO:tensorflow:global_step/sec: 293.309\n",
      "INFO:tensorflow:loss = 0.044545036, step = 121152 (0.341 sec)\n",
      "INFO:tensorflow:global_step/sec: 249.565\n",
      "INFO:tensorflow:loss = 0.7043239, step = 121252 (0.401 sec)\n",
      "INFO:tensorflow:global_step/sec: 276.763\n",
      "INFO:tensorflow:loss = 0.1815724, step = 121352 (0.361 sec)\n",
      "INFO:tensorflow:global_step/sec: 257.793\n",
      "INFO:tensorflow:loss = 0.38851666, step = 121452 (0.388 sec)\n",
      "INFO:tensorflow:global_step/sec: 300.641\n",
      "INFO:tensorflow:loss = 0.037791573, step = 121552 (0.332 sec)\n",
      "INFO:tensorflow:global_step/sec: 281.606\n",
      "INFO:tensorflow:loss = 0.00861731, step = 121652 (0.355 sec)\n",
      "INFO:tensorflow:global_step/sec: 223.36\n",
      "INFO:tensorflow:loss = 0.13110994, step = 121752 (0.448 sec)\n",
      "INFO:tensorflow:global_step/sec: 263.917\n",
      "INFO:tensorflow:loss = 0.24046862, step = 121852 (0.379 sec)\n",
      "INFO:tensorflow:global_step/sec: 298.633\n",
      "INFO:tensorflow:loss = 2.7318356, step = 121952 (0.335 sec)\n",
      "INFO:tensorflow:global_step/sec: 297.078\n",
      "INFO:tensorflow:loss = 2.0448122, step = 122052 (0.336 sec)\n",
      "INFO:tensorflow:global_step/sec: 295.179\n",
      "INFO:tensorflow:loss = 0.023192495, step = 122152 (0.339 sec)\n",
      "INFO:tensorflow:global_step/sec: 300.477\n",
      "INFO:tensorflow:loss = 0.876785, step = 122252 (0.333 sec)\n",
      "INFO:tensorflow:global_step/sec: 314.618\n",
      "INFO:tensorflow:loss = 0.6083304, step = 122352 (0.318 sec)\n",
      "INFO:tensorflow:global_step/sec: 261.395\n",
      "INFO:tensorflow:loss = 0.6753235, step = 122452 (0.383 sec)\n",
      "INFO:tensorflow:global_step/sec: 209.885\n",
      "INFO:tensorflow:loss = 0.065171294, step = 122552 (0.476 sec)\n",
      "INFO:tensorflow:global_step/sec: 294.939\n",
      "INFO:tensorflow:loss = 0.0013271016, step = 122652 (0.339 sec)\n",
      "INFO:tensorflow:global_step/sec: 236.535\n",
      "INFO:tensorflow:loss = 0.2912177, step = 122752 (0.423 sec)\n",
      "INFO:tensorflow:global_step/sec: 218.374\n",
      "INFO:tensorflow:loss = 0.1904216, step = 122852 (0.458 sec)\n",
      "INFO:tensorflow:global_step/sec: 283.915\n",
      "INFO:tensorflow:loss = 0.020101067, step = 122952 (0.352 sec)\n",
      "INFO:tensorflow:global_step/sec: 294.775\n",
      "INFO:tensorflow:loss = 0.94678295, step = 123052 (0.339 sec)\n",
      "INFO:tensorflow:global_step/sec: 221.93\n",
      "INFO:tensorflow:loss = 0.4181073, step = 123152 (0.451 sec)\n",
      "INFO:tensorflow:global_step/sec: 265.76\n",
      "INFO:tensorflow:loss = 2.8113625, step = 123252 (0.376 sec)\n",
      "INFO:tensorflow:global_step/sec: 185.902\n",
      "INFO:tensorflow:loss = 0.0020563698, step = 123352 (0.540 sec)\n",
      "INFO:tensorflow:global_step/sec: 271.792\n",
      "INFO:tensorflow:loss = 0.55450773, step = 123452 (0.366 sec)\n",
      "INFO:tensorflow:global_step/sec: 303.42\n",
      "INFO:tensorflow:loss = 0.0016376765, step = 123552 (0.330 sec)\n",
      "INFO:tensorflow:global_step/sec: 310.078\n",
      "INFO:tensorflow:loss = 0.03967481, step = 123652 (0.323 sec)\n",
      "INFO:tensorflow:global_step/sec: 298.267\n",
      "INFO:tensorflow:loss = 0.2586085, step = 123752 (0.335 sec)\n",
      "INFO:tensorflow:global_step/sec: 306.024\n",
      "INFO:tensorflow:loss = 0.7719876, step = 123852 (0.327 sec)\n",
      "INFO:tensorflow:global_step/sec: 300.781\n",
      "INFO:tensorflow:loss = 0.3184814, step = 123952 (0.332 sec)\n",
      "INFO:tensorflow:global_step/sec: 281.026\n",
      "INFO:tensorflow:loss = 2.2784026, step = 124052 (0.356 sec)\n",
      "INFO:tensorflow:global_step/sec: 249.249\n",
      "INFO:tensorflow:loss = 1.5053307, step = 124152 (0.403 sec)\n",
      "INFO:tensorflow:global_step/sec: 250.464\n",
      "INFO:tensorflow:loss = 0.72797257, step = 124252 (0.398 sec)\n",
      "INFO:tensorflow:global_step/sec: 305.353\n",
      "INFO:tensorflow:loss = 0.009570953, step = 124352 (0.327 sec)\n",
      "INFO:tensorflow:global_step/sec: 301.151\n",
      "INFO:tensorflow:loss = 0.20488432, step = 124452 (0.332 sec)\n",
      "INFO:tensorflow:global_step/sec: 297.868\n",
      "INFO:tensorflow:loss = 2.7806113, step = 124552 (0.335 sec)\n",
      "INFO:tensorflow:global_step/sec: 292.974\n",
      "INFO:tensorflow:loss = 1.2612706, step = 124652 (0.342 sec)\n",
      "INFO:tensorflow:global_step/sec: 302.018\n",
      "INFO:tensorflow:loss = 0.04518649, step = 124752 (0.331 sec)\n",
      "INFO:tensorflow:global_step/sec: 264.609\n",
      "INFO:tensorflow:loss = 0.11080816, step = 124852 (0.378 sec)\n",
      "INFO:tensorflow:global_step/sec: 238.697\n",
      "INFO:tensorflow:loss = 0.5086731, step = 124952 (0.419 sec)\n",
      "INFO:tensorflow:global_step/sec: 218.918\n",
      "INFO:tensorflow:loss = 0.072647996, step = 125052 (0.457 sec)\n",
      "INFO:tensorflow:global_step/sec: 228.029\n",
      "INFO:tensorflow:loss = 0.2538403, step = 125152 (0.438 sec)\n",
      "INFO:tensorflow:global_step/sec: 294.17\n",
      "INFO:tensorflow:loss = 0.89256215, step = 125252 (0.340 sec)\n",
      "INFO:tensorflow:global_step/sec: 290.098\n",
      "INFO:tensorflow:loss = 0.0029072925, step = 125352 (0.345 sec)\n",
      "INFO:tensorflow:global_step/sec: 297.59\n",
      "INFO:tensorflow:loss = 0.23539537, step = 125452 (0.335 sec)\n",
      "INFO:tensorflow:global_step/sec: 291.057\n",
      "INFO:tensorflow:loss = 2.1772695, step = 125552 (0.344 sec)\n",
      "INFO:tensorflow:global_step/sec: 270.141\n",
      "INFO:tensorflow:loss = 1.7394711, step = 125652 (0.370 sec)\n",
      "INFO:tensorflow:global_step/sec: 266.932\n",
      "INFO:tensorflow:loss = 2.442062, step = 125752 (0.376 sec)\n",
      "INFO:tensorflow:global_step/sec: 257.888\n",
      "INFO:tensorflow:loss = 5.0209365, step = 125852 (0.387 sec)\n",
      "INFO:tensorflow:global_step/sec: 254.461\n",
      "INFO:tensorflow:loss = 0.52008474, step = 125952 (0.393 sec)\n",
      "INFO:tensorflow:global_step/sec: 291.753\n",
      "INFO:tensorflow:loss = 0.537804, step = 126052 (0.342 sec)\n",
      "INFO:tensorflow:global_step/sec: 300.806\n",
      "INFO:tensorflow:loss = 0.30463457, step = 126152 (0.332 sec)\n",
      "INFO:tensorflow:global_step/sec: 298.313\n",
      "INFO:tensorflow:loss = 0.19636506, step = 126252 (0.335 sec)\n",
      "INFO:tensorflow:global_step/sec: 302.357\n",
      "INFO:tensorflow:loss = 1.3529375, step = 126352 (0.331 sec)\n",
      "INFO:tensorflow:global_step/sec: 285.022\n",
      "INFO:tensorflow:loss = 0.22666596, step = 126452 (0.351 sec)\n",
      "INFO:tensorflow:global_step/sec: 279.692\n",
      "INFO:tensorflow:loss = 0.543865, step = 126552 (0.358 sec)\n",
      "INFO:tensorflow:global_step/sec: 251.743\n",
      "INFO:tensorflow:loss = 1.0302702, step = 126652 (0.397 sec)\n",
      "INFO:tensorflow:global_step/sec: 247.265\n",
      "INFO:tensorflow:loss = 1.4358404, step = 126752 (0.405 sec)\n",
      "INFO:tensorflow:global_step/sec: 306.404\n",
      "INFO:tensorflow:loss = 0.21316972, step = 126852 (0.326 sec)\n",
      "INFO:tensorflow:global_step/sec: 303.305\n",
      "INFO:tensorflow:loss = 1.4140558, step = 126952 (0.330 sec)\n",
      "INFO:tensorflow:global_step/sec: 293.246\n",
      "INFO:tensorflow:loss = 0.08202555, step = 127052 (0.341 sec)\n",
      "INFO:tensorflow:global_step/sec: 251.541\n",
      "INFO:tensorflow:loss = 0.44342723, step = 127152 (0.398 sec)\n",
      "INFO:tensorflow:global_step/sec: 226.361\n",
      "INFO:tensorflow:loss = 0.9391234, step = 127252 (0.443 sec)\n",
      "INFO:tensorflow:global_step/sec: 230.475\n",
      "INFO:tensorflow:loss = 0.67049974, step = 127352 (0.435 sec)\n",
      "INFO:tensorflow:global_step/sec: 196.199\n",
      "INFO:tensorflow:loss = 0.019509744, step = 127452 (0.508 sec)\n",
      "INFO:tensorflow:global_step/sec: 280.423\n",
      "INFO:tensorflow:loss = 0.24009511, step = 127552 (0.357 sec)\n",
      "INFO:tensorflow:global_step/sec: 288.21\n",
      "INFO:tensorflow:loss = 0.06706041, step = 127652 (0.347 sec)\n",
      "INFO:tensorflow:global_step/sec: 249.705\n",
      "INFO:tensorflow:loss = 1.1623638, step = 127752 (0.400 sec)\n",
      "INFO:tensorflow:global_step/sec: 267.847\n",
      "INFO:tensorflow:loss = 0.014128381, step = 127852 (0.374 sec)\n",
      "INFO:tensorflow:global_step/sec: 297.754\n",
      "INFO:tensorflow:loss = 1.7635608, step = 127952 (0.335 sec)\n",
      "INFO:tensorflow:global_step/sec: 272.941\n",
      "INFO:tensorflow:loss = 0.04298968, step = 128052 (0.367 sec)\n",
      "INFO:tensorflow:global_step/sec: 288.745\n",
      "INFO:tensorflow:loss = 3.9955084, step = 128152 (0.351 sec)\n",
      "INFO:tensorflow:global_step/sec: 211.01\n",
      "INFO:tensorflow:loss = 0.16363357, step = 128252 (0.469 sec)\n",
      "INFO:tensorflow:global_step/sec: 292.256\n",
      "INFO:tensorflow:loss = 0.05265178, step = 128352 (0.342 sec)\n",
      "INFO:tensorflow:global_step/sec: 299.004\n",
      "INFO:tensorflow:loss = 0.10901737, step = 128452 (0.334 sec)\n",
      "INFO:tensorflow:global_step/sec: 300.896\n",
      "INFO:tensorflow:loss = 0.43280116, step = 128552 (0.332 sec)\n",
      "INFO:tensorflow:global_step/sec: 298.772\n",
      "INFO:tensorflow:loss = 0.7219892, step = 128652 (0.335 sec)\n",
      "INFO:tensorflow:global_step/sec: 304.67\n",
      "INFO:tensorflow:loss = 0.010233066, step = 128752 (0.328 sec)\n",
      "INFO:tensorflow:global_step/sec: 295.947\n",
      "INFO:tensorflow:loss = 6.0386043, step = 128852 (0.344 sec)\n",
      "INFO:tensorflow:global_step/sec: 285.923\n",
      "INFO:tensorflow:loss = 0.23616964, step = 128952 (0.343 sec)\n",
      "INFO:tensorflow:global_step/sec: 235.316\n",
      "INFO:tensorflow:loss = 0.13291748, step = 129052 (0.425 sec)\n",
      "INFO:tensorflow:global_step/sec: 254.928\n",
      "INFO:tensorflow:loss = 0.09808617, step = 129152 (0.392 sec)\n",
      "INFO:tensorflow:global_step/sec: 306.005\n",
      "INFO:tensorflow:loss = 0.0077120266, step = 129252 (0.327 sec)\n",
      "INFO:tensorflow:global_step/sec: 262.949\n",
      "INFO:tensorflow:loss = 0.0727713, step = 129352 (0.380 sec)\n",
      "INFO:tensorflow:global_step/sec: 305.912\n",
      "INFO:tensorflow:loss = 0.05082546, step = 129452 (0.327 sec)\n",
      "INFO:tensorflow:global_step/sec: 306.454\n",
      "INFO:tensorflow:loss = 0.68445617, step = 129552 (0.326 sec)\n",
      "INFO:tensorflow:global_step/sec: 299.088\n",
      "INFO:tensorflow:loss = 0.12997133, step = 129652 (0.335 sec)\n",
      "INFO:tensorflow:global_step/sec: 252.953\n",
      "INFO:tensorflow:loss = 0.11297257, step = 129752 (0.400 sec)\n",
      "INFO:tensorflow:global_step/sec: 251.1\n",
      "INFO:tensorflow:loss = 0.5360085, step = 129852 (0.394 sec)\n",
      "INFO:tensorflow:global_step/sec: 244.157\n",
      "INFO:tensorflow:loss = 1.6669264, step = 129952 (0.410 sec)\n",
      "INFO:tensorflow:global_step/sec: 300.083\n",
      "INFO:tensorflow:loss = 0.2266419, step = 130052 (0.333 sec)\n",
      "INFO:tensorflow:global_step/sec: 300.617\n",
      "INFO:tensorflow:loss = 0.0287315, step = 130152 (0.333 sec)\n",
      "INFO:tensorflow:global_step/sec: 296.883\n",
      "INFO:tensorflow:loss = 0.5986589, step = 130252 (0.337 sec)\n",
      "INFO:tensorflow:global_step/sec: 294.017\n",
      "INFO:tensorflow:loss = 0.14221124, step = 130352 (0.340 sec)\n",
      "INFO:tensorflow:global_step/sec: 303.593\n",
      "INFO:tensorflow:loss = 0.38493043, step = 130452 (0.329 sec)\n"
     ]
    }
   ],
   "source": [
    "model5.train(\n",
    "    input_fn=input_fn_train,\n",
    "    steps=epochs\n",
    ")"
   ]
  },
  {
   "cell_type": "code",
   "execution_count": null,
   "metadata": {},
   "outputs": [],
   "source": [
    "metrics = model5.evaluate(input_fn=input_fn_eval, steps=epochs)\n",
    "metrics"
   ]
  },
  {
   "cell_type": "markdown",
   "metadata": {},
   "source": [
    "## pytorch wide & deep model"
   ]
  },
  {
   "cell_type": "markdown",
   "metadata": {},
   "source": [
    "https://github.com/jrzaurin/pytorch-widedeep"
   ]
  }
 ],
 "metadata": {
  "kernelspec": {
   "display_name": "Python 3",
   "language": "python",
   "name": "python3"
  },
  "language_info": {
   "codemirror_mode": {
    "name": "ipython",
    "version": 3
   },
   "file_extension": ".py",
   "mimetype": "text/x-python",
   "name": "python",
   "nbconvert_exporter": "python",
   "pygments_lexer": "ipython3",
   "version": "3.8.5"
  },
  "widgets": {
   "application/vnd.jupyter.widget-state+json": {
    "state": {},
    "version_major": 2,
    "version_minor": 0
   }
  }
 },
 "nbformat": 4,
 "nbformat_minor": 4
}
