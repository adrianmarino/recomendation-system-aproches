{
 "cells": [
  {
   "cell_type": "code",
   "execution_count": 1,
   "metadata": {},
   "outputs": [],
   "source": [
    "%matplotlib inline\n",
    "%load_ext autoreload\n",
    "%autoreload 2"
   ]
  },
  {
   "cell_type": "markdown",
   "metadata": {},
   "source": [
    "# Recommendation systems: Deep Model"
   ]
  },
  {
   "cell_type": "markdown",
   "metadata": {},
   "source": [
    "This model is made up of feature layers that have users, movies and movie genres embedings followed by a neural network with dense layers and finally one output that is the rating prediction that input user(id) could assign to input movie(id)."
   ]
  },
  {
   "cell_type": "markdown",
   "metadata": {},
   "source": [
    "**Inputs**\n",
    "* **User id**: Really this is traducet as a sequence because embedding layers only can manage sequenced identifiers.\n",
    "* **Movie id**: Idem to User id.\n",
    "* **Movie genres**: One column by genre.\n",
    "\n",
    "**Output**\n",
    "*  **Rating prediction** that user could assign to movie."
   ]
  },
  {
   "cell_type": "markdown",
   "metadata": {},
   "source": [
    "**Links**\n",
    "* [Deep Learning With Keras: Recommender Systems](https://www.johnwittenauer.net/deep-learning-with-keras-recommender-systems/)\n",
    "* [Collaborative Filtering for Movie Recommendations](https://keras.io/examples/structured_data/collaborative_filtering_movielens/)\n",
    "* [Movie lens datasets](https://grouplens.org/datasets/movielens/)\n",
    "* [Recommendation Systems Benchmarks](https://paperswithcode.com/task/recommendation-systems)"
   ]
  },
  {
   "cell_type": "markdown",
   "metadata": {},
   "source": [
    "## Required libraries"
   ]
  },
  {
   "cell_type": "code",
   "execution_count": 48,
   "metadata": {},
   "outputs": [],
   "source": [
    "import sys\n",
    "sys.path.append('../src')\n",
    "\n",
    "import math\n",
    "import numpy as np\n",
    "import pandas as pd\n",
    "import tensorflow as tf\n",
    "\n",
    "from util import tf_detected_devices, \\\n",
    "                 tf_version, \\\n",
    "                 plot_model, \\\n",
    "                 Config, \\\n",
    "                 LoggerFactory, \\\n",
    "                 create_path\n",
    "\n",
    "from callback import MetricsPlotter\n",
    "\n",
    "from data import DataFrameDataGenerator\n",
    "\n",
    "from recommendation import UserMovieGenderEmbeddingDenseModelFactory, \\\n",
    "                           RecommendationsDataGenerator\n",
    "\n",
    "from spark import SparkSessionFactory, \\\n",
    "                  read_csv, \\\n",
    "                  column_values, \\\n",
    "                  train_test_split, \\\n",
    "                  PageSet, \\\n",
    "                  get_columns, \\\n",
    "                  get_rows\n",
    "\n",
    "import pyspark.sql.types as t\n",
    "import pyspark.sql as s\n",
    "import pyspark.sql.functions as f"
   ]
  },
  {
   "cell_type": "markdown",
   "metadata": {},
   "source": [
    "## Logger config"
   ]
  },
  {
   "cell_type": "code",
   "execution_count": 31,
   "metadata": {},
   "outputs": [
    {
     "data": {
      "text/plain": [
       "<RootLogger root (INFO)>"
      ]
     },
     "execution_count": 31,
     "metadata": {},
     "output_type": "execute_result"
    }
   ],
   "source": [
    "config = Config(path='../config/config.yaml')\n",
    "LoggerFactory(config['logger']).create()"
   ]
  },
  {
   "cell_type": "markdown",
   "metadata": {},
   "source": [
    "## Config parameters"
   ]
  },
  {
   "cell_type": "markdown",
   "metadata": {},
   "source": [
    "Setup test_mode variable to enable or disable model train before check their prediction precision:"
   ]
  },
  {
   "cell_type": "code",
   "execution_count": 32,
   "metadata": {},
   "outputs": [],
   "source": [
    "train_model = True"
   ]
  },
  {
   "cell_type": "markdown",
   "metadata": {},
   "source": [
    "## Check environment"
   ]
  },
  {
   "cell_type": "markdown",
   "metadata": {},
   "source": [
    "**Step 1**: Make sure that nvidia driver is installed runing next command:"
   ]
  },
  {
   "cell_type": "code",
   "execution_count": 33,
   "metadata": {},
   "outputs": [
    {
     "name": "stdout",
     "output_type": "stream",
     "text": [
      "NVIDIA GeForce RTX 3080, 10240 MiB\n"
     ]
    }
   ],
   "source": [
    "!nvidia-smi --query-gpu=gpu_name,memory.total --format=csv | sed -n 2p"
   ]
  },
  {
   "cell_type": "markdown",
   "metadata": {},
   "source": [
    "**Note:** If this shows a GPU model and memory size, that's all right, otherwise make suze that has the nvidia driver installed."
   ]
  },
  {
   "cell_type": "markdown",
   "metadata": {},
   "source": [
    "**Step 2**: Let's check tensorflow version:"
   ]
  },
  {
   "cell_type": "code",
   "execution_count": 34,
   "metadata": {},
   "outputs": [
    {
     "data": {
      "text/plain": [
       "'Tensorflow version: 2.8.0'"
      ]
     },
     "execution_count": 34,
     "metadata": {},
     "output_type": "execute_result"
    }
   ],
   "source": [
    "tf_version()"
   ]
  },
  {
   "cell_type": "markdown",
   "metadata": {},
   "source": [
    "**Step 3**: Let's check devices that tensorflow detect:"
   ]
  },
  {
   "cell_type": "code",
   "execution_count": 35,
   "metadata": {},
   "outputs": [
    {
     "data": {
      "text/html": [
       "<div>\n",
       "<style scoped>\n",
       "    .dataframe tbody tr th:only-of-type {\n",
       "        vertical-align: middle;\n",
       "    }\n",
       "\n",
       "    .dataframe tbody tr th {\n",
       "        vertical-align: top;\n",
       "    }\n",
       "\n",
       "    .dataframe thead th {\n",
       "        text-align: right;\n",
       "    }\n",
       "</style>\n",
       "<table border=\"1\" class=\"dataframe\">\n",
       "  <thead>\n",
       "    <tr style=\"text-align: right;\">\n",
       "      <th></th>\n",
       "      <th>Name</th>\n",
       "      <th>Device Type</th>\n",
       "      <th>Memory</th>\n",
       "      <th>Description</th>\n",
       "    </tr>\n",
       "  </thead>\n",
       "  <tbody>\n",
       "    <tr>\n",
       "      <th>0</th>\n",
       "      <td>/device:CPU:0</td>\n",
       "      <td>CPU</td>\n",
       "      <td>256M</td>\n",
       "      <td></td>\n",
       "    </tr>\n",
       "    <tr>\n",
       "      <th>1</th>\n",
       "      <td>/device:GPU:0</td>\n",
       "      <td>GPU</td>\n",
       "      <td>488M</td>\n",
       "      <td>device: 0, name: NVIDIA GeForce RTX 3080, pci ...</td>\n",
       "    </tr>\n",
       "  </tbody>\n",
       "</table>\n",
       "</div>"
      ],
      "text/plain": [
       "            Name Device Type Memory  \\\n",
       "0  /device:CPU:0         CPU   256M   \n",
       "1  /device:GPU:0         GPU   488M   \n",
       "\n",
       "                                         Description  \n",
       "0                                                     \n",
       "1  device: 0, name: NVIDIA GeForce RTX 3080, pci ...  "
      ]
     },
     "execution_count": 35,
     "metadata": {},
     "output_type": "execute_result"
    }
   ],
   "source": [
    "tf_detected_devices()"
   ]
  },
  {
   "cell_type": "code",
   "execution_count": 36,
   "metadata": {},
   "outputs": [],
   "source": [
    "tf.debugging.set_log_device_placement(False)"
   ]
  },
  {
   "cell_type": "markdown",
   "metadata": {},
   "source": [
    "**Step 4**: Make sure that tensorflow detect cuda libs and GPU devices."
   ]
  },
  {
   "cell_type": "code",
   "execution_count": 37,
   "metadata": {},
   "outputs": [
    {
     "data": {
      "text/plain": [
       "True"
      ]
     },
     "execution_count": 37,
     "metadata": {},
     "output_type": "execute_result"
    }
   ],
   "source": [
    "tf.test.is_built_with_cuda()"
   ]
  },
  {
   "cell_type": "code",
   "execution_count": 38,
   "metadata": {},
   "outputs": [
    {
     "data": {
      "text/plain": [
       "[PhysicalDevice(name='/physical_device:GPU:0', device_type='GPU')]"
      ]
     },
     "execution_count": 38,
     "metadata": {},
     "output_type": "execute_result"
    }
   ],
   "source": [
    "tf.config.list_physical_devices('GPU')"
   ]
  },
  {
   "cell_type": "markdown",
   "metadata": {},
   "source": [
    "# Prepare model input data"
   ]
  },
  {
   "cell_type": "markdown",
   "metadata": {},
   "source": [
    "**Step 1**: Create a predefined spark session. this is used to create a pipeline that build the model input features. "
   ]
  },
  {
   "cell_type": "code",
   "execution_count": 39,
   "metadata": {},
   "outputs": [
    {
     "data": {
      "text/html": [
       "\n",
       "            <div>\n",
       "                <p><b>SparkSession - in-memory</b></p>\n",
       "                \n",
       "        <div>\n",
       "            <p><b>SparkContext</b></p>\n",
       "\n",
       "            <p><a href=\"http://skynet:4040\">Spark UI</a></p>\n",
       "\n",
       "            <dl>\n",
       "              <dt>Version</dt>\n",
       "                <dd><code>v3.2.0</code></dd>\n",
       "              <dt>Master</dt>\n",
       "                <dd><code>local[*]</code></dd>\n",
       "              <dt>AppName</dt>\n",
       "                <dd><code>recommendations</code></dd>\n",
       "            </dl>\n",
       "        </div>\n",
       "        \n",
       "            </div>\n",
       "        "
      ],
      "text/plain": [
       "<pyspark.sql.session.SparkSession at 0x7f7528668a60>"
      ]
     },
     "execution_count": 39,
     "metadata": {},
     "output_type": "execute_result"
    }
   ],
   "source": [
    "session = SparkSessionFactory.create()\n",
    "session"
   ]
  },
  {
   "cell_type": "code",
   "execution_count": 40,
   "metadata": {},
   "outputs": [
    {
     "data": {
      "text/plain": [
       "[('spark.app.startTime', '1645981041991'),\n",
       " ('spark.executor.instances', '12'),\n",
       " ('spark.sql.warehouse.dir',\n",
       "  'file:/home/adrian/development/machine-learning/recommendations/user-movie-genres-model/spark-warehouse'),\n",
       " ('spark.executor.id', 'driver'),\n",
       " ('spark.executor.memory', '1G'),\n",
       " ('spark.app.name', 'recommendations'),\n",
       " ('spark.driver.host', 'skynet'),\n",
       " ('spark.rdd.compress', 'True'),\n",
       " ('spark.serializer.objectStreamReset', '100'),\n",
       " ('spark.app.id', 'local-1645981042022'),\n",
       " ('spark.master', 'local[*]'),\n",
       " ('spark.driver.port', '37985'),\n",
       " ('spark.submit.pyFiles', ''),\n",
       " ('spark.submit.deployMode', 'client'),\n",
       " ('spark.driver.memory', '4G'),\n",
       " ('spark.ui.showConsoleProgress', 'true')]"
      ]
     },
     "execution_count": 40,
     "metadata": {},
     "output_type": "execute_result"
    }
   ],
   "source": [
    "session.sparkContext.getConf().getAll()"
   ]
  },
  {
   "cell_type": "markdown",
   "metadata": {},
   "source": [
    "**Note**: When create a spark session this run a new spark cluster with one instance in localhost. You can monitor instance jobs clicking the **Spark UI** link. "
   ]
  },
  {
   "cell_type": "markdown",
   "metadata": {},
   "source": [
    "**Step 2**: Load raw dataset to a spark dataset. "
   ]
  },
  {
   "cell_type": "code",
   "execution_count": 41,
   "metadata": {},
   "outputs": [],
   "source": [
    "TEMP_PATH = './temp'\n",
    "TRAIN_PATH = f'{TEMP_PATH}/train'\n",
    "VAL_PATH = f'{TEMP_PATH}/val'\n",
    "TEST_PATH = f'{TEMP_PATH}/test'"
   ]
  },
  {
   "cell_type": "code",
   "execution_count": 44,
   "metadata": {},
   "outputs": [
    {
     "name": "stdout",
     "output_type": "stream",
     "text": [
      "Train set size: 70,288 samples.\n",
      "Validation set size: 20,198 samples.\n",
      "Test set size: 8,851 samples.\n"
     ]
    }
   ],
   "source": [
    "train_set = read_csv(session, f'{TRAIN_PATH}/*.csv')\n",
    "val_set   = read_csv(session, f'{VAL_PATH}/*.csv')\n",
    "test_set  = read_csv(session, f'{TEST_PATH}/*.csv')\n",
    "\n",
    "print(f'Train set size: {\"{:,}\".format(train_set.count())} samples.')\n",
    "print(f'Validation set size: {\"{:,}\".format(val_set.count())} samples.')\n",
    "print(f'Test set size: {\"{:,}\".format(test_set.count())} samples.')"
   ]
  },
  {
   "cell_type": "markdown",
   "metadata": {},
   "source": [
    "**Step 3:** Let's see min and max value of rating column."
   ]
  },
  {
   "cell_type": "code",
   "execution_count": 45,
   "metadata": {},
   "outputs": [
    {
     "name": "stdout",
     "output_type": "stream",
     "text": [
      "Ratting - min:  0.5 max: 5.0\n"
     ]
    }
   ],
   "source": [
    "min_max = train_set.agg(f.min('rating'), f.max('rating')).collect()[0]\n",
    "min_rating, max_rating = min_max[0], min_max[1]\n",
    "\n",
    "print('Ratting - min: ', min_rating, 'max:', max_rating)"
   ]
  },
  {
   "cell_type": "markdown",
   "metadata": {},
   "source": [
    "**Step 4:** Let's see all dataset columns."
   ]
  },
  {
   "cell_type": "code",
   "execution_count": 46,
   "metadata": {},
   "outputs": [],
   "source": [
    "class ColumnService:\n",
    "    def __init__(self, columns):\n",
    "        excluded_columns = ['user_id', 'movie_id']\n",
    "        self.labels = ['rating']\n",
    "\n",
    "        features = list(set(columns) - set(self.labels) - set(excluded_columns))\n",
    "        features = sorted(features, key=lambda x: 'gen_' in x)\n",
    "\n",
    "        self.gender_features = [c for c in features if 'gen_' in c]\n",
    "        self.emb_features = [c for c in features if '_seq' in c]\n",
    "        self.emb_features = sorted(self.emb_features, key=lambda x: 'user' in x, reverse=True)\n",
    "   \n",
    "        self.features = self.emb_features + self.gender_features\n",
    "\n",
    "column_manager = ColumnService(train_set.columns)"
   ]
  },
  {
   "cell_type": "markdown",
   "metadata": {},
   "source": [
    "**Step 5**: Calculate train, val batch_size and plot interval."
   ]
  },
  {
   "cell_type": "code",
   "execution_count": 49,
   "metadata": {},
   "outputs": [
    {
     "name": "stdout",
     "output_type": "stream",
     "text": [
      "Train Batch Size      : 702.\n",
      "Validation Batch Size : 201.\n",
      "Plot Interval         : 10\n",
      "Evaluate Interval     : 11\n",
      "Epochs                : 20\n"
     ]
    }
   ],
   "source": [
    "steps             = 100\n",
    "epochs            = 20\n",
    "plot_interval     = math.floor(steps / 10)\n",
    "\n",
    "train_batch_size  = math.floor(train_set.count() / steps)\n",
    "val_batch_size    = math.floor(val_set.count() / steps)\n",
    "evaluate_interval = plot_interval + 1\n",
    "\n",
    "\n",
    "print(f'Train Batch Size      : {\"{:,}\".format(train_batch_size)}.')\n",
    "print(f'Validation Batch Size : {\"{:,}\".format(val_batch_size)}.')\n",
    "print('Plot Interval         :', plot_interval)\n",
    "print('Evaluate Interval     :', evaluate_interval)\n",
    "print('Epochs                :', epochs)"
   ]
  },
  {
   "cell_type": "code",
   "execution_count": 50,
   "metadata": {},
   "outputs": [
    {
     "name": "stdout",
     "output_type": "stream",
     "text": [
      "2022-02-27 13:58:47 INFO Page Size: 702\n",
      "2022-02-27 13:58:47 INFO Pages Count: 101\n",
      "2022-02-27 13:58:47 INFO Total elements: 70288\n",
      "2022-02-27 13:58:47 INFO Page Size: 201\n",
      "2022-02-27 13:58:47 INFO Pages Count: 101\n",
      "2022-02-27 13:58:47 INFO Total elements: 20198\n"
     ]
    }
   ],
   "source": [
    "train_generator = RecommendationsDataGenerator(\n",
    "    train_set,\n",
    "    train_batch_size,\n",
    "    column_manager,\n",
    "    shuffle = True,\n",
    "    name    = 'train'\n",
    ")\n",
    "\n",
    "val_generator = RecommendationsDataGenerator(\n",
    "    val_set,\n",
    "    val_batch_size,\n",
    "    column_manager,\n",
    "    shuffle = False,\n",
    "    name    = 'val'\n",
    ")"
   ]
  },
  {
   "cell_type": "code",
   "execution_count": 51,
   "metadata": {},
   "outputs": [
    {
     "name": "stdout",
     "output_type": "stream",
     "text": [
      "Train set size: 610.\n",
      "Validation set size: 8,454.\n"
     ]
    }
   ],
   "source": [
    "n_users = train_set.select('user_seq') \\\n",
    "            .union(val_set.select('user_seq')) \\\n",
    "            .union(test_set.select('user_seq')) \\\n",
    "            .distinct() \\\n",
    "            .count()\n",
    "\n",
    "n_movies = train_set.select('movie_seq') \\\n",
    "            .union(val_set.select('movie_seq')) \\\n",
    "            .union(test_set.select('movie_seq')) \\\n",
    "            .distinct() \\\n",
    "            .count()\n",
    "\n",
    "print(f'Train set size: {\"{:,}\".format(n_users)}.')\n",
    "print(f'Validation set size: {\"{:,}\".format(n_movies)}.')"
   ]
  },
  {
   "cell_type": "code",
   "execution_count": 53,
   "metadata": {},
   "outputs": [
    {
     "data": {
      "image/png": "[encoded data removed]",
      "text/plain": [
       "<IPython.core.display.Image object>"
      ]
     },
     "execution_count": 53,
     "metadata": {},
     "output_type": "execute_result"
    }
   ],
   "source": [
    "model = UserMovieGenderEmbeddingDenseModelFactory.create(\n",
    "    n_users,\n",
    "    n_movies,\n",
    "    n_genders           = len(column_manager.gender_features),\n",
    "    min_rating          = min_rating, \n",
    "    max_rating          = max_rating,\n",
    "    user_n_min_factors  = 50,\n",
    "    movie_n_min_factors = 50,\n",
    "    lr                  = 0.001,\n",
    "    units               = [512, 512, 512, 512],\n",
    "    dropout             = [0.5, 0.5, 0.5, 0.5]\n",
    ")\n",
    "\n",
    "plot_model(model, rankdir=\"TB\")"
   ]
  },
  {
   "cell_type": "code",
   "execution_count": 54,
   "metadata": {},
   "outputs": [
    {
     "name": "stdout",
     "output_type": "stream",
     "text": [
      "Model: \"Embedding_Feature_Layers_Plus_Dense_Layer_Model\"\n",
      "__________________________________________________________________________________________________\n",
      " Layer (type)                   Output Shape         Param #     Connected to                     \n",
      "==================================================================================================\n",
      " users_idx (InputLayer)         [(None, 1)]          0           []                               \n",
      "                                                                                                  \n",
      " movies_idx (InputLayer)        [(None, 1)]          0           []                               \n",
      "                                                                                                  \n",
      " users_embedding (Embedding)    (None, 1, 50)        30500       ['users_idx[0][0]']              \n",
      "                                                                                                  \n",
      " movies_embedding (Embedding)   (None, 1, 50)        422700      ['movies_idx[0][0]']             \n",
      "                                                                                                  \n",
      " users_embedding_3_to_2_dim (Re  (None, 50)          0           ['users_embedding[0][0]']        \n",
      " shape)                                                                                           \n",
      "                                                                                                  \n",
      " movies_embedding_3_to_2_dim (R  (None, 50)          0           ['movies_embedding[0][0]']       \n",
      " eshape)                                                                                          \n",
      "                                                                                                  \n",
      " concatenate_2 (Concatenate)    (None, 100)          0           ['users_embedding_3_to_2_dim[0][0\n",
      "                                                                 ]',                              \n",
      "                                                                  'movies_embedding_3_to_2_dim[0][\n",
      "                                                                 0]']                             \n",
      "                                                                                                  \n",
      " dropout_4 (Dropout)            (None, 100)          0           ['concatenate_2[0][0]']          \n",
      "                                                                                                  \n",
      " dense_4 (Dense)                (None, 512)          51712       ['dropout_4[0][0]']              \n",
      "                                                                                                  \n",
      " activation_2 (Activation)      (None, 512)          0           ['dense_4[0][0]']                \n",
      "                                                                                                  \n",
      " dropout_5 (Dropout)            (None, 512)          0           ['activation_2[0][0]']           \n",
      "                                                                                                  \n",
      " dense_5 (Dense)                (None, 1)            513         ['dropout_5[0][0]']              \n",
      "                                                                                                  \n",
      " sigmoid_activation (Activation  (None, 1)           0           ['dense_5[0][0]']                \n",
      " )                                                                                                \n",
      "                                                                                                  \n",
      " genders (InputLayer)           [(None, 20)]         0           []                               \n",
      "                                                                                                  \n",
      " user_rating_prediction (Lambda  (None, 1)           0           ['sigmoid_activation[0][0]']     \n",
      " )                                                                                                \n",
      "                                                                                                  \n",
      "==================================================================================================\n",
      "Total params: 505,425\n",
      "Trainable params: 505,425\n",
      "Non-trainable params: 0\n",
      "__________________________________________________________________________________________________\n"
     ]
    }
   ],
   "source": [
    "model.summary()"
   ]
  },
  {
   "cell_type": "code",
   "execution_count": 55,
   "metadata": {},
   "outputs": [
    {
     "name": "stdout",
     "output_type": "stream",
     "text": [
      "loss\n",
      "Epoch 1/20\n"
     ]
    },
    {
     "ename": "InternalError",
     "evalue": "Graph execution error:\n\nDetected at node 'Embedding_Feature_Layers_Plus_Dense_Layer_Model/dense_4/MatMul' defined at (most recent call last):\n    File \"/home/adrian/.conda/envs/recommendations/lib/python3.8/runpy.py\", line 194, in _run_module_as_main\n      return _run_code(code, main_globals, None,\n    File \"/home/adrian/.conda/envs/recommendations/lib/python3.8/runpy.py\", line 87, in _run_code\n      exec(code, run_globals)\n    File \"/home/adrian/.conda/envs/recommendations/lib/python3.8/site-packages/ipykernel_launcher.py\", line 16, in <module>\n      app.launch_new_instance()\n    File \"/home/adrian/.conda/envs/recommendations/lib/python3.8/site-packages/traitlets/config/application.py\", line 845, in launch_instance\n      app.start()\n    File \"/home/adrian/.conda/envs/recommendations/lib/python3.8/site-packages/ipykernel/kernelapp.py\", line 612, in start\n      self.io_loop.start()\n    File \"/home/adrian/.conda/envs/recommendations/lib/python3.8/site-packages/tornado/platform/asyncio.py\", line 149, in start\n      self.asyncio_loop.run_forever()\n    File \"/home/adrian/.conda/envs/recommendations/lib/python3.8/asyncio/base_events.py\", line 570, in run_forever\n      self._run_once()\n    File \"/home/adrian/.conda/envs/recommendations/lib/python3.8/asyncio/base_events.py\", line 1859, in _run_once\n      handle._run()\n    File \"/home/adrian/.conda/envs/recommendations/lib/python3.8/asyncio/events.py\", line 81, in _run\n      self._context.run(self._callback, *self._args)\n    File \"/home/adrian/.conda/envs/recommendations/lib/python3.8/site-packages/tornado/ioloop.py\", line 690, in <lambda>\n      lambda f: self._run_callback(functools.partial(callback, future))\n    File \"/home/adrian/.conda/envs/recommendations/lib/python3.8/site-packages/tornado/ioloop.py\", line 743, in _run_callback\n      ret = callback()\n    File \"/home/adrian/.conda/envs/recommendations/lib/python3.8/site-packages/tornado/gen.py\", line 787, in inner\n      self.run()\n    File \"/home/adrian/.conda/envs/recommendations/lib/python3.8/site-packages/tornado/gen.py\", line 748, in run\n      yielded = self.gen.send(value)\n    File \"/home/adrian/.conda/envs/recommendations/lib/python3.8/site-packages/ipykernel/kernelbase.py\", line 365, in process_one\n      yield gen.maybe_future(dispatch(*args))\n    File \"/home/adrian/.conda/envs/recommendations/lib/python3.8/site-packages/tornado/gen.py\", line 209, in wrapper\n      yielded = next(result)\n    File \"/home/adrian/.conda/envs/recommendations/lib/python3.8/site-packages/ipykernel/kernelbase.py\", line 268, in dispatch_shell\n      yield gen.maybe_future(handler(stream, idents, msg))\n    File \"/home/adrian/.conda/envs/recommendations/lib/python3.8/site-packages/tornado/gen.py\", line 209, in wrapper\n      yielded = next(result)\n    File \"/home/adrian/.conda/envs/recommendations/lib/python3.8/site-packages/ipykernel/kernelbase.py\", line 543, in execute_request\n      self.do_execute(\n    File \"/home/adrian/.conda/envs/recommendations/lib/python3.8/site-packages/tornado/gen.py\", line 209, in wrapper\n      yielded = next(result)\n    File \"/home/adrian/.conda/envs/recommendations/lib/python3.8/site-packages/ipykernel/ipkernel.py\", line 306, in do_execute\n      res = shell.run_cell(code, store_history=store_history, silent=silent)\n    File \"/home/adrian/.conda/envs/recommendations/lib/python3.8/site-packages/ipykernel/zmqshell.py\", line 536, in run_cell\n      return super(ZMQInteractiveShell, self).run_cell(*args, **kwargs)\n    File \"/home/adrian/.conda/envs/recommendations/lib/python3.8/site-packages/IPython/core/interactiveshell.py\", line 2876, in run_cell\n      result = self._run_cell(\n    File \"/home/adrian/.conda/envs/recommendations/lib/python3.8/site-packages/IPython/core/interactiveshell.py\", line 2922, in _run_cell\n      return runner(coro)\n    File \"/home/adrian/.conda/envs/recommendations/lib/python3.8/site-packages/IPython/core/async_helpers.py\", line 68, in _pseudo_sync_runner\n      coro.send(None)\n    File \"/home/adrian/.conda/envs/recommendations/lib/python3.8/site-packages/IPython/core/interactiveshell.py\", line 3145, in run_cell_async\n      has_raised = await self.run_ast_nodes(code_ast.body, cell_name,\n    File \"/home/adrian/.conda/envs/recommendations/lib/python3.8/site-packages/IPython/core/interactiveshell.py\", line 3337, in run_ast_nodes\n      if (await self.run_code(code, result,  async_=asy)):\n    File \"/home/adrian/.conda/envs/recommendations/lib/python3.8/site-packages/IPython/core/interactiveshell.py\", line 3417, in run_code\n      exec(code_obj, self.user_global_ns, self.user_ns)\n    File \"<ipython-input-55-000925bb503f>\", line 2, in <module>\n      history = model.fit_generator(\n    File \"/home/adrian/.conda/envs/recommendations/lib/python3.8/site-packages/keras/engine/training.py\", line 2209, in fit_generator\n      return self.fit(\n    File \"/home/adrian/.conda/envs/recommendations/lib/python3.8/site-packages/keras/utils/traceback_utils.py\", line 64, in error_handler\n      return fn(*args, **kwargs)\n    File \"/home/adrian/.conda/envs/recommendations/lib/python3.8/site-packages/keras/engine/training.py\", line 1384, in fit\n      tmp_logs = self.train_function(iterator)\n    File \"/home/adrian/.conda/envs/recommendations/lib/python3.8/site-packages/keras/engine/training.py\", line 1021, in train_function\n      return step_function(self, iterator)\n    File \"/home/adrian/.conda/envs/recommendations/lib/python3.8/site-packages/keras/engine/training.py\", line 1010, in step_function\n      outputs = model.distribute_strategy.run(run_step, args=(data,))\n    File \"/home/adrian/.conda/envs/recommendations/lib/python3.8/site-packages/keras/engine/training.py\", line 1000, in run_step\n      outputs = model.train_step(data)\n    File \"/home/adrian/.conda/envs/recommendations/lib/python3.8/site-packages/keras/engine/training.py\", line 859, in train_step\n      y_pred = self(x, training=True)\n    File \"/home/adrian/.conda/envs/recommendations/lib/python3.8/site-packages/keras/utils/traceback_utils.py\", line 64, in error_handler\n      return fn(*args, **kwargs)\n    File \"/home/adrian/.conda/envs/recommendations/lib/python3.8/site-packages/keras/engine/base_layer.py\", line 1096, in __call__\n      outputs = call_fn(inputs, *args, **kwargs)\n    File \"/home/adrian/.conda/envs/recommendations/lib/python3.8/site-packages/keras/utils/traceback_utils.py\", line 92, in error_handler\n      return fn(*args, **kwargs)\n    File \"/home/adrian/.conda/envs/recommendations/lib/python3.8/site-packages/keras/engine/functional.py\", line 451, in call\n      return self._run_internal_graph(\n    File \"/home/adrian/.conda/envs/recommendations/lib/python3.8/site-packages/keras/engine/functional.py\", line 589, in _run_internal_graph\n      outputs = node.layer(*args, **kwargs)\n    File \"/home/adrian/.conda/envs/recommendations/lib/python3.8/site-packages/keras/utils/traceback_utils.py\", line 64, in error_handler\n      return fn(*args, **kwargs)\n    File \"/home/adrian/.conda/envs/recommendations/lib/python3.8/site-packages/keras/engine/base_layer.py\", line 1096, in __call__\n      outputs = call_fn(inputs, *args, **kwargs)\n    File \"/home/adrian/.conda/envs/recommendations/lib/python3.8/site-packages/keras/utils/traceback_utils.py\", line 92, in error_handler\n      return fn(*args, **kwargs)\n    File \"/home/adrian/.conda/envs/recommendations/lib/python3.8/site-packages/keras/layers/core/dense.py\", line 219, in call\n      outputs = tf.matmul(a=inputs, b=self.kernel)\nNode: 'Embedding_Feature_Layers_Plus_Dense_Layer_Model/dense_4/MatMul'\nAttempting to perform BLAS operation using StreamExecutor without BLAS support\n\t [[{{node Embedding_Feature_Layers_Plus_Dense_Layer_Model/dense_4/MatMul}}]] [Op:__inference_train_function_2082]",
     "output_type": "error",
     "traceback": [
      "\u001b[0;31m---------------------------------------------------------------------------\u001b[0m",
      "\u001b[0;31mInternalError\u001b[0m                             Traceback (most recent call last)",
      "\u001b[0;32m<ipython-input-55-000925bb503f>\u001b[0m in \u001b[0;36m<module>\u001b[0;34m\u001b[0m\n\u001b[1;32m      1\u001b[0m \u001b[0;32mif\u001b[0m \u001b[0mtrain_model\u001b[0m\u001b[0;34m:\u001b[0m\u001b[0;34m\u001b[0m\u001b[0;34m\u001b[0m\u001b[0m\n\u001b[0;32m----> 2\u001b[0;31m     history = model.fit_generator(\n\u001b[0m\u001b[1;32m      3\u001b[0m         \u001b[0mgenerator\u001b[0m       \u001b[0;34m=\u001b[0m \u001b[0mtrain_generator\u001b[0m\u001b[0;34m,\u001b[0m\u001b[0;34m\u001b[0m\u001b[0;34m\u001b[0m\u001b[0m\n\u001b[1;32m      4\u001b[0m         \u001b[0mvalidation_data\u001b[0m \u001b[0;34m=\u001b[0m \u001b[0mval_generator\u001b[0m\u001b[0;34m,\u001b[0m\u001b[0;34m\u001b[0m\u001b[0;34m\u001b[0m\u001b[0m\n\u001b[1;32m      5\u001b[0m         \u001b[0mepochs\u001b[0m          \u001b[0;34m=\u001b[0m \u001b[0mepochs\u001b[0m\u001b[0;34m,\u001b[0m\u001b[0;34m\u001b[0m\u001b[0;34m\u001b[0m\u001b[0m\n",
      "\u001b[0;32m~/.conda/envs/recommendations/lib/python3.8/site-packages/keras/engine/training.py\u001b[0m in \u001b[0;36mfit_generator\u001b[0;34m(self, generator, steps_per_epoch, epochs, verbose, callbacks, validation_data, validation_steps, validation_freq, class_weight, max_queue_size, workers, use_multiprocessing, shuffle, initial_epoch)\u001b[0m\n\u001b[1;32m   2207\u001b[0m         \u001b[0;34m'Please use `Model.fit`, which supports generators.'\u001b[0m\u001b[0;34m,\u001b[0m\u001b[0;34m\u001b[0m\u001b[0;34m\u001b[0m\u001b[0m\n\u001b[1;32m   2208\u001b[0m         stacklevel=2)\n\u001b[0;32m-> 2209\u001b[0;31m     return self.fit(\n\u001b[0m\u001b[1;32m   2210\u001b[0m         \u001b[0mgenerator\u001b[0m\u001b[0;34m,\u001b[0m\u001b[0;34m\u001b[0m\u001b[0;34m\u001b[0m\u001b[0m\n\u001b[1;32m   2211\u001b[0m         \u001b[0msteps_per_epoch\u001b[0m\u001b[0;34m=\u001b[0m\u001b[0msteps_per_epoch\u001b[0m\u001b[0;34m,\u001b[0m\u001b[0;34m\u001b[0m\u001b[0;34m\u001b[0m\u001b[0m\n",
      "\u001b[0;32m~/.conda/envs/recommendations/lib/python3.8/site-packages/keras/utils/traceback_utils.py\u001b[0m in \u001b[0;36merror_handler\u001b[0;34m(*args, **kwargs)\u001b[0m\n\u001b[1;32m     65\u001b[0m     \u001b[0;32mexcept\u001b[0m \u001b[0mException\u001b[0m \u001b[0;32mas\u001b[0m \u001b[0me\u001b[0m\u001b[0;34m:\u001b[0m  \u001b[0;31m# pylint: disable=broad-except\u001b[0m\u001b[0;34m\u001b[0m\u001b[0;34m\u001b[0m\u001b[0m\n\u001b[1;32m     66\u001b[0m       \u001b[0mfiltered_tb\u001b[0m \u001b[0;34m=\u001b[0m \u001b[0m_process_traceback_frames\u001b[0m\u001b[0;34m(\u001b[0m\u001b[0me\u001b[0m\u001b[0;34m.\u001b[0m\u001b[0m__traceback__\u001b[0m\u001b[0;34m)\u001b[0m\u001b[0;34m\u001b[0m\u001b[0;34m\u001b[0m\u001b[0m\n\u001b[0;32m---> 67\u001b[0;31m       \u001b[0;32mraise\u001b[0m \u001b[0me\u001b[0m\u001b[0;34m.\u001b[0m\u001b[0mwith_traceback\u001b[0m\u001b[0;34m(\u001b[0m\u001b[0mfiltered_tb\u001b[0m\u001b[0;34m)\u001b[0m \u001b[0;32mfrom\u001b[0m \u001b[0;32mNone\u001b[0m\u001b[0;34m\u001b[0m\u001b[0;34m\u001b[0m\u001b[0m\n\u001b[0m\u001b[1;32m     68\u001b[0m     \u001b[0;32mfinally\u001b[0m\u001b[0;34m:\u001b[0m\u001b[0;34m\u001b[0m\u001b[0;34m\u001b[0m\u001b[0m\n\u001b[1;32m     69\u001b[0m       \u001b[0;32mdel\u001b[0m \u001b[0mfiltered_tb\u001b[0m\u001b[0;34m\u001b[0m\u001b[0;34m\u001b[0m\u001b[0m\n",
      "\u001b[0;32m~/.conda/envs/recommendations/lib/python3.8/site-packages/tensorflow/python/eager/execute.py\u001b[0m in \u001b[0;36mquick_execute\u001b[0;34m(op_name, num_outputs, inputs, attrs, ctx, name)\u001b[0m\n\u001b[1;32m     52\u001b[0m   \u001b[0;32mtry\u001b[0m\u001b[0;34m:\u001b[0m\u001b[0;34m\u001b[0m\u001b[0;34m\u001b[0m\u001b[0m\n\u001b[1;32m     53\u001b[0m     \u001b[0mctx\u001b[0m\u001b[0;34m.\u001b[0m\u001b[0mensure_initialized\u001b[0m\u001b[0;34m(\u001b[0m\u001b[0;34m)\u001b[0m\u001b[0;34m\u001b[0m\u001b[0;34m\u001b[0m\u001b[0m\n\u001b[0;32m---> 54\u001b[0;31m     tensors = pywrap_tfe.TFE_Py_Execute(ctx._handle, device_name, op_name,\n\u001b[0m\u001b[1;32m     55\u001b[0m                                         inputs, attrs, num_outputs)\n\u001b[1;32m     56\u001b[0m   \u001b[0;32mexcept\u001b[0m \u001b[0mcore\u001b[0m\u001b[0;34m.\u001b[0m\u001b[0m_NotOkStatusException\u001b[0m \u001b[0;32mas\u001b[0m \u001b[0me\u001b[0m\u001b[0;34m:\u001b[0m\u001b[0;34m\u001b[0m\u001b[0;34m\u001b[0m\u001b[0m\n",
      "\u001b[0;31mInternalError\u001b[0m: Graph execution error:\n\nDetected at node 'Embedding_Feature_Layers_Plus_Dense_Layer_Model/dense_4/MatMul' defined at (most recent call last):\n    File \"/home/adrian/.conda/envs/recommendations/lib/python3.8/runpy.py\", line 194, in _run_module_as_main\n      return _run_code(code, main_globals, None,\n    File \"/home/adrian/.conda/envs/recommendations/lib/python3.8/runpy.py\", line 87, in _run_code\n      exec(code, run_globals)\n    File \"/home/adrian/.conda/envs/recommendations/lib/python3.8/site-packages/ipykernel_launcher.py\", line 16, in <module>\n      app.launch_new_instance()\n    File \"/home/adrian/.conda/envs/recommendations/lib/python3.8/site-packages/traitlets/config/application.py\", line 845, in launch_instance\n      app.start()\n    File \"/home/adrian/.conda/envs/recommendations/lib/python3.8/site-packages/ipykernel/kernelapp.py\", line 612, in start\n      self.io_loop.start()\n    File \"/home/adrian/.conda/envs/recommendations/lib/python3.8/site-packages/tornado/platform/asyncio.py\", line 149, in start\n      self.asyncio_loop.run_forever()\n    File \"/home/adrian/.conda/envs/recommendations/lib/python3.8/asyncio/base_events.py\", line 570, in run_forever\n      self._run_once()\n    File \"/home/adrian/.conda/envs/recommendations/lib/python3.8/asyncio/base_events.py\", line 1859, in _run_once\n      handle._run()\n    File \"/home/adrian/.conda/envs/recommendations/lib/python3.8/asyncio/events.py\", line 81, in _run\n      self._context.run(self._callback, *self._args)\n    File \"/home/adrian/.conda/envs/recommendations/lib/python3.8/site-packages/tornado/ioloop.py\", line 690, in <lambda>\n      lambda f: self._run_callback(functools.partial(callback, future))\n    File \"/home/adrian/.conda/envs/recommendations/lib/python3.8/site-packages/tornado/ioloop.py\", line 743, in _run_callback\n      ret = callback()\n    File \"/home/adrian/.conda/envs/recommendations/lib/python3.8/site-packages/tornado/gen.py\", line 787, in inner\n      self.run()\n    File \"/home/adrian/.conda/envs/recommendations/lib/python3.8/site-packages/tornado/gen.py\", line 748, in run\n      yielded = self.gen.send(value)\n    File \"/home/adrian/.conda/envs/recommendations/lib/python3.8/site-packages/ipykernel/kernelbase.py\", line 365, in process_one\n      yield gen.maybe_future(dispatch(*args))\n    File \"/home/adrian/.conda/envs/recommendations/lib/python3.8/site-packages/tornado/gen.py\", line 209, in wrapper\n      yielded = next(result)\n    File \"/home/adrian/.conda/envs/recommendations/lib/python3.8/site-packages/ipykernel/kernelbase.py\", line 268, in dispatch_shell\n      yield gen.maybe_future(handler(stream, idents, msg))\n    File \"/home/adrian/.conda/envs/recommendations/lib/python3.8/site-packages/tornado/gen.py\", line 209, in wrapper\n      yielded = next(result)\n    File \"/home/adrian/.conda/envs/recommendations/lib/python3.8/site-packages/ipykernel/kernelbase.py\", line 543, in execute_request\n      self.do_execute(\n    File \"/home/adrian/.conda/envs/recommendations/lib/python3.8/site-packages/tornado/gen.py\", line 209, in wrapper\n      yielded = next(result)\n    File \"/home/adrian/.conda/envs/recommendations/lib/python3.8/site-packages/ipykernel/ipkernel.py\", line 306, in do_execute\n      res = shell.run_cell(code, store_history=store_history, silent=silent)\n    File \"/home/adrian/.conda/envs/recommendations/lib/python3.8/site-packages/ipykernel/zmqshell.py\", line 536, in run_cell\n      return super(ZMQInteractiveShell, self).run_cell(*args, **kwargs)\n    File \"/home/adrian/.conda/envs/recommendations/lib/python3.8/site-packages/IPython/core/interactiveshell.py\", line 2876, in run_cell\n      result = self._run_cell(\n    File \"/home/adrian/.conda/envs/recommendations/lib/python3.8/site-packages/IPython/core/interactiveshell.py\", line 2922, in _run_cell\n      return runner(coro)\n    File \"/home/adrian/.conda/envs/recommendations/lib/python3.8/site-packages/IPython/core/async_helpers.py\", line 68, in _pseudo_sync_runner\n      coro.send(None)\n    File \"/home/adrian/.conda/envs/recommendations/lib/python3.8/site-packages/IPython/core/interactiveshell.py\", line 3145, in run_cell_async\n      has_raised = await self.run_ast_nodes(code_ast.body, cell_name,\n    File \"/home/adrian/.conda/envs/recommendations/lib/python3.8/site-packages/IPython/core/interactiveshell.py\", line 3337, in run_ast_nodes\n      if (await self.run_code(code, result,  async_=asy)):\n    File \"/home/adrian/.conda/envs/recommendations/lib/python3.8/site-packages/IPython/core/interactiveshell.py\", line 3417, in run_code\n      exec(code_obj, self.user_global_ns, self.user_ns)\n    File \"<ipython-input-55-000925bb503f>\", line 2, in <module>\n      history = model.fit_generator(\n    File \"/home/adrian/.conda/envs/recommendations/lib/python3.8/site-packages/keras/engine/training.py\", line 2209, in fit_generator\n      return self.fit(\n    File \"/home/adrian/.conda/envs/recommendations/lib/python3.8/site-packages/keras/utils/traceback_utils.py\", line 64, in error_handler\n      return fn(*args, **kwargs)\n    File \"/home/adrian/.conda/envs/recommendations/lib/python3.8/site-packages/keras/engine/training.py\", line 1384, in fit\n      tmp_logs = self.train_function(iterator)\n    File \"/home/adrian/.conda/envs/recommendations/lib/python3.8/site-packages/keras/engine/training.py\", line 1021, in train_function\n      return step_function(self, iterator)\n    File \"/home/adrian/.conda/envs/recommendations/lib/python3.8/site-packages/keras/engine/training.py\", line 1010, in step_function\n      outputs = model.distribute_strategy.run(run_step, args=(data,))\n    File \"/home/adrian/.conda/envs/recommendations/lib/python3.8/site-packages/keras/engine/training.py\", line 1000, in run_step\n      outputs = model.train_step(data)\n    File \"/home/adrian/.conda/envs/recommendations/lib/python3.8/site-packages/keras/engine/training.py\", line 859, in train_step\n      y_pred = self(x, training=True)\n    File \"/home/adrian/.conda/envs/recommendations/lib/python3.8/site-packages/keras/utils/traceback_utils.py\", line 64, in error_handler\n      return fn(*args, **kwargs)\n    File \"/home/adrian/.conda/envs/recommendations/lib/python3.8/site-packages/keras/engine/base_layer.py\", line 1096, in __call__\n      outputs = call_fn(inputs, *args, **kwargs)\n    File \"/home/adrian/.conda/envs/recommendations/lib/python3.8/site-packages/keras/utils/traceback_utils.py\", line 92, in error_handler\n      return fn(*args, **kwargs)\n    File \"/home/adrian/.conda/envs/recommendations/lib/python3.8/site-packages/keras/engine/functional.py\", line 451, in call\n      return self._run_internal_graph(\n    File \"/home/adrian/.conda/envs/recommendations/lib/python3.8/site-packages/keras/engine/functional.py\", line 589, in _run_internal_graph\n      outputs = node.layer(*args, **kwargs)\n    File \"/home/adrian/.conda/envs/recommendations/lib/python3.8/site-packages/keras/utils/traceback_utils.py\", line 64, in error_handler\n      return fn(*args, **kwargs)\n    File \"/home/adrian/.conda/envs/recommendations/lib/python3.8/site-packages/keras/engine/base_layer.py\", line 1096, in __call__\n      outputs = call_fn(inputs, *args, **kwargs)\n    File \"/home/adrian/.conda/envs/recommendations/lib/python3.8/site-packages/keras/utils/traceback_utils.py\", line 92, in error_handler\n      return fn(*args, **kwargs)\n    File \"/home/adrian/.conda/envs/recommendations/lib/python3.8/site-packages/keras/layers/core/dense.py\", line 219, in call\n      outputs = tf.matmul(a=inputs, b=self.kernel)\nNode: 'Embedding_Feature_Layers_Plus_Dense_Layer_Model/dense_4/MatMul'\nAttempting to perform BLAS operation using StreamExecutor without BLAS support\n\t [[{{node Embedding_Feature_Layers_Plus_Dense_Layer_Model/dense_4/MatMul}}]] [Op:__inference_train_function_2082]"
     ]
    }
   ],
   "source": [
    "if train_model:\n",
    "    history = model.fit_generator(\n",
    "        generator       = train_generator,\n",
    "        validation_data = val_generator,\n",
    "        epochs          = epochs,\n",
    "        verbose         = 1, \n",
    "        callbacks       = [\n",
    "            MetricsPlotter(\n",
    "                validation_generator  = val_generator, \n",
    "                metrics_names         = ['loss'],\n",
    "                plot_interval         = plot_interval,\n",
    "                evaluate_interval     = evaluate_interval,\n",
    "                batch_size            = train_batch_size,\n",
    "                val_batch_size        = val_batch_size\n",
    "            )\n",
    "        ]\n",
    "    )"
   ]
  },
  {
   "cell_type": "markdown",
   "metadata": {},
   "source": [
    "Check model loss after training process:"
   ]
  },
  {
   "cell_type": "code",
   "execution_count": null,
   "metadata": {},
   "outputs": [],
   "source": [
    "def evaluate_xy_model(model, column_manager, data_frame, batch_size):\n",
    "    data_generator = RecommendationsDataGenerator(\n",
    "        data_frame,\n",
    "        column_manager.features,\n",
    "        column_manager.labels,\n",
    "        data_frame.count(),\n",
    "        shuffle=False\n",
    "    )\n",
    "    X, y = data_generator[0]\n",
    "    return model.evaluate(X, y, batch_size=batch_size, verbose=0)"
   ]
  },
  {
   "cell_type": "code",
   "execution_count": null,
   "metadata": {},
   "outputs": [],
   "source": [
    "val_loss = evaluate_xy_model(model, column_manager, val_set, val_batch_size)\n",
    "val_loss"
   ]
  },
  {
   "cell_type": "markdown",
   "metadata": {},
   "source": [
    "Save the weights tthat model has learned:"
   ]
  },
  {
   "cell_type": "code",
   "execution_count": null,
   "metadata": {},
   "outputs": [],
   "source": [
    "## WEIGHTS_PATH = create_path(f'../weights')\n",
    "WEIGHTS_FILE = f'{WEIGHTS_PATH}/user_movie_genders_deep_model_weights_val_loss_{val_loss}.h5'\n",
    "model.save_weights(WEIGHTS_FILE)"
   ]
  },
  {
   "cell_type": "code",
   "execution_count": 29,
   "metadata": {},
   "outputs": [],
   "source": [
    "session.stop()"
   ]
  },
  {
   "cell_type": "code",
   "execution_count": null,
   "metadata": {},
   "outputs": [],
   "source": []
  }
 ],
 "metadata": {
  "kernelspec": {
   "display_name": "Python 3",
   "language": "python",
   "name": "python3"
  },
  "language_info": {
   "codemirror_mode": {
    "name": "ipython",
    "version": 3
   },
   "file_extension": ".py",
   "mimetype": "text/x-python",
   "name": "python",
   "nbconvert_exporter": "python",
   "pygments_lexer": "ipython3",
   "version": "3.8.5"
  },
  "widgets": {
   "application/vnd.jupyter.widget-state+json": {
    "state": {},
    "version_major": 2,
    "version_minor": 0
   }
  }
 },
 "nbformat": 4,
 "nbformat_minor": 4
}
