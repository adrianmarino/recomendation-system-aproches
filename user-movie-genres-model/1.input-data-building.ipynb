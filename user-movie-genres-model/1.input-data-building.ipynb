{
 "cells": [
  {
   "cell_type": "code",
   "execution_count": 1,
   "metadata": {},
   "outputs": [],
   "source": [
    "%matplotlib inline\n",
    "%load_ext autoreload\n",
    "%autoreload 2"
   ]
  },
  {
   "cell_type": "code",
   "execution_count": 21,
   "metadata": {},
   "outputs": [],
   "source": [
    "import sys\n",
    "sys.path.append('../src')\n",
    "\n",
    "from spark import SparkSessionFactory, write_csv, read_csv, column_values, train_test_split, PageSet, get_columns, get_rows\n",
    "\n",
    "from data import MovieLensDataSource\n",
    "from util import create_path, remove_dir\n",
    "\n",
    "import pyspark.sql.types as t\n",
    "import pyspark.sql as s\n",
    "import pyspark.sql.functions as f"
   ]
  },
  {
   "cell_type": "markdown",
   "metadata": {},
   "source": [
    "# Recommedations dataset building"
   ]
  },
  {
   "cell_type": "markdown",
   "metadata": {},
   "source": [
    "This is the first step of the process to train a model that predict an user rating to a given movie. Before all, we needs to build a table of features from a raw dataset. This table must be contain next columns:\n",
    "\n",
    "**feature table columns**:\n",
    "* **user_id**: This is a categorical column because this has discrete values one of for each user in raw dataset.\n",
    "* **movie_id**: Like user_id column, this has discrete values one for each movie in raw dataset. \n",
    "* **one column for each movie genre**\n",
    "  * For example: accion_genre, drama_gender, etc... are possible columns. Each one takes a discrete value 1 or 0.\n",
    "  * Why is there one column by genre? Because, each movie could have one or more genres. \n",
    "* **rating**: Score that a user(user_id) gives to a movie(movie_id).\n",
    "\n",
    "Finally, we have a table with discreate column values, they are also called categorical columns, because this columns only take one value from a finite list of possible values. An example of this table must be:\n",
    "\n",
    "| user_id | movie_id | accion_genre | drama_genre | rating |\n",
    "| --- | --- | --- | --- | --- |\n",
    "| 1 |  1 | 1 | 0 | 5 |\n",
    "| 1 |  2 | 0 | 1 | 1 |\n",
    "| 1 |  3 | 1 | 1 | 3 |\n",
    "\n",
    "* User 1 rated the movie 1 with a score of 5 points, because he loves accion movies.\n",
    "* User 1 rated the movie 2 with a score of 1 points, because he is not interested to drama movies.\n",
    "* User 1 rated the movie 3 with a score of 2 points, given that he loves accion but is not interested to drama.\n",
    "* action_genre/drama_genre is a categorical column because only could take 1 or 0 values.\n",
    "* user_id is categorical column because only could take any of user ids(Exist a discrte number of user ids).\n",
    "* movie_id is categorical column because only could take any of movie ids(Exist a discrte number of user ids)."
   ]
  },
  {
   "cell_type": "markdown",
   "metadata": {},
   "source": [
    "## Building out features table"
   ]
  },
  {
   "cell_type": "markdown",
   "metadata": {},
   "source": [
    "**Step 1**: Let's to start create a new spark session."
   ]
  },
  {
   "cell_type": "code",
   "execution_count": 3,
   "metadata": {},
   "outputs": [
    {
     "data": {
      "text/html": [
       "\n",
       "            <div>\n",
       "                <p><b>SparkSession - in-memory</b></p>\n",
       "                \n",
       "        <div>\n",
       "            <p><b>SparkContext</b></p>\n",
       "\n",
       "            <p><a href=\"http://192.168.0.25:4040\">Spark UI</a></p>\n",
       "\n",
       "            <dl>\n",
       "              <dt>Version</dt>\n",
       "                <dd><code>v3.0.1</code></dd>\n",
       "              <dt>Master</dt>\n",
       "                <dd><code>local[*]</code></dd>\n",
       "              <dt>AppName</dt>\n",
       "                <dd><code>recommendations</code></dd>\n",
       "            </dl>\n",
       "        </div>\n",
       "        \n",
       "            </div>\n",
       "        "
      ],
      "text/plain": [
       "<pyspark.sql.session.SparkSession at 0x7f6aa18f5bb0>"
      ]
     },
     "execution_count": 3,
     "metadata": {},
     "output_type": "execute_result"
    }
   ],
   "source": [
    "session = SparkSessionFactory.create()\n",
    "session"
   ]
  },
  {
   "cell_type": "markdown",
   "metadata": {},
   "source": [
    "**Step 2**: Select a raw dataset size. For this recommendation examples we have 3 raw datasets each with distinct number of examples. Sometimes we need to begins with a tiny dataset to try to create a model that overfit to these data. This tell us that the model understand input patterns although this does not generalize yet but the model understand input patterns. The next step is maybe use more data and try to find the best hiperparameters so that the model generalize as well as possible."
   ]
  },
  {
   "cell_type": "code",
   "execution_count": 4,
   "metadata": {},
   "outputs": [
    {
     "name": "stdout",
     "output_type": "stream",
     "text": [
      "Dataset sizes: ['ml-latest-small', 'ml-25m', 'ml-latest']\n"
     ]
    }
   ],
   "source": [
    "print('Dataset sizes:', MovieLensDataSource.sizes())"
   ]
  },
  {
   "cell_type": "code",
   "execution_count": 5,
   "metadata": {},
   "outputs": [],
   "source": [
    "# dataset_size = 'ml-latest' # 250MB\n",
    "# dataset_size = 'ml-25m' # 25MB\n",
    "dataset_size = 'ml-latest-small' # 1MB"
   ]
  },
  {
   "cell_type": "markdown",
   "metadata": {},
   "source": [
    "### Download dataset"
   ]
  },
  {
   "cell_type": "markdown",
   "metadata": {},
   "source": [
    "**Step 3**: Fisrt let's check dataset files."
   ]
  },
  {
   "cell_type": "markdown",
   "metadata": {},
   "source": [
    "Check: [Movie lens datasets](https://grouplens.org/datasets/movielens/)"
   ]
  },
  {
   "cell_type": "code",
   "execution_count": 6,
   "metadata": {},
   "outputs": [],
   "source": [
    "ds = MovieLensDataSource(size = dataset_size)"
   ]
  },
  {
   "cell_type": "code",
   "execution_count": 7,
   "metadata": {},
   "outputs": [
    {
     "data": {
      "text/plain": [
       "['/home/adrian/.keras/datasets/ml-latest-small/ratings.csv',\n",
       " '/home/adrian/.keras/datasets/ml-latest-small/tags.csv',\n",
       " '/home/adrian/.keras/datasets/ml-latest-small/links.csv',\n",
       " '/home/adrian/.keras/datasets/ml-latest-small/movies.csv']"
      ]
     },
     "execution_count": 7,
     "metadata": {},
     "output_type": "execute_result"
    }
   ],
   "source": [
    "ds.file_paths()"
   ]
  },
  {
   "cell_type": "markdown",
   "metadata": {},
   "source": [
    "**Step 4**: Load ratings and movies files to a dataset for each one. "
   ]
  },
  {
   "cell_type": "code",
   "execution_count": 8,
   "metadata": {},
   "outputs": [],
   "source": [
    "ratings = read_csv(session, ds.file_paths()[0])\n",
    "movies = read_csv(session, ds.file_paths()[3])"
   ]
  },
  {
   "cell_type": "markdown",
   "metadata": {},
   "source": [
    "**Step 5**: Let's see ratings and movies schemas."
   ]
  },
  {
   "cell_type": "code",
   "execution_count": 9,
   "metadata": {},
   "outputs": [
    {
     "name": "stdout",
     "output_type": "stream",
     "text": [
      "+------+-------+------+---------+\n",
      "|userId|movieId|rating|timestamp|\n",
      "+------+-------+------+---------+\n",
      "|1     |1      |4.0   |964982703|\n",
      "|1     |3      |4.0   |964981247|\n",
      "|1     |6      |4.0   |964982224|\n",
      "|1     |47     |5.0   |964983815|\n",
      "|1     |50     |5.0   |964982931|\n",
      "+------+-------+------+---------+\n",
      "only showing top 5 rows\n",
      "\n",
      "root\n",
      " |-- userId: integer (nullable = true)\n",
      " |-- movieId: integer (nullable = true)\n",
      " |-- rating: double (nullable = true)\n",
      " |-- timestamp: integer (nullable = true)\n",
      "\n"
     ]
    }
   ],
   "source": [
    "ratings.show(5, truncate=False)\n",
    "ratings.printSchema()"
   ]
  },
  {
   "cell_type": "code",
   "execution_count": 10,
   "metadata": {},
   "outputs": [
    {
     "name": "stdout",
     "output_type": "stream",
     "text": [
      "+-------+----------------------------------+-------------------------------------------+\n",
      "|movieId|title                             |genres                                     |\n",
      "+-------+----------------------------------+-------------------------------------------+\n",
      "|1      |Toy Story (1995)                  |Adventure|Animation|Children|Comedy|Fantasy|\n",
      "|2      |Jumanji (1995)                    |Adventure|Children|Fantasy                 |\n",
      "|3      |Grumpier Old Men (1995)           |Comedy|Romance                             |\n",
      "|4      |Waiting to Exhale (1995)          |Comedy|Drama|Romance                       |\n",
      "|5      |Father of the Bride Part II (1995)|Comedy                                     |\n",
      "+-------+----------------------------------+-------------------------------------------+\n",
      "only showing top 5 rows\n",
      "\n",
      "root\n",
      " |-- movieId: integer (nullable = true)\n",
      " |-- title: string (nullable = true)\n",
      " |-- genres: string (nullable = true)\n",
      "\n"
     ]
    }
   ],
   "source": [
    "movies.show(5, truncate=False)\n",
    "movies.printSchema()"
   ]
  },
  {
   "cell_type": "markdown",
   "metadata": {},
   "source": [
    "**Step 6**: Left join both tables by movieId and select rating score, userId, movieId and genres columns."
   ]
  },
  {
   "cell_type": "code",
   "execution_count": 11,
   "metadata": {},
   "outputs": [
    {
     "name": "stdout",
     "output_type": "stream",
     "text": [
      "+------+-------+--------+-------------------------------------------+\n",
      "|rating|user_id|movie_id|genres                                     |\n",
      "+------+-------+--------+-------------------------------------------+\n",
      "|4.0   |1      |1       |Adventure|Animation|Children|Comedy|Fantasy|\n",
      "|4.0   |1      |3       |Comedy|Romance                             |\n",
      "|4.0   |1      |6       |Action|Crime|Thriller                      |\n",
      "|5.0   |1      |47      |Mystery|Thriller                           |\n",
      "|5.0   |1      |50      |Crime|Mystery|Thriller                     |\n",
      "+------+-------+--------+-------------------------------------------+\n",
      "only showing top 5 rows\n",
      "\n"
     ]
    }
   ],
   "source": [
    "ratings = ratings \\\n",
    "    .join(movies, on='movieId', how=\"left\") \\\n",
    "    .select(\n",
    "        f.col('rating'),    \n",
    "        f.col('userId').alias('user_id'), \n",
    "        f.col('movieId').alias('movie_id'), \n",
    "        f.col('genres')\n",
    "    )\n",
    "\n",
    "ratings.show(5, truncate=False)"
   ]
  },
  {
   "cell_type": "markdown",
   "metadata": {},
   "source": [
    "**Step 7**: Group by movie genres to show all genres combinations."
   ]
  },
  {
   "cell_type": "code",
   "execution_count": 12,
   "metadata": {},
   "outputs": [
    {
     "name": "stdout",
     "output_type": "stream",
     "text": [
      "+-------------------------+-----+\n",
      "|genres                   |count|\n",
      "+-------------------------+-----+\n",
      "|Comedy                   |7196 |\n",
      "|Drama                    |6291 |\n",
      "|Comedy|Romance           |3967 |\n",
      "|Comedy|Drama|Romance     |3000 |\n",
      "|Comedy|Drama             |2851 |\n",
      "|Drama|Romance            |2838 |\n",
      "|Action|Adventure|Sci-Fi  |2361 |\n",
      "|Crime|Drama              |2315 |\n",
      "|Action|Crime|Thriller    |1554 |\n",
      "|Action|Adventure|Thriller|1455 |\n",
      "+-------------------------+-----+\n",
      "only showing top 10 rows\n",
      "\n"
     ]
    }
   ],
   "source": [
    "genres_count = ratings \\\n",
    "    .groupBy(\"genres\") \\\n",
    "    .count() \\\n",
    "    .orderBy(f.column('count').desc())\n",
    "\n",
    "genres_count.show(10, truncate=False)"
   ]
  },
  {
   "cell_type": "markdown",
   "metadata": {},
   "source": [
    "**Step 8**: Create genres column names:"
   ]
  },
  {
   "cell_type": "code",
   "execution_count": 13,
   "metadata": {},
   "outputs": [],
   "source": [
    "def normalize(value): return value.lower().replace('-','_')"
   ]
  },
  {
   "cell_type": "code",
   "execution_count": 14,
   "metadata": {},
   "outputs": [
    {
     "data": {
      "text/plain": [
       "[('Romance', 'gen_romance'),\n",
       " ('Horror', 'gen_horror'),\n",
       " ('Sci-Fi', 'gen_sci_fi'),\n",
       " ('Comedy', 'gen_comedy'),\n",
       " ('Children', 'gen_children'),\n",
       " ('Documentary', 'gen_documentary'),\n",
       " ('Film-Noir', 'gen_film_noir'),\n",
       " ('Action', 'gen_action'),\n",
       " ('Fantasy', 'gen_fantasy'),\n",
       " ('Drama', 'gen_drama'),\n",
       " ('Thriller', 'gen_thriller'),\n",
       " ('(no genres listed)', 'gen_none'),\n",
       " ('Crime', 'gen_crime'),\n",
       " ('War', 'gen_war'),\n",
       " ('Musical', 'gen_musical'),\n",
       " ('Adventure', 'gen_adventure'),\n",
       " ('Mystery', 'gen_mystery'),\n",
       " ('Western', 'gen_western'),\n",
       " ('Animation', 'gen_animation'),\n",
       " ('IMAX', 'gen_imax')]"
      ]
     },
     "execution_count": 14,
     "metadata": {},
     "output_type": "execute_result"
    }
   ],
   "source": [
    "genres_columns = genres_count \\\n",
    "        .select('genres') \\\n",
    "        .rdd \\\n",
    "        .flatMap(lambda it: it[0].split('|')) \\\n",
    "        .distinct() \\\n",
    "        .map(lambda it: (it, 'gen_none' if '(' in it else f'gen_{normalize(it)}')) \\\n",
    "        .collect()\n",
    "\n",
    "genres_columns"
   ]
  },
  {
   "cell_type": "markdown",
   "metadata": {},
   "source": [
    "**Step 9**: create features table."
   ]
  },
  {
   "cell_type": "code",
   "execution_count": 15,
   "metadata": {},
   "outputs": [
    {
     "name": "stdout",
     "output_type": "stream",
     "text": [
      "+------+-------+--------+-----------+----------+----------+----------+------------+---------------+-------------+----------+-----------+---------+------------+--------+---------+-------+-----------+-------------+-----------+-----------+-------------+--------+\n",
      "|rating|user_id|movie_id|gen_romance|gen_horror|gen_sci_fi|gen_comedy|gen_children|gen_documentary|gen_film_noir|gen_action|gen_fantasy|gen_drama|gen_thriller|gen_none|gen_crime|gen_war|gen_musical|gen_adventure|gen_mystery|gen_western|gen_animation|gen_imax|\n",
      "+------+-------+--------+-----------+----------+----------+----------+------------+---------------+-------------+----------+-----------+---------+------------+--------+---------+-------+-----------+-------------+-----------+-----------+-------------+--------+\n",
      "|4.0   |1      |1       |0          |0         |0         |1         |1           |0              |0            |0         |1          |0        |0           |0       |0        |0      |0          |1            |0          |0          |1            |0       |\n",
      "|4.0   |1      |3       |1          |0         |0         |1         |0           |0              |0            |0         |0          |0        |0           |0       |0        |0      |0          |0            |0          |0          |0            |0       |\n",
      "|4.0   |1      |6       |0          |0         |0         |0         |0           |0              |0            |1         |0          |0        |1           |0       |1        |0      |0          |0            |0          |0          |0            |0       |\n",
      "|5.0   |1      |47      |0          |0         |0         |0         |0           |0              |0            |0         |0          |0        |1           |0       |0        |0      |0          |0            |1          |0          |0            |0       |\n",
      "|5.0   |1      |50      |0          |0         |0         |0         |0           |0              |0            |0         |0          |0        |1           |0       |1        |0      |0          |0            |1          |0          |0            |0       |\n",
      "+------+-------+--------+-----------+----------+----------+----------+------------+---------------+-------------+----------+-----------+---------+------------+--------+---------+-------+-----------+-------------+-----------+-----------+-------------+--------+\n",
      "only showing top 5 rows\n",
      "\n"
     ]
    }
   ],
   "source": [
    "for (genre, col_name) in genres_columns:\n",
    "    ratings = ratings.withColumn(col_name, ratings.genres.contains(genre).cast('integer'))\n",
    "\n",
    "ratings = ratings.drop('genres')\n",
    "    \n",
    "ratings.show(5, truncate=False)"
   ]
  },
  {
   "cell_type": "code",
   "execution_count": 16,
   "metadata": {},
   "outputs": [
    {
     "name": "stdout",
     "output_type": "stream",
     "text": [
      "+--------+---------+\n",
      "|user_seq|movie_seq|\n",
      "+--------+---------+\n",
      "|0       |0        |\n",
      "|0       |1        |\n",
      "|0       |2        |\n",
      "|0       |3        |\n",
      "|0       |4        |\n",
      "+--------+---------+\n",
      "only showing top 5 rows\n",
      "\n"
     ]
    }
   ],
   "source": [
    "from sklearn.preprocessing import LabelEncoder\n",
    "\n",
    "class Sequencer:\n",
    "    def __init__(self):\n",
    "        self.sequence = -1\n",
    "        self.mapping = {}\n",
    "\n",
    "    def __call__(self, value):\n",
    "        if value in self.mapping:\n",
    "            return self.mapping[value]\n",
    "\n",
    "        self.sequence += 1\n",
    "        self.mapping[value] = self.sequence\n",
    "        return self.sequence\n",
    "\n",
    "user_seq = f.udf(Sequencer(), t.IntegerType())\n",
    "movie_seq = f.udf(Sequencer(), t.IntegerType())\n",
    "\n",
    "ratings = ratings \\\n",
    "    .withColumn('user_seq', user_seq(f.col('user_id'))) \\\n",
    "    .withColumn('movie_seq', movie_seq(f.col('movie_id')))\n",
    "\n",
    "ratings.select(f.col('user_seq'), f.col('movie_seq')) \\\n",
    "    .show(5, truncate=False)"
   ]
  },
  {
   "cell_type": "markdown",
   "metadata": {},
   "source": [
    "**Step 10**: Write table a file."
   ]
  },
  {
   "cell_type": "code",
   "execution_count": 17,
   "metadata": {},
   "outputs": [],
   "source": [
    "TEMP_PATH = './temp'\n",
    "DATASET_PATH = f'{TEMP_PATH}/dataset'"
   ]
  },
  {
   "cell_type": "code",
   "execution_count": 22,
   "metadata": {},
   "outputs": [
    {
     "data": {
      "text/plain": [
       "'./temp/dataset'"
      ]
     },
     "execution_count": 22,
     "metadata": {},
     "output_type": "execute_result"
    }
   ],
   "source": [
    "remove_dir(DATASET_PATH)\n",
    "create_path(DATASET_PATH)"
   ]
  },
  {
   "cell_type": "code",
   "execution_count": 23,
   "metadata": {},
   "outputs": [],
   "source": [
    "write_csv(ratings, DATASET_PATH)"
   ]
  },
  {
   "cell_type": "code",
   "execution_count": 24,
   "metadata": {},
   "outputs": [],
   "source": [
    "session.stop()"
   ]
  },
  {
   "cell_type": "code",
   "execution_count": null,
   "metadata": {},
   "outputs": [],
   "source": []
  }
 ],
 "metadata": {
  "kernelspec": {
   "display_name": "Python 3",
   "language": "python",
   "name": "python3"
  },
  "language_info": {
   "codemirror_mode": {
    "name": "ipython",
    "version": 3
   },
   "file_extension": ".py",
   "mimetype": "text/x-python",
   "name": "python",
   "nbconvert_exporter": "python",
   "pygments_lexer": "ipython3",
   "version": "3.8.5"
  },
  "widgets": {
   "application/vnd.jupyter.widget-state+json": {
    "state": {},
    "version_major": 2,
    "version_minor": 0
   }
  }
 },
 "nbformat": 4,
 "nbformat_minor": 4
}
