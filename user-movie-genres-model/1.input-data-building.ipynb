{
 "cells": [
  {
   "cell_type": "code",
   "execution_count": 88,
   "metadata": {},
   "outputs": [
    {
     "name": "stdout",
     "output_type": "stream",
     "text": [
      "The autoreload extension is already loaded. To reload it, use:\n",
      "  %reload_ext autoreload\n"
     ]
    }
   ],
   "source": [
    "%matplotlib inline\n",
    "%load_ext autoreload\n",
    "%autoreload 2"
   ]
  },
  {
   "cell_type": "code",
   "execution_count": 89,
   "metadata": {},
   "outputs": [],
   "source": [
    "import sys\n",
    "sys.path.append('../src')\n",
    "\n",
    "from spark import SparkSessionFactory, write_csv, read_csv, column_values, train_test_split, PageSet, get_columns, get_rows\n",
    "\n",
    "from data import MovieLensDataSource\n",
    "from util import create_path, remove_dir\n",
    "\n",
    "import pyspark.sql.types as t\n",
    "import pyspark.sql as s\n",
    "import pyspark.sql.functions as f"
   ]
  },
  {
   "cell_type": "markdown",
   "metadata": {},
   "source": [
    "# Recommedations dataset building"
   ]
  },
  {
   "cell_type": "markdown",
   "metadata": {},
   "source": [
    "This is the first step of the process to train a model that predict an user rating to a given movie. Before all, we needs to build a table of features from a raw dataset. This table must be contain next columns:\n",
    "\n",
    "**feature table columns**:\n",
    "* **user_id**: This is a categorical column because this has discrete values one of for each user in raw dataset.\n",
    "* **movie_id**: Like user_id column, this has discrete values one for each movie in raw dataset. \n",
    "* **one column for each movie genre**\n",
    "  * For example: accion_genre, drama_gender, etc... are possible columns. Each one takes a discrete value 1 or 0.\n",
    "  * Why is there one column by genre? Because, each movie could have one or more genres. \n",
    "* **rating**: Score that a user(user_id) gives to a movie(movie_id).\n",
    "\n",
    "Finally, we have a table with discreate column values, they are also called categorical columns, because this columns only take one value from a finite list of possible values. An example of this table must be:\n",
    "\n",
    "| user_id | movie_id | accion_genre | drama_genre | rating |\n",
    "| --- | --- | --- | --- | --- |\n",
    "| 1 |  1 | 1 | 0 | 5 |\n",
    "| 1 |  2 | 0 | 1 | 1 |\n",
    "| 1 |  3 | 1 | 1 | 3 |\n",
    "\n",
    "* User 1 rated the movie 1 with a score of 5 points, because he loves accion movies.\n",
    "* User 1 rated the movie 2 with a score of 1 points, because he is not interested to drama movies.\n",
    "* User 1 rated the movie 3 with a score of 2 points, given that he loves accion but is not interested to drama.\n",
    "* action_genre/drama_genre is a categorical column because only could take 1 or 0 values.\n",
    "* user_id is categorical column because only could take any of user ids(Exist a discrte number of user ids).\n",
    "* movie_id is categorical column because only could take any of movie ids(Exist a discrte number of user ids)."
   ]
  },
  {
   "cell_type": "markdown",
   "metadata": {},
   "source": [
    "## Building out features table"
   ]
  },
  {
   "cell_type": "markdown",
   "metadata": {},
   "source": [
    "**Step 1**: Let's to start create a new spark session."
   ]
  },
  {
   "cell_type": "code",
   "execution_count": 90,
   "metadata": {},
   "outputs": [
    {
     "data": {
      "text/html": [
       "\n",
       "            <div>\n",
       "                <p><b>SparkSession - in-memory</b></p>\n",
       "                \n",
       "        <div>\n",
       "            <p><b>SparkContext</b></p>\n",
       "\n",
       "            <p><a href=\"http://skynet:4040\">Spark UI</a></p>\n",
       "\n",
       "            <dl>\n",
       "              <dt>Version</dt>\n",
       "                <dd><code>v3.2.0</code></dd>\n",
       "              <dt>Master</dt>\n",
       "                <dd><code>local[*]</code></dd>\n",
       "              <dt>AppName</dt>\n",
       "                <dd><code>recommendations</code></dd>\n",
       "            </dl>\n",
       "        </div>\n",
       "        \n",
       "            </div>\n",
       "        "
      ],
      "text/plain": [
       "<pyspark.sql.session.SparkSession at 0x7facd5eddf10>"
      ]
     },
     "execution_count": 90,
     "metadata": {},
     "output_type": "execute_result"
    }
   ],
   "source": [
    "session = SparkSessionFactory.create()\n",
    "session"
   ]
  },
  {
   "cell_type": "markdown",
   "metadata": {},
   "source": [
    "**Step 2**: Select a raw dataset size. For this recommendation examples we have 3 raw datasets each with distinct number of examples. Sometimes we need to begins with a tiny dataset to try to create a model that overfit to these data. This tell us that the model understand input patterns although this does not generalize yet but the model understand input patterns. The next step is maybe use more data and try to find the best hiperparameters so that the model generalize as well as possible."
   ]
  },
  {
   "cell_type": "code",
   "execution_count": 91,
   "metadata": {},
   "outputs": [
    {
     "name": "stdout",
     "output_type": "stream",
     "text": [
      "Dataset sizes: ['ml-latest-small', 'ml-25m', 'ml-latest']\n"
     ]
    }
   ],
   "source": [
    "print('Dataset sizes:', MovieLensDataSource.sizes())"
   ]
  },
  {
   "cell_type": "code",
   "execution_count": 92,
   "metadata": {},
   "outputs": [],
   "source": [
    "# dataset_size = 'ml-latest' # 250MB\n",
    "# dataset_size = 'ml-25m' # 25MB\n",
    "dataset_size = 'ml-latest-small' # 1MB"
   ]
  },
  {
   "cell_type": "markdown",
   "metadata": {},
   "source": [
    "### Download dataset"
   ]
  },
  {
   "cell_type": "markdown",
   "metadata": {},
   "source": [
    "**Step 3**: Fisrt let's check dataset files."
   ]
  },
  {
   "cell_type": "markdown",
   "metadata": {},
   "source": [
    "Check: [Movie lens datasets](https://grouplens.org/datasets/movielens/)"
   ]
  },
  {
   "cell_type": "code",
   "execution_count": 93,
   "metadata": {},
   "outputs": [],
   "source": [
    "ds = MovieLensDataSource(size = dataset_size)"
   ]
  },
  {
   "cell_type": "code",
   "execution_count": 94,
   "metadata": {},
   "outputs": [
    {
     "data": {
      "text/plain": [
       "['/home/adrian/.keras/datasets/ml-latest-small/ratings.csv',\n",
       " '/home/adrian/.keras/datasets/ml-latest-small/tags.csv',\n",
       " '/home/adrian/.keras/datasets/ml-latest-small/links.csv',\n",
       " '/home/adrian/.keras/datasets/ml-latest-small/movies.csv']"
      ]
     },
     "execution_count": 94,
     "metadata": {},
     "output_type": "execute_result"
    }
   ],
   "source": [
    "ds.file_paths()"
   ]
  },
  {
   "cell_type": "markdown",
   "metadata": {},
   "source": [
    "**Step 4**: Load ratings and movies files to a dataset for each one. "
   ]
  },
  {
   "cell_type": "code",
   "execution_count": 95,
   "metadata": {},
   "outputs": [],
   "source": [
    "ratings = read_csv(session, ds.file_paths()[0])\n",
    "movies = read_csv(session, ds.file_paths()[3])"
   ]
  },
  {
   "cell_type": "markdown",
   "metadata": {},
   "source": [
    "**Step 5**: Let's see ratings and movies schemas."
   ]
  },
  {
   "cell_type": "code",
   "execution_count": 96,
   "metadata": {},
   "outputs": [
    {
     "name": "stdout",
     "output_type": "stream",
     "text": [
      "+------+-------+------+---------+\n",
      "|userId|movieId|rating|timestamp|\n",
      "+------+-------+------+---------+\n",
      "|1     |1      |4.0   |964982703|\n",
      "|1     |3      |4.0   |964981247|\n",
      "|1     |6      |4.0   |964982224|\n",
      "|1     |47     |5.0   |964983815|\n",
      "|1     |50     |5.0   |964982931|\n",
      "+------+-------+------+---------+\n",
      "only showing top 5 rows\n",
      "\n",
      "root\n",
      " |-- userId: integer (nullable = true)\n",
      " |-- movieId: integer (nullable = true)\n",
      " |-- rating: double (nullable = true)\n",
      " |-- timestamp: integer (nullable = true)\n",
      "\n"
     ]
    }
   ],
   "source": [
    "ratings.show(5, truncate=False)\n",
    "ratings.printSchema()"
   ]
  },
  {
   "cell_type": "code",
   "execution_count": 97,
   "metadata": {},
   "outputs": [
    {
     "name": "stdout",
     "output_type": "stream",
     "text": [
      "+-------+----------------------------------+-------------------------------------------+\n",
      "|movieId|title                             |genres                                     |\n",
      "+-------+----------------------------------+-------------------------------------------+\n",
      "|1      |Toy Story (1995)                  |Adventure|Animation|Children|Comedy|Fantasy|\n",
      "|2      |Jumanji (1995)                    |Adventure|Children|Fantasy                 |\n",
      "|3      |Grumpier Old Men (1995)           |Comedy|Romance                             |\n",
      "|4      |Waiting to Exhale (1995)          |Comedy|Drama|Romance                       |\n",
      "|5      |Father of the Bride Part II (1995)|Comedy                                     |\n",
      "+-------+----------------------------------+-------------------------------------------+\n",
      "only showing top 5 rows\n",
      "\n",
      "root\n",
      " |-- movieId: integer (nullable = true)\n",
      " |-- title: string (nullable = true)\n",
      " |-- genres: string (nullable = true)\n",
      "\n"
     ]
    }
   ],
   "source": [
    "movies.show(5, truncate=False)\n",
    "movies.printSchema()"
   ]
  },
  {
   "cell_type": "code",
   "execution_count": 98,
   "metadata": {},
   "outputs": [],
   "source": [
    "movies = movies \\\n",
    "    .where(\"movieId is not null and title is not null and genres is not null\") \\\n",
    "    .where(\"movieId >= 1 and title != '' and genres != ''\")"
   ]
  },
  {
   "cell_type": "markdown",
   "metadata": {},
   "source": [
    "**Step 6**: Left join both tables by movieId and select rating score, userId, movieId and genres columns."
   ]
  },
  {
   "cell_type": "code",
   "execution_count": 99,
   "metadata": {},
   "outputs": [
    {
     "data": {
      "text/html": [
       "<div>\n",
       "<style scoped>\n",
       "    .dataframe tbody tr th:only-of-type {\n",
       "        vertical-align: middle;\n",
       "    }\n",
       "\n",
       "    .dataframe tbody tr th {\n",
       "        vertical-align: top;\n",
       "    }\n",
       "\n",
       "    .dataframe thead th {\n",
       "        text-align: right;\n",
       "    }\n",
       "</style>\n",
       "<table border=\"1\" class=\"dataframe\">\n",
       "  <thead>\n",
       "    <tr style=\"text-align: right;\">\n",
       "      <th></th>\n",
       "      <th>rating</th>\n",
       "      <th>user_id</th>\n",
       "      <th>movie_id</th>\n",
       "      <th>genres</th>\n",
       "    </tr>\n",
       "  </thead>\n",
       "  <tbody>\n",
       "    <tr>\n",
       "      <th>0</th>\n",
       "      <td>4.0</td>\n",
       "      <td>1</td>\n",
       "      <td>1</td>\n",
       "      <td>Adventure|Animation|Children|Comedy|Fantasy</td>\n",
       "    </tr>\n",
       "    <tr>\n",
       "      <th>1</th>\n",
       "      <td>4.0</td>\n",
       "      <td>1</td>\n",
       "      <td>3</td>\n",
       "      <td>Comedy|Romance</td>\n",
       "    </tr>\n",
       "    <tr>\n",
       "      <th>2</th>\n",
       "      <td>4.0</td>\n",
       "      <td>1</td>\n",
       "      <td>6</td>\n",
       "      <td>Action|Crime|Thriller</td>\n",
       "    </tr>\n",
       "    <tr>\n",
       "      <th>3</th>\n",
       "      <td>5.0</td>\n",
       "      <td>1</td>\n",
       "      <td>47</td>\n",
       "      <td>Mystery|Thriller</td>\n",
       "    </tr>\n",
       "    <tr>\n",
       "      <th>4</th>\n",
       "      <td>5.0</td>\n",
       "      <td>1</td>\n",
       "      <td>50</td>\n",
       "      <td>Crime|Mystery|Thriller</td>\n",
       "    </tr>\n",
       "    <tr>\n",
       "      <th>5</th>\n",
       "      <td>3.0</td>\n",
       "      <td>1</td>\n",
       "      <td>70</td>\n",
       "      <td>Action|Comedy|Horror|Thriller</td>\n",
       "    </tr>\n",
       "    <tr>\n",
       "      <th>6</th>\n",
       "      <td>5.0</td>\n",
       "      <td>1</td>\n",
       "      <td>101</td>\n",
       "      <td>Adventure|Comedy|Crime|Romance</td>\n",
       "    </tr>\n",
       "    <tr>\n",
       "      <th>7</th>\n",
       "      <td>4.0</td>\n",
       "      <td>1</td>\n",
       "      <td>110</td>\n",
       "      <td>Action|Drama|War</td>\n",
       "    </tr>\n",
       "    <tr>\n",
       "      <th>8</th>\n",
       "      <td>5.0</td>\n",
       "      <td>1</td>\n",
       "      <td>151</td>\n",
       "      <td>Action|Drama|Romance|War</td>\n",
       "    </tr>\n",
       "    <tr>\n",
       "      <th>9</th>\n",
       "      <td>5.0</td>\n",
       "      <td>1</td>\n",
       "      <td>157</td>\n",
       "      <td>Comedy|War</td>\n",
       "    </tr>\n",
       "  </tbody>\n",
       "</table>\n",
       "</div>"
      ],
      "text/plain": [
       "   rating  user_id  movie_id                                       genres\n",
       "0     4.0        1         1  Adventure|Animation|Children|Comedy|Fantasy\n",
       "1     4.0        1         3                               Comedy|Romance\n",
       "2     4.0        1         6                        Action|Crime|Thriller\n",
       "3     5.0        1        47                             Mystery|Thriller\n",
       "4     5.0        1        50                       Crime|Mystery|Thriller\n",
       "5     3.0        1        70                Action|Comedy|Horror|Thriller\n",
       "6     5.0        1       101               Adventure|Comedy|Crime|Romance\n",
       "7     4.0        1       110                             Action|Drama|War\n",
       "8     5.0        1       151                     Action|Drama|Romance|War\n",
       "9     5.0        1       157                                   Comedy|War"
      ]
     },
     "execution_count": 99,
     "metadata": {},
     "output_type": "execute_result"
    }
   ],
   "source": [
    "ratings = ratings \\\n",
    "    .join(movies, on='movieId', how=\"left\") \\\n",
    "    .select(\n",
    "        f.col('rating'),    \n",
    "        f.col('userId').alias('user_id'), \n",
    "        f.col('movieId').alias('movie_id'), \n",
    "        f.col('genres')\n",
    "    ) \\\n",
    "    .where(\"rating is not null and userId is not null and movieId is not null and genres is not null\") \\\n",
    "    .where(\"rating >= 0 and userId >= 1 or movieId >= 1 and genres != ''\")\n",
    "\n",
    "ratings.limit(10).toPandas()"
   ]
  },
  {
   "cell_type": "markdown",
   "metadata": {},
   "source": [
    "**Step 7**: Group by movie genres to show all genres combinations."
   ]
  },
  {
   "cell_type": "code",
   "execution_count": 100,
   "metadata": {},
   "outputs": [
    {
     "data": {
      "text/html": [
       "<div>\n",
       "<style scoped>\n",
       "    .dataframe tbody tr th:only-of-type {\n",
       "        vertical-align: middle;\n",
       "    }\n",
       "\n",
       "    .dataframe tbody tr th {\n",
       "        vertical-align: top;\n",
       "    }\n",
       "\n",
       "    .dataframe thead th {\n",
       "        text-align: right;\n",
       "    }\n",
       "</style>\n",
       "<table border=\"1\" class=\"dataframe\">\n",
       "  <thead>\n",
       "    <tr style=\"text-align: right;\">\n",
       "      <th></th>\n",
       "      <th>genres</th>\n",
       "      <th>count</th>\n",
       "    </tr>\n",
       "  </thead>\n",
       "  <tbody>\n",
       "    <tr>\n",
       "      <th>0</th>\n",
       "      <td>Comedy</td>\n",
       "      <td>7196</td>\n",
       "    </tr>\n",
       "    <tr>\n",
       "      <th>1</th>\n",
       "      <td>Drama</td>\n",
       "      <td>6291</td>\n",
       "    </tr>\n",
       "    <tr>\n",
       "      <th>2</th>\n",
       "      <td>Comedy|Romance</td>\n",
       "      <td>3967</td>\n",
       "    </tr>\n",
       "    <tr>\n",
       "      <th>3</th>\n",
       "      <td>Comedy|Drama|Romance</td>\n",
       "      <td>3000</td>\n",
       "    </tr>\n",
       "    <tr>\n",
       "      <th>4</th>\n",
       "      <td>Comedy|Drama</td>\n",
       "      <td>2851</td>\n",
       "    </tr>\n",
       "    <tr>\n",
       "      <th>5</th>\n",
       "      <td>Drama|Romance</td>\n",
       "      <td>2838</td>\n",
       "    </tr>\n",
       "    <tr>\n",
       "      <th>6</th>\n",
       "      <td>Action|Adventure|Sci-Fi</td>\n",
       "      <td>2361</td>\n",
       "    </tr>\n",
       "    <tr>\n",
       "      <th>7</th>\n",
       "      <td>Crime|Drama</td>\n",
       "      <td>2315</td>\n",
       "    </tr>\n",
       "    <tr>\n",
       "      <th>8</th>\n",
       "      <td>Action|Crime|Thriller</td>\n",
       "      <td>1554</td>\n",
       "    </tr>\n",
       "    <tr>\n",
       "      <th>9</th>\n",
       "      <td>Action|Adventure|Thriller</td>\n",
       "      <td>1455</td>\n",
       "    </tr>\n",
       "  </tbody>\n",
       "</table>\n",
       "</div>"
      ],
      "text/plain": [
       "                      genres  count\n",
       "0                     Comedy   7196\n",
       "1                      Drama   6291\n",
       "2             Comedy|Romance   3967\n",
       "3       Comedy|Drama|Romance   3000\n",
       "4               Comedy|Drama   2851\n",
       "5              Drama|Romance   2838\n",
       "6    Action|Adventure|Sci-Fi   2361\n",
       "7                Crime|Drama   2315\n",
       "8      Action|Crime|Thriller   1554\n",
       "9  Action|Adventure|Thriller   1455"
      ]
     },
     "execution_count": 100,
     "metadata": {},
     "output_type": "execute_result"
    }
   ],
   "source": [
    "genres_count = ratings \\\n",
    "    .groupBy('genres') \\\n",
    "    .count() \\\n",
    "    .orderBy(f.column('count').desc())\n",
    "\n",
    "genres_count.limit(10).toPandas()"
   ]
  },
  {
   "cell_type": "markdown",
   "metadata": {},
   "source": [
    "**Step 8**: Create genres column names:"
   ]
  },
  {
   "cell_type": "code",
   "execution_count": 101,
   "metadata": {},
   "outputs": [],
   "source": [
    "def normalize(value): return value.lower().replace('-','_')"
   ]
  },
  {
   "cell_type": "code",
   "execution_count": 102,
   "metadata": {},
   "outputs": [
    {
     "data": {
      "text/plain": [
       "[('Comedy', 'gen_comedy'),\n",
       " ('Drama', 'gen_drama'),\n",
       " ('Romance', 'gen_romance'),\n",
       " ('Action', 'gen_action'),\n",
       " ('Adventure', 'gen_adventure'),\n",
       " ('Sci-Fi', 'gen_sci_fi'),\n",
       " ('Crime', 'gen_crime'),\n",
       " ('Thriller', 'gen_thriller'),\n",
       " ('War', 'gen_war'),\n",
       " ('Documentary', 'gen_documentary'),\n",
       " ('Mystery', 'gen_mystery'),\n",
       " ('IMAX', 'gen_imax'),\n",
       " ('Horror', 'gen_horror'),\n",
       " ('Children', 'gen_children'),\n",
       " ('Fantasy', 'gen_fantasy'),\n",
       " ('Animation', 'gen_animation'),\n",
       " ('Musical', 'gen_musical'),\n",
       " ('Film-Noir', 'gen_film_noir'),\n",
       " ('Western', 'gen_western'),\n",
       " ('(no genres listed)', 'gen_none')]"
      ]
     },
     "execution_count": 102,
     "metadata": {},
     "output_type": "execute_result"
    }
   ],
   "source": [
    "genres_columns = genres_count \\\n",
    "        .select('genres') \\\n",
    "        .rdd \\\n",
    "        .flatMap(lambda it: it[0].split('|')) \\\n",
    "        .distinct() \\\n",
    "        .map(lambda it: (it, 'gen_none' if '(' in it else f'gen_{normalize(it)}')) \\\n",
    "        .collect()\n",
    "\n",
    "genres_columns"
   ]
  },
  {
   "cell_type": "markdown",
   "metadata": {},
   "source": [
    "**Step 9**: create features table."
   ]
  },
  {
   "cell_type": "code",
   "execution_count": 103,
   "metadata": {},
   "outputs": [
    {
     "data": {
      "text/html": [
       "<div>\n",
       "<style scoped>\n",
       "    .dataframe tbody tr th:only-of-type {\n",
       "        vertical-align: middle;\n",
       "    }\n",
       "\n",
       "    .dataframe tbody tr th {\n",
       "        vertical-align: top;\n",
       "    }\n",
       "\n",
       "    .dataframe thead th {\n",
       "        text-align: right;\n",
       "    }\n",
       "</style>\n",
       "<table border=\"1\" class=\"dataframe\">\n",
       "  <thead>\n",
       "    <tr style=\"text-align: right;\">\n",
       "      <th></th>\n",
       "      <th>rating</th>\n",
       "      <th>user_id</th>\n",
       "      <th>movie_id</th>\n",
       "      <th>gen_comedy</th>\n",
       "      <th>gen_drama</th>\n",
       "      <th>gen_romance</th>\n",
       "      <th>gen_action</th>\n",
       "      <th>gen_adventure</th>\n",
       "      <th>gen_sci_fi</th>\n",
       "      <th>gen_crime</th>\n",
       "      <th>...</th>\n",
       "      <th>gen_mystery</th>\n",
       "      <th>gen_imax</th>\n",
       "      <th>gen_horror</th>\n",
       "      <th>gen_children</th>\n",
       "      <th>gen_fantasy</th>\n",
       "      <th>gen_animation</th>\n",
       "      <th>gen_musical</th>\n",
       "      <th>gen_film_noir</th>\n",
       "      <th>gen_western</th>\n",
       "      <th>gen_none</th>\n",
       "    </tr>\n",
       "  </thead>\n",
       "  <tbody>\n",
       "    <tr>\n",
       "      <th>0</th>\n",
       "      <td>4.0</td>\n",
       "      <td>1</td>\n",
       "      <td>1</td>\n",
       "      <td>1</td>\n",
       "      <td>0</td>\n",
       "      <td>0</td>\n",
       "      <td>0</td>\n",
       "      <td>1</td>\n",
       "      <td>0</td>\n",
       "      <td>0</td>\n",
       "      <td>...</td>\n",
       "      <td>0</td>\n",
       "      <td>0</td>\n",
       "      <td>0</td>\n",
       "      <td>1</td>\n",
       "      <td>1</td>\n",
       "      <td>1</td>\n",
       "      <td>0</td>\n",
       "      <td>0</td>\n",
       "      <td>0</td>\n",
       "      <td>0</td>\n",
       "    </tr>\n",
       "    <tr>\n",
       "      <th>1</th>\n",
       "      <td>4.0</td>\n",
       "      <td>1</td>\n",
       "      <td>3</td>\n",
       "      <td>1</td>\n",
       "      <td>0</td>\n",
       "      <td>1</td>\n",
       "      <td>0</td>\n",
       "      <td>0</td>\n",
       "      <td>0</td>\n",
       "      <td>0</td>\n",
       "      <td>...</td>\n",
       "      <td>0</td>\n",
       "      <td>0</td>\n",
       "      <td>0</td>\n",
       "      <td>0</td>\n",
       "      <td>0</td>\n",
       "      <td>0</td>\n",
       "      <td>0</td>\n",
       "      <td>0</td>\n",
       "      <td>0</td>\n",
       "      <td>0</td>\n",
       "    </tr>\n",
       "    <tr>\n",
       "      <th>2</th>\n",
       "      <td>4.0</td>\n",
       "      <td>1</td>\n",
       "      <td>6</td>\n",
       "      <td>0</td>\n",
       "      <td>0</td>\n",
       "      <td>0</td>\n",
       "      <td>1</td>\n",
       "      <td>0</td>\n",
       "      <td>0</td>\n",
       "      <td>1</td>\n",
       "      <td>...</td>\n",
       "      <td>0</td>\n",
       "      <td>0</td>\n",
       "      <td>0</td>\n",
       "      <td>0</td>\n",
       "      <td>0</td>\n",
       "      <td>0</td>\n",
       "      <td>0</td>\n",
       "      <td>0</td>\n",
       "      <td>0</td>\n",
       "      <td>0</td>\n",
       "    </tr>\n",
       "    <tr>\n",
       "      <th>3</th>\n",
       "      <td>5.0</td>\n",
       "      <td>1</td>\n",
       "      <td>47</td>\n",
       "      <td>0</td>\n",
       "      <td>0</td>\n",
       "      <td>0</td>\n",
       "      <td>0</td>\n",
       "      <td>0</td>\n",
       "      <td>0</td>\n",
       "      <td>0</td>\n",
       "      <td>...</td>\n",
       "      <td>1</td>\n",
       "      <td>0</td>\n",
       "      <td>0</td>\n",
       "      <td>0</td>\n",
       "      <td>0</td>\n",
       "      <td>0</td>\n",
       "      <td>0</td>\n",
       "      <td>0</td>\n",
       "      <td>0</td>\n",
       "      <td>0</td>\n",
       "    </tr>\n",
       "    <tr>\n",
       "      <th>4</th>\n",
       "      <td>5.0</td>\n",
       "      <td>1</td>\n",
       "      <td>50</td>\n",
       "      <td>0</td>\n",
       "      <td>0</td>\n",
       "      <td>0</td>\n",
       "      <td>0</td>\n",
       "      <td>0</td>\n",
       "      <td>0</td>\n",
       "      <td>1</td>\n",
       "      <td>...</td>\n",
       "      <td>1</td>\n",
       "      <td>0</td>\n",
       "      <td>0</td>\n",
       "      <td>0</td>\n",
       "      <td>0</td>\n",
       "      <td>0</td>\n",
       "      <td>0</td>\n",
       "      <td>0</td>\n",
       "      <td>0</td>\n",
       "      <td>0</td>\n",
       "    </tr>\n",
       "  </tbody>\n",
       "</table>\n",
       "<p>5 rows × 23 columns</p>\n",
       "</div>"
      ],
      "text/plain": [
       "   rating  user_id  movie_id  gen_comedy  gen_drama  gen_romance  gen_action  \\\n",
       "0     4.0        1         1           1          0            0           0   \n",
       "1     4.0        1         3           1          0            1           0   \n",
       "2     4.0        1         6           0          0            0           1   \n",
       "3     5.0        1        47           0          0            0           0   \n",
       "4     5.0        1        50           0          0            0           0   \n",
       "\n",
       "   gen_adventure  gen_sci_fi  gen_crime  ...  gen_mystery  gen_imax  \\\n",
       "0              1           0          0  ...            0         0   \n",
       "1              0           0          0  ...            0         0   \n",
       "2              0           0          1  ...            0         0   \n",
       "3              0           0          0  ...            1         0   \n",
       "4              0           0          1  ...            1         0   \n",
       "\n",
       "   gen_horror  gen_children  gen_fantasy  gen_animation  gen_musical  \\\n",
       "0           0             1            1              1            0   \n",
       "1           0             0            0              0            0   \n",
       "2           0             0            0              0            0   \n",
       "3           0             0            0              0            0   \n",
       "4           0             0            0              0            0   \n",
       "\n",
       "   gen_film_noir  gen_western  gen_none  \n",
       "0              0            0         0  \n",
       "1              0            0         0  \n",
       "2              0            0         0  \n",
       "3              0            0         0  \n",
       "4              0            0         0  \n",
       "\n",
       "[5 rows x 23 columns]"
      ]
     },
     "execution_count": 103,
     "metadata": {},
     "output_type": "execute_result"
    }
   ],
   "source": [
    "for (genre, col_name) in genres_columns:\n",
    "    ratings = ratings.withColumn(col_name, ratings.genres.contains(genre).cast('integer'))\n",
    "\n",
    "ratings = ratings.drop('genres')\n",
    "    \n",
    "ratings.limit(5).toPandas()"
   ]
  },
  {
   "cell_type": "code",
   "execution_count": 104,
   "metadata": {},
   "outputs": [
    {
     "data": {
      "text/plain": [
       "array([[<AxesSubplot:title={'center':'count'}>]], dtype=object)"
      ]
     },
     "execution_count": 104,
     "metadata": {},
     "output_type": "execute_result"
    },
    {
     "data": {
      "image/png": "[encoded data removed]",
      "text/plain": [
       "<Figure size 432x288 with 1 Axes>"
      ]
     },
     "metadata": {
      "needs_background": "light"
     },
     "output_type": "display_data"
    }
   ],
   "source": [
    "user_ratings_count = ratings \\\n",
    "    .groupBy('user_id') \\\n",
    "    .agg(f.count(f.column('user_id')).alias('count')) \\\n",
    "    .orderBy(f.column('count').desc())\n",
    "\n",
    "user_ratings_count \\\n",
    "    .toPandas().hist('count')"
   ]
  },
  {
   "cell_type": "markdown",
   "metadata": {},
   "source": [
    "Min and max number of user califications:"
   ]
  },
  {
   "cell_type": "code",
   "execution_count": 105,
   "metadata": {},
   "outputs": [
    {
     "data": {
      "text/html": [
       "<div>\n",
       "<style scoped>\n",
       "    .dataframe tbody tr th:only-of-type {\n",
       "        vertical-align: middle;\n",
       "    }\n",
       "\n",
       "    .dataframe tbody tr th {\n",
       "        vertical-align: top;\n",
       "    }\n",
       "\n",
       "    .dataframe thead th {\n",
       "        text-align: right;\n",
       "    }\n",
       "</style>\n",
       "<table border=\"1\" class=\"dataframe\">\n",
       "  <thead>\n",
       "    <tr style=\"text-align: right;\">\n",
       "      <th></th>\n",
       "      <th>min(count)</th>\n",
       "      <th>max(count)</th>\n",
       "    </tr>\n",
       "  </thead>\n",
       "  <tbody>\n",
       "    <tr>\n",
       "      <th>0</th>\n",
       "      <td>20</td>\n",
       "      <td>2698</td>\n",
       "    </tr>\n",
       "  </tbody>\n",
       "</table>\n",
       "</div>"
      ],
      "text/plain": [
       "   min(count)  max(count)\n",
       "0          20        2698"
      ]
     },
     "execution_count": 105,
     "metadata": {},
     "output_type": "execute_result"
    }
   ],
   "source": [
    "user_ratings_count \\\n",
    "    .agg(f.min('count'), f.max('count')) \\\n",
    "    .toPandas()"
   ]
  },
  {
   "cell_type": "code",
   "execution_count": 106,
   "metadata": {},
   "outputs": [
    {
     "data": {
      "text/plain": [
       "array([[<AxesSubplot:title={'center':'count'}>]], dtype=object)"
      ]
     },
     "execution_count": 106,
     "metadata": {},
     "output_type": "execute_result"
    },
    {
     "data": {
      "image/png": "[encoded data removed]",
      "text/plain": [
       "<Figure size 432x288 with 1 Axes>"
      ]
     },
     "metadata": {
      "needs_background": "light"
     },
     "output_type": "display_data"
    }
   ],
   "source": [
    "movie_ratings_count = ratings \\\n",
    "    .groupBy('movie_id') \\\n",
    "    .agg(f.count(f.column('movie_id')).alias('count')) \\\n",
    "    .orderBy(f.column('count').desc())\n",
    "\n",
    "movie_ratings_count \\\n",
    "    .toPandas().hist('count')"
   ]
  },
  {
   "cell_type": "code",
   "execution_count": 107,
   "metadata": {},
   "outputs": [
    {
     "data": {
      "text/html": [
       "<div>\n",
       "<style scoped>\n",
       "    .dataframe tbody tr th:only-of-type {\n",
       "        vertical-align: middle;\n",
       "    }\n",
       "\n",
       "    .dataframe tbody tr th {\n",
       "        vertical-align: top;\n",
       "    }\n",
       "\n",
       "    .dataframe thead th {\n",
       "        text-align: right;\n",
       "    }\n",
       "</style>\n",
       "<table border=\"1\" class=\"dataframe\">\n",
       "  <thead>\n",
       "    <tr style=\"text-align: right;\">\n",
       "      <th></th>\n",
       "      <th>min(count)</th>\n",
       "      <th>max(count)</th>\n",
       "    </tr>\n",
       "  </thead>\n",
       "  <tbody>\n",
       "    <tr>\n",
       "      <th>0</th>\n",
       "      <td>1</td>\n",
       "      <td>329</td>\n",
       "    </tr>\n",
       "  </tbody>\n",
       "</table>\n",
       "</div>"
      ],
      "text/plain": [
       "   min(count)  max(count)\n",
       "0           1         329"
      ]
     },
     "execution_count": 107,
     "metadata": {},
     "output_type": "execute_result"
    }
   ],
   "source": [
    "movie_ratings_count \\\n",
    "    .agg(f.min('count'), f.max('count')) \\\n",
    "    .toPandas()"
   ]
  },
  {
   "cell_type": "markdown",
   "metadata": {},
   "source": [
    "Get id of users who make 40 or more ratings:"
   ]
  },
  {
   "cell_type": "code",
   "execution_count": 108,
   "metadata": {},
   "outputs": [
    {
     "data": {
      "text/plain": [
       "610"
      ]
     },
     "execution_count": 108,
     "metadata": {},
     "output_type": "execute_result"
    }
   ],
   "source": [
    "user_ids = user_ratings_count \\\n",
    "    .where('count >= 20') \\\n",
    "    .select('user_id') \\\n",
    "    .rdd \\\n",
    "    .flatMap(lambda it: it) \\\n",
    "    .collect()\n",
    "\n",
    "len(user_ids)"
   ]
  },
  {
   "cell_type": "markdown",
   "metadata": {},
   "source": [
    "Movies with 40 or more ratings:"
   ]
  },
  {
   "cell_type": "code",
   "execution_count": 109,
   "metadata": {},
   "outputs": [
    {
     "data": {
      "text/plain": [
       "1297"
      ]
     },
     "execution_count": 109,
     "metadata": {},
     "output_type": "execute_result"
    }
   ],
   "source": [
    "movie_ids = movie_ratings_count \\\n",
    "    .where('count >= 20') \\\n",
    "    .select('movie_id') \\\n",
    "    .rdd \\\n",
    "    .flatMap(lambda it: it) \\\n",
    "    .collect()\n",
    "\n",
    "len(movie_ids)"
   ]
  },
  {
   "cell_type": "markdown",
   "metadata": {},
   "source": [
    "Filter samples for users who make 40 or more ratings and movies with 40 or more ratings:"
   ]
  },
  {
   "cell_type": "code",
   "execution_count": 110,
   "metadata": {},
   "outputs": [],
   "source": [
    "ratings = ratings \\\n",
    "    .filter(ratings.user_id.isin(user_ids) | ratings.movie_id.isin(movie_ids))"
   ]
  },
  {
   "cell_type": "code",
   "execution_count": 111,
   "metadata": {},
   "outputs": [
    {
     "data": {
      "text/plain": [
       "array([[<AxesSubplot:title={'center':'count'}>]], dtype=object)"
      ]
     },
     "execution_count": 111,
     "metadata": {},
     "output_type": "execute_result"
    },
    {
     "data": {
      "image/png": "[encoded data removed]",
      "text/plain": [
       "<Figure size 432x288 with 1 Axes>"
      ]
     },
     "metadata": {
      "needs_background": "light"
     },
     "output_type": "display_data"
    }
   ],
   "source": [
    "ratings \\\n",
    "    .groupBy('user_id') \\\n",
    "    .agg(f.count(f.column('user_id')).alias('count')) \\\n",
    "    .toPandas() \\\n",
    "    .hist('count')"
   ]
  },
  {
   "cell_type": "code",
   "execution_count": 112,
   "metadata": {},
   "outputs": [
    {
     "data": {
      "text/plain": [
       "array([[<AxesSubplot:title={'center':'count'}>]], dtype=object)"
      ]
     },
     "execution_count": 112,
     "metadata": {},
     "output_type": "execute_result"
    },
    {
     "data": {
      "image/png": "[encoded data removed]",
      "text/plain": [
       "<Figure size 432x288 with 1 Axes>"
      ]
     },
     "metadata": {
      "needs_background": "light"
     },
     "output_type": "display_data"
    }
   ],
   "source": [
    "ratings \\\n",
    "    .groupBy('movie_id') \\\n",
    "    .agg(f.count(f.column('movie_id')).alias('count')) \\\n",
    "    .toPandas() \\\n",
    "    .hist('count')"
   ]
  },
  {
   "cell_type": "markdown",
   "metadata": {},
   "source": [
    "**Step 10**: Write table a file."
   ]
  },
  {
   "cell_type": "code",
   "execution_count": 113,
   "metadata": {},
   "outputs": [],
   "source": [
    "TEMP_PATH = './temp'\n",
    "DATASET_PATH = f'{TEMP_PATH}/dataset'"
   ]
  },
  {
   "cell_type": "code",
   "execution_count": 114,
   "metadata": {},
   "outputs": [
    {
     "data": {
      "text/plain": [
       "'./temp/dataset'"
      ]
     },
     "execution_count": 114,
     "metadata": {},
     "output_type": "execute_result"
    }
   ],
   "source": [
    "remove_dir(DATASET_PATH)\n",
    "create_path(DATASET_PATH)"
   ]
  },
  {
   "cell_type": "code",
   "execution_count": 115,
   "metadata": {},
   "outputs": [],
   "source": [
    "write_csv(ratings, DATASET_PATH)"
   ]
  },
  {
   "cell_type": "code",
   "execution_count": 116,
   "metadata": {},
   "outputs": [],
   "source": [
    "session.stop()"
   ]
  },
  {
   "cell_type": "code",
   "execution_count": null,
   "metadata": {},
   "outputs": [],
   "source": []
  }
 ],
 "metadata": {
  "kernelspec": {
   "display_name": "Python 3",
   "language": "python",
   "name": "python3"
  },
  "language_info": {
   "codemirror_mode": {
    "name": "ipython",
    "version": 3
   },
   "file_extension": ".py",
   "mimetype": "text/x-python",
   "name": "python",
   "nbconvert_exporter": "python",
   "pygments_lexer": "ipython3",
   "version": "3.8.5"
  },
  "widgets": {
   "application/vnd.jupyter.widget-state+json": {
    "state": {},
    "version_major": 2,
    "version_minor": 0
   }
  }
 },
 "nbformat": 4,
 "nbformat_minor": 4
}
