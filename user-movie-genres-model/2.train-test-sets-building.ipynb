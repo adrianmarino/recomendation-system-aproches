{
 "cells": [
  {
   "cell_type": "code",
   "execution_count": 1,
   "metadata": {},
   "outputs": [],
   "source": [
    "%matplotlib inline\n",
    "%load_ext autoreload\n",
    "%autoreload 2"
   ]
  },
  {
   "cell_type": "code",
   "execution_count": 2,
   "metadata": {},
   "outputs": [],
   "source": [
    "import sys\n",
    "sys.path.append('../src')\n",
    "\n",
    "import numpy as np\n",
    "import pandas as pd\n",
    "import tensorflow as tf\n",
    "\n",
    "from spark import SparkSessionFactory, read_csv, write_csv, column_values, train_test_split, shuffle_df\n",
    "from util import remove_dir\n",
    "\n",
    "\n",
    "import pyspark.sql.types as t\n",
    "import pyspark.sql as s\n",
    "import pyspark.sql.functions as f"
   ]
  },
  {
   "cell_type": "markdown",
   "metadata": {},
   "source": [
    "# Prepare model input data"
   ]
  },
  {
   "cell_type": "markdown",
   "metadata": {},
   "source": [
    "**Step 1**: Create a predefined spack session. this is used to create a pipeline that build the model input features. "
   ]
  },
  {
   "cell_type": "code",
   "execution_count": 3,
   "metadata": {},
   "outputs": [
    {
     "data": {
      "text/html": [
       "\n",
       "            <div>\n",
       "                <p><b>SparkSession - in-memory</b></p>\n",
       "                \n",
       "        <div>\n",
       "            <p><b>SparkContext</b></p>\n",
       "\n",
       "            <p><a href=\"http://skynet.local:4040\">Spark UI</a></p>\n",
       "\n",
       "            <dl>\n",
       "              <dt>Version</dt>\n",
       "                <dd><code>v3.0.1</code></dd>\n",
       "              <dt>Master</dt>\n",
       "                <dd><code>local[*]</code></dd>\n",
       "              <dt>AppName</dt>\n",
       "                <dd><code>recommendations</code></dd>\n",
       "            </dl>\n",
       "        </div>\n",
       "        \n",
       "            </div>\n",
       "        "
      ],
      "text/plain": [
       "<pyspark.sql.session.SparkSession at 0x7fd9356c9940>"
      ]
     },
     "execution_count": 3,
     "metadata": {},
     "output_type": "execute_result"
    }
   ],
   "source": [
    "session = SparkSessionFactory.create()\n",
    "session"
   ]
  },
  {
   "cell_type": "markdown",
   "metadata": {},
   "source": [
    "**Note**: When create a spark session this run a new spark cluster with one instance in localhost. You can monitor instance jobs clicking the **Spark UI** link. "
   ]
  },
  {
   "cell_type": "markdown",
   "metadata": {},
   "source": [
    "**Step 2**: Load raw dataset to a spark dataset. "
   ]
  },
  {
   "cell_type": "code",
   "execution_count": 4,
   "metadata": {},
   "outputs": [],
   "source": [
    "TEMP_PATH = './temp'\n",
    "DATASET_PATH = f'{TEMP_PATH}/dataset'\n",
    "TRAIN_PATH = f'{TEMP_PATH}/train'\n",
    "VAL_PATH = f'{TEMP_PATH}/val'\n",
    "TEST_PATH = f'{TEMP_PATH}/test'"
   ]
  },
  {
   "cell_type": "code",
   "execution_count": 5,
   "metadata": {},
   "outputs": [],
   "source": [
    "dataset = read_csv(session, f'{DATASET_PATH}/*.csv')"
   ]
  },
  {
   "cell_type": "code",
   "execution_count": 6,
   "metadata": {},
   "outputs": [],
   "source": [
    "dataset = shuffle_df(dataset)"
   ]
  },
  {
   "cell_type": "markdown",
   "metadata": {},
   "source": [
    "**Step 2**: Get all users and movies ids and let's see how many elements has each."
   ]
  },
  {
   "cell_type": "code",
   "execution_count": 7,
   "metadata": {},
   "outputs": [
    {
     "name": "stdout",
     "output_type": "stream",
     "text": [
      "Train users: 7,474.\n",
      "Train movies: 40,099.\n"
     ]
    }
   ],
   "source": [
    "n_users = dataset.select('user_seq').distinct().count()\n",
    "n_movies = dataset.select('movie_seq').distinct().count()\n",
    "\n",
    "print(f'Train users: {\"{:,}\".format(n_users)}.')\n",
    "print(f'Train movies: {\"{:,}\".format(n_movies)}.')"
   ]
  },
  {
   "cell_type": "markdown",
   "metadata": {},
   "source": [
    "**Step 4:** Let's see all dataset columns."
   ]
  },
  {
   "cell_type": "code",
   "execution_count": 8,
   "metadata": {},
   "outputs": [
    {
     "data": {
      "text/plain": [
       "['rating',\n",
       " 'user_id',\n",
       " 'movie_id',\n",
       " 'gen_comedy',\n",
       " 'gen_children',\n",
       " 'gen_western',\n",
       " 'gen_thriller',\n",
       " 'gen_romance',\n",
       " 'gen_action',\n",
       " 'gen_musical',\n",
       " 'gen_imax',\n",
       " 'gen_animation',\n",
       " 'gen_fantasy',\n",
       " 'gen_horror',\n",
       " 'gen_film_noir',\n",
       " 'gen_war',\n",
       " 'gen_drama',\n",
       " 'gen_mystery',\n",
       " 'gen_sci_fi',\n",
       " 'gen_none',\n",
       " 'gen_crime',\n",
       " 'gen_documentary',\n",
       " 'gen_adventure',\n",
       " 'user_seq',\n",
       " 'movie_seq']"
      ]
     },
     "execution_count": 8,
     "metadata": {},
     "output_type": "execute_result"
    }
   ],
   "source": [
    "dataset.columns"
   ]
  },
  {
   "cell_type": "code",
   "execution_count": 9,
   "metadata": {},
   "outputs": [],
   "source": [
    "train_set, val_test_sets = train_test_split(dataset, test_size=0.3)\n",
    "val_set, test_set = train_test_split(val_test_sets, test_size=0.1)"
   ]
  },
  {
   "cell_type": "code",
   "execution_count": 10,
   "metadata": {},
   "outputs": [],
   "source": [
    "from sklearn.preprocessing import LabelEncoder\n",
    "\n",
    "class Sequencer:\n",
    "    def __init__(self):\n",
    "        self.sequence = -1\n",
    "        self.mapping = {}\n",
    "\n",
    "    def __call__(self, value):\n",
    "        if value in self.mapping:\n",
    "            return self.mapping[value]\n",
    "\n",
    "        self.sequence += 1\n",
    "        self.mapping[value] = self.sequence\n",
    "        return self.sequence\n",
    "\n",
    "user_seq = f.udf(Sequencer(), t.IntegerType())\n",
    "movie_seq = f.udf(Sequencer(), t.IntegerType())"
   ]
  },
  {
   "cell_type": "code",
   "execution_count": 11,
   "metadata": {},
   "outputs": [
    {
     "name": "stdout",
     "output_type": "stream",
     "text": [
      "+--------+---------+\n",
      "|user_seq|movie_seq|\n",
      "+--------+---------+\n",
      "|0       |0        |\n",
      "|1       |1        |\n",
      "|2       |2        |\n",
      "|3       |3        |\n",
      "|4       |4        |\n",
      "+--------+---------+\n",
      "only showing top 5 rows\n",
      "\n"
     ]
    }
   ],
   "source": [
    "train_set = train_set \\\n",
    "    .withColumn('user_seq', user_seq(f.col('user_id'))) \\\n",
    "    .withColumn('movie_seq', movie_seq(f.col('movie_id')))\n",
    "\n",
    "train_set.select(f.col('user_seq'), f.col('movie_seq')) \\\n",
    "    .show(5, truncate=False)"
   ]
  },
  {
   "cell_type": "code",
   "execution_count": 12,
   "metadata": {},
   "outputs": [
    {
     "name": "stdout",
     "output_type": "stream",
     "text": [
      "+--------+---------+\n",
      "|user_seq|movie_seq|\n",
      "+--------+---------+\n",
      "|0       |0        |\n",
      "|1       |1        |\n",
      "|2       |2        |\n",
      "|3       |3        |\n",
      "|4       |4        |\n",
      "+--------+---------+\n",
      "only showing top 5 rows\n",
      "\n"
     ]
    }
   ],
   "source": [
    "val_set = val_set \\\n",
    "    .withColumn('user_seq', user_seq(f.col('user_id'))) \\\n",
    "    .withColumn('movie_seq', movie_seq(f.col('movie_id')))\n",
    "\n",
    "val_set.select(f.col('user_seq'), f.col('movie_seq')) \\\n",
    "    .show(5, truncate=False)"
   ]
  },
  {
   "cell_type": "code",
   "execution_count": 13,
   "metadata": {},
   "outputs": [
    {
     "name": "stdout",
     "output_type": "stream",
     "text": [
      "+--------+---------+\n",
      "|user_seq|movie_seq|\n",
      "+--------+---------+\n",
      "|0       |0        |\n",
      "|1       |1        |\n",
      "|2       |2        |\n",
      "|3       |3        |\n",
      "|4       |4        |\n",
      "+--------+---------+\n",
      "only showing top 5 rows\n",
      "\n"
     ]
    }
   ],
   "source": [
    "test_set = test_set \\\n",
    "    .withColumn('user_seq', user_seq(f.col('user_id'))) \\\n",
    "    .withColumn('movie_seq', movie_seq(f.col('movie_id')))\n",
    "\n",
    "test_set.select(f.col('user_seq'), f.col('movie_seq')) \\\n",
    "    .show(5, truncate=False)"
   ]
  },
  {
   "cell_type": "markdown",
   "metadata": {},
   "source": [
    "Get only test and val sampes for users an movies that appears in the train set:"
   ]
  },
  {
   "cell_type": "code",
   "execution_count": 14,
   "metadata": {},
   "outputs": [],
   "source": [
    "user_movies_seqs = train_set.select('user_seq', 'movie_seq').distinct()"
   ]
  },
  {
   "cell_type": "code",
   "execution_count": 15,
   "metadata": {},
   "outputs": [
    {
     "data": {
      "text/plain": [
       "6750525"
      ]
     },
     "execution_count": 15,
     "metadata": {},
     "output_type": "execute_result"
    }
   ],
   "source": [
    "val_set.count()"
   ]
  },
  {
   "cell_type": "code",
   "execution_count": 16,
   "metadata": {},
   "outputs": [],
   "source": [
    "val_set = val_set \\\n",
    "    .alias(\"d1\") \\\n",
    "    .join(user_movies_seqs.alias(\"d2\"), on=['user_seq', 'movie_seq'], how=\"left\") \\\n",
    "    .select(\"d1.*\")"
   ]
  },
  {
   "cell_type": "code",
   "execution_count": 17,
   "metadata": {},
   "outputs": [
    {
     "data": {
      "text/plain": [
       "6750585"
      ]
     },
     "execution_count": 17,
     "metadata": {},
     "output_type": "execute_result"
    }
   ],
   "source": [
    "val_set.count()"
   ]
  },
  {
   "cell_type": "code",
   "execution_count": 18,
   "metadata": {},
   "outputs": [
    {
     "data": {
      "text/plain": [
       "749329"
      ]
     },
     "execution_count": 18,
     "metadata": {},
     "output_type": "execute_result"
    }
   ],
   "source": [
    "test_set.count()"
   ]
  },
  {
   "cell_type": "code",
   "execution_count": 19,
   "metadata": {},
   "outputs": [],
   "source": [
    "test_set = test_set \\\n",
    "    .alias(\"d1\") \\\n",
    "    .join(user_movies_seqs.alias(\"d2\"), on=['user_seq', 'movie_seq'], how=\"left\") \\\n",
    "    .select(\"d1.*\")"
   ]
  },
  {
   "cell_type": "code",
   "execution_count": 20,
   "metadata": {},
   "outputs": [
    {
     "data": {
      "text/plain": [
       "749421"
      ]
     },
     "execution_count": 20,
     "metadata": {},
     "output_type": "execute_result"
    }
   ],
   "source": [
    "test_set.count()"
   ]
  },
  {
   "cell_type": "code",
   "execution_count": 21,
   "metadata": {},
   "outputs": [
    {
     "name": "stdout",
     "output_type": "stream",
     "text": [
      "Train set size: 17,500,695 samples.\n",
      "Validation set size: 6,750,225 samples.\n",
      "Test set size: 749,323 samples.\n"
     ]
    }
   ],
   "source": [
    "print(f'Train set size: {\"{:,}\".format(train_set.count())} samples.')\n",
    "print(f'Validation set size: {\"{:,}\".format(val_set.count())} samples.')\n",
    "print(f'Test set size: {\"{:,}\".format(test_set.count())} samples.', )"
   ]
  },
  {
   "cell_type": "code",
   "execution_count": 22,
   "metadata": {},
   "outputs": [],
   "source": [
    "remove_dir(TRAIN_PATH)\n",
    "remove_dir(VAL_PATH)\n",
    "remove_dir(TEST_PATH)"
   ]
  },
  {
   "cell_type": "code",
   "execution_count": 23,
   "metadata": {},
   "outputs": [],
   "source": [
    "write_csv(train_set, TRAIN_PATH)\n",
    "write_csv(val_set, VAL_PATH)\n",
    "write_csv(test_set, TEST_PATH)"
   ]
  },
  {
   "cell_type": "code",
   "execution_count": 24,
   "metadata": {},
   "outputs": [],
   "source": [
    "session.stop()"
   ]
  },
  {
   "cell_type": "code",
   "execution_count": null,
   "metadata": {},
   "outputs": [],
   "source": []
  }
 ],
 "metadata": {
  "kernelspec": {
   "display_name": "Python 3",
   "language": "python",
   "name": "python3"
  },
  "language_info": {
   "codemirror_mode": {
    "name": "ipython",
    "version": 3
   },
   "file_extension": ".py",
   "mimetype": "text/x-python",
   "name": "python",
   "nbconvert_exporter": "python",
   "pygments_lexer": "ipython3",
   "version": "3.8.5"
  },
  "widgets": {
   "application/vnd.jupyter.widget-state+json": {
    "state": {},
    "version_major": 2,
    "version_minor": 0
   }
  }
 },
 "nbformat": 4,
 "nbformat_minor": 4
}
