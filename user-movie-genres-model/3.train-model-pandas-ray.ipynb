{
 "cells": [
  {
   "cell_type": "code",
   "execution_count": 1,
   "metadata": {},
   "outputs": [],
   "source": [
    "%matplotlib inline\n",
    "%load_ext autoreload\n",
    "%autoreload 2"
   ]
  },
  {
   "cell_type": "markdown",
   "metadata": {},
   "source": [
    "# Recommendation systems: Deep Model"
   ]
  },
  {
   "cell_type": "markdown",
   "metadata": {},
   "source": [
    "This model is made up of feature layers that have users, movies and movie genres embedings followed by a neural network with dense layers and finally one output that is the rating prediction that input user(id) could assign to input movie(id)."
   ]
  },
  {
   "cell_type": "markdown",
   "metadata": {},
   "source": [
    "**Inputs**\n",
    "* **User id**: Really this is traducet as a sequence because embedding layers only can manage sequenced identifiers.\n",
    "* **Movie id**: Idem to User id.\n",
    "* **Movie genres**: One column by genre.\n",
    "\n",
    "**Output**\n",
    "*  **Rating prediction** that user could assign to movie."
   ]
  },
  {
   "cell_type": "markdown",
   "metadata": {},
   "source": [
    "**Links**\n",
    "* [Deep Learning With Keras: Recommender Systems](https://www.johnwittenauer.net/deep-learning-with-keras-recommender-systems/)\n",
    "* [Collaborative Filtering for Movie Recommendations](https://keras.io/examples/structured_data/collaborative_filtering_movielens/)\n",
    "* [Movie lens datasets](https://grouplens.org/datasets/movielens/)\n",
    "* [Recommendation Systems Benchmarks](https://paperswithcode.com/task/recommendation-systems)"
   ]
  },
  {
   "cell_type": "markdown",
   "metadata": {},
   "source": [
    "## Required libraries"
   ]
  },
  {
   "cell_type": "code",
   "execution_count": 2,
   "metadata": {},
   "outputs": [
    {
     "name": "stdout",
     "output_type": "stream",
     "text": [
      "MODIN_OUT_OF_CORE: true\n",
      "MODIN_MEMORY: 500000000\n",
      "MODIN_ON_RAY_PLASMA_DIR: /home/adrian/tmp\n"
     ]
    }
   ],
   "source": [
    "import os\n",
    "\n",
    "def show_env_var(varname):\n",
    "    if varname in os.environ:\n",
    "        print(f'{varname}: {os.environ[varname]}')\n",
    "    else:\n",
    "        print(f'{varname} undefined')\n",
    "\n",
    "show_env_var('MODIN_OUT_OF_CORE')\n",
    "show_env_var('MODIN_MEMORY')\n",
    "show_env_var('MODIN_ON_RAY_PLASMA_DIR')"
   ]
  },
  {
   "cell_type": "code",
   "execution_count": 3,
   "metadata": {},
   "outputs": [],
   "source": [
    "import sys\n",
    "sys.path.append('../src')\n",
    "\n",
    "import ray\n",
    "import modin\n",
    "\n",
    "import pandas as pd\n",
    "# import modin.pandas as pd\n",
    "import numpy as np\n",
    "\n",
    "import tensorflow as tf\n",
    "from tensorflow.keras.callbacks import ModelCheckpoint, EarlyStopping\n",
    "\n",
    "import kerastuner as kt\n",
    "\n",
    "from util import tf_detected_devices, tf_version, plot_model, Config, LoggerFactory, create_path\n",
    "\n",
    "from callback import MetricsPlotter\n",
    "from data import InMemoryXyDataGenerator\n",
    "from recommendation import UserMovieGenderEmbeddingDenseModelFactory\n",
    "\n",
    "from util import create_path, remove_dir\n",
    "\n",
    "import warnings\n",
    "warnings.filterwarnings(\"ignore\")"
   ]
  },
  {
   "cell_type": "code",
   "execution_count": 4,
   "metadata": {},
   "outputs": [
    {
     "data": {
      "text/plain": [
       "'0.8.3'"
      ]
     },
     "execution_count": 4,
     "metadata": {},
     "output_type": "execute_result"
    }
   ],
   "source": [
    "modin.__version__"
   ]
  },
  {
   "cell_type": "code",
   "execution_count": 5,
   "metadata": {},
   "outputs": [],
   "source": [
    "# ray.shutdown()"
   ]
  },
  {
   "cell_type": "code",
   "execution_count": 6,
   "metadata": {},
   "outputs": [],
   "source": [
    "#if not ray.is_initialized():\n",
    "#    ray.init(num_cpus=24, num_gpus=1, dashboard_host=\"0.0.0.0\", dashboard_port=8080)\n",
    "#else:\n",
    "#    print('Ray is already active!')"
   ]
  },
  {
   "cell_type": "markdown",
   "metadata": {},
   "source": [
    "## Logger config"
   ]
  },
  {
   "cell_type": "code",
   "execution_count": 7,
   "metadata": {},
   "outputs": [
    {
     "data": {
      "text/plain": [
       "<RootLogger root (INFO)>"
      ]
     },
     "execution_count": 7,
     "metadata": {},
     "output_type": "execute_result"
    }
   ],
   "source": [
    "config = Config(path='../config/config.yaml')\n",
    "LoggerFactory(config['logger']).create()"
   ]
  },
  {
   "cell_type": "markdown",
   "metadata": {},
   "source": [
    "## Check environment"
   ]
  },
  {
   "cell_type": "markdown",
   "metadata": {},
   "source": [
    "**Step 1**: Make sure that nvidia driver is installed runing next command:"
   ]
  },
  {
   "cell_type": "code",
   "execution_count": 8,
   "metadata": {},
   "outputs": [
    {
     "name": "stdout",
     "output_type": "stream",
     "text": [
      "GeForce RTX 3080, 10010 MiB\n"
     ]
    }
   ],
   "source": [
    "!nvidia-smi --query-gpu=gpu_name,memory.total --format=csv | sed -n 2p"
   ]
  },
  {
   "cell_type": "markdown",
   "metadata": {},
   "source": [
    "**Note:** If this shows a GPU model and memory size, that's all right, otherwise make suze that has the nvidia driver installed."
   ]
  },
  {
   "cell_type": "markdown",
   "metadata": {},
   "source": [
    "**Step 2**: Let's check tensorflow version:"
   ]
  },
  {
   "cell_type": "code",
   "execution_count": 9,
   "metadata": {},
   "outputs": [
    {
     "data": {
      "text/plain": [
       "'Tensorflow version: 2.4.1'"
      ]
     },
     "execution_count": 9,
     "metadata": {},
     "output_type": "execute_result"
    }
   ],
   "source": [
    "tf_version()"
   ]
  },
  {
   "cell_type": "markdown",
   "metadata": {},
   "source": [
    "**Step 3**: Let's check devices that tensorflow detect:"
   ]
  },
  {
   "cell_type": "code",
   "execution_count": 10,
   "metadata": {},
   "outputs": [
    {
     "data": {
      "text/html": [
       "<div>\n",
       "<style scoped>\n",
       "    .dataframe tbody tr th:only-of-type {\n",
       "        vertical-align: middle;\n",
       "    }\n",
       "\n",
       "    .dataframe tbody tr th {\n",
       "        vertical-align: top;\n",
       "    }\n",
       "\n",
       "    .dataframe thead th {\n",
       "        text-align: right;\n",
       "    }\n",
       "</style>\n",
       "<table border=\"1\" class=\"dataframe\">\n",
       "  <thead>\n",
       "    <tr style=\"text-align: right;\">\n",
       "      <th></th>\n",
       "      <th>Name</th>\n",
       "      <th>Device Type</th>\n",
       "      <th>Memory</th>\n",
       "      <th>Description</th>\n",
       "    </tr>\n",
       "  </thead>\n",
       "  <tbody>\n",
       "    <tr>\n",
       "      <th>0</th>\n",
       "      <td>/device:CPU:0</td>\n",
       "      <td>CPU</td>\n",
       "      <td>256M</td>\n",
       "      <td></td>\n",
       "    </tr>\n",
       "    <tr>\n",
       "      <th>1</th>\n",
       "      <td>/device:GPU:0</td>\n",
       "      <td>GPU</td>\n",
       "      <td>8G</td>\n",
       "      <td>device: 0, name: GeForce RTX 3080, pci bus id:...</td>\n",
       "    </tr>\n",
       "  </tbody>\n",
       "</table>\n",
       "</div>"
      ],
      "text/plain": [
       "            Name Device Type Memory  \\\n",
       "0  /device:CPU:0         CPU   256M   \n",
       "1  /device:GPU:0         GPU     8G   \n",
       "\n",
       "                                         Description  \n",
       "0                                                     \n",
       "1  device: 0, name: GeForce RTX 3080, pci bus id:...  "
      ]
     },
     "execution_count": 10,
     "metadata": {},
     "output_type": "execute_result"
    }
   ],
   "source": [
    "tf_detected_devices()"
   ]
  },
  {
   "cell_type": "code",
   "execution_count": 11,
   "metadata": {},
   "outputs": [],
   "source": [
    "tf.debugging.set_log_device_placement(False)"
   ]
  },
  {
   "cell_type": "markdown",
   "metadata": {},
   "source": [
    "**Step 4**: Make sure that tensorflow detect cuda libs and GPU devices."
   ]
  },
  {
   "cell_type": "code",
   "execution_count": 12,
   "metadata": {},
   "outputs": [
    {
     "data": {
      "text/plain": [
       "True"
      ]
     },
     "execution_count": 12,
     "metadata": {},
     "output_type": "execute_result"
    }
   ],
   "source": [
    "tf.test.is_built_with_cuda()"
   ]
  },
  {
   "cell_type": "code",
   "execution_count": 13,
   "metadata": {},
   "outputs": [
    {
     "data": {
      "text/plain": [
       "[PhysicalDevice(name='/physical_device:GPU:0', device_type='GPU')]"
      ]
     },
     "execution_count": 13,
     "metadata": {},
     "output_type": "execute_result"
    }
   ],
   "source": [
    "tf.config.list_physical_devices('GPU')"
   ]
  },
  {
   "cell_type": "markdown",
   "metadata": {},
   "source": [
    "# Prepare model input data"
   ]
  },
  {
   "cell_type": "code",
   "execution_count": 14,
   "metadata": {},
   "outputs": [],
   "source": [
    "TEMP_PATH = './temp'\n",
    "TRAIN_PATH = f'{TEMP_PATH}/train'\n",
    "VAL_PATH = f'{TEMP_PATH}/val'\n",
    "TEST_PATH = f'{TEMP_PATH}/test'"
   ]
  },
  {
   "cell_type": "code",
   "execution_count": 15,
   "metadata": {},
   "outputs": [],
   "source": [
    "import glob\n",
    "\n",
    "def read_csv(path):\n",
    "    all_files = glob.glob(path)\n",
    "    li = [pd.read_csv(filename, index_col=None, header=0) for filename in all_files]\n",
    "    return pd.concat(li, axis=0, ignore_index=True)"
   ]
  },
  {
   "cell_type": "code",
   "execution_count": 16,
   "metadata": {},
   "outputs": [],
   "source": [
    "train_set = read_csv(f'{TRAIN_PATH}/*.csv')"
   ]
  },
  {
   "cell_type": "code",
   "execution_count": 17,
   "metadata": {},
   "outputs": [],
   "source": [
    "val_set = read_csv(f'{VAL_PATH}/*.csv')"
   ]
  },
  {
   "cell_type": "code",
   "execution_count": 18,
   "metadata": {},
   "outputs": [],
   "source": [
    "test_set = read_csv(f'{TEST_PATH}/*.csv')"
   ]
  },
  {
   "cell_type": "code",
   "execution_count": 19,
   "metadata": {},
   "outputs": [
    {
     "name": "stdout",
     "output_type": "stream",
     "text": [
      "Train set size: 3,498,313 samples.\n",
      "Validation set size: 303,318 samples.\n",
      "Test set size: 193,460 samples.\n"
     ]
    }
   ],
   "source": [
    "print(f'Train set size: {\"{:,}\".format(train_set.shape[0])} samples.')\n",
    "print(f'Validation set size: {\"{:,}\".format(val_set.shape[0])} samples.')\n",
    "print(f'Test set size: {\"{:,}\".format(test_set.shape[0])} samples.')"
   ]
  },
  {
   "cell_type": "markdown",
   "metadata": {},
   "source": [
    "**Step 3:** Let's see min and max value of rating column."
   ]
  },
  {
   "cell_type": "code",
   "execution_count": 20,
   "metadata": {},
   "outputs": [
    {
     "name": "stdout",
     "output_type": "stream",
     "text": [
      "Rattings:\n",
      " - min: 0.5 \n",
      " - max: 5.0\n"
     ]
    }
   ],
   "source": [
    "min_rating, max_rating = train_set['rating'].min(), train_set['rating'].max()\n",
    "\n",
    "print('Rattings:\\n - min:', min_rating, '\\n - max:', max_rating)"
   ]
  },
  {
   "cell_type": "markdown",
   "metadata": {},
   "source": [
    "Calculate train, val batch_size and plot interval."
   ]
  },
  {
   "cell_type": "code",
   "execution_count": 21,
   "metadata": {},
   "outputs": [],
   "source": [
    "import math\n",
    "\n",
    "steps             = 100\n",
    "epochs            = 80\n",
    "plot_interval     = math.floor(steps / 2)\n",
    "\n",
    "train_batch_size  = math.floor(train_set.shape[0] / steps)\n",
    "val_batch_size    = math.floor(val_set.shape[0] / steps)\n",
    "evaluate_interval = plot_interval + 1"
   ]
  },
  {
   "cell_type": "code",
   "execution_count": 22,
   "metadata": {},
   "outputs": [
    {
     "name": "stdout",
     "output_type": "stream",
     "text": [
      "Train Batch Size      : 34,983.\n",
      "Validation Batch Size : 3,033.\n",
      "Plot Interval         : 50\n",
      "Evaluate Interval     : 51\n",
      "Epochs                : 80\n"
     ]
    }
   ],
   "source": [
    "print(f'Train Batch Size      : {\"{:,}\".format(train_batch_size)}.')\n",
    "print(f'Validation Batch Size : {\"{:,}\".format(val_batch_size)}.')\n",
    "print('Plot Interval         :', plot_interval)\n",
    "print('Evaluate Interval     :', evaluate_interval)\n",
    "print('Epochs                :', epochs)"
   ]
  },
  {
   "cell_type": "code",
   "execution_count": 23,
   "metadata": {},
   "outputs": [],
   "source": [
    "X_train = train_set[list(set(train_set.columns) - set(['user_id', 'movie_id', 'rating']))].values\n",
    "y_train = train_set['rating'].values"
   ]
  },
  {
   "cell_type": "code",
   "execution_count": 24,
   "metadata": {},
   "outputs": [],
   "source": [
    "X_val = val_set[list(set(val_set.columns) - set(['user_id', 'movie_id', 'rating']))].values\n",
    "y_val = val_set['rating'].values"
   ]
  },
  {
   "cell_type": "code",
   "execution_count": 25,
   "metadata": {},
   "outputs": [],
   "source": [
    "X_test = test_set[list(set(test_set.columns) - set(['user_id', 'movie_id', 'rating']))].values\n",
    "y_test = test_set['rating'].values"
   ]
  },
  {
   "cell_type": "code",
   "execution_count": 26,
   "metadata": {},
   "outputs": [],
   "source": [
    "def to_input(X, y): return [X[:, 0], X[:, 1], X[:, 2:22]], y"
   ]
  },
  {
   "cell_type": "code",
   "execution_count": 27,
   "metadata": {},
   "outputs": [],
   "source": [
    "train_generator = InMemoryXyDataGenerator(\n",
    "    X_train, \n",
    "    y_train, \n",
    "    train_batch_size,\n",
    "    shuffle  = True,\n",
    "    to_input = to_input\n",
    ")"
   ]
  },
  {
   "cell_type": "code",
   "execution_count": 28,
   "metadata": {},
   "outputs": [
    {
     "data": {
      "text/plain": [
       "((34983,), (34983,), (34983, 20))"
      ]
     },
     "execution_count": 28,
     "metadata": {},
     "output_type": "execute_result"
    }
   ],
   "source": [
    "batch = train_generator[0]\n",
    "batch[0][0].shape, batch[0][1].shape, batch[0][2].shape"
   ]
  },
  {
   "cell_type": "code",
   "execution_count": 29,
   "metadata": {},
   "outputs": [],
   "source": [
    "val_generator = InMemoryXyDataGenerator(\n",
    "    X_val, \n",
    "    y_val, \n",
    "    val_batch_size, \n",
    "    shuffle  = True,\n",
    "    to_input = to_input\n",
    ")"
   ]
  },
  {
   "cell_type": "code",
   "execution_count": 30,
   "metadata": {},
   "outputs": [],
   "source": [
    "test_generator = InMemoryXyDataGenerator(\n",
    "    X_test, \n",
    "    y_test, \n",
    "    train_batch_size, \n",
    "    shuffle  = True,\n",
    "    to_input = to_input\n",
    ")"
   ]
  },
  {
   "cell_type": "code",
   "execution_count": 31,
   "metadata": {},
   "outputs": [
    {
     "data": {
      "text/plain": [
       "161902"
      ]
     },
     "execution_count": 31,
     "metadata": {},
     "output_type": "execute_result"
    }
   ],
   "source": [
    "user_ids = set(np.concatenate((\n",
    "    train_set['user_id'].values,\n",
    "    val_set['user_id'].values,\n",
    "    test_set['user_id'].values\n",
    "), axis=0))\n",
    "\n",
    "n_users = len(user_ids)\n",
    "n_users"
   ]
  },
  {
   "cell_type": "code",
   "execution_count": 32,
   "metadata": {},
   "outputs": [
    {
     "data": {
      "text/plain": [
       "37494"
      ]
     },
     "execution_count": 32,
     "metadata": {},
     "output_type": "execute_result"
    }
   ],
   "source": [
    "movie_ids = set(np.concatenate((\n",
    "    train_set['movie_id'].values, \n",
    "    val_set['movie_id'].values,\n",
    "    test_set['movie_id'].values\n",
    "), axis=0))\n",
    "\n",
    "n_movies = len(movie_ids)\n",
    "n_movies"
   ]
  },
  {
   "cell_type": "code",
   "execution_count": 33,
   "metadata": {},
   "outputs": [],
   "source": [
    "gender_columns = set(train_set.columns) - set(['user_id', 'movie_id', 'user_seq', 'movie_seq', 'rating'])"
   ]
  },
  {
   "cell_type": "code",
   "execution_count": 34,
   "metadata": {},
   "outputs": [],
   "source": [
    "def create_metrics_callback():\n",
    "    return MetricsPlotter(\n",
    "        validation_generator = val_generator, \n",
    "        metrics_names        = ['loss'],\n",
    "        plot_interval        = plot_interval,\n",
    "        evaluate_interval    = evaluate_interval,\n",
    "        batch_size           = train_batch_size,\n",
    "        val_batch_size       = val_batch_size\n",
    "    )\n",
    "\n",
    "def create_checkpoints_callback():\n",
    "    checkpoint_file = \\\n",
    "        create_path('./checkpoints') + \\\n",
    "        '/weights.epoch_{epoch:02d}-loss_{loss:.3f}-val_loss_{val_loss:.3f}.hdf5'\n",
    "\n",
    "    return ModelCheckpoint(\n",
    "        filepath          = checkpoint_file,\n",
    "        save_weights_only = True,\n",
    "        monitor           = 'val_loss',\n",
    "        mode              = 'max',\n",
    "        save_best_only    = True\n",
    "    )"
   ]
  },
  {
   "cell_type": "code",
   "execution_count": 35,
   "metadata": {},
   "outputs": [],
   "source": [
    "def model_builder(hp):  \n",
    "    # Hyperparameters\n",
    "    lr       = hp.Choice('lr', values=[0.01, 0.001, 0.001])\n",
    "\n",
    "    units1   = hp.Int('units1', min_value=10, max_value=200, step=10)  \n",
    "    dropout1 = hp.Float('dropout1', min_value=0.1, max_value=0.9, step=0.1)\n",
    "\n",
    "    units2   = hp.Int('units2', min_value=10, max_value=200, step=10)\n",
    "    dropout2 = hp.Float('dropout2', min_value=0.1, max_value=0.9, step=0.1)\n",
    "      \n",
    "    units3   = hp.Int('units3', min_value=10, max_value=200, step=10)\n",
    "    dropout3 = hp.Float('dropout3', min_value=0.1, max_value=0.9, step=0.1)\n",
    "\n",
    "    user_embeding_vector_size  = hp.Int(\n",
    "      'usersfactor', min_value=10, max_value=80, step=10\n",
    "    )\n",
    "    movie_embeding_vector_size = hp.Int(\n",
    "      'moviesfactor', min_value=10, max_value=80, step=10\n",
    "    )\n",
    "\n",
    "    return UserMovieGenderEmbeddingDenseModelFactory.create(\n",
    "        n_users, \n",
    "        n_movies,\n",
    "        n_genders  = len(gender_columns),\n",
    "        min_rating = min_rating, \n",
    "        max_rating = max_rating,\n",
    "        user_n_min_factors  = user_embeding_vector_size,\n",
    "        movie_n_min_factors = movie_embeding_vector_size,\n",
    "        lr      = lr,\n",
    "        units   = [units1,   units2,   units3],\n",
    "        dropout = [dropout1, dropout2, dropout3]\n",
    "    )\n",
    "\n",
    "    return model"
   ]
  },
  {
   "cell_type": "code",
   "execution_count": 36,
   "metadata": {},
   "outputs": [
    {
     "name": "stdout",
     "output_type": "stream",
     "text": [
      "INFO:tensorflow:Reloading Oracle from existing project ./tunes/recommendations/oracle.json\n",
      "INFO 2021-02-20 23:28:20 - tensorflow - Reloading Oracle from existing project ./tunes/recommendations/oracle.json\n",
      "INFO:tensorflow:Reloading Tuner from ./tunes/recommendations/tuner0.json\n",
      "INFO 2021-02-20 23:28:21 - tensorflow - Reloading Tuner from ./tunes/recommendations/tuner0.json\n",
      "Search space summary\n",
      "Default search space size: 9\n",
      "lr (Choice)\n",
      "{'default': 0.01, 'conditions': [], 'values': [0.01, 0.001, 0.001], 'ordered': True}\n",
      "units1 (Int)\n",
      "{'default': None, 'conditions': [], 'min_value': 10, 'max_value': 200, 'step': 10, 'sampling': None}\n",
      "dropout1 (Float)\n",
      "{'default': 0.1, 'conditions': [], 'min_value': 0.1, 'max_value': 0.9, 'step': 0.1, 'sampling': None}\n",
      "units2 (Int)\n",
      "{'default': None, 'conditions': [], 'min_value': 10, 'max_value': 200, 'step': 10, 'sampling': None}\n",
      "dropout2 (Float)\n",
      "{'default': 0.1, 'conditions': [], 'min_value': 0.1, 'max_value': 0.9, 'step': 0.1, 'sampling': None}\n",
      "units3 (Int)\n",
      "{'default': None, 'conditions': [], 'min_value': 10, 'max_value': 200, 'step': 10, 'sampling': None}\n",
      "dropout3 (Float)\n",
      "{'default': 0.1, 'conditions': [], 'min_value': 0.1, 'max_value': 0.9, 'step': 0.1, 'sampling': None}\n",
      "usersfactor (Int)\n",
      "{'default': None, 'conditions': [], 'min_value': 10, 'max_value': 80, 'step': 10, 'sampling': None}\n",
      "moviesfactor (Int)\n",
      "{'default': None, 'conditions': [], 'min_value': 10, 'max_value': 80, 'step': 10, 'sampling': None}\n"
     ]
    }
   ],
   "source": [
    "path = create_path('./tunes')\n",
    "\n",
    "tuner = kt.Hyperband(\n",
    "    model_builder,\n",
    "    objective    = 'val_loss',\n",
    "    max_epochs   = 100,\n",
    "    factor       = 3,\n",
    "    directory    = path,\n",
    "    project_name = 'recommendations'\n",
    ")\n",
    "\n",
    "tuner.search_space_summary()"
   ]
  },
  {
   "cell_type": "code",
   "execution_count": 37,
   "metadata": {},
   "outputs": [
    {
     "name": "stdout",
     "output_type": "stream",
     "text": [
      "Trial 9 Complete [00h 01m 21s]\n",
      "val_loss: 1.934468388557434\n",
      "\n",
      "Best val_loss So Far: 0.38031768798828125\n",
      "Total elapsed time: 00h 19m 53s\n",
      "INFO:tensorflow:Oracle triggered exit\n",
      "INFO 2021-02-20 23:48:14 - tensorflow - Oracle triggered exit\n"
     ]
    }
   ],
   "source": [
    "tuner.search(\n",
    "    train_generator,\n",
    "    validation_data = val_generator,\n",
    "    callbacks       = [\n",
    "        EarlyStopping(monitor='val_loss', patience=5)\n",
    "    ]\n",
    ")"
   ]
  },
  {
   "cell_type": "code",
   "execution_count": 38,
   "metadata": {},
   "outputs": [],
   "source": [
    "def evaluate(model, samples, batch_size):\n",
    "    X, y = samples[set(samples.columns) - set(['user_id', 'movie_id', 'rating'])].values, samples['rating'].values\n",
    "    \n",
    "    generator = InMemoryXyDataGenerator(\n",
    "        X,\n",
    "        y, \n",
    "        batch_size,\n",
    "        shuffle=True, \n",
    "        to_input=to_input\n",
    "    )\n",
    "    X_batch, y_batch = generator[0]\n",
    "    \n",
    "    return model.evaluate(X_batch, y_batch, batch_size=batch_size, verbose=0)"
   ]
  },
  {
   "cell_type": "code",
   "execution_count": 39,
   "metadata": {},
   "outputs": [
    {
     "name": "stdout",
     "output_type": "stream",
     "text": [
      "Results summary\n",
      "Results in ./tunes/recommendations\n",
      "Showing 1 best trials\n",
      "Objective(name='val_loss', direction='min')\n",
      "Trial summary\n",
      "Hyperparameters:\n",
      "lr: 0.001\n",
      "units1: 50\n",
      "dropout1: 0.2\n",
      "units2: 110\n",
      "dropout2: 0.4\n",
      "units3: 40\n",
      "dropout3: 0.1\n",
      "usersfactor: 40\n",
      "moviesfactor: 60\n",
      "tuner/epochs: 12\n",
      "tuner/initial_epoch: 0\n",
      "tuner/bracket: 2\n",
      "tuner/round: 0\n",
      "Score: 0.38031768798828125\n"
     ]
    }
   ],
   "source": [
    "# Show a summary of the search\n",
    "tuner.results_summary(num_trials=1)"
   ]
  },
  {
   "cell_type": "code",
   "execution_count": 40,
   "metadata": {},
   "outputs": [],
   "source": [
    "# Retrieve the best model.\n",
    "best_model = tuner.get_best_models(num_models=1)[0]"
   ]
  },
  {
   "cell_type": "code",
   "execution_count": 41,
   "metadata": {},
   "outputs": [
    {
     "data": {
      "text/plain": [
       "3.160262107849121"
      ]
     },
     "execution_count": 41,
     "metadata": {},
     "output_type": "execute_result"
    }
   ],
   "source": [
    "evaluate(best_model, train_set, batch_size=train_batch_size)"
   ]
  },
  {
   "cell_type": "code",
   "execution_count": 42,
   "metadata": {},
   "outputs": [
    {
     "data": {
      "text/plain": [
       "4.757218360900879"
      ]
     },
     "execution_count": 42,
     "metadata": {},
     "output_type": "execute_result"
    }
   ],
   "source": [
    "evaluate(best_model, val_set, batch_size=val_batch_size)"
   ]
  },
  {
   "cell_type": "code",
   "execution_count": 43,
   "metadata": {},
   "outputs": [
    {
     "data": {
      "text/plain": [
       "3.183651924133301"
      ]
     },
     "execution_count": 43,
     "metadata": {},
     "output_type": "execute_result"
    }
   ],
   "source": [
    "evaluate(best_model, test_set, batch_size=val_batch_size)"
   ]
  },
  {
   "cell_type": "code",
   "execution_count": 45,
   "metadata": {},
   "outputs": [
    {
     "data": {
      "image/png": "[encoded data removed]",
      "text/plain": [
       "<IPython.core.display.Image object>"
      ]
     },
     "execution_count": 45,
     "metadata": {},
     "output_type": "execute_result"
    }
   ],
   "source": [
    "best_hps = tuner.get_best_hyperparameters(num_trials=1)[0]\n",
    "plot_model(tuner.hypermodel.build(best_hps))"
   ]
  },
  {
   "cell_type": "code",
   "execution_count": 46,
   "metadata": {},
   "outputs": [],
   "source": [
    "# model.summary()"
   ]
  },
  {
   "cell_type": "code",
   "execution_count": 58,
   "metadata": {},
   "outputs": [
    {
     "data": {
      "image/png": "[encoded data removed]",
      "text/plain": [
       "<Figure size 2160x576 with 1 Axes>"
      ]
     },
     "metadata": {
      "needs_background": "light"
     },
     "output_type": "display_data"
    },
    {
     "name": "stdout",
     "output_type": "stream",
     "text": [
      " 52/100 [==============>...............] - ETA: 4s - loss: 0.5506\n",
      "\n",
      "Evaluate model each 51 steps(Batch-size: 3033):\n",
      "1/1 [==============================] - 0s 16ms/step - loss: 1.2541\n",
      "\n",
      "Val metrics:\n",
      "  - Loss (28): 1.254086 (⟱ 0.01685333)\n",
      "\n",
      "Continue model train:\n",
      "100/100 [==============================] - 10s 98ms/step - loss: 0.5467 - val_loss: 1.2886\n"
     ]
    }
   ],
   "source": [
    "model    = tuner.hypermodel.build(best_hps)\n",
    "\n",
    "history = model.fit_generator(\n",
    "    generator=train_generator,\n",
    "    validation_data=val_generator,\n",
    "    epochs=50,\n",
    "    callbacks=[\n",
    "        create_metrics_callback(), \n",
    "        create_checkpoints_callback(),\n",
    "        EarlyStopping(monitor='val_loss', patience=5)\n",
    "    ],\n",
    "    verbose=1\n",
    ")"
   ]
  },
  {
   "cell_type": "code",
   "execution_count": 59,
   "metadata": {},
   "outputs": [
    {
     "data": {
      "text/plain": [
       "0.30963534116744995"
      ]
     },
     "execution_count": 59,
     "metadata": {},
     "output_type": "execute_result"
    }
   ],
   "source": [
    "evaluate(model, train_set, batch_size=train_batch_size)"
   ]
  },
  {
   "cell_type": "code",
   "execution_count": 60,
   "metadata": {},
   "outputs": [
    {
     "data": {
      "text/plain": [
       "1.2679753303527832"
      ]
     },
     "execution_count": 60,
     "metadata": {},
     "output_type": "execute_result"
    }
   ],
   "source": [
    "evaluate(model, val_set, batch_size=val_batch_size)"
   ]
  },
  {
   "cell_type": "code",
   "execution_count": 61,
   "metadata": {},
   "outputs": [
    {
     "data": {
      "text/plain": [
       "1.0361087322235107"
      ]
     },
     "execution_count": 61,
     "metadata": {},
     "output_type": "execute_result"
    }
   ],
   "source": [
    "evaluate(model, test_set, batch_size=val_batch_size)"
   ]
  },
  {
   "cell_type": "code",
   "execution_count": 62,
   "metadata": {},
   "outputs": [
    {
     "name": "stdout",
     "output_type": "stream",
     "text": [
      "Best epoch: 9\n"
     ]
    }
   ],
   "source": [
    "val_loss_per_epoch = history.history['val_loss']\n",
    "\n",
    "best_epoch = val_loss_per_epoch.index(min(val_loss_per_epoch)) + 1\n",
    "\n",
    "print(f'Best epoch: {best_epoch}')"
   ]
  },
  {
   "cell_type": "code",
   "execution_count": 63,
   "metadata": {},
   "outputs": [
    {
     "data": {
      "image/png": "[encoded data removed]",
      "text/plain": [
       "<Figure size 2160x576 with 1 Axes>"
      ]
     },
     "metadata": {
      "needs_background": "light"
     },
     "output_type": "display_data"
    },
    {
     "name": "stdout",
     "output_type": "stream",
     "text": [
      " 52/100 [==============>...............] - ETA: 4s - loss: 0.5770\n",
      "\n",
      "Evaluate model each 51 steps(Batch-size: 3033):\n",
      "1/1 [==============================] - 0s 17ms/step - loss: 1.0767\n",
      "\n",
      "Val metrics:\n",
      "  - Loss (18): 1.076703 (⟱ 0.02676678)\n",
      "\n",
      "Continue model train:\n",
      "100/100 [==============================] - 10s 97ms/step - loss: 0.5517 - val_loss: 1.1024\n"
     ]
    }
   ],
   "source": [
    "best_hps = tuner.get_best_hyperparameters(num_trials=1)[0]\n",
    "model    = tuner.hypermodel.build(best_hps)\n",
    "\n",
    "history = model.fit_generator(\n",
    "    generator=train_generator,\n",
    "    validation_data=val_generator,\n",
    "    epochs=best_epoch,\n",
    "    callbacks=[\n",
    "        create_metrics_callback(), \n",
    "        create_checkpoints_callback(),\n",
    "        EarlyStopping(monitor='val_loss', patience=5)\n",
    "    ],\n",
    "    verbose=1\n",
    ")"
   ]
  },
  {
   "cell_type": "code",
   "execution_count": 64,
   "metadata": {},
   "outputs": [
    {
     "data": {
      "text/plain": [
       "0.2478983998298645"
      ]
     },
     "execution_count": 64,
     "metadata": {},
     "output_type": "execute_result"
    }
   ],
   "source": [
    "evaluate(model, train_set, batch_size=train_batch_size)"
   ]
  },
  {
   "cell_type": "code",
   "execution_count": 65,
   "metadata": {},
   "outputs": [
    {
     "data": {
      "text/plain": [
       "1.058815836906433"
      ]
     },
     "execution_count": 65,
     "metadata": {},
     "output_type": "execute_result"
    }
   ],
   "source": [
    "evaluate(model, val_set, batch_size=val_batch_size)"
   ]
  },
  {
   "cell_type": "code",
   "execution_count": 66,
   "metadata": {},
   "outputs": [
    {
     "data": {
      "text/plain": [
       "0.91874098777771"
      ]
     },
     "execution_count": 66,
     "metadata": {},
     "output_type": "execute_result"
    }
   ],
   "source": [
    "evaluate(model, test_set, batch_size=val_batch_size)"
   ]
  }
 ],
 "metadata": {
  "kernelspec": {
   "display_name": "Python 3",
   "language": "python",
   "name": "python3"
  },
  "language_info": {
   "codemirror_mode": {
    "name": "ipython",
    "version": 3
   },
   "file_extension": ".py",
   "mimetype": "text/x-python",
   "name": "python",
   "nbconvert_exporter": "python",
   "pygments_lexer": "ipython3",
   "version": "3.6.12"
  },
  "widgets": {
   "application/vnd.jupyter.widget-state+json": {
    "state": {},
    "version_major": 2,
    "version_minor": 0
   }
  }
 },
 "nbformat": 4,
 "nbformat_minor": 4
}
