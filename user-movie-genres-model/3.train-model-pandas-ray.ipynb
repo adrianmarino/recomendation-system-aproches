{
 "cells": [
  {
   "cell_type": "code",
   "execution_count": 1,
   "metadata": {},
   "outputs": [],
   "source": [
    "%matplotlib inline\n",
    "%load_ext autoreload\n",
    "%autoreload 2"
   ]
  },
  {
   "cell_type": "markdown",
   "metadata": {},
   "source": [
    "# Recommendation systems: Deep Model"
   ]
  },
  {
   "cell_type": "markdown",
   "metadata": {},
   "source": [
    "This model is made up of feature layers that have users, movies and movie genres embedings followed by a neural network with dense layers and finally one output that is the rating prediction that input user(id) could assign to input movie(id)."
   ]
  },
  {
   "cell_type": "markdown",
   "metadata": {},
   "source": [
    "**Inputs**\n",
    "* **User id**: Really this is traducet as a sequence because embedding layers only can manage sequenced identifiers.\n",
    "* **Movie id**: Idem to User id.\n",
    "* **Movie genres**: One column by genre.\n",
    "\n",
    "**Output**\n",
    "*  **Rating prediction** that user could assign to movie."
   ]
  },
  {
   "cell_type": "markdown",
   "metadata": {},
   "source": [
    "**Links**\n",
    "* [Deep Learning With Keras: Recommender Systems](https://www.johnwittenauer.net/deep-learning-with-keras-recommender-systems/)\n",
    "* [Collaborative Filtering for Movie Recommendations](https://keras.io/examples/structured_data/collaborative_filtering_movielens/)\n",
    "* [Movie lens datasets](https://grouplens.org/datasets/movielens/)\n",
    "* [Recommendation Systems Benchmarks](https://paperswithcode.com/task/recommendation-systems)"
   ]
  },
  {
   "cell_type": "markdown",
   "metadata": {},
   "source": [
    "## Required libraries"
   ]
  },
  {
   "cell_type": "code",
   "execution_count": 2,
   "metadata": {},
   "outputs": [
    {
     "name": "stdout",
     "output_type": "stream",
     "text": [
      "MODIN_OUT_OF_CORE: true\n",
      "MODIN_MEMORY: 500000000\n",
      "MODIN_ON_RAY_PLASMA_DIR: /home/adrian/tmp\n"
     ]
    }
   ],
   "source": [
    "import os\n",
    "\n",
    "def show_env_var(varname):\n",
    "    if varname in os.environ:\n",
    "        print(f'{varname}: {os.environ[varname]}')\n",
    "    else:\n",
    "        print(f'{varname} undefined')\n",
    "\n",
    "show_env_var('MODIN_OUT_OF_CORE')\n",
    "show_env_var('MODIN_MEMORY')\n",
    "show_env_var('MODIN_ON_RAY_PLASMA_DIR')"
   ]
  },
  {
   "cell_type": "code",
   "execution_count": 3,
   "metadata": {},
   "outputs": [],
   "source": [
    "import sys\n",
    "sys.path.append('../src')\n",
    "\n",
    "import ray\n",
    "import modin\n",
    "\n",
    "import numpy as np\n",
    "import pandas as pd\n",
    "import tensorflow as tf\n",
    "\n",
    "from util import tf_detected_devices, tf_version, plot_model, Config, LoggerFactory, create_path\n",
    "\n",
    "from tensorflow.keras.callbacks import ModelCheckpoint\n",
    "from callback import MetricsPlotter\n",
    "from data import InMemoryXyDataGenerator\n",
    "from recommendation import UserMovieGenderEmbeddingDenseModelFactory, RecommendationsDataGenerator\n",
    "\n",
    "import warnings\n",
    "warnings.filterwarnings(\"ignore\")"
   ]
  },
  {
   "cell_type": "code",
   "execution_count": 4,
   "metadata": {},
   "outputs": [
    {
     "data": {
      "text/plain": [
       "'0.8.3'"
      ]
     },
     "execution_count": 4,
     "metadata": {},
     "output_type": "execute_result"
    }
   ],
   "source": [
    "modin.__version__"
   ]
  },
  {
   "cell_type": "code",
   "execution_count": 5,
   "metadata": {},
   "outputs": [],
   "source": [
    "ray.shutdown()"
   ]
  },
  {
   "cell_type": "code",
   "execution_count": 6,
   "metadata": {},
   "outputs": [
    {
     "name": "stderr",
     "output_type": "stream",
     "text": [
      "2021-02-12 22:09:53,647\tINFO services.py:1171 -- View the Ray dashboard at \u001b[1m\u001b[32mhttp://192.168.0.250:8080\u001b[39m\u001b[22m\n"
     ]
    }
   ],
   "source": [
    "if not ray.is_initialized():\n",
    "    ray.init(num_cpus=24, num_gpus=1, dashboard_host=\"0.0.0.0\", dashboard_port=8080)\n",
    "else:\n",
    "    print('Ray is already active!')"
   ]
  },
  {
   "cell_type": "markdown",
   "metadata": {},
   "source": [
    "## Logger config"
   ]
  },
  {
   "cell_type": "code",
   "execution_count": 7,
   "metadata": {},
   "outputs": [
    {
     "data": {
      "text/plain": [
       "<RootLogger root (INFO)>"
      ]
     },
     "execution_count": 7,
     "metadata": {},
     "output_type": "execute_result"
    }
   ],
   "source": [
    "config = Config(path='../config/config.yaml')\n",
    "LoggerFactory(config['logger']).create()"
   ]
  },
  {
   "cell_type": "markdown",
   "metadata": {},
   "source": [
    "## Config parameters"
   ]
  },
  {
   "cell_type": "markdown",
   "metadata": {},
   "source": [
    "Setup test_mode variable to enable or disable model train before check their prediction precision:"
   ]
  },
  {
   "cell_type": "code",
   "execution_count": 8,
   "metadata": {},
   "outputs": [],
   "source": [
    "train_model = True"
   ]
  },
  {
   "cell_type": "markdown",
   "metadata": {},
   "source": [
    "## Check environment"
   ]
  },
  {
   "cell_type": "markdown",
   "metadata": {},
   "source": [
    "**Step 1**: Make sure that nvidia driver is installed runing next command:"
   ]
  },
  {
   "cell_type": "code",
   "execution_count": 9,
   "metadata": {},
   "outputs": [
    {
     "name": "stdout",
     "output_type": "stream",
     "text": [
      "GeForce RTX 3080, 10010 MiB\n"
     ]
    }
   ],
   "source": [
    "!nvidia-smi --query-gpu=gpu_name,memory.total --format=csv | sed -n 2p"
   ]
  },
  {
   "cell_type": "markdown",
   "metadata": {},
   "source": [
    "**Note:** If this shows a GPU model and memory size, that's all right, otherwise make suze that has the nvidia driver installed."
   ]
  },
  {
   "cell_type": "markdown",
   "metadata": {},
   "source": [
    "**Step 2**: Let's check tensorflow version:"
   ]
  },
  {
   "cell_type": "code",
   "execution_count": 10,
   "metadata": {},
   "outputs": [
    {
     "data": {
      "text/plain": [
       "'Tensorflow version: 2.5.0-dev20210209'"
      ]
     },
     "execution_count": 10,
     "metadata": {},
     "output_type": "execute_result"
    }
   ],
   "source": [
    "tf_version()"
   ]
  },
  {
   "cell_type": "markdown",
   "metadata": {},
   "source": [
    "**Step 3**: Let's check devices that tensorflow detect:"
   ]
  },
  {
   "cell_type": "code",
   "execution_count": 11,
   "metadata": {},
   "outputs": [
    {
     "data": {
      "text/html": [
       "<div>\n",
       "<style scoped>\n",
       "    .dataframe tbody tr th:only-of-type {\n",
       "        vertical-align: middle;\n",
       "    }\n",
       "\n",
       "    .dataframe tbody tr th {\n",
       "        vertical-align: top;\n",
       "    }\n",
       "\n",
       "    .dataframe thead th {\n",
       "        text-align: right;\n",
       "    }\n",
       "</style>\n",
       "<table border=\"1\" class=\"dataframe\">\n",
       "  <thead>\n",
       "    <tr style=\"text-align: right;\">\n",
       "      <th></th>\n",
       "      <th>Name</th>\n",
       "      <th>Device Type</th>\n",
       "      <th>Memory</th>\n",
       "      <th>Description</th>\n",
       "    </tr>\n",
       "  </thead>\n",
       "  <tbody>\n",
       "    <tr>\n",
       "      <th>0</th>\n",
       "      <td>/device:CPU:0</td>\n",
       "      <td>CPU</td>\n",
       "      <td>256M</td>\n",
       "      <td></td>\n",
       "    </tr>\n",
       "    <tr>\n",
       "      <th>1</th>\n",
       "      <td>/device:GPU:0</td>\n",
       "      <td>GPU</td>\n",
       "      <td>7G</td>\n",
       "      <td>device: 0, name: GeForce RTX 3080, pci bus id:...</td>\n",
       "    </tr>\n",
       "  </tbody>\n",
       "</table>\n",
       "</div>"
      ],
      "text/plain": [
       "            Name Device Type Memory  \\\n",
       "0  /device:CPU:0         CPU   256M   \n",
       "1  /device:GPU:0         GPU     7G   \n",
       "\n",
       "                                         Description  \n",
       "0                                                     \n",
       "1  device: 0, name: GeForce RTX 3080, pci bus id:...  "
      ]
     },
     "execution_count": 11,
     "metadata": {},
     "output_type": "execute_result"
    }
   ],
   "source": [
    "tf_detected_devices()"
   ]
  },
  {
   "cell_type": "code",
   "execution_count": 12,
   "metadata": {},
   "outputs": [],
   "source": [
    "tf.debugging.set_log_device_placement(False)"
   ]
  },
  {
   "cell_type": "markdown",
   "metadata": {},
   "source": [
    "**Step 4**: Make sure that tensorflow detect cuda libs and GPU devices."
   ]
  },
  {
   "cell_type": "code",
   "execution_count": 13,
   "metadata": {},
   "outputs": [
    {
     "data": {
      "text/plain": [
       "True"
      ]
     },
     "execution_count": 13,
     "metadata": {},
     "output_type": "execute_result"
    }
   ],
   "source": [
    "tf.test.is_built_with_cuda()"
   ]
  },
  {
   "cell_type": "code",
   "execution_count": 14,
   "metadata": {},
   "outputs": [
    {
     "data": {
      "text/plain": [
       "[PhysicalDevice(name='/physical_device:GPU:0', device_type='GPU')]"
      ]
     },
     "execution_count": 14,
     "metadata": {},
     "output_type": "execute_result"
    }
   ],
   "source": [
    "tf.config.list_physical_devices('GPU')"
   ]
  },
  {
   "cell_type": "markdown",
   "metadata": {},
   "source": [
    "# Prepare model input data"
   ]
  },
  {
   "cell_type": "code",
   "execution_count": 15,
   "metadata": {},
   "outputs": [],
   "source": [
    "TEMP_PATH = './temp'\n",
    "TRAIN_PATH = f'{TEMP_PATH}/train'\n",
    "VAL_PATH = f'{TEMP_PATH}/val'\n",
    "TEST_PATH = f'{TEMP_PATH}/test'"
   ]
  },
  {
   "cell_type": "code",
   "execution_count": 16,
   "metadata": {},
   "outputs": [],
   "source": [
    "import glob\n",
    "\n",
    "def read_csv(path):\n",
    "    all_files = glob.glob(path)\n",
    "    li = [pd.read_csv(filename, index_col=None, header=0) for filename in all_files]\n",
    "    return pd.concat(li, axis=0, ignore_index=True)"
   ]
  },
  {
   "cell_type": "code",
   "execution_count": 17,
   "metadata": {},
   "outputs": [],
   "source": [
    "train_set = read_csv(f'{TRAIN_PATH}/*.csv')"
   ]
  },
  {
   "cell_type": "code",
   "execution_count": 18,
   "metadata": {},
   "outputs": [],
   "source": [
    "val_set = read_csv(f'{VAL_PATH}/*.csv')"
   ]
  },
  {
   "cell_type": "code",
   "execution_count": 19,
   "metadata": {},
   "outputs": [],
   "source": [
    "test_set = read_csv(f'{TEST_PATH}/*.csv')"
   ]
  },
  {
   "cell_type": "code",
   "execution_count": 20,
   "metadata": {},
   "outputs": [
    {
     "name": "stdout",
     "output_type": "stream",
     "text": [
      "Train set size: 90,701 samples.\n",
      "Validation set size: 6,836 samples.\n",
      "Test set size: 3,035 samples.\n"
     ]
    }
   ],
   "source": [
    "print(f'Train set size: {\"{:,}\".format(train_set.shape[0])} samples.')\n",
    "print(f'Validation set size: {\"{:,}\".format(val_set.shape[0])} samples.')\n",
    "print(f'Test set size: {\"{:,}\".format(test_set.shape[0])} samples.')"
   ]
  },
  {
   "cell_type": "markdown",
   "metadata": {},
   "source": [
    "**Step 3:** Let's see min and max value of rating column."
   ]
  },
  {
   "cell_type": "code",
   "execution_count": 21,
   "metadata": {},
   "outputs": [
    {
     "name": "stdout",
     "output_type": "stream",
     "text": [
      "Rattings:\n",
      " - min: 0.5 \n",
      " - max: 5.0\n"
     ]
    }
   ],
   "source": [
    "min_rating, max_rating = train_set['rating'].min(), train_set['rating'].max()\n",
    "\n",
    "print('Rattings:\\n - min:', min_rating, '\\n - max:', max_rating)"
   ]
  },
  {
   "cell_type": "markdown",
   "metadata": {},
   "source": [
    "Calculate train, val batch_size and plot interval."
   ]
  },
  {
   "cell_type": "code",
   "execution_count": 387,
   "metadata": {},
   "outputs": [],
   "source": [
    "import math\n",
    "\n",
    "steps             = 4\n",
    "epochs            = 35\n",
    "plot_interval     = math.floor(steps / 2)\n",
    "\n",
    "train_batch_size  = math.floor(train_set.shape[0] / steps)\n",
    "val_batch_size    = math.floor(val_set.shape[0] / steps)\n",
    "evaluate_interval = plot_interval + 1"
   ]
  },
  {
   "cell_type": "code",
   "execution_count": 388,
   "metadata": {},
   "outputs": [
    {
     "name": "stdout",
     "output_type": "stream",
     "text": [
      "Train Batch Size      : 22,675.\n",
      "Validation Batch Size : 1,709.\n",
      "Plot Interval         : 2\n",
      "Evaluate Interval     : 3\n",
      "Epochs                : 35\n"
     ]
    }
   ],
   "source": [
    "print(f'Train Batch Size      : {\"{:,}\".format(train_batch_size)}.')\n",
    "print(f'Validation Batch Size : {\"{:,}\".format(val_batch_size)}.')\n",
    "print('Plot Interval         :', plot_interval)\n",
    "print('Evaluate Interval     :', evaluate_interval)\n",
    "print('Epochs                :', epochs)"
   ]
  },
  {
   "cell_type": "code",
   "execution_count": 389,
   "metadata": {},
   "outputs": [],
   "source": [
    "X_train = train_set[set(train_set.columns) - set(['user_id', 'movie_id', 'rating'])].values\n",
    "y_train = train_set['rating'].values"
   ]
  },
  {
   "cell_type": "code",
   "execution_count": 390,
   "metadata": {},
   "outputs": [],
   "source": [
    "X_val = val_set[set(val_set.columns) - set(['user_id', 'movie_id', 'rating'])].values\n",
    "y_val = val_set['rating'].values"
   ]
  },
  {
   "cell_type": "code",
   "execution_count": 391,
   "metadata": {},
   "outputs": [],
   "source": [
    "X_test = test_set[set(test_set.columns) - set(['user_id', 'movie_id', 'rating'])].values\n",
    "y_test = test_set['rating'].values"
   ]
  },
  {
   "cell_type": "code",
   "execution_count": 392,
   "metadata": {},
   "outputs": [],
   "source": [
    "def to_input(X, y): return [X[:, 0], X[:, 1], X[:, 2:22]], y"
   ]
  },
  {
   "cell_type": "code",
   "execution_count": 393,
   "metadata": {},
   "outputs": [],
   "source": [
    "train_generator = InMemoryXyDataGenerator(\n",
    "    X_train, \n",
    "    y_train, \n",
    "    train_batch_size,\n",
    "    shuffle=True, \n",
    "    to_input=to_input\n",
    ")"
   ]
  },
  {
   "cell_type": "code",
   "execution_count": 394,
   "metadata": {},
   "outputs": [
    {
     "data": {
      "text/plain": [
       "((22675,), (22675,), (22675, 20))"
      ]
     },
     "execution_count": 394,
     "metadata": {},
     "output_type": "execute_result"
    }
   ],
   "source": [
    "batch = train_generator[0]\n",
    "batch[0][0].shape, batch[0][1].shape, batch[0][2].shape"
   ]
  },
  {
   "cell_type": "code",
   "execution_count": 395,
   "metadata": {},
   "outputs": [],
   "source": [
    "val_generator = InMemoryXyDataGenerator(\n",
    "    X_val, \n",
    "    y_val, \n",
    "    val_batch_size, \n",
    "    shuffle=True, \n",
    "    to_input=to_input\n",
    ")"
   ]
  },
  {
   "cell_type": "code",
   "execution_count": 396,
   "metadata": {},
   "outputs": [
    {
     "data": {
      "text/plain": [
       "610"
      ]
     },
     "execution_count": 396,
     "metadata": {},
     "output_type": "execute_result"
    }
   ],
   "source": [
    "user_ids = set(np.concatenate((train_set['user_id'].values, val_set['user_id'].values, test_set['user_id'].values), axis=0))\n",
    "n_users = len(user_ids)\n",
    "n_users"
   ]
  },
  {
   "cell_type": "code",
   "execution_count": 397,
   "metadata": {},
   "outputs": [
    {
     "data": {
      "text/plain": [
       "9408"
      ]
     },
     "execution_count": 397,
     "metadata": {},
     "output_type": "execute_result"
    }
   ],
   "source": [
    "movie_ids = set(np.concatenate((train_set['movie_id'].values, val_set['movie_id'].values, test_set['movie_id'].values), axis=0))\n",
    "n_movies = len(movie_ids)\n",
    "n_movies"
   ]
  },
  {
   "cell_type": "code",
   "execution_count": 398,
   "metadata": {},
   "outputs": [],
   "source": [
    "gender_columns = set(train_set.columns) - set(['user_id', 'movie_id', 'user_seq', 'movie_seq', 'rating'])"
   ]
  },
  {
   "cell_type": "code",
   "execution_count": 408,
   "metadata": {},
   "outputs": [],
   "source": [
    "model = UserMovieGenderEmbeddingDenseModelFactory.create(\n",
    "    n_users, \n",
    "    n_movies,\n",
    "    n_genders=len(gender_columns),\n",
    "    min_rating=min_rating, \n",
    "    max_rating=max_rating,\n",
    "    user_n_min_factors=50,\n",
    "    movie_n_min_factors=10,\n",
    "    lr=0.001,\n",
    "    units=[20],\n",
    "    dropout=[0.1]\n",
    ")"
   ]
  },
  {
   "cell_type": "code",
   "execution_count": 409,
   "metadata": {},
   "outputs": [],
   "source": [
    "# plot_model(model, rankdir=\"TB\")"
   ]
  },
  {
   "cell_type": "code",
   "execution_count": 410,
   "metadata": {},
   "outputs": [],
   "source": [
    "# model.summary()"
   ]
  },
  {
   "cell_type": "code",
   "execution_count": 411,
   "metadata": {},
   "outputs": [],
   "source": [
    "metrics = MetricsPlotter(\n",
    "                validation_generator=val_generator, \n",
    "                metrics_names=['loss'],\n",
    "                plot_interval=plot_interval,\n",
    "                evaluate_interval=evaluate_interval,\n",
    "                batch_size=train_batch_size,\n",
    "                val_batch_size=val_batch_size\n",
    "            )\n",
    "\n",
    "checkpoints = ModelCheckpoint(\n",
    "                filepath='./checkpoints/weights.epoch_{epoch:02d}-loss_{loss:.3f}-val_loss_{val_loss:.3f}.hdf5',\n",
    "                save_weights_only=True,\n",
    "                monitor='val_loss',\n",
    "                mode='max',\n",
    "                save_best_only=True\n",
    "            )"
   ]
  },
  {
   "cell_type": "code",
   "execution_count": 412,
   "metadata": {},
   "outputs": [
    {
     "data": {
      "image/png": "[encoded data removed]",
      "text/plain": [
       "<Figure size 2160x576 with 1 Axes>"
      ]
     },
     "metadata": {
      "needs_background": "light"
     },
     "output_type": "display_data"
    },
    {
     "name": "stdout",
     "output_type": "stream",
     "text": [
      "4/4 [==============================] - ETA: 0s - loss: 1.3380\n",
      "\n",
      "Evaluate model each 3 steps(Batch-size: 1709):\n",
      "1/1 [==============================] - 0s 10ms/step - loss: 0.4588\n",
      "\n",
      "Val metrics:\n",
      "  - Loss (70): 0.458824 (⟱ 0.02515447)\n",
      "\n",
      "Continue model train:\n",
      "4/4 [==============================] - 0s 95ms/step - loss: 1.3401 - val_loss: 0.4239\n"
     ]
    }
   ],
   "source": [
    "if train_model:\n",
    "    history = model.fit_generator(\n",
    "        generator=train_generator,\n",
    "        validation_data=val_generator,\n",
    "        epochs=epochs,\n",
    "        verbose=1, \n",
    "        callbacks=[\n",
    "            checkpoints,\n",
    "            metrics\n",
    "        ]\n",
    "    )"
   ]
  },
  {
   "cell_type": "code",
   "execution_count": 417,
   "metadata": {},
   "outputs": [],
   "source": [
    "def evaluate_model(model, samples, batch_size):\n",
    "    X, y = samples[set(samples.columns) - set(['user_id', 'movie_id', 'rating'])].values, samples['rating'].values\n",
    "    \n",
    "    generator = InMemoryXyDataGenerator(\n",
    "        X,\n",
    "        y, \n",
    "        batch_size,\n",
    "        shuffle=True, \n",
    "        to_input=to_input\n",
    "    )\n",
    "    X_batch, y_batch = generator[0]\n",
    "    \n",
    "    return model.evaluate(X_batch, y_batch, batch_size=batch_size, verbose=0)"
   ]
  },
  {
   "cell_type": "code",
   "execution_count": 418,
   "metadata": {},
   "outputs": [
    {
     "data": {
      "text/plain": [
       "0.2043474316596985"
      ]
     },
     "execution_count": 418,
     "metadata": {},
     "output_type": "execute_result"
    }
   ],
   "source": [
    "evaluate_model(model, train_set, batch_size=train_batch_size)"
   ]
  },
  {
   "cell_type": "code",
   "execution_count": 419,
   "metadata": {},
   "outputs": [
    {
     "data": {
      "text/plain": [
       "0.43783125281333923"
      ]
     },
     "execution_count": 419,
     "metadata": {},
     "output_type": "execute_result"
    }
   ],
   "source": [
    "evaluate_model(model, val_set, batch_size=train_batch_size)"
   ]
  },
  {
   "cell_type": "code",
   "execution_count": 420,
   "metadata": {},
   "outputs": [
    {
     "data": {
      "text/plain": [
       "0.6181782484054565"
      ]
     },
     "execution_count": 420,
     "metadata": {},
     "output_type": "execute_result"
    }
   ],
   "source": [
    "evaluate_model(model, test_set, batch_size=train_batch_size)"
   ]
  },
  {
   "cell_type": "code",
   "execution_count": null,
   "metadata": {},
   "outputs": [],
   "source": []
  }
 ],
 "metadata": {
  "kernelspec": {
   "display_name": "Python 3",
   "language": "python",
   "name": "python3"
  },
  "language_info": {
   "codemirror_mode": {
    "name": "ipython",
    "version": 3
   },
   "file_extension": ".py",
   "mimetype": "text/x-python",
   "name": "python",
   "nbconvert_exporter": "python",
   "pygments_lexer": "ipython3",
   "version": "3.8.5"
  },
  "widgets": {
   "application/vnd.jupyter.widget-state+json": {
    "state": {},
    "version_major": 2,
    "version_minor": 0
   }
  }
 },
 "nbformat": 4,
 "nbformat_minor": 4
}
