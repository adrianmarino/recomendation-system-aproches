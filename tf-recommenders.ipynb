{
 "cells": [
  {
   "cell_type": "markdown",
   "metadata": {},
   "source": [
    "https://www.tensorflow.org/api_docs/python/tf/data/Dataset"
   ]
  },
  {
   "cell_type": "code",
   "execution_count": 6,
   "metadata": {},
   "outputs": [
    {
     "name": "stdout",
     "output_type": "stream",
     "text": [
      "The autoreload extension is already loaded. To reload it, use:\n",
      "  %reload_ext autoreload\n"
     ]
    }
   ],
   "source": [
    "%matplotlib inline\n",
    "%load_ext autoreload\n",
    "%autoreload 2"
   ]
  },
  {
   "cell_type": "code",
   "execution_count": 7,
   "metadata": {},
   "outputs": [],
   "source": [
    "from typing import Dict, Text\n",
    "import pprint\n",
    "import pandas as pd\n",
    "import numpy as np\n",
    "\n",
    "import tensorflow as tf\n",
    "from tensorflow.data import Dataset\n",
    "from tensorflow.data.experimental import unique\n",
    "\n",
    "from tensorflow.keras            import Sequential\n",
    "from tensorflow.keras.layers     import Embedding\n",
    "from tensorflow.keras.optimizers import Adagrad\n",
    "from tensorflow.keras.layers.experimental.preprocessing import StringLookup\n",
    "\n",
    "from sklearn.model_selection import train_test_split\n",
    "\n",
    "import tensorflow_recommenders as tfrs\n",
    "from tensorflow_recommenders.tasks                   import Retrieval\n",
    "from tensorflow_recommenders.metrics                 import FactorizedTopK\n",
    "from tensorflow_recommenders.layers.factorized_top_k import BruteForce"
   ]
  },
  {
   "cell_type": "code",
   "execution_count": 8,
   "metadata": {},
   "outputs": [],
   "source": [
    "def get_ratings(dataset):\n",
    "    ratings = pd.read_csv(f'./datasets/{dataset}/ratings.csv')\n",
    "    movies  = pd.read_csv(f'./datasets/{dataset}/movies.csv')\n",
    "\n",
    "    ratings = pd \\\n",
    "        .merge(ratings, movies, how='inner', on=['movieId']) \\\n",
    "        .filter(items=['userId', 'title']) \\\n",
    "        .rename(columns={\"userId\": \"user_id\", \"title\": \"movie_title\"}) \\\n",
    "        .astype({'user_id': 'str'})\n",
    "\n",
    "    ratings = Dataset.from_tensor_slices(dict(ratings))\n",
    "\n",
    "    ratings = ratings.map(lambda x: {\n",
    "        \"movie_title\": x[\"movie_title\"],\n",
    "        \"user_id\": x[\"user_id\"]\n",
    "    })\n",
    "    return ratings\n",
    "\n",
    "def show(stream): [pprint.pprint(x) for x in stream.as_numpy_iterator()]"
   ]
  },
  {
   "cell_type": "code",
   "execution_count": 9,
   "metadata": {},
   "outputs": [
    {
     "data": {
      "text/plain": [
       "<MapDataset shapes: {movie_title: (), user_id: ()}, types: {movie_title: tf.string, user_id: tf.string}>"
      ]
     },
     "execution_count": 9,
     "metadata": {},
     "output_type": "execute_result"
    }
   ],
   "source": [
    "dataset = 'ml-latest-small'\n",
    "# dataset = 'ml-latest'\n",
    "\n",
    "ratings = get_ratings(dataset)\n",
    "ratings"
   ]
  },
  {
   "cell_type": "code",
   "execution_count": 2,
   "metadata": {},
   "outputs": [],
   "source": [
    "class EmbeddingModelFactory:\n",
    "    @staticmethod\n",
    "    def create(ds, column, embedding_size=64):\n",
    "        unique_values = ds.map(lambda x: x[column]).apply(unique())\n",
    "\n",
    "        lookup_layer = StringLookup(mask_token=None)\n",
    "        lookup_layer.adapt(unique_values)\n",
    "\n",
    "        return Sequential([\n",
    "            lookup_layer,\n",
    "            Embedding(lookup_layer.vocabulary_size(), embedding_size)\n",
    "        ])"
   ]
  },
  {
   "cell_type": "code",
   "execution_count": 10,
   "metadata": {},
   "outputs": [],
   "source": [
    "class CantidatesRetrievalModel(tfrs.Model):\n",
    "    def __init__(self, ds, query_column, candidate_column, embedding_size=64):\n",
    "        super().__init__()\n",
    "        self.query_column  = query_column\n",
    "        self.candidate_column = candidate_column\n",
    "\n",
    "        self.query_model = EmbeddingModelFactory.create(\n",
    "            ds, \n",
    "            self.query_column, \n",
    "            embedding_size\n",
    "        )\n",
    "        \n",
    "        self.candidate_model = EmbeddingModelFactory.create(\n",
    "            ds, \n",
    "            self.candidate_column, \n",
    "            embedding_size\n",
    "        )\n",
    "\n",
    "        candidates = ds.map(lambda x: x[self.candidate_column])\n",
    "        candidate_embedings = candidates \\\n",
    "            .batch(128) \\\n",
    "            .map(self.candidate_model)\n",
    "\n",
    "        self.task = Retrieval(metrics=FactorizedTopK(candidate_embedings))\n",
    "\n",
    "    def compute_loss(self, features: Dict[Text, tf.Tensor], training=False) -> tf.Tensor:\n",
    "        query_embeddings = self.query_model(features[self.query_column])\n",
    "        positive_candidate_embeddings = self.candidate_model(features[self.candidate_column])\n",
    "        \n",
    "        return self.task(query_embeddings, positive_candidate_embeddings)"
   ]
  },
  {
   "cell_type": "code",
   "execution_count": 11,
   "metadata": {},
   "outputs": [],
   "source": [
    "# Create a retrieval model.\n",
    "model = CantidatesRetrievalModel(\n",
    "    ratings,\n",
    "    query_column     ='user_id',\n",
    "    candidate_column ='movie_title'\n",
    ")\n",
    "model.compile(optimizer=Adagrad(0.5))"
   ]
  },
  {
   "cell_type": "code",
   "execution_count": 12,
   "metadata": {},
   "outputs": [
    {
     "name": "stdout",
     "output_type": "stream",
     "text": [
      "Epoch 1/10\n",
      "WARNING:tensorflow:From /home/adrian/anaconda3/envs/recommendations/lib/python3.8/site-packages/tensorflow/python/ops/array_ops.py:5043: calling gather (from tensorflow.python.ops.array_ops) with validate_indices is deprecated and will be removed in a future version.\n",
      "Instructions for updating:\n",
      "The `validate_indices` argument has no effect. Indices are always validated on CPU and never validated on GPU.\n",
      "25/25 [==============================] - 60s 2s/step - factorized_top_k/top_1_categorical_accuracy: 2.9751e-05 - factorized_top_k/top_5_categorical_accuracy: 2.9751e-05 - factorized_top_k/top_10_categorical_accuracy: 2.9751e-05 - factorized_top_k/top_50_categorical_accuracy: 3.9668e-05 - factorized_top_k/top_100_categorical_accuracy: 3.9668e-05 - loss: 33530.6447 - regularization_loss: 0.0000e+00 - total_loss: 33530.6447\n",
      "Epoch 2/10\n",
      "25/25 [==============================] - 59s 2s/step - factorized_top_k/top_1_categorical_accuracy: 1.7851e-04 - factorized_top_k/top_5_categorical_accuracy: 2.0826e-04 - factorized_top_k/top_10_categorical_accuracy: 3.3718e-04 - factorized_top_k/top_50_categorical_accuracy: 9.3221e-04 - factorized_top_k/top_100_categorical_accuracy: 0.0033 - loss: 32587.1019 - regularization_loss: 0.0000e+00 - total_loss: 32587.1019\n",
      "Epoch 3/10\n",
      "25/25 [==============================] - 59s 2s/step - factorized_top_k/top_1_categorical_accuracy: 0.0024 - factorized_top_k/top_5_categorical_accuracy: 0.0054 - factorized_top_k/top_10_categorical_accuracy: 0.0086 - factorized_top_k/top_50_categorical_accuracy: 0.0285 - factorized_top_k/top_100_categorical_accuracy: 0.0442 - loss: 30476.8737 - regularization_loss: 0.0000e+00 - total_loss: 30476.8737\n",
      "Epoch 4/10\n",
      "25/25 [==============================] - 59s 2s/step - factorized_top_k/top_1_categorical_accuracy: 0.0031 - factorized_top_k/top_5_categorical_accuracy: 0.0076 - factorized_top_k/top_10_categorical_accuracy: 0.0125 - factorized_top_k/top_50_categorical_accuracy: 0.0349 - factorized_top_k/top_100_categorical_accuracy: 0.0529 - loss: 29320.7326 - regularization_loss: 0.0000e+00 - total_loss: 29320.7326\n",
      "Epoch 5/10\n",
      "25/25 [==============================] - 59s 2s/step - factorized_top_k/top_1_categorical_accuracy: 0.0036 - factorized_top_k/top_5_categorical_accuracy: 0.0087 - factorized_top_k/top_10_categorical_accuracy: 0.0139 - factorized_top_k/top_50_categorical_accuracy: 0.0371 - factorized_top_k/top_100_categorical_accuracy: 0.0572 - loss: 28645.4713 - regularization_loss: 0.0000e+00 - total_loss: 28645.4713\n",
      "Epoch 6/10\n",
      "25/25 [==============================] - 60s 2s/step - factorized_top_k/top_1_categorical_accuracy: 0.0038 - factorized_top_k/top_5_categorical_accuracy: 0.0095 - factorized_top_k/top_10_categorical_accuracy: 0.0143 - factorized_top_k/top_50_categorical_accuracy: 0.0378 - factorized_top_k/top_100_categorical_accuracy: 0.0576 - loss: 28293.3153 - regularization_loss: 0.0000e+00 - total_loss: 28293.3153\n",
      "Epoch 7/10\n",
      "25/25 [==============================] - 60s 2s/step - factorized_top_k/top_1_categorical_accuracy: 0.0040 - factorized_top_k/top_5_categorical_accuracy: 0.0096 - factorized_top_k/top_10_categorical_accuracy: 0.0142 - factorized_top_k/top_50_categorical_accuracy: 0.0403 - factorized_top_k/top_100_categorical_accuracy: 0.0600 - loss: 28040.5692 - regularization_loss: 0.0000e+00 - total_loss: 28040.5692\n",
      "Epoch 8/10\n",
      "25/25 [==============================] - 60s 2s/step - factorized_top_k/top_1_categorical_accuracy: 0.0044 - factorized_top_k/top_5_categorical_accuracy: 0.0105 - factorized_top_k/top_10_categorical_accuracy: 0.0156 - factorized_top_k/top_50_categorical_accuracy: 0.0401 - factorized_top_k/top_100_categorical_accuracy: 0.0606 - loss: 27835.0433 - regularization_loss: 0.0000e+00 - total_loss: 27835.0433\n",
      "Epoch 9/10\n",
      "25/25 [==============================] - 61s 2s/step - factorized_top_k/top_1_categorical_accuracy: 0.0047 - factorized_top_k/top_5_categorical_accuracy: 0.0107 - factorized_top_k/top_10_categorical_accuracy: 0.0161 - factorized_top_k/top_50_categorical_accuracy: 0.0421 - factorized_top_k/top_100_categorical_accuracy: 0.0618 - loss: 27616.4071 - regularization_loss: 0.0000e+00 - total_loss: 27616.4071\n",
      "Epoch 10/10\n",
      "25/25 [==============================] - 60s 2s/step - factorized_top_k/top_1_categorical_accuracy: 0.0036 - factorized_top_k/top_5_categorical_accuracy: 0.0087 - factorized_top_k/top_10_categorical_accuracy: 0.0143 - factorized_top_k/top_50_categorical_accuracy: 0.0410 - factorized_top_k/top_100_categorical_accuracy: 0.0630 - loss: 27450.3962 - regularization_loss: 0.0000e+00 - total_loss: 27450.3962\n"
     ]
    },
    {
     "data": {
      "text/plain": [
       "<tensorflow.python.keras.callbacks.History at 0x7f1824935850>"
      ]
     },
     "execution_count": 12,
     "metadata": {},
     "output_type": "execute_result"
    }
   ],
   "source": [
    "model.fit(ratings.batch(4096), epochs=10)"
   ]
  },
  {
   "cell_type": "code",
   "execution_count": 13,
   "metadata": {},
   "outputs": [],
   "source": [
    "def show_top_k(queries, candidates):\n",
    "    index = 0\n",
    "    print(f'Top K Candidates:')\n",
    "    for query in queries:\n",
    "        print(f'\\nQuery {query}:')\n",
    "        for c in candidates[index]:\n",
    "            print(f'  - {c}')\n",
    "        index += 1"
   ]
  },
  {
   "cell_type": "code",
   "execution_count": 14,
   "metadata": {},
   "outputs": [],
   "source": [
    "class CantidateRetriever:\n",
    "    def __init__(self, model, df, candidate_column,  k=5):\n",
    "        # Use brute-force search to set up retrieval using the trained representations.\n",
    "        self.index = BruteForce(model.query_model, k=k)\n",
    "\n",
    "        cantidates = ratings.map(lambda x: x[candidate_column])\n",
    "        cantidate_embedings = cantidates \\\n",
    "            .batch(100) \\\n",
    "            .map(model.candidate_model)\n",
    "        \n",
    "        self.index.index(cantidate_embedings, cantidates)\n",
    "    \n",
    "    def retrieve(self, queries):\n",
    "        _, cantidates = self.index(np.array(queries))\n",
    "        return cantidates\n",
    "    \n",
    "    def inspect(self, queries):\n",
    "        candidates = self.retrieve(queries)\n",
    "        show_top_k(queries, candidates)"
   ]
  },
  {
   "cell_type": "code",
   "execution_count": 15,
   "metadata": {},
   "outputs": [],
   "source": [
    "retriever = CantidateRetriever(\n",
    "    model, \n",
    "    ratings, \n",
    "    candidate_column='movie_title'\n",
    ")"
   ]
  },
  {
   "cell_type": "code",
   "execution_count": 16,
   "metadata": {},
   "outputs": [
    {
     "name": "stdout",
     "output_type": "stream",
     "text": [
      "Top K Candidates:\n",
      "\n",
      "Query 42:\n",
      "  - b'Varsity Blues (1999)'\n",
      "  - b'Varsity Blues (1999)'\n",
      "  - b'Varsity Blues (1999)'\n",
      "  - b'Varsity Blues (1999)'\n",
      "  - b'Varsity Blues (1999)'\n",
      "\n",
      "Query 70:\n",
      "  - b'Breaking Away (1979)'\n",
      "  - b'Breaking Away (1979)'\n",
      "  - b'Breaking Away (1979)'\n",
      "  - b'Breaking Away (1979)'\n",
      "  - b'Breaking Away (1979)'\n"
     ]
    }
   ],
   "source": [
    "candidates = retriever.inspect(['42', '70'])"
   ]
  }
 ],
 "metadata": {
  "kernelspec": {
   "display_name": "Python 3",
   "language": "python",
   "name": "python3"
  },
  "language_info": {
   "codemirror_mode": {
    "name": "ipython",
    "version": 3
   },
   "file_extension": ".py",
   "mimetype": "text/x-python",
   "name": "python",
   "nbconvert_exporter": "python",
   "pygments_lexer": "ipython3",
   "version": "3.8.5"
  }
 },
 "nbformat": 4,
 "nbformat_minor": 4
}
